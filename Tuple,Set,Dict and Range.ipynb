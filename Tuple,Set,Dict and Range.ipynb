{
 "cells": [
  {
   "cell_type": "markdown",
   "id": "3be10329-3ac4-4f67-a0d0-0175bb814e36",
   "metadata": {},
   "source": [
    "24/10/25\n",
    "TUPLE"
   ]
  },
  {
   "cell_type": "code",
   "execution_count": 286,
   "id": "f9e6d111-3294-4000-b6d0-276fa705064e",
   "metadata": {},
   "outputs": [],
   "source": [
    "t=()"
   ]
  },
  {
   "cell_type": "code",
   "execution_count": 288,
   "id": "97324410-061e-4a82-b824-93c83c80234b",
   "metadata": {},
   "outputs": [
    {
     "data": {
      "text/plain": [
       "tuple"
      ]
     },
     "execution_count": 288,
     "metadata": {},
     "output_type": "execute_result"
    }
   ],
   "source": [
    "type(t)"
   ]
  },
  {
   "cell_type": "code",
   "execution_count": 290,
   "id": "b3988d67-3bb5-4415-bebf-99ff19814e22",
   "metadata": {},
   "outputs": [
    {
     "data": {
      "text/plain": [
       "(1, 2, 3, 4, 5)"
      ]
     },
     "execution_count": 290,
     "metadata": {},
     "output_type": "execute_result"
    }
   ],
   "source": [
    "tt=(1,2,3,4,5)\n",
    "tt"
   ]
  },
  {
   "cell_type": "code",
   "execution_count": 292,
   "id": "664a0cd1-a8a0-4bf9-ae53-029110bffb88",
   "metadata": {},
   "outputs": [
    {
     "data": {
      "text/plain": [
       "tuple"
      ]
     },
     "execution_count": 292,
     "metadata": {},
     "output_type": "execute_result"
    }
   ],
   "source": [
    "type(tt)"
   ]
  },
  {
   "cell_type": "code",
   "execution_count": 294,
   "id": "63ce29cc-7fff-4453-95d0-9105bd659eeb",
   "metadata": {},
   "outputs": [
    {
     "data": {
      "text/plain": [
       "(1, 2.3, 'anjali', True, (10+20j))"
      ]
     },
     "execution_count": 294,
     "metadata": {},
     "output_type": "execute_result"
    }
   ],
   "source": [
    "# tuple allows multiple datatypes\n",
    "t1=(1,2.3,\"anjali\",True,10+20j)\n",
    "t1"
   ]
  },
  {
   "cell_type": "code",
   "execution_count": 296,
   "id": "91070a1c-b80b-43f6-874f-fb31d400b05e",
   "metadata": {},
   "outputs": [
    {
     "data": {
      "text/plain": [
       "(10, 20, 'anjali', True, 10, 'python', 'anjali', 30, 100, 30, 50)"
      ]
     },
     "execution_count": 296,
     "metadata": {},
     "output_type": "execute_result"
    }
   ],
   "source": [
    "#allows duplicates\n",
    "t2=(10,20,\"anjali\",True,10,\"python\",\"anjali\",30,100,30,50)\n",
    "t2"
   ]
  },
  {
   "cell_type": "code",
   "execution_count": 298,
   "id": "81b68c6e-d697-4b45-9749-adf40d682033",
   "metadata": {},
   "outputs": [
    {
     "data": {
      "text/plain": [
       "10"
      ]
     },
     "execution_count": 298,
     "metadata": {},
     "output_type": "execute_result"
    }
   ],
   "source": [
    "t2[0]"
   ]
  },
  {
   "cell_type": "code",
   "execution_count": 300,
   "id": "e306b1a3-2152-417b-8811-7519be46bc33",
   "metadata": {},
   "outputs": [
    {
     "data": {
      "text/plain": [
       "10"
      ]
     },
     "execution_count": 300,
     "metadata": {},
     "output_type": "execute_result"
    }
   ],
   "source": [
    "t2[4]"
   ]
  },
  {
   "cell_type": "code",
   "execution_count": 302,
   "id": "b9857dd7-4850-4968-a43b-110352d9ee0b",
   "metadata": {},
   "outputs": [
    {
     "data": {
      "text/plain": [
       "'anjali'"
      ]
     },
     "execution_count": 302,
     "metadata": {},
     "output_type": "execute_result"
    }
   ],
   "source": [
    "t2[2]"
   ]
  },
  {
   "cell_type": "code",
   "execution_count": 304,
   "id": "387854cf-5630-48f7-b1ec-5f187bec1450",
   "metadata": {},
   "outputs": [
    {
     "data": {
      "text/plain": [
       "(10, 20, 'anjali', True, 10, 'python', 'anjali', 30, 100, 30, 50)"
      ]
     },
     "execution_count": 304,
     "metadata": {},
     "output_type": "execute_result"
    }
   ],
   "source": [
    "t2[:]"
   ]
  },
  {
   "cell_type": "code",
   "execution_count": 306,
   "id": "c51dbd5f-7ca2-404f-aedc-b8ea4dc965c2",
   "metadata": {},
   "outputs": [
    {
     "data": {
      "text/plain": [
       "(10, 20, 'anjali', True, 10, 'python', 'anjali', 30, 100, 30, 50)"
      ]
     },
     "execution_count": 306,
     "metadata": {},
     "output_type": "execute_result"
    }
   ],
   "source": [
    "t2[::]"
   ]
  },
  {
   "cell_type": "code",
   "execution_count": 308,
   "id": "f7875554-aaa6-4e45-8866-32073dc8d0a2",
   "metadata": {},
   "outputs": [
    {
     "data": {
      "text/plain": [
       "(10, 'anjali', 10, 'anjali', 100, 50)"
      ]
     },
     "execution_count": 308,
     "metadata": {},
     "output_type": "execute_result"
    }
   ],
   "source": [
    "t2[::2]"
   ]
  },
  {
   "cell_type": "code",
   "execution_count": 310,
   "id": "f66d6d4b-7dc9-4472-a846-a3daafcd32ec",
   "metadata": {},
   "outputs": [
    {
     "data": {
      "text/plain": [
       "(50, 30, 100, 30, 'anjali', 'python', 10, True, 'anjali', 20, 10)"
      ]
     },
     "execution_count": 310,
     "metadata": {},
     "output_type": "execute_result"
    }
   ],
   "source": [
    "t2[::-1]"
   ]
  },
  {
   "cell_type": "code",
   "execution_count": 312,
   "id": "bfb2f23d-6ecf-4c2f-8836-535c7730e99f",
   "metadata": {},
   "outputs": [
    {
     "data": {
      "text/plain": [
       "(10, 20, 'anjali', True, 10, 'python', 'anjali', 30, 100, 30, 50)"
      ]
     },
     "execution_count": 312,
     "metadata": {},
     "output_type": "execute_result"
    }
   ],
   "source": [
    "t2"
   ]
  },
  {
   "cell_type": "code",
   "execution_count": 314,
   "id": "f5cc991e-1c07-414e-a570-48c783a1a7fc",
   "metadata": {},
   "outputs": [
    {
     "data": {
      "text/plain": [
       "2"
      ]
     },
     "execution_count": 314,
     "metadata": {},
     "output_type": "execute_result"
    }
   ],
   "source": [
    "#count fuction \n",
    "t2.count(10)"
   ]
  },
  {
   "cell_type": "code",
   "execution_count": 316,
   "id": "0283df69-9ef7-44f2-9c7b-16c5e7b49b69",
   "metadata": {},
   "outputs": [
    {
     "data": {
      "text/plain": [
       "2"
      ]
     },
     "execution_count": 316,
     "metadata": {},
     "output_type": "execute_result"
    }
   ],
   "source": [
    "t2.count(\"anjali\")"
   ]
  },
  {
   "cell_type": "code",
   "execution_count": 318,
   "id": "7648b533-9d6e-4a51-aaa7-579cab5633e7",
   "metadata": {},
   "outputs": [
    {
     "data": {
      "text/plain": [
       "0"
      ]
     },
     "execution_count": 318,
     "metadata": {},
     "output_type": "execute_result"
    }
   ],
   "source": [
    "t2.count(500)"
   ]
  },
  {
   "cell_type": "code",
   "execution_count": 320,
   "id": "9c24c42a-4570-41c1-becc-71ee124954ff",
   "metadata": {},
   "outputs": [
    {
     "data": {
      "text/plain": [
       "1"
      ]
     },
     "execution_count": 320,
     "metadata": {},
     "output_type": "execute_result"
    }
   ],
   "source": [
    "t2.count(100)"
   ]
  },
  {
   "cell_type": "code",
   "execution_count": 322,
   "id": "0def4303-713a-4257-a741-d4c7c2f8c753",
   "metadata": {},
   "outputs": [
    {
     "name": "stdout",
     "output_type": "stream",
     "text": [
      "(10, 20, 'anjali', True, 10, 'python', 'anjali', 30, 100, 30, 50)\n"
     ]
    },
    {
     "data": {
      "text/plain": [
       "0"
      ]
     },
     "execution_count": 322,
     "metadata": {},
     "output_type": "execute_result"
    }
   ],
   "source": [
    "#index fuction \n",
    "print(t2)\n",
    "t2.index(10)"
   ]
  },
  {
   "cell_type": "code",
   "execution_count": 324,
   "id": "8fc5e99e-99da-4dba-84fb-ede596c44c0d",
   "metadata": {},
   "outputs": [
    {
     "data": {
      "text/plain": [
       "2"
      ]
     },
     "execution_count": 324,
     "metadata": {},
     "output_type": "execute_result"
    }
   ],
   "source": [
    "t2.index(\"anjali\")"
   ]
  },
  {
   "cell_type": "code",
   "execution_count": 326,
   "id": "4a5b613a-918d-4463-bcf4-626eb6373e22",
   "metadata": {},
   "outputs": [
    {
     "data": {
      "text/plain": [
       "8"
      ]
     },
     "execution_count": 326,
     "metadata": {},
     "output_type": "execute_result"
    }
   ],
   "source": [
    "t2.index(100)"
   ]
  },
  {
   "cell_type": "code",
   "execution_count": 328,
   "id": "c97fd913-fccf-40b0-99b8-6a48fd7d891a",
   "metadata": {},
   "outputs": [
    {
     "data": {
      "text/plain": [
       "8"
      ]
     },
     "execution_count": 328,
     "metadata": {},
     "output_type": "execute_result"
    }
   ],
   "source": [
    "t2.index(100)"
   ]
  },
  {
   "cell_type": "code",
   "execution_count": 330,
   "id": "f31fe878-bad9-43a6-9c27-0ec36994bd22",
   "metadata": {},
   "outputs": [
    {
     "data": {
      "text/plain": [
       "[10, 20, 30, 100, 150, 200, 400]"
      ]
     },
     "execution_count": 330,
     "metadata": {},
     "output_type": "execute_result"
    }
   ],
   "source": [
    "t3=(20,30,10,200,400,150,100)\n",
    "sorted(t3)"
   ]
  },
  {
   "cell_type": "code",
   "execution_count": 332,
   "id": "5f50951c-cd06-4b4d-9802-6944d042b81c",
   "metadata": {},
   "outputs": [
    {
     "data": {
      "text/plain": [
       "[400, 200, 150, 100, 30, 20, 10]"
      ]
     },
     "execution_count": 332,
     "metadata": {},
     "output_type": "execute_result"
    }
   ],
   "source": [
    "sorted(t3,reverse=True)"
   ]
  },
  {
   "cell_type": "markdown",
   "id": "e5fef4b5-a1d3-4ed8-bbc6-88590b08bc9c",
   "metadata": {},
   "source": [
    "SET"
   ]
  },
  {
   "cell_type": "code",
   "execution_count": 335,
   "id": "2e39a437-8988-4cb9-bfc5-fe95030f7056",
   "metadata": {},
   "outputs": [
    {
     "data": {
      "text/plain": [
       "dict"
      ]
     },
     "execution_count": 335,
     "metadata": {},
     "output_type": "execute_result"
    }
   ],
   "source": [
    "s={}\n",
    "type(s)"
   ]
  },
  {
   "cell_type": "code",
   "execution_count": 337,
   "id": "3ab0ca8e-1c41-46bb-a8f9-169473d24d27",
   "metadata": {},
   "outputs": [
    {
     "data": {
      "text/plain": [
       "set"
      ]
     },
     "execution_count": 337,
     "metadata": {},
     "output_type": "execute_result"
    }
   ],
   "source": [
    "#creating a empty set \n",
    "s1=set()\n",
    "type(s1)"
   ]
  },
  {
   "cell_type": "code",
   "execution_count": 339,
   "id": "666ea9dd-aa4f-4d32-9730-376dbdab6fda",
   "metadata": {},
   "outputs": [
    {
     "data": {
      "text/plain": [
       "{10, 20, 30, 40, 50}"
      ]
     },
     "execution_count": 339,
     "metadata": {},
     "output_type": "execute_result"
    }
   ],
   "source": [
    "s2={10,20,30,40,50}\n",
    "s2"
   ]
  },
  {
   "cell_type": "code",
   "execution_count": 341,
   "id": "7e3dc192-c46f-4b87-8cca-c49f8ad580ab",
   "metadata": {},
   "outputs": [
    {
     "data": {
      "text/plain": [
       "{(10+20j), 10, 2.56, 20, 5.0, True, 'anjali'}"
      ]
     },
     "execution_count": 341,
     "metadata": {},
     "output_type": "execute_result"
    }
   ],
   "source": [
    "#different datatypes are allowed\n",
    "s3={10,20,\"anjali\",True,5.0,2.56,10+20j}\n",
    "s3"
   ]
  },
  {
   "cell_type": "code",
   "execution_count": 343,
   "id": "2479946d-19a9-4157-9d6a-5e10c2ff8aca",
   "metadata": {},
   "outputs": [
    {
     "data": {
      "text/plain": [
       "{'1', 10, 2.5, 20, 28, 30, 59, 'anjali', 'python'}"
      ]
     },
     "execution_count": 343,
     "metadata": {},
     "output_type": "execute_result"
    }
   ],
   "source": [
    "#does not allow duplicates\n",
    "s4={10,30,28,59,20,\"1\",\"anjali\",2.5,30,\"anjali\",\"python\"}\n",
    "s4"
   ]
  },
  {
   "cell_type": "code",
   "execution_count": 345,
   "id": "3c57b77c-a47d-496b-b334-91e936095251",
   "metadata": {},
   "outputs": [
    {
     "ename": "TypeError",
     "evalue": "'set' object is not subscriptable",
     "output_type": "error",
     "traceback": [
      "\u001b[1;31m---------------------------------------------------------------------------\u001b[0m",
      "\u001b[1;31mTypeError\u001b[0m                                 Traceback (most recent call last)",
      "Cell \u001b[1;32mIn[345], line 2\u001b[0m\n\u001b[0;32m      1\u001b[0m \u001b[38;5;66;03m#does not allow indexing and slicing \u001b[39;00m\n\u001b[1;32m----> 2\u001b[0m s4[\u001b[38;5;241m0\u001b[39m]\n",
      "\u001b[1;31mTypeError\u001b[0m: 'set' object is not subscriptable"
     ]
    }
   ],
   "source": [
    "#does not allow indexing and slicing \n",
    "s4[0]"
   ]
  },
  {
   "cell_type": "code",
   "execution_count": 347,
   "id": "5371647f-1563-4e98-8e25-eacfa2618dab",
   "metadata": {},
   "outputs": [
    {
     "ename": "TypeError",
     "evalue": "'set' object is not subscriptable",
     "output_type": "error",
     "traceback": [
      "\u001b[1;31m---------------------------------------------------------------------------\u001b[0m",
      "\u001b[1;31mTypeError\u001b[0m                                 Traceback (most recent call last)",
      "Cell \u001b[1;32mIn[347], line 1\u001b[0m\n\u001b[1;32m----> 1\u001b[0m s4[\u001b[38;5;241m4\u001b[39m]\n",
      "\u001b[1;31mTypeError\u001b[0m: 'set' object is not subscriptable"
     ]
    }
   ],
   "source": [
    "s4[4]"
   ]
  },
  {
   "cell_type": "code",
   "execution_count": 349,
   "id": "71081908-08cf-429b-aa28-0866bd313958",
   "metadata": {},
   "outputs": [
    {
     "ename": "TypeError",
     "evalue": "'set' object is not subscriptable",
     "output_type": "error",
     "traceback": [
      "\u001b[1;31m---------------------------------------------------------------------------\u001b[0m",
      "\u001b[1;31mTypeError\u001b[0m                                 Traceback (most recent call last)",
      "Cell \u001b[1;32mIn[349], line 1\u001b[0m\n\u001b[1;32m----> 1\u001b[0m s4[:]\n",
      "\u001b[1;31mTypeError\u001b[0m: 'set' object is not subscriptable"
     ]
    }
   ],
   "source": [
    "s4[:]"
   ]
  },
  {
   "cell_type": "code",
   "execution_count": 351,
   "id": "fb12095a-6b80-4733-9206-78241d9b1035",
   "metadata": {},
   "outputs": [
    {
     "ename": "TypeError",
     "evalue": "'set' object is not subscriptable",
     "output_type": "error",
     "traceback": [
      "\u001b[1;31m---------------------------------------------------------------------------\u001b[0m",
      "\u001b[1;31mTypeError\u001b[0m                                 Traceback (most recent call last)",
      "Cell \u001b[1;32mIn[351], line 1\u001b[0m\n\u001b[1;32m----> 1\u001b[0m s4[::]\n",
      "\u001b[1;31mTypeError\u001b[0m: 'set' object is not subscriptable"
     ]
    }
   ],
   "source": [
    "s4[::]"
   ]
  },
  {
   "cell_type": "code",
   "execution_count": 353,
   "id": "76ff81a9-ca51-429f-a9fb-43076d009ad2",
   "metadata": {},
   "outputs": [
    {
     "data": {
      "text/plain": [
       "{'1', 10, 2.5, 20, 28, 30, 59, 'anjali', 'python', 'set'}"
      ]
     },
     "execution_count": 353,
     "metadata": {},
     "output_type": "execute_result"
    }
   ],
   "source": [
    "#add function \n",
    "s4.add(\"set\")\n",
    "s4"
   ]
  },
  {
   "cell_type": "code",
   "execution_count": 355,
   "id": "5c3af4a9-01a1-4045-8174-444214eb960f",
   "metadata": {},
   "outputs": [
    {
     "data": {
      "text/plain": [
       "{'1', 10, 2.5, 20, 28, 30, 59, 'anjali', 'python', 'set'}"
      ]
     },
     "execution_count": 355,
     "metadata": {},
     "output_type": "execute_result"
    }
   ],
   "source": [
    "#copy function\n",
    "s5=s4.copy()\n",
    "s5"
   ]
  },
  {
   "cell_type": "code",
   "execution_count": 357,
   "id": "d154d697-6321-4b19-98ba-ab4a0e21e716",
   "metadata": {},
   "outputs": [
    {
     "data": {
      "text/plain": [
       "set()"
      ]
     },
     "execution_count": 357,
     "metadata": {},
     "output_type": "execute_result"
    }
   ],
   "source": [
    "#clear function\n",
    "s4.clear()\n",
    "s4"
   ]
  },
  {
   "cell_type": "code",
   "execution_count": 359,
   "id": "17988ed9-6c12-48d5-b659-757179976ecd",
   "metadata": {},
   "outputs": [
    {
     "data": {
      "text/plain": [
       "{'1', 10, 2.5, 20, 28, 30, 59, 'anjali', 'python', 'set'}"
      ]
     },
     "execution_count": 359,
     "metadata": {},
     "output_type": "execute_result"
    }
   ],
   "source": [
    "s5"
   ]
  },
  {
   "cell_type": "code",
   "execution_count": 361,
   "id": "77815409-78bc-4524-b29e-d049ebda621d",
   "metadata": {},
   "outputs": [
    {
     "data": {
      "text/plain": [
       "'set'"
      ]
     },
     "execution_count": 361,
     "metadata": {},
     "output_type": "execute_result"
    }
   ],
   "source": [
    "#pop function\n",
    "s5.pop()"
   ]
  },
  {
   "cell_type": "code",
   "execution_count": 363,
   "id": "3328dea4-b5a6-4e93-8e48-3d8e90c01603",
   "metadata": {},
   "outputs": [
    {
     "data": {
      "text/plain": [
       "{'1', 10, 2.5, 20, 28, 30, 59, 'anjali', 'python'}"
      ]
     },
     "execution_count": 363,
     "metadata": {},
     "output_type": "execute_result"
    }
   ],
   "source": [
    "s5"
   ]
  },
  {
   "cell_type": "code",
   "execution_count": 365,
   "id": "8609ec02-2f0e-453f-b6e1-803927dbf004",
   "metadata": {},
   "outputs": [
    {
     "data": {
      "text/plain": [
       "{'1', 10, 2.5, 20, 28, 30, 59, 'python'}"
      ]
     },
     "execution_count": 365,
     "metadata": {},
     "output_type": "execute_result"
    }
   ],
   "source": [
    "#remove function\n",
    "s5.remove(\"anjali\")\n",
    "s5"
   ]
  },
  {
   "cell_type": "code",
   "execution_count": 367,
   "id": "9f359045-5c88-4b8a-9639-150da8edbaee",
   "metadata": {},
   "outputs": [
    {
     "ename": "KeyError",
     "evalue": "500",
     "output_type": "error",
     "traceback": [
      "\u001b[1;31m---------------------------------------------------------------------------\u001b[0m",
      "\u001b[1;31mKeyError\u001b[0m                                  Traceback (most recent call last)",
      "Cell \u001b[1;32mIn[367], line 1\u001b[0m\n\u001b[1;32m----> 1\u001b[0m s5\u001b[38;5;241m.\u001b[39mremove(\u001b[38;5;241m500\u001b[39m)\n\u001b[0;32m      2\u001b[0m s5\n",
      "\u001b[1;31mKeyError\u001b[0m: 500"
     ]
    }
   ],
   "source": [
    "s5.remove(500)\n",
    "s5"
   ]
  },
  {
   "cell_type": "code",
   "execution_count": 369,
   "id": "51fb4587-eeed-44d3-8e55-37f5bc34f286",
   "metadata": {},
   "outputs": [
    {
     "data": {
      "text/plain": [
       "{'1', 10, 2.5, 20, 28, 30, 59, 'anjali', 'python'}"
      ]
     },
     "execution_count": 369,
     "metadata": {},
     "output_type": "execute_result"
    }
   ],
   "source": [
    "s5.add(\"anjali\")\n",
    "s5"
   ]
  },
  {
   "cell_type": "code",
   "execution_count": 371,
   "id": "03957750-5051-4eaa-84e0-de5183c1adf4",
   "metadata": {},
   "outputs": [
    {
     "data": {
      "text/plain": [
       "{'1', 10, 2.5, 20, 28, 30, 59, 'python'}"
      ]
     },
     "execution_count": 371,
     "metadata": {},
     "output_type": "execute_result"
    }
   ],
   "source": [
    "#discord fuction\n",
    "s5.discard(\"anjali\")\n",
    "s5"
   ]
  },
  {
   "cell_type": "code",
   "execution_count": 373,
   "id": "f9f907b1-9c59-4263-93ae-e9f32a3de13a",
   "metadata": {},
   "outputs": [
    {
     "data": {
      "text/plain": [
       "{'1', 10, 2.5, 20, 28, 30, 59, 'python'}"
      ]
     },
     "execution_count": 373,
     "metadata": {},
     "output_type": "execute_result"
    }
   ],
   "source": [
    "s5.discard(500)\n",
    "s5"
   ]
  },
  {
   "cell_type": "markdown",
   "id": "1c50698b-15e8-4a63-afbe-3ff1ad50a373",
   "metadata": {},
   "source": [
    "SET OPERATIONS"
   ]
  },
  {
   "cell_type": "code",
   "execution_count": 376,
   "id": "1286b8a2-3a39-4a96-a178-648998546d8d",
   "metadata": {},
   "outputs": [
    {
     "name": "stdout",
     "output_type": "stream",
     "text": [
      "{1, 2, 3, 4, 5}\n",
      "{4, 5, 6, 7, 8}\n",
      "{8, 9, 10}\n"
     ]
    }
   ],
   "source": [
    "#union \n",
    "a={1,2,3,4,5}\n",
    "b={4,5,6,7,8}\n",
    "c={8,9,10}\n",
    "print(a)\n",
    "print(b)\n",
    "print(c)"
   ]
  },
  {
   "cell_type": "code",
   "execution_count": 378,
   "id": "460e0dec-6a2a-4629-93e9-7390e95f2e4a",
   "metadata": {},
   "outputs": [
    {
     "data": {
      "text/plain": [
       "{1, 2, 3, 4, 5, 6, 7, 8}"
      ]
     },
     "execution_count": 378,
     "metadata": {},
     "output_type": "execute_result"
    }
   ],
   "source": [
    "a.union(b)\n"
   ]
  },
  {
   "cell_type": "code",
   "execution_count": 380,
   "id": "7ecdfa2e-cd6c-4887-877c-f246a3bd8785",
   "metadata": {},
   "outputs": [
    {
     "data": {
      "text/plain": [
       "{1, 2, 3, 4, 5, 6, 7, 8}"
      ]
     },
     "execution_count": 380,
     "metadata": {},
     "output_type": "execute_result"
    }
   ],
   "source": [
    "a|b"
   ]
  },
  {
   "cell_type": "code",
   "execution_count": 382,
   "id": "2e46c7a9-705d-4b0a-aa1f-e6045c6f6671",
   "metadata": {},
   "outputs": [
    {
     "data": {
      "text/plain": [
       "{4, 5, 6, 7, 8, 9, 10}"
      ]
     },
     "execution_count": 382,
     "metadata": {},
     "output_type": "execute_result"
    }
   ],
   "source": [
    "b.union(c)"
   ]
  },
  {
   "cell_type": "code",
   "execution_count": 384,
   "id": "4a8a607c-cc1f-43cc-a41a-060f45d13928",
   "metadata": {},
   "outputs": [
    {
     "data": {
      "text/plain": [
       "{4, 5, 6, 7, 8, 9, 10}"
      ]
     },
     "execution_count": 384,
     "metadata": {},
     "output_type": "execute_result"
    }
   ],
   "source": [
    "b|c"
   ]
  },
  {
   "cell_type": "code",
   "execution_count": 386,
   "id": "c9ec8ed4-cd51-4923-9b2f-a36969ef8937",
   "metadata": {},
   "outputs": [
    {
     "data": {
      "text/plain": [
       "{1, 2, 3, 4, 5, 8, 9, 10}"
      ]
     },
     "execution_count": 386,
     "metadata": {},
     "output_type": "execute_result"
    }
   ],
   "source": [
    "c.union(a)"
   ]
  },
  {
   "cell_type": "code",
   "execution_count": 388,
   "id": "b4c56bb5-9731-41e3-ad68-6c46fa67018a",
   "metadata": {},
   "outputs": [
    {
     "data": {
      "text/plain": [
       "{1, 2, 3, 4, 5, 8, 9, 10}"
      ]
     },
     "execution_count": 388,
     "metadata": {},
     "output_type": "execute_result"
    }
   ],
   "source": [
    "c|a"
   ]
  },
  {
   "cell_type": "code",
   "execution_count": 390,
   "id": "69a440d6-8a98-46d9-9f59-a4d7ab7635a8",
   "metadata": {},
   "outputs": [
    {
     "data": {
      "text/plain": [
       "{1, 2, 3, 4, 5, 6, 7, 8, 9, 10}"
      ]
     },
     "execution_count": 390,
     "metadata": {},
     "output_type": "execute_result"
    }
   ],
   "source": [
    "a.union(b,c)"
   ]
  },
  {
   "cell_type": "code",
   "execution_count": 392,
   "id": "6d440d92-777a-41ce-a8f8-797f10e85d10",
   "metadata": {},
   "outputs": [
    {
     "data": {
      "text/plain": [
       "{1, 2, 3, 4, 5, 6, 7, 8, 9, 10}"
      ]
     },
     "execution_count": 392,
     "metadata": {},
     "output_type": "execute_result"
    }
   ],
   "source": [
    "a|b|c"
   ]
  },
  {
   "cell_type": "code",
   "execution_count": 394,
   "id": "e2edf7ba-70ff-4833-bda1-6eb9e673a015",
   "metadata": {},
   "outputs": [
    {
     "name": "stdout",
     "output_type": "stream",
     "text": [
      "{1, 2, 3, 4, 5}\n",
      "{4, 5, 6, 7, 8}\n",
      "{8, 9, 10}\n"
     ]
    }
   ],
   "source": [
    "#intersection\n",
    "print(a)\n",
    "print(b)\n",
    "print(c)"
   ]
  },
  {
   "cell_type": "code",
   "execution_count": 396,
   "id": "02397ac8-8816-48e5-ba18-89fdcf4289c1",
   "metadata": {},
   "outputs": [
    {
     "data": {
      "text/plain": [
       "{4, 5}"
      ]
     },
     "execution_count": 396,
     "metadata": {},
     "output_type": "execute_result"
    }
   ],
   "source": [
    "a.intersection(b)"
   ]
  },
  {
   "cell_type": "code",
   "execution_count": 398,
   "id": "ead95622-8d35-49a6-a2d9-de566b5f8f8e",
   "metadata": {},
   "outputs": [
    {
     "data": {
      "text/plain": [
       "{4, 5}"
      ]
     },
     "execution_count": 398,
     "metadata": {},
     "output_type": "execute_result"
    }
   ],
   "source": [
    "a&b"
   ]
  },
  {
   "cell_type": "code",
   "execution_count": 400,
   "id": "a0143248-05ff-4b11-a1c7-7bcd5af04c17",
   "metadata": {},
   "outputs": [
    {
     "data": {
      "text/plain": [
       "{8}"
      ]
     },
     "execution_count": 400,
     "metadata": {},
     "output_type": "execute_result"
    }
   ],
   "source": [
    "b.intersection(c)\n"
   ]
  },
  {
   "cell_type": "code",
   "execution_count": 402,
   "id": "3dcd744f-c86b-48a8-a668-798f93a7ee6b",
   "metadata": {},
   "outputs": [
    {
     "data": {
      "text/plain": [
       "{8}"
      ]
     },
     "execution_count": 402,
     "metadata": {},
     "output_type": "execute_result"
    }
   ],
   "source": [
    "b&c"
   ]
  },
  {
   "cell_type": "code",
   "execution_count": 404,
   "id": "491b9154-18dc-4f79-9f15-ff0006cfeb49",
   "metadata": {},
   "outputs": [
    {
     "data": {
      "text/plain": [
       "set()"
      ]
     },
     "execution_count": 404,
     "metadata": {},
     "output_type": "execute_result"
    }
   ],
   "source": [
    "c.intersection(a)"
   ]
  },
  {
   "cell_type": "code",
   "execution_count": 406,
   "id": "7d482f8e-ce2d-4226-bfba-9bc0782a7282",
   "metadata": {},
   "outputs": [
    {
     "data": {
      "text/plain": [
       "set()"
      ]
     },
     "execution_count": 406,
     "metadata": {},
     "output_type": "execute_result"
    }
   ],
   "source": [
    "a.intersection(b,c)"
   ]
  },
  {
   "cell_type": "code",
   "execution_count": 408,
   "id": "041f53dd-e47a-4aec-8e43-2a07cc74ada9",
   "metadata": {},
   "outputs": [
    {
     "data": {
      "text/plain": [
       "set()"
      ]
     },
     "execution_count": 408,
     "metadata": {},
     "output_type": "execute_result"
    }
   ],
   "source": [
    "a&b&c"
   ]
  },
  {
   "cell_type": "code",
   "execution_count": 410,
   "id": "8d40bab5-f2e6-4038-8a6e-bc6ef754e366",
   "metadata": {},
   "outputs": [
    {
     "data": {
      "text/plain": [
       "{4, 5}"
      ]
     },
     "execution_count": 410,
     "metadata": {},
     "output_type": "execute_result"
    }
   ],
   "source": [
    "b.intersection(a)"
   ]
  },
  {
   "cell_type": "code",
   "execution_count": 412,
   "id": "f84987bc-7f2f-4c79-86de-93343398a9e5",
   "metadata": {},
   "outputs": [
    {
     "data": {
      "text/plain": [
       "{4, 5}"
      ]
     },
     "execution_count": 412,
     "metadata": {},
     "output_type": "execute_result"
    }
   ],
   "source": [
    "b&a"
   ]
  },
  {
   "cell_type": "code",
   "execution_count": 414,
   "id": "73995740-7d8a-4a97-9bd3-d134dbf548d3",
   "metadata": {},
   "outputs": [
    {
     "name": "stdout",
     "output_type": "stream",
     "text": [
      "{1, 2, 3, 4, 5}\n",
      "{4, 5, 6, 7, 8}\n",
      "{8, 9, 10}\n"
     ]
    }
   ],
   "source": [
    "#Difference \n",
    "print(a)\n",
    "print(b)\n",
    "print(c)"
   ]
  },
  {
   "cell_type": "code",
   "execution_count": 416,
   "id": "dd49f3a8-053a-46e8-8b13-6dd7e27f3d8d",
   "metadata": {},
   "outputs": [
    {
     "data": {
      "text/plain": [
       "{1, 2, 3}"
      ]
     },
     "execution_count": 416,
     "metadata": {},
     "output_type": "execute_result"
    }
   ],
   "source": [
    "a.difference(b)"
   ]
  },
  {
   "cell_type": "code",
   "execution_count": 418,
   "id": "370cfdd9-27b9-4e8d-8d6d-0b5576e336d1",
   "metadata": {},
   "outputs": [
    {
     "data": {
      "text/plain": [
       "{1, 2, 3}"
      ]
     },
     "execution_count": 418,
     "metadata": {},
     "output_type": "execute_result"
    }
   ],
   "source": [
    "a-b"
   ]
  },
  {
   "cell_type": "code",
   "execution_count": 420,
   "id": "41ac0dae-bc8c-47d2-891b-e24cb9eb5194",
   "metadata": {},
   "outputs": [
    {
     "data": {
      "text/plain": [
       "{6, 7, 8}"
      ]
     },
     "execution_count": 420,
     "metadata": {},
     "output_type": "execute_result"
    }
   ],
   "source": [
    "b.difference(a)"
   ]
  },
  {
   "cell_type": "code",
   "execution_count": 422,
   "id": "54135881-35fa-4382-ab4f-45f0be4ccd4b",
   "metadata": {},
   "outputs": [
    {
     "data": {
      "text/plain": [
       "{6, 7, 8}"
      ]
     },
     "execution_count": 422,
     "metadata": {},
     "output_type": "execute_result"
    }
   ],
   "source": [
    "b-a"
   ]
  },
  {
   "cell_type": "code",
   "execution_count": 424,
   "id": "e5b92237-04f3-4791-9f94-63dbb96a95cb",
   "metadata": {},
   "outputs": [
    {
     "data": {
      "text/plain": [
       "{1, 2, 3}"
      ]
     },
     "execution_count": 424,
     "metadata": {},
     "output_type": "execute_result"
    }
   ],
   "source": [
    "a.difference(b,c)"
   ]
  },
  {
   "cell_type": "code",
   "execution_count": 426,
   "id": "0c6f9a3d-2fc3-4ff2-8cc4-347de75239a5",
   "metadata": {},
   "outputs": [
    {
     "data": {
      "text/plain": [
       "{9, 10}"
      ]
     },
     "execution_count": 426,
     "metadata": {},
     "output_type": "execute_result"
    }
   ],
   "source": [
    "c.difference(a,b)"
   ]
  },
  {
   "cell_type": "code",
   "execution_count": 428,
   "id": "70c0a857-8204-4bab-8b25-ccba55183fa9",
   "metadata": {},
   "outputs": [
    {
     "data": {
      "text/plain": [
       "{9, 10}"
      ]
     },
     "execution_count": 428,
     "metadata": {},
     "output_type": "execute_result"
    }
   ],
   "source": [
    "c-a-b"
   ]
  },
  {
   "cell_type": "markdown",
   "id": "4ba870b9-7d34-41e6-8962-a5a8d369c810",
   "metadata": {},
   "source": [
    "27/10/25\n",
    "#symmetric difference"
   ]
  },
  {
   "cell_type": "code",
   "execution_count": 431,
   "id": "2322d98e-ce5e-45e7-ae95-5c91703ceae7",
   "metadata": {},
   "outputs": [
    {
     "name": "stdout",
     "output_type": "stream",
     "text": [
      "{1, 2, 3, 4, 5}\n",
      "{4, 5, 6, 7, 8}\n",
      "{8, 9, 10}\n"
     ]
    }
   ],
   "source": [
    "print(a)\n",
    "print(b)\n",
    "print(c)"
   ]
  },
  {
   "cell_type": "code",
   "execution_count": 433,
   "id": "b8686033-e0ea-4834-8ba8-004eafba23db",
   "metadata": {},
   "outputs": [
    {
     "data": {
      "text/plain": [
       "{1, 2, 3, 6, 7, 8}"
      ]
     },
     "execution_count": 433,
     "metadata": {},
     "output_type": "execute_result"
    }
   ],
   "source": [
    "a.symmetric_difference(b)"
   ]
  },
  {
   "cell_type": "code",
   "execution_count": 435,
   "id": "70d696e8-9056-45c8-b42f-385e01580af1",
   "metadata": {},
   "outputs": [
    {
     "data": {
      "text/plain": [
       "{1, 2, 3, 6, 7, 8}"
      ]
     },
     "execution_count": 435,
     "metadata": {},
     "output_type": "execute_result"
    }
   ],
   "source": [
    "a^b"
   ]
  },
  {
   "cell_type": "code",
   "execution_count": 437,
   "id": "844d140f-d686-460f-89d0-bcd2ac2b4f3b",
   "metadata": {},
   "outputs": [
    {
     "data": {
      "text/plain": [
       "{1, 2, 3, 4, 5, 8, 9, 10}"
      ]
     },
     "execution_count": 437,
     "metadata": {},
     "output_type": "execute_result"
    }
   ],
   "source": [
    "a.symmetric_difference(c)"
   ]
  },
  {
   "cell_type": "code",
   "execution_count": 439,
   "id": "1bdc2807-0654-4e25-99c8-61802219c748",
   "metadata": {},
   "outputs": [
    {
     "data": {
      "text/plain": [
       "{1, 2, 3, 4, 5, 8, 9, 10}"
      ]
     },
     "execution_count": 439,
     "metadata": {},
     "output_type": "execute_result"
    }
   ],
   "source": [
    "a^c"
   ]
  },
  {
   "cell_type": "code",
   "execution_count": 441,
   "id": "a50e5aff-88ae-499a-8695-c3037c667c52",
   "metadata": {},
   "outputs": [
    {
     "data": {
      "text/plain": [
       "{1, 2, 3, 6, 7, 8}"
      ]
     },
     "execution_count": 441,
     "metadata": {},
     "output_type": "execute_result"
    }
   ],
   "source": [
    "b.symmetric_difference(a)"
   ]
  },
  {
   "cell_type": "code",
   "execution_count": 443,
   "id": "280605f8-b269-48cf-a8dc-946e224f1a3c",
   "metadata": {},
   "outputs": [
    {
     "data": {
      "text/plain": [
       "{4, 5, 6, 7, 9, 10}"
      ]
     },
     "execution_count": 443,
     "metadata": {},
     "output_type": "execute_result"
    }
   ],
   "source": [
    "b.symmetric_difference(c)"
   ]
  },
  {
   "cell_type": "code",
   "execution_count": 445,
   "id": "4371fe4a-acff-42ff-9274-933defd93fdf",
   "metadata": {},
   "outputs": [
    {
     "data": {
      "text/plain": [
       "{4, 5, 6, 7, 9, 10}"
      ]
     },
     "execution_count": 445,
     "metadata": {},
     "output_type": "execute_result"
    }
   ],
   "source": [
    "b^c"
   ]
  },
  {
   "cell_type": "code",
   "execution_count": 447,
   "id": "00de718f-5979-425b-b956-0bf7817c6a7d",
   "metadata": {},
   "outputs": [
    {
     "data": {
      "text/plain": [
       "{4, 5, 6, 7, 9, 10}"
      ]
     },
     "execution_count": 447,
     "metadata": {},
     "output_type": "execute_result"
    }
   ],
   "source": [
    "c.symmetric_difference(b)"
   ]
  },
  {
   "cell_type": "code",
   "execution_count": 449,
   "id": "7883f394-b183-461d-8ac3-c6aa4e9b7146",
   "metadata": {},
   "outputs": [
    {
     "name": "stdout",
     "output_type": "stream",
     "text": [
      "{1, 2, 3, 4, 5}\n",
      "{4, 5, 6, 7, 8}\n",
      "{8, 9, 10}\n"
     ]
    }
   ],
   "source": [
    "#symmetric difference update\n",
    "print(a)\n",
    "print(b)\n",
    "print(c)"
   ]
  },
  {
   "cell_type": "code",
   "execution_count": 451,
   "id": "2967fb0e-d31f-44e6-b57d-2f75b84c1add",
   "metadata": {},
   "outputs": [
    {
     "data": {
      "text/plain": [
       "{1, 2, 3, 6, 7, 8}"
      ]
     },
     "execution_count": 451,
     "metadata": {},
     "output_type": "execute_result"
    }
   ],
   "source": [
    "a.symmetric_difference_update(b)\n",
    "a"
   ]
  },
  {
   "cell_type": "code",
   "execution_count": 453,
   "id": "0260c462-66a1-4ab5-ac26-d66550dbd28e",
   "metadata": {},
   "outputs": [
    {
     "name": "stdout",
     "output_type": "stream",
     "text": [
      "{1, 2, 3, 6, 7, 8}\n"
     ]
    }
   ],
   "source": [
    "print(a)"
   ]
  },
  {
   "cell_type": "code",
   "execution_count": 455,
   "id": "ab95f0ab-0cf0-4415-80c9-9f8f831a82b5",
   "metadata": {},
   "outputs": [
    {
     "data": {
      "text/plain": [
       "{4, 5, 6, 7, 9, 10}"
      ]
     },
     "execution_count": 455,
     "metadata": {},
     "output_type": "execute_result"
    }
   ],
   "source": [
    "b.symmetric_difference_update(c)\n",
    "b"
   ]
  },
  {
   "cell_type": "code",
   "execution_count": 457,
   "id": "42e115e1-e273-44c4-85f7-08691bd3ec26",
   "metadata": {},
   "outputs": [
    {
     "data": {
      "text/plain": [
       "{1, 2, 3, 6, 7, 9, 10}"
      ]
     },
     "execution_count": 457,
     "metadata": {},
     "output_type": "execute_result"
    }
   ],
   "source": [
    "a.symmetric_difference_update(c)\n",
    "a"
   ]
  },
  {
   "cell_type": "code",
   "execution_count": 459,
   "id": "cedbf30b-e496-4176-af77-a734b715da22",
   "metadata": {},
   "outputs": [
    {
     "data": {
      "text/plain": [
       "{1, 2, 3, 6, 7, 8}"
      ]
     },
     "execution_count": 459,
     "metadata": {},
     "output_type": "execute_result"
    }
   ],
   "source": [
    "c.symmetric_difference_update(a)\n",
    "c"
   ]
  },
  {
   "cell_type": "code",
   "execution_count": 461,
   "id": "fa63d263-c83e-4023-a53e-a88f4c48213a",
   "metadata": {},
   "outputs": [
    {
     "name": "stdout",
     "output_type": "stream",
     "text": [
      "{1, 2, 3, 6, 7, 9, 10}\n",
      "{4, 5, 6, 7, 9, 10}\n",
      "{1, 2, 3, 6, 7, 8}\n"
     ]
    }
   ],
   "source": [
    "print(a)\n",
    "print(b)\n",
    "print(c)"
   ]
  },
  {
   "cell_type": "code",
   "execution_count": 463,
   "id": "c83e74fe-51d9-4cd2-b028-22a38833539c",
   "metadata": {},
   "outputs": [
    {
     "name": "stdout",
     "output_type": "stream",
     "text": [
      "{1, 2, 3, 4, 5, 6, 7, 8, 9}\n",
      "{4, 5, 6, 7, 8}\n",
      "{40, 10, 20, 30}\n"
     ]
    }
   ],
   "source": [
    "#superset,subset,and disjoint set\n",
    "s1={1,2,3,4,5,6,7,8,9}\n",
    "s2={4,5,6,7,8}\n",
    "s3={10,20,30,40}\n",
    "print(s1)\n",
    "print(s2)\n",
    "print(s3)"
   ]
  },
  {
   "cell_type": "code",
   "execution_count": 465,
   "id": "0a66a858-da0d-40c4-9608-567fd3d7b806",
   "metadata": {},
   "outputs": [
    {
     "data": {
      "text/plain": [
       "True"
      ]
     },
     "execution_count": 465,
     "metadata": {},
     "output_type": "execute_result"
    }
   ],
   "source": [
    "s1.issuperset(s2)"
   ]
  },
  {
   "cell_type": "code",
   "execution_count": 467,
   "id": "5587e4a1-ad43-44cf-aefb-baebfbabaf7e",
   "metadata": {},
   "outputs": [
    {
     "data": {
      "text/plain": [
       "False"
      ]
     },
     "execution_count": 467,
     "metadata": {},
     "output_type": "execute_result"
    }
   ],
   "source": [
    "s2.issuperset(s1)"
   ]
  },
  {
   "cell_type": "code",
   "execution_count": 469,
   "id": "4020b359-9eaa-492c-967f-ebe372535775",
   "metadata": {},
   "outputs": [
    {
     "data": {
      "text/plain": [
       "True"
      ]
     },
     "execution_count": 469,
     "metadata": {},
     "output_type": "execute_result"
    }
   ],
   "source": [
    "s2.issubset(s1)"
   ]
  },
  {
   "cell_type": "code",
   "execution_count": 471,
   "id": "d94d9f88-4ba9-4e67-8fe5-4487e3bf6c20",
   "metadata": {},
   "outputs": [
    {
     "data": {
      "text/plain": [
       "False"
      ]
     },
     "execution_count": 471,
     "metadata": {},
     "output_type": "execute_result"
    }
   ],
   "source": [
    "s2.issubset(s3)"
   ]
  },
  {
   "cell_type": "code",
   "execution_count": 473,
   "id": "d4582320-fcc1-4056-b9fe-e8e994262fc0",
   "metadata": {},
   "outputs": [
    {
     "data": {
      "text/plain": [
       "False"
      ]
     },
     "execution_count": 473,
     "metadata": {},
     "output_type": "execute_result"
    }
   ],
   "source": [
    "s1.issubset(s2)"
   ]
  },
  {
   "cell_type": "code",
   "execution_count": 475,
   "id": "a7b80e29-6df6-4278-bbf9-5a8f4ec3a5f2",
   "metadata": {},
   "outputs": [
    {
     "data": {
      "text/plain": [
       "True"
      ]
     },
     "execution_count": 475,
     "metadata": {},
     "output_type": "execute_result"
    }
   ],
   "source": [
    "s3.isdisjoint(s1)"
   ]
  },
  {
   "cell_type": "code",
   "execution_count": 477,
   "id": "3fb8fe74-21dd-4609-b340-caddcc42d5e1",
   "metadata": {},
   "outputs": [
    {
     "data": {
      "text/plain": [
       "True"
      ]
     },
     "execution_count": 477,
     "metadata": {},
     "output_type": "execute_result"
    }
   ],
   "source": [
    "s3.isdisjoint(s2)"
   ]
  },
  {
   "cell_type": "markdown",
   "id": "a69df81f-ae7a-4db4-bc5e-c746bb74f3c8",
   "metadata": {},
   "source": [
    "DICTIONARY"
   ]
  },
  {
   "cell_type": "code",
   "execution_count": 480,
   "id": "37fd10dd-dec9-4c20-b49d-f3682a8b39bc",
   "metadata": {},
   "outputs": [
    {
     "data": {
      "text/plain": [
       "dict"
      ]
     },
     "execution_count": 480,
     "metadata": {},
     "output_type": "execute_result"
    }
   ],
   "source": [
    "d={}\n",
    "type(d)"
   ]
  },
  {
   "cell_type": "code",
   "execution_count": 482,
   "id": "a7e4ccea-f342-4a55-8d11-c2b6489d8e4e",
   "metadata": {},
   "outputs": [
    {
     "data": {
      "text/plain": [
       "{'name': 'anjali',\n",
       " 'age': 21,\n",
       " 'city': 'hyderabed',\n",
       " 'course': 'DS WITH AI',\n",
       " 'pin': 502310}"
      ]
     },
     "execution_count": 482,
     "metadata": {},
     "output_type": "execute_result"
    }
   ],
   "source": [
    "#creating a dictionary\n",
    "d1={\"name\":\"anjali\",\"age\":21,\"city\":\"hyderabed\",\"course\":\"DS WITH AI\",\"pin\":502310}\n",
    "d1"
   ]
  },
  {
   "cell_type": "code",
   "execution_count": 484,
   "id": "01442e81-d39e-4f99-b1aa-bbd96e5e5aef",
   "metadata": {},
   "outputs": [
    {
     "data": {
      "text/plain": [
       "dict_keys(['name', 'age', 'city', 'course', 'pin'])"
      ]
     },
     "execution_count": 484,
     "metadata": {},
     "output_type": "execute_result"
    }
   ],
   "source": [
    "#to get keys \n",
    "d1.keys()"
   ]
  },
  {
   "cell_type": "code",
   "execution_count": 486,
   "id": "aa11b530-2e27-4bca-ba88-f4e724aaef1a",
   "metadata": {},
   "outputs": [
    {
     "data": {
      "text/plain": [
       "dict_values(['anjali', 21, 'hyderabed', 'DS WITH AI', 502310])"
      ]
     },
     "execution_count": 486,
     "metadata": {},
     "output_type": "execute_result"
    }
   ],
   "source": [
    "#to get values\n",
    "d1.values()"
   ]
  },
  {
   "cell_type": "code",
   "execution_count": 488,
   "id": "eaefc4fb-bf5d-459c-902f-04445623f68d",
   "metadata": {},
   "outputs": [
    {
     "data": {
      "text/plain": [
       "dict_items([('name', 'anjali'), ('age', 21), ('city', 'hyderabed'), ('course', 'DS WITH AI'), ('pin', 502310)])"
      ]
     },
     "execution_count": 488,
     "metadata": {},
     "output_type": "execute_result"
    }
   ],
   "source": [
    "#to get items \n",
    "d1.items()"
   ]
  },
  {
   "cell_type": "code",
   "execution_count": 490,
   "id": "fd9871ba-9cf0-4418-bb04-b64636ac88c3",
   "metadata": {},
   "outputs": [
    {
     "data": {
      "text/plain": [
       "{'name': 'anjali',\n",
       " 'age': 21,\n",
       " 'city': 'hyderabed',\n",
       " 'course': 'DS WITH AI',\n",
       " 'pin': 502310,\n",
       " 'values': [10, 20, 30, 40]}"
      ]
     },
     "execution_count": 490,
     "metadata": {},
     "output_type": "execute_result"
    }
   ],
   "source": [
    "#update fuction \n",
    "d1.update({\"values\":[10,20,30,40]})\n",
    "d1"
   ]
  },
  {
   "cell_type": "code",
   "execution_count": 492,
   "id": "7602e84f-c198-413c-9bf1-bf5ae53308de",
   "metadata": {},
   "outputs": [
    {
     "data": {
      "text/plain": [
       "{'a': None, 'd': None, 'c': None, 'b': None}"
      ]
     },
     "execution_count": 492,
     "metadata": {},
     "output_type": "execute_result"
    }
   ],
   "source": [
    "#fromkeys fuction \n",
    "keys={'a','b','c','d'}\n",
    "d2=dict.fromkeys(keys)\n",
    "d2"
   ]
  },
  {
   "cell_type": "code",
   "execution_count": 494,
   "id": "1310a4f4-4b37-497b-bea1-1c4920f0efde",
   "metadata": {},
   "outputs": [
    {
     "data": {
      "text/plain": [
       "{'a': 10, 'd': 10, 'c': 10, 'b': 10}"
      ]
     },
     "execution_count": 494,
     "metadata": {},
     "output_type": "execute_result"
    }
   ],
   "source": [
    "value=10\n",
    "d3=dict.fromkeys(keys,value)\n",
    "d3"
   ]
  },
  {
   "cell_type": "code",
   "execution_count": 496,
   "id": "4bf86a92-09c1-4776-92fc-467b1b95dbd6",
   "metadata": {},
   "outputs": [
    {
     "data": {
      "text/plain": [
       "{'a': [10, 20, 30, 40],\n",
       " 'd': [10, 20, 30, 40],\n",
       " 'c': [10, 20, 30, 40],\n",
       " 'b': [10, 20, 30, 40]}"
      ]
     },
     "execution_count": 496,
     "metadata": {},
     "output_type": "execute_result"
    }
   ],
   "source": [
    "values=[10,20,30,40]\n",
    "d4=dict.fromkeys(keys,values)\n",
    "d4"
   ]
  },
  {
   "cell_type": "code",
   "execution_count": 498,
   "id": "bc4e31f7-d433-4401-89df-54a963bccda2",
   "metadata": {},
   "outputs": [
    {
     "data": {
      "text/plain": [
       "{'name': 'anjali',\n",
       " 'age': 21,\n",
       " 'city': 'hyderabed',\n",
       " 'course': 'DS WITH AI',\n",
       " 'pin': 502310,\n",
       " 'values': [10, 20, 30, 40]}"
      ]
     },
     "execution_count": 498,
     "metadata": {},
     "output_type": "execute_result"
    }
   ],
   "source": [
    "d1"
   ]
  },
  {
   "cell_type": "code",
   "execution_count": 500,
   "id": "d96a6c2a-87c5-4d26-9cb8-1a5a1b23af3d",
   "metadata": {},
   "outputs": [
    {
     "data": {
      "text/plain": [
       "{'name': 'anjali',\n",
       " 'age': 21,\n",
       " 'city': 'hyderabed',\n",
       " 'course': 'DS WITH AI',\n",
       " 'pin': 502310,\n",
       " 'values': [10, 20, 30, 40]}"
      ]
     },
     "execution_count": 500,
     "metadata": {},
     "output_type": "execute_result"
    }
   ],
   "source": [
    "#copy fuction\n",
    "d5=d1.copy()\n",
    "d5"
   ]
  },
  {
   "cell_type": "code",
   "execution_count": 502,
   "id": "d25ef99a-c7b8-462d-a41d-e9b10e24f4ec",
   "metadata": {},
   "outputs": [
    {
     "data": {
      "text/plain": [
       "{}"
      ]
     },
     "execution_count": 502,
     "metadata": {},
     "output_type": "execute_result"
    }
   ],
   "source": [
    "#clear fuction\n",
    "d5.clear()\n",
    "d5"
   ]
  },
  {
   "cell_type": "code",
   "execution_count": 504,
   "id": "a5e004e9-9698-4509-9792-9d73f20e94d1",
   "metadata": {},
   "outputs": [
    {
     "data": {
      "text/plain": [
       "{'name': 'anjali',\n",
       " 'age': 21,\n",
       " 'city': 'hyderabed',\n",
       " 'course': 'DS WITH AI',\n",
       " 'pin': 502310,\n",
       " 'values': [10, 20, 30, 40]}"
      ]
     },
     "execution_count": 504,
     "metadata": {},
     "output_type": "execute_result"
    }
   ],
   "source": [
    "d1"
   ]
  },
  {
   "cell_type": "code",
   "execution_count": 506,
   "id": "44723be8-4e80-4ae4-babc-f08eacb8ad20",
   "metadata": {},
   "outputs": [
    {
     "data": {
      "text/plain": [
       "'anjali'"
      ]
     },
     "execution_count": 506,
     "metadata": {},
     "output_type": "execute_result"
    }
   ],
   "source": [
    "#get fuction \n",
    "d1.get(\"name\")"
   ]
  },
  {
   "cell_type": "code",
   "execution_count": 508,
   "id": "c8bd16cd-fa54-488a-846c-f5cc6ab3ba7d",
   "metadata": {},
   "outputs": [
    {
     "data": {
      "text/plain": [
       "[10, 20, 30, 40]"
      ]
     },
     "execution_count": 508,
     "metadata": {},
     "output_type": "execute_result"
    }
   ],
   "source": [
    "d1.get(\"values\")"
   ]
  },
  {
   "cell_type": "code",
   "execution_count": 510,
   "id": "c1955210-9d39-4e2d-ad6e-4b19c27665d3",
   "metadata": {},
   "outputs": [
    {
     "data": {
      "text/plain": [
       "'DS WITH AI'"
      ]
     },
     "execution_count": 510,
     "metadata": {},
     "output_type": "execute_result"
    }
   ],
   "source": [
    "#pop fuction\n",
    "d1.pop(\"course\")"
   ]
  },
  {
   "cell_type": "code",
   "execution_count": 512,
   "id": "b023ea3d-fdbf-43c6-a4b0-fbb7ab0afc88",
   "metadata": {},
   "outputs": [
    {
     "data": {
      "text/plain": [
       "{'name': 'anjali',\n",
       " 'age': 21,\n",
       " 'city': 'hyderabed',\n",
       " 'pin': 502310,\n",
       " 'values': [10, 20, 30, 40]}"
      ]
     },
     "execution_count": 512,
     "metadata": {},
     "output_type": "execute_result"
    }
   ],
   "source": [
    "d1"
   ]
  },
  {
   "cell_type": "code",
   "execution_count": 514,
   "id": "1dd233f1-ab8e-4ca4-8e48-97b3ba3f7822",
   "metadata": {},
   "outputs": [
    {
     "data": {
      "text/plain": [
       "('values', [10, 20, 30, 40])"
      ]
     },
     "execution_count": 514,
     "metadata": {},
     "output_type": "execute_result"
    }
   ],
   "source": [
    "#popitem fuction\n",
    "d1.popitem()"
   ]
  },
  {
   "cell_type": "code",
   "execution_count": 516,
   "id": "22cb5197-f0fc-44ad-bf97-78af10914dc2",
   "metadata": {},
   "outputs": [
    {
     "name": "stdout",
     "output_type": "stream",
     "text": [
      "{'name': 'anjali', 'age': 21, 'city': 'hyderabed', 'pin': 502310}\n"
     ]
    }
   ],
   "source": [
    "print(d1)"
   ]
  },
  {
   "cell_type": "code",
   "execution_count": 518,
   "id": "47905382-47b1-4553-beda-4457cbc16a70",
   "metadata": {},
   "outputs": [
    {
     "data": {
      "text/plain": [
       "'anjali'"
      ]
     },
     "execution_count": 518,
     "metadata": {},
     "output_type": "execute_result"
    }
   ],
   "source": [
    "d1['name']"
   ]
  },
  {
   "cell_type": "code",
   "execution_count": 520,
   "id": "20d43ca7-d0f0-4579-94ad-7fc5d5e7644b",
   "metadata": {},
   "outputs": [
    {
     "data": {
      "text/plain": [
       "{'name': 'chinni', 'age': 21, 'city': 'hyderabed', 'pin': 502310}"
      ]
     },
     "execution_count": 520,
     "metadata": {},
     "output_type": "execute_result"
    }
   ],
   "source": [
    "d1['name']=\"chinni\"\n",
    "d1"
   ]
  },
  {
   "cell_type": "code",
   "execution_count": 522,
   "id": "925aee18-3863-483b-b297-0f5e75ca003c",
   "metadata": {},
   "outputs": [
    {
     "name": "stdout",
     "output_type": "stream",
     "text": [
      "name\n",
      "age\n",
      "city\n",
      "pin\n"
     ]
    }
   ],
   "source": [
    "for i in d1:\n",
    "    print(i)"
   ]
  },
  {
   "cell_type": "code",
   "execution_count": 524,
   "id": "a2d43102-55cd-4be2-ba40-11b285af622c",
   "metadata": {},
   "outputs": [
    {
     "name": "stdout",
     "output_type": "stream",
     "text": [
      "(0, 'name')\n",
      "(1, 'age')\n",
      "(2, 'city')\n",
      "(3, 'pin')\n"
     ]
    }
   ],
   "source": [
    "for i in enumerate(d1):\n",
    "    print(i)"
   ]
  },
  {
   "cell_type": "markdown",
   "id": "1144715b-e308-4c12-a297-d6ab3973510e",
   "metadata": {},
   "source": [
    "RANGE"
   ]
  },
  {
   "cell_type": "code",
   "execution_count": 527,
   "id": "d6e7381b-1a6e-4a3b-9b0b-2fa28bf983c0",
   "metadata": {},
   "outputs": [
    {
     "data": {
      "text/plain": [
       "range(0, 10)"
      ]
     },
     "execution_count": 527,
     "metadata": {},
     "output_type": "execute_result"
    }
   ],
   "source": [
    "range(10)"
   ]
  },
  {
   "cell_type": "code",
   "execution_count": 529,
   "id": "a228de60-f2ab-4ff6-9532-f9b3264b4cc3",
   "metadata": {},
   "outputs": [
    {
     "data": {
      "text/plain": [
       "range(10, 20)"
      ]
     },
     "execution_count": 529,
     "metadata": {},
     "output_type": "execute_result"
    }
   ],
   "source": [
    "range(10,20)"
   ]
  },
  {
   "cell_type": "code",
   "execution_count": 531,
   "id": "3d3f2f9c-52e9-490f-a0af-07583120f25c",
   "metadata": {},
   "outputs": [
    {
     "data": {
      "text/plain": [
       "range(10, 100, 5)"
      ]
     },
     "execution_count": 531,
     "metadata": {},
     "output_type": "execute_result"
    }
   ],
   "source": [
    "range(10,100,5)"
   ]
  },
  {
   "cell_type": "code",
   "execution_count": 533,
   "id": "b26ad893-6920-4a77-971f-dfa071e6c9bd",
   "metadata": {},
   "outputs": [
    {
     "data": {
      "text/plain": [
       "[0, 1, 2, 3, 4, 5, 6, 7, 8, 9]"
      ]
     },
     "execution_count": 533,
     "metadata": {},
     "output_type": "execute_result"
    }
   ],
   "source": [
    "list(range(10))"
   ]
  },
  {
   "cell_type": "code",
   "execution_count": 535,
   "id": "0d6a1569-0e39-446f-b6c2-f892361ce171",
   "metadata": {},
   "outputs": [
    {
     "data": {
      "text/plain": [
       "[10, 11, 12, 13, 14, 15, 16, 17, 18, 19]"
      ]
     },
     "execution_count": 535,
     "metadata": {},
     "output_type": "execute_result"
    }
   ],
   "source": [
    "list(range(10,20))"
   ]
  },
  {
   "cell_type": "code",
   "execution_count": 537,
   "id": "70dcfa51-14cb-4e08-bdb3-30e933055192",
   "metadata": {},
   "outputs": [
    {
     "data": {
      "text/plain": [
       "[10, 15, 20, 25, 30, 35, 40, 45, 50, 55, 60, 65, 70, 75, 80, 85, 90, 95]"
      ]
     },
     "execution_count": 537,
     "metadata": {},
     "output_type": "execute_result"
    }
   ],
   "source": [
    "list(range(10,100,5))"
   ]
  },
  {
   "cell_type": "code",
   "execution_count": 539,
   "id": "6ad80e0a-b1cf-4d7c-9b95-6b9412b273fd",
   "metadata": {},
   "outputs": [
    {
     "data": {
      "text/plain": [
       "[10, 20, 30, 40, 50, 60, 70, 80, 90]"
      ]
     },
     "execution_count": 539,
     "metadata": {},
     "output_type": "execute_result"
    }
   ],
   "source": [
    "list(range(10,100,10))"
   ]
  },
  {
   "cell_type": "code",
   "execution_count": 541,
   "id": "a92f912d-e37f-41c5-97ef-79316b04963e",
   "metadata": {},
   "outputs": [
    {
     "data": {
      "text/plain": [
       "[0, 1, 2, 3, 4, 5, 6, 7, 8, 9]"
      ]
     },
     "execution_count": 541,
     "metadata": {},
     "output_type": "execute_result"
    }
   ],
   "source": [
    "list(range(10))"
   ]
  },
  {
   "cell_type": "code",
   "execution_count": 543,
   "id": "b04e2f9c-6db7-4476-a421-b2e7952b29e1",
   "metadata": {},
   "outputs": [
    {
     "data": {
      "text/plain": [
       "range(0, 20)"
      ]
     },
     "execution_count": 543,
     "metadata": {},
     "output_type": "execute_result"
    }
   ],
   "source": [
    "range(20)"
   ]
  },
  {
   "cell_type": "code",
   "execution_count": 545,
   "id": "d2a8f55a-ba0a-44b2-843f-53681b22f0cf",
   "metadata": {},
   "outputs": [
    {
     "data": {
      "text/plain": [
       "[0, 1, 2, 3, 4, 5, 6, 7, 8, 9, 10, 11, 12, 13, 14, 15, 16, 17, 18, 19]"
      ]
     },
     "execution_count": 545,
     "metadata": {},
     "output_type": "execute_result"
    }
   ],
   "source": [
    "list(range(20))"
   ]
  },
  {
   "cell_type": "code",
   "execution_count": 547,
   "id": "d43964fa-4661-4be4-b940-c6a8d71a8a85",
   "metadata": {},
   "outputs": [
    {
     "data": {
      "text/plain": [
       "{0, 1, 2, 3, 4, 5, 6, 7, 8, 9}"
      ]
     },
     "execution_count": 547,
     "metadata": {},
     "output_type": "execute_result"
    }
   ],
   "source": [
    "set(range(10))"
   ]
  },
  {
   "cell_type": "code",
   "execution_count": 549,
   "id": "0e215874-a266-4115-b3db-31fff62f654d",
   "metadata": {},
   "outputs": [
    {
     "data": {
      "text/plain": [
       "{10, 11, 12, 13, 14, 15, 16, 17, 18, 19}"
      ]
     },
     "execution_count": 549,
     "metadata": {},
     "output_type": "execute_result"
    }
   ],
   "source": [
    "set(range(10,20))"
   ]
  },
  {
   "cell_type": "code",
   "execution_count": 551,
   "id": "fe2fef86-42c4-4b2f-bdec-b25b75321669",
   "metadata": {},
   "outputs": [
    {
     "data": {
      "text/plain": [
       "{10, 20, 30, 40, 50, 60, 70, 80, 90}"
      ]
     },
     "execution_count": 551,
     "metadata": {},
     "output_type": "execute_result"
    }
   ],
   "source": [
    "set(range(10,100,10))"
   ]
  },
  {
   "cell_type": "code",
   "execution_count": 553,
   "id": "968910c9-2470-4121-b1b5-2f9a751ee1de",
   "metadata": {},
   "outputs": [
    {
     "data": {
      "text/plain": [
       "(0, 1, 2, 3, 4, 5, 6, 7, 8, 9)"
      ]
     },
     "execution_count": 553,
     "metadata": {},
     "output_type": "execute_result"
    }
   ],
   "source": [
    "tuple(range(10))"
   ]
  },
  {
   "cell_type": "code",
   "execution_count": 555,
   "id": "62e1df47-f907-4ebb-a93c-9b1f874dcf6b",
   "metadata": {},
   "outputs": [
    {
     "data": {
      "text/plain": [
       "(10, 11, 12, 13, 14, 15, 16, 17, 18, 19)"
      ]
     },
     "execution_count": 555,
     "metadata": {},
     "output_type": "execute_result"
    }
   ],
   "source": [
    "tuple(range(10,20))"
   ]
  },
  {
   "cell_type": "code",
   "execution_count": 557,
   "id": "c47e4373-9a8c-44a1-80be-6bfcc34ed1f7",
   "metadata": {},
   "outputs": [
    {
     "data": {
      "text/plain": [
       "(10, 15, 20, 25, 30, 35, 40, 45, 50, 55, 60, 65, 70, 75, 80, 85, 90, 95)"
      ]
     },
     "execution_count": 557,
     "metadata": {},
     "output_type": "execute_result"
    }
   ],
   "source": [
    "tuple(range(10,100,5))"
   ]
  },
  {
   "cell_type": "code",
   "execution_count": 559,
   "id": "c6c3aa98-c5a5-4174-b170-960b2f344725",
   "metadata": {},
   "outputs": [
    {
     "ename": "TypeError",
     "evalue": "cannot convert dictionary update sequence element #0 to a sequence",
     "output_type": "error",
     "traceback": [
      "\u001b[1;31m---------------------------------------------------------------------------\u001b[0m",
      "\u001b[1;31mTypeError\u001b[0m                                 Traceback (most recent call last)",
      "Cell \u001b[1;32mIn[559], line 1\u001b[0m\n\u001b[1;32m----> 1\u001b[0m \u001b[38;5;28mdict\u001b[39m(\u001b[38;5;28mrange\u001b[39m(\u001b[38;5;241m10\u001b[39m))\n",
      "\u001b[1;31mTypeError\u001b[0m: cannot convert dictionary update sequence element #0 to a sequence"
     ]
    }
   ],
   "source": [
    "dict(range(10))"
   ]
  },
  {
   "cell_type": "code",
   "execution_count": 561,
   "id": "437f69a7-144d-4588-b434-9849c79a038b",
   "metadata": {},
   "outputs": [
    {
     "data": {
      "text/plain": [
       "[1, 2, 3, 4, 5, 6, 7, 8, 9]"
      ]
     },
     "execution_count": 561,
     "metadata": {},
     "output_type": "execute_result"
    }
   ],
   "source": [
    "list(range(1,10))"
   ]
  },
  {
   "cell_type": "code",
   "execution_count": 563,
   "id": "526f80f7-21cb-4886-a27f-a2e35a3ad5c8",
   "metadata": {},
   "outputs": [
    {
     "data": {
      "text/plain": [
       "[101, 102, 103, 104]"
      ]
     },
     "execution_count": 563,
     "metadata": {},
     "output_type": "execute_result"
    }
   ],
   "source": [
    "list(range(101,105))"
   ]
  },
  {
   "cell_type": "code",
   "execution_count": 565,
   "id": "ae7fa65d-6c02-4a87-91e9-57d1cbd03953",
   "metadata": {},
   "outputs": [
    {
     "data": {
      "text/plain": [
       "[101]"
      ]
     },
     "execution_count": 565,
     "metadata": {},
     "output_type": "execute_result"
    }
   ],
   "source": [
    "list(range(101,102))"
   ]
  },
  {
   "cell_type": "code",
   "execution_count": null,
   "id": "6ad95167-c545-4705-8c75-4ef2d3507625",
   "metadata": {},
   "outputs": [],
   "source": []
  }
 ],
 "metadata": {
  "kernelspec": {
   "display_name": "Python 3 (ipykernel)",
   "language": "python",
   "name": "python3"
  },
  "language_info": {
   "codemirror_mode": {
    "name": "ipython",
    "version": 3
   },
   "file_extension": ".py",
   "mimetype": "text/x-python",
   "name": "python",
   "nbconvert_exporter": "python",
   "pygments_lexer": "ipython3",
   "version": "3.12.7"
  }
 },
 "nbformat": 4,
 "nbformat_minor": 5
}
