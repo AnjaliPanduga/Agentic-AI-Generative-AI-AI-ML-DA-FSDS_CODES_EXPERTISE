{
 "cells": [
  {
   "cell_type": "markdown",
   "id": "a3b1789a-380b-4037-8732-c4a3b1c697bf",
   "metadata": {},
   "source": [
    "# 30/10/25  \n",
    "# NUMPY"
   ]
  },
  {
   "cell_type": "code",
   "execution_count": 5,
   "id": "7a87ead6-2656-4034-8d97-6f9bad53e931",
   "metadata": {},
   "outputs": [],
   "source": [
    " import numpy as np"
   ]
  },
  {
   "cell_type": "code",
   "execution_count": 9,
   "id": "75128022-7833-47a7-b0af-b352adef6441",
   "metadata": {},
   "outputs": [
    {
     "data": {
      "text/plain": [
       "'1.26.4'"
      ]
     },
     "execution_count": 9,
     "metadata": {},
     "output_type": "execute_result"
    }
   ],
   "source": [
    "np.__version__"
   ]
  },
  {
   "cell_type": "markdown",
   "id": "77f15da6-2462-4540-822e-c016b962c945",
   "metadata": {},
   "source": [
    "# creating a list\n"
   ]
  },
  {
   "cell_type": "code",
   "execution_count": 12,
   "id": "aadfe793-09fa-4f47-8822-c87514853486",
   "metadata": {},
   "outputs": [
    {
     "data": {
      "text/plain": [
       "[0, 1, 2, 3, 4, 5]"
      ]
     },
     "execution_count": 12,
     "metadata": {},
     "output_type": "execute_result"
    }
   ],
   "source": [
    "my_list=[0,1,2,3,4,5]\n",
    "my_list"
   ]
  },
  {
   "cell_type": "code",
   "execution_count": 14,
   "id": "d32c5dd5-4d27-4df8-a95b-cf7e8d6fa310",
   "metadata": {},
   "outputs": [
    {
     "data": {
      "text/plain": [
       "list"
      ]
     },
     "execution_count": 14,
     "metadata": {},
     "output_type": "execute_result"
    }
   ],
   "source": [
    "type(my_list)"
   ]
  },
  {
   "cell_type": "markdown",
   "id": "ba42020c-d8a8-47a2-9be1-dbd43c7f2f34",
   "metadata": {},
   "source": [
    "# converting list to array\n"
   ]
  },
  {
   "cell_type": "code",
   "execution_count": 17,
   "id": "bac3d863-824c-404d-b144-f47c75246356",
   "metadata": {},
   "outputs": [
    {
     "data": {
      "text/plain": [
       "array([0, 1, 2, 3, 4, 5])"
      ]
     },
     "execution_count": 17,
     "metadata": {},
     "output_type": "execute_result"
    }
   ],
   "source": [
    "arr=np.array(my_list)\n",
    "arr"
   ]
  },
  {
   "cell_type": "code",
   "execution_count": 19,
   "id": "c7279e1e-a5fb-419c-93c5-325953002c49",
   "metadata": {},
   "outputs": [
    {
     "data": {
      "text/plain": [
       "numpy.ndarray"
      ]
     },
     "execution_count": 19,
     "metadata": {},
     "output_type": "execute_result"
    }
   ],
   "source": [
    "type(arr)"
   ]
  },
  {
   "cell_type": "markdown",
   "id": "40095372-96de-4da3-8d54-644496a32fdf",
   "metadata": {},
   "source": [
    "# arange function\n"
   ]
  },
  {
   "cell_type": "code",
   "execution_count": 22,
   "id": "c4c4345f-8b3e-4a9b-a766-3601217d80e7",
   "metadata": {},
   "outputs": [
    {
     "data": {
      "text/plain": [
       "array([], dtype=int32)"
      ]
     },
     "execution_count": 22,
     "metadata": {},
     "output_type": "execute_result"
    }
   ],
   "source": [
    "np.arange(0)"
   ]
  },
  {
   "cell_type": "code",
   "execution_count": 24,
   "id": "66ef4e89-017d-41dc-b659-7f4dfc395740",
   "metadata": {},
   "outputs": [
    {
     "data": {
      "text/plain": [
       "array([0])"
      ]
     },
     "execution_count": 24,
     "metadata": {},
     "output_type": "execute_result"
    }
   ],
   "source": [
    "np.arange(1)"
   ]
  },
  {
   "cell_type": "code",
   "execution_count": 26,
   "id": "6f9c90a8-b8e9-4222-9a7b-61ee4dbc570b",
   "metadata": {},
   "outputs": [
    {
     "data": {
      "text/plain": [
       "array([0, 1, 2, 3, 4, 5, 6, 7, 8, 9])"
      ]
     },
     "execution_count": 26,
     "metadata": {},
     "output_type": "execute_result"
    }
   ],
   "source": [
    "np.arange(10)"
   ]
  },
  {
   "cell_type": "code",
   "execution_count": 28,
   "id": "0cbdbe82-c4ee-4c25-8392-257dc6cc4704",
   "metadata": {},
   "outputs": [
    {
     "data": {
      "text/plain": [
       "array([0., 1., 2., 3., 4.])"
      ]
     },
     "execution_count": 28,
     "metadata": {},
     "output_type": "execute_result"
    }
   ],
   "source": [
    "np.arange(5.0)"
   ]
  },
  {
   "cell_type": "code",
   "execution_count": 30,
   "id": "f651f8d7-e7cb-4cf8-a51f-33712c2fd3e7",
   "metadata": {},
   "outputs": [
    {
     "data": {
      "text/plain": [
       "array([0., 1., 2., 3., 4., 5.])"
      ]
     },
     "execution_count": 30,
     "metadata": {},
     "output_type": "execute_result"
    }
   ],
   "source": [
    "np.arange(5.2)"
   ]
  },
  {
   "cell_type": "code",
   "execution_count": 32,
   "id": "fa280d3a-de38-4762-8710-22a20986469f",
   "metadata": {},
   "outputs": [
    {
     "data": {
      "text/plain": [
       "array([0, 1, 2, 3, 4, 5, 6, 7, 8])"
      ]
     },
     "execution_count": 32,
     "metadata": {},
     "output_type": "execute_result"
    }
   ],
   "source": [
    "np.arange(9)"
   ]
  },
  {
   "cell_type": "code",
   "execution_count": 34,
   "id": "f1266d9e-be1b-4480-a318-fb8b22e2aa05",
   "metadata": {},
   "outputs": [
    {
     "data": {
      "text/plain": [
       "array([0, 1, 2, 3, 4])"
      ]
     },
     "execution_count": 34,
     "metadata": {},
     "output_type": "execute_result"
    }
   ],
   "source": [
    "np.arange(0,5)"
   ]
  },
  {
   "cell_type": "code",
   "execution_count": 42,
   "id": "d20b0aae-81df-4e3a-be7a-1354d98f91bf",
   "metadata": {},
   "outputs": [
    {
     "data": {
      "text/plain": [
       "array([0, 2, 4, 6, 8])"
      ]
     },
     "execution_count": 42,
     "metadata": {},
     "output_type": "execute_result"
    }
   ],
   "source": [
    "#arange with 3 arguments\n",
    "np.arange(0,10,2)"
   ]
  },
  {
   "cell_type": "code",
   "execution_count": 44,
   "id": "14c57ab4-6d91-4bf9-b232-c71eef85c57e",
   "metadata": {},
   "outputs": [
    {
     "data": {
      "text/plain": [
       "array([0, 1, 2, 3, 4, 5, 6, 7, 8, 9])"
      ]
     },
     "execution_count": 44,
     "metadata": {},
     "output_type": "execute_result"
    }
   ],
   "source": [
    "np.arange(0,10,1)"
   ]
  },
  {
   "cell_type": "code",
   "execution_count": 46,
   "id": "5f9c5230-3910-49c5-9694-16d2db98bc80",
   "metadata": {},
   "outputs": [
    {
     "data": {
      "text/plain": [
       "array([], dtype=int32)"
      ]
     },
     "execution_count": 46,
     "metadata": {},
     "output_type": "execute_result"
    }
   ],
   "source": [
    "np.arange(0,10,-1)"
   ]
  },
  {
   "cell_type": "code",
   "execution_count": 48,
   "id": "7b8bae64-1604-4ace-95ed-f4ffb119d1a6",
   "metadata": {},
   "outputs": [
    {
     "data": {
      "text/plain": [
       "array([10, 12, 14, 16, 18])"
      ]
     },
     "execution_count": 48,
     "metadata": {},
     "output_type": "execute_result"
    }
   ],
   "source": [
    "np.arange(10,20,2)"
   ]
  },
  {
   "cell_type": "code",
   "execution_count": 50,
   "id": "6a4ac1e5-84b4-4344-8cd3-6f17fe7758be",
   "metadata": {},
   "outputs": [
    {
     "data": {
      "text/plain": [
       "array([], dtype=int32)"
      ]
     },
     "execution_count": 50,
     "metadata": {},
     "output_type": "execute_result"
    }
   ],
   "source": [
    "np.arange(20,10) #start argument is always lessthan end argument"
   ]
  },
  {
   "cell_type": "code",
   "execution_count": 52,
   "id": "42c92be8-8807-4620-9f86-f3353bc5054e",
   "metadata": {},
   "outputs": [
    {
     "data": {
      "text/plain": [
       "array([-20, -19, -18, -17, -16, -15, -14, -13, -12, -11, -10,  -9,  -8,\n",
       "        -7,  -6,  -5,  -4,  -3,  -2,  -1,   0,   1,   2,   3,   4,   5,\n",
       "         6,   7,   8,   9])"
      ]
     },
     "execution_count": 52,
     "metadata": {},
     "output_type": "execute_result"
    }
   ],
   "source": [
    "np.arange(-20,10)"
   ]
  },
  {
   "cell_type": "code",
   "execution_count": 54,
   "id": "fb600cc0-eb9b-47f4-9575-a377bd173972",
   "metadata": {},
   "outputs": [
    {
     "data": {
      "text/plain": [
       "array([-16, -15, -14, -13, -12, -11, -10,  -9,  -8,  -7,  -6,  -5,  -4,\n",
       "        -3,  -2,  -1,   0,   1,   2,   3,   4,   5,   6,   7,   8,   9])"
      ]
     },
     "execution_count": 54,
     "metadata": {},
     "output_type": "execute_result"
    }
   ],
   "source": [
    "np.arange(-16,10)"
   ]
  },
  {
   "cell_type": "code",
   "execution_count": 56,
   "id": "ef4a0cbc-4603-43de-8dc5-ab8ecdca3637",
   "metadata": {},
   "outputs": [
    {
     "data": {
      "text/plain": [
       "array([-30, -29, -28, -27, -26, -25, -24, -23, -22, -21, -20, -19, -18,\n",
       "       -17, -16, -15, -14, -13, -12, -11, -10,  -9,  -8,  -7,  -6,  -5,\n",
       "        -4,  -3,  -2,  -1,   0,   1,   2,   3,   4,   5,   6,   7,   8,\n",
       "         9,  10,  11,  12,  13,  14,  15,  16,  17,  18,  19])"
      ]
     },
     "execution_count": 56,
     "metadata": {},
     "output_type": "execute_result"
    }
   ],
   "source": [
    "ar=np.arange(-30,20)\n",
    "ar"
   ]
  },
  {
   "cell_type": "code",
   "execution_count": 58,
   "id": "fbd0374f-9211-4e4d-9683-6b69bec85bef",
   "metadata": {},
   "outputs": [
    {
     "data": {
      "text/plain": [
       "array([], dtype=int32)"
      ]
     },
     "execution_count": 58,
     "metadata": {},
     "output_type": "execute_result"
    }
   ],
   "source": [
    "np.arange(10,10)"
   ]
  },
  {
   "cell_type": "code",
   "execution_count": 60,
   "id": "879d118b-7271-4e78-9b2a-a1a9ea88250d",
   "metadata": {},
   "outputs": [
    {
     "ename": "TypeError",
     "evalue": "arange() requires stop to be specified.",
     "output_type": "error",
     "traceback": [
      "\u001b[1;31m---------------------------------------------------------------------------\u001b[0m",
      "\u001b[1;31mTypeError\u001b[0m                                 Traceback (most recent call last)",
      "Cell \u001b[1;32mIn[60], line 1\u001b[0m\n\u001b[1;32m----> 1\u001b[0m np\u001b[38;5;241m.\u001b[39marange()\n",
      "\u001b[1;31mTypeError\u001b[0m: arange() requires stop to be specified."
     ]
    }
   ],
   "source": [
    "np.arange()"
   ]
  },
  {
   "cell_type": "code",
   "execution_count": 62,
   "id": "c0781ac8-cc5c-4929-9390-4e9c38c02c3d",
   "metadata": {},
   "outputs": [
    {
     "data": {
      "text/plain": [
       "array([0, 5])"
      ]
     },
     "execution_count": 62,
     "metadata": {},
     "output_type": "execute_result"
    }
   ],
   "source": [
    "np.arange(0,10,5)"
   ]
  },
  {
   "cell_type": "code",
   "execution_count": 64,
   "id": "87ba36a6-b640-4a37-899f-c812fd31fda5",
   "metadata": {},
   "outputs": [
    {
     "data": {
      "text/plain": [
       "array([0, 3, 6, 9])"
      ]
     },
     "execution_count": 64,
     "metadata": {},
     "output_type": "execute_result"
    }
   ],
   "source": [
    "np.arange(0,10,3)"
   ]
  },
  {
   "cell_type": "markdown",
   "id": "858b3b10-c5be-40d3-9d47-98a8ffbcd797",
   "metadata": {},
   "source": [
    "# zeros function\n"
   ]
  },
  {
   "cell_type": "code",
   "execution_count": 67,
   "id": "6e69fae3-79aa-4310-8b7c-6e4851e34403",
   "metadata": {},
   "outputs": [
    {
     "data": {
      "text/plain": [
       "array([0., 0., 0., 0., 0., 0., 0., 0., 0., 0.])"
      ]
     },
     "execution_count": 67,
     "metadata": {},
     "output_type": "execute_result"
    }
   ],
   "source": [
    "np.zeros(10)"
   ]
  },
  {
   "cell_type": "code",
   "execution_count": 69,
   "id": "6a7e819c-8457-46c5-8ecb-2b99829b575d",
   "metadata": {},
   "outputs": [
    {
     "data": {
      "text/plain": [
       "array([0., 0., 0.])"
      ]
     },
     "execution_count": 69,
     "metadata": {},
     "output_type": "execute_result"
    }
   ],
   "source": [
    "np.zeros(3)"
   ]
  },
  {
   "cell_type": "code",
   "execution_count": 71,
   "id": "5ac06f60-0df4-4fe6-8d42-022ef5221a99",
   "metadata": {},
   "outputs": [
    {
     "data": {
      "text/plain": [
       "array([0, 0, 0])"
      ]
     },
     "execution_count": 71,
     "metadata": {},
     "output_type": "execute_result"
    }
   ],
   "source": [
    "np.zeros(3,dtype=int)"
   ]
  },
  {
   "cell_type": "code",
   "execution_count": 73,
   "id": "2969af70-c030-4e05-8990-828e55024fb5",
   "metadata": {},
   "outputs": [
    {
     "ename": "TypeError",
     "evalue": "zeros() missing required argument 'shape' (pos 0)",
     "output_type": "error",
     "traceback": [
      "\u001b[1;31m---------------------------------------------------------------------------\u001b[0m",
      "\u001b[1;31mTypeError\u001b[0m                                 Traceback (most recent call last)",
      "Cell \u001b[1;32mIn[73], line 1\u001b[0m\n\u001b[1;32m----> 1\u001b[0m np\u001b[38;5;241m.\u001b[39mzeros()\n",
      "\u001b[1;31mTypeError\u001b[0m: zeros() missing required argument 'shape' (pos 0)"
     ]
    }
   ],
   "source": [
    "np.zeros()"
   ]
  },
  {
   "cell_type": "code",
   "execution_count": 75,
   "id": "4ca2e2f3-fcb6-4d1a-a0af-834d2edc4829",
   "metadata": {},
   "outputs": [
    {
     "data": {
      "text/plain": [
       "array([], dtype=float64)"
      ]
     },
     "execution_count": 75,
     "metadata": {},
     "output_type": "execute_result"
    }
   ],
   "source": [
    "np.zeros(0)"
   ]
  },
  {
   "cell_type": "code",
   "execution_count": 77,
   "id": "a7a7ae0f-0f26-408e-8724-de2fbf240292",
   "metadata": {},
   "outputs": [
    {
     "data": {
      "text/plain": [
       "array([[0, 0],\n",
       "       [0, 0]])"
      ]
     },
     "execution_count": 77,
     "metadata": {},
     "output_type": "execute_result"
    }
   ],
   "source": [
    "np.zeros((2,2),dtype=int)"
   ]
  },
  {
   "cell_type": "code",
   "execution_count": 79,
   "id": "836c7625-6280-4abe-a8be-06a3f83add96",
   "metadata": {},
   "outputs": [
    {
     "name": "stdout",
     "output_type": "stream",
     "text": [
      "[[0. 0.]\n",
      " [0. 0.]]\n",
      "###\n",
      "<class 'numpy.ndarray'>\n"
     ]
    }
   ],
   "source": [
    "zero=np.zeros([2,2])\n",
    "print(zero)\n",
    "print('###')\n",
    "print(type(zero))"
   ]
  },
  {
   "cell_type": "code",
   "execution_count": 81,
   "id": "f83aa558-d4fc-4ead-833e-c8df3115b857",
   "metadata": {},
   "outputs": [
    {
     "data": {
      "text/plain": [
       "array([[0., 0., 0., 0., 0., 0., 0., 0., 0., 0.],\n",
       "       [0., 0., 0., 0., 0., 0., 0., 0., 0., 0.]])"
      ]
     },
     "execution_count": 81,
     "metadata": {},
     "output_type": "execute_result"
    }
   ],
   "source": [
    "np.zeros((2,10))"
   ]
  },
  {
   "cell_type": "code",
   "execution_count": 83,
   "id": "d61155dc-8aaf-48c9-bdbc-20d61ef490dc",
   "metadata": {},
   "outputs": [
    {
     "data": {
      "text/plain": [
       "array([[0, 0, 0, 0, 0, 0, 0, 0, 0, 0],\n",
       "       [0, 0, 0, 0, 0, 0, 0, 0, 0, 0]])"
      ]
     },
     "execution_count": 83,
     "metadata": {},
     "output_type": "execute_result"
    }
   ],
   "source": [
    "np.zeros((2,10),dtype=int)"
   ]
  },
  {
   "cell_type": "code",
   "execution_count": 85,
   "id": "5e26e4ac-b756-4ee8-a9f3-4966ffb7232e",
   "metadata": {},
   "outputs": [
    {
     "data": {
      "text/plain": [
       "array([[0, 0, 0, 0, 0, 0, 0, 0, 0, 0],\n",
       "       [0, 0, 0, 0, 0, 0, 0, 0, 0, 0],\n",
       "       [0, 0, 0, 0, 0, 0, 0, 0, 0, 0],\n",
       "       [0, 0, 0, 0, 0, 0, 0, 0, 0, 0],\n",
       "       [0, 0, 0, 0, 0, 0, 0, 0, 0, 0],\n",
       "       [0, 0, 0, 0, 0, 0, 0, 0, 0, 0],\n",
       "       [0, 0, 0, 0, 0, 0, 0, 0, 0, 0],\n",
       "       [0, 0, 0, 0, 0, 0, 0, 0, 0, 0],\n",
       "       [0, 0, 0, 0, 0, 0, 0, 0, 0, 0],\n",
       "       [0, 0, 0, 0, 0, 0, 0, 0, 0, 0]])"
      ]
     },
     "execution_count": 85,
     "metadata": {},
     "output_type": "execute_result"
    }
   ],
   "source": [
    "np.zeros((10,10),dtype=int)"
   ]
  },
  {
   "cell_type": "markdown",
   "id": "d17c572b-9d8a-4e0c-925f-ea80815d1fb7",
   "metadata": {},
   "source": [
    "# ones fuction\n"
   ]
  },
  {
   "cell_type": "code",
   "execution_count": 88,
   "id": "357c1eca-945e-4bdf-8a7f-6e77a9f26e35",
   "metadata": {},
   "outputs": [
    {
     "data": {
      "text/plain": [
       "array([], dtype=float64)"
      ]
     },
     "execution_count": 88,
     "metadata": {},
     "output_type": "execute_result"
    }
   ],
   "source": [
    "np.ones(0)"
   ]
  },
  {
   "cell_type": "code",
   "execution_count": 90,
   "id": "8aa20753-c438-4e0f-9c2b-5c969953f289",
   "metadata": {},
   "outputs": [
    {
     "data": {
      "text/plain": [
       "array([1., 1., 1.])"
      ]
     },
     "execution_count": 90,
     "metadata": {},
     "output_type": "execute_result"
    }
   ],
   "source": [
    "np.ones(3)"
   ]
  },
  {
   "cell_type": "code",
   "execution_count": 92,
   "id": "a83c5c84-c5a3-4eef-8490-e7ca758458a8",
   "metadata": {},
   "outputs": [
    {
     "data": {
      "text/plain": [
       "array([[1., 1.],\n",
       "       [1., 1.],\n",
       "       [1., 1.]])"
      ]
     },
     "execution_count": 92,
     "metadata": {},
     "output_type": "execute_result"
    }
   ],
   "source": [
    "np.ones((3,2))"
   ]
  },
  {
   "cell_type": "code",
   "execution_count": 94,
   "id": "0ed62fb0-b9a5-4bb9-b114-25634ed34967",
   "metadata": {},
   "outputs": [
    {
     "data": {
      "text/plain": [
       "array([[1, 1, 1],\n",
       "       [1, 1, 1],\n",
       "       [1, 1, 1]])"
      ]
     },
     "execution_count": 94,
     "metadata": {},
     "output_type": "execute_result"
    }
   ],
   "source": [
    "np.ones((3,3),dtype=int)"
   ]
  },
  {
   "cell_type": "code",
   "execution_count": 96,
   "id": "ec9c85b8-b495-4938-9eda-fafcf24d829d",
   "metadata": {},
   "outputs": [
    {
     "data": {
      "text/plain": [
       "array([[1., 1., 1., 1., 1., 1., 1., 1., 1., 1.],\n",
       "       [1., 1., 1., 1., 1., 1., 1., 1., 1., 1.]])"
      ]
     },
     "execution_count": 96,
     "metadata": {},
     "output_type": "execute_result"
    }
   ],
   "source": [
    "np.ones((2,10))"
   ]
  },
  {
   "cell_type": "code",
   "execution_count": 98,
   "id": "d7d58389-cc50-49d0-9725-52a71bdafb9b",
   "metadata": {},
   "outputs": [
    {
     "data": {
      "text/plain": [
       "array([[1, 1, 1, 1, 1, 1, 1, 1, 1, 1],\n",
       "       [1, 1, 1, 1, 1, 1, 1, 1, 1, 1]])"
      ]
     },
     "execution_count": 98,
     "metadata": {},
     "output_type": "execute_result"
    }
   ],
   "source": [
    "np.ones((2,10),dtype=int)"
   ]
  },
  {
   "cell_type": "code",
   "execution_count": 100,
   "id": "7e97fad1-3812-4a2c-a6f3-7401579ca4d7",
   "metadata": {},
   "outputs": [
    {
     "data": {
      "text/plain": [
       "array([[1, 1, 1, 1, 1, 1, 1, 1, 1, 1],\n",
       "       [1, 1, 1, 1, 1, 1, 1, 1, 1, 1],\n",
       "       [1, 1, 1, 1, 1, 1, 1, 1, 1, 1],\n",
       "       [1, 1, 1, 1, 1, 1, 1, 1, 1, 1],\n",
       "       [1, 1, 1, 1, 1, 1, 1, 1, 1, 1],\n",
       "       [1, 1, 1, 1, 1, 1, 1, 1, 1, 1],\n",
       "       [1, 1, 1, 1, 1, 1, 1, 1, 1, 1],\n",
       "       [1, 1, 1, 1, 1, 1, 1, 1, 1, 1],\n",
       "       [1, 1, 1, 1, 1, 1, 1, 1, 1, 1],\n",
       "       [1, 1, 1, 1, 1, 1, 1, 1, 1, 1]])"
      ]
     },
     "execution_count": 100,
     "metadata": {},
     "output_type": "execute_result"
    }
   ],
   "source": [
    "np.ones((10,10),dtype=int)"
   ]
  },
  {
   "cell_type": "code",
   "execution_count": 102,
   "id": "4d0f2b92-2b38-4565-aaca-9261cf072506",
   "metadata": {},
   "outputs": [
    {
     "data": {
      "text/plain": [
       "array([['1', '1'],\n",
       "       ['1', '1']], dtype='<U1')"
      ]
     },
     "execution_count": 102,
     "metadata": {},
     "output_type": "execute_result"
    }
   ],
   "source": [
    "np.ones((2,2),dtype=str)"
   ]
  },
  {
   "cell_type": "code",
   "execution_count": 104,
   "id": "979f59bb-dede-4c34-a3b8-c7be24cbf8bb",
   "metadata": {},
   "outputs": [
    {
     "data": {
      "text/plain": [
       "array([[ True,  True,  True,  True,  True],\n",
       "       [ True,  True,  True,  True,  True],\n",
       "       [ True,  True,  True,  True,  True],\n",
       "       [ True,  True,  True,  True,  True],\n",
       "       [ True,  True,  True,  True,  True]])"
      ]
     },
     "execution_count": 104,
     "metadata": {},
     "output_type": "execute_result"
    }
   ],
   "source": [
    "np.ones((5,5),dtype=bool)"
   ]
  },
  {
   "cell_type": "code",
   "execution_count": 106,
   "id": "5186516b-2c20-4e66-a567-780f41253b3d",
   "metadata": {},
   "outputs": [
    {
     "data": {
      "text/plain": [
       "array([[False, False, False, False, False],\n",
       "       [False, False, False, False, False],\n",
       "       [False, False, False, False, False],\n",
       "       [False, False, False, False, False],\n",
       "       [False, False, False, False, False]])"
      ]
     },
     "execution_count": 106,
     "metadata": {},
     "output_type": "execute_result"
    }
   ],
   "source": [
    "np.zeros((5,5),dtype=bool)"
   ]
  },
  {
   "cell_type": "markdown",
   "id": "3af10204-1df2-4111-9735-223f6d67fe18",
   "metadata": {},
   "source": [
    "# RANDOM MODULE\n",
    "# random fuction\n"
   ]
  },
  {
   "cell_type": "code",
   "execution_count": 109,
   "id": "9234accb-dd1e-4259-a4ba-d551a682fdde",
   "metadata": {},
   "outputs": [
    {
     "data": {
      "text/plain": [
       "0.054723204410006"
      ]
     },
     "execution_count": 109,
     "metadata": {},
     "output_type": "execute_result"
    }
   ],
   "source": [
    "np.random.random()"
   ]
  },
  {
   "cell_type": "code",
   "execution_count": 111,
   "id": "1e2898d4-29dc-412a-b2f9-4ff20c7be745",
   "metadata": {},
   "outputs": [
    {
     "data": {
      "text/plain": [
       "array([0.50526873])"
      ]
     },
     "execution_count": 111,
     "metadata": {},
     "output_type": "execute_result"
    }
   ],
   "source": [
    "np.random.random(1)"
   ]
  },
  {
   "cell_type": "code",
   "execution_count": 113,
   "id": "e53e5bac-583b-4e24-94c4-20b22c291297",
   "metadata": {},
   "outputs": [
    {
     "data": {
      "text/plain": [
       "array([0.26450105, 0.05046421, 0.99249518, 0.80032766, 0.88400116,\n",
       "       0.86374163, 0.89193484, 0.87696372, 0.45888466, 0.72869939])"
      ]
     },
     "execution_count": 113,
     "metadata": {},
     "output_type": "execute_result"
    }
   ],
   "source": [
    "np.random.random(10)"
   ]
  },
  {
   "cell_type": "code",
   "execution_count": 115,
   "id": "481ed48b-4c27-49fa-b3bf-9ed0d7302f88",
   "metadata": {},
   "outputs": [
    {
     "ename": "TypeError",
     "evalue": "random() takes at most 1 positional argument (2 given)",
     "output_type": "error",
     "traceback": [
      "\u001b[1;31m---------------------------------------------------------------------------\u001b[0m",
      "\u001b[1;31mTypeError\u001b[0m                                 Traceback (most recent call last)",
      "Cell \u001b[1;32mIn[115], line 1\u001b[0m\n\u001b[1;32m----> 1\u001b[0m np\u001b[38;5;241m.\u001b[39mrandom\u001b[38;5;241m.\u001b[39mrandom(\u001b[38;5;241m1\u001b[39m,\u001b[38;5;241m5\u001b[39m)\n",
      "File \u001b[1;32mnumpy\\\\random\\\\mtrand.pyx:439\u001b[0m, in \u001b[0;36mnumpy.random.mtrand.RandomState.random\u001b[1;34m()\u001b[0m\n",
      "\u001b[1;31mTypeError\u001b[0m: random() takes at most 1 positional argument (2 given)"
     ]
    }
   ],
   "source": [
    "np.random.random(1,5)"
   ]
  },
  {
   "cell_type": "code",
   "execution_count": 117,
   "id": "69549674-3dc4-419c-b63a-521076a0554b",
   "metadata": {},
   "outputs": [
    {
     "ename": "TypeError",
     "evalue": "random() takes at most 1 positional argument (2 given)",
     "output_type": "error",
     "traceback": [
      "\u001b[1;31m---------------------------------------------------------------------------\u001b[0m",
      "\u001b[1;31mTypeError\u001b[0m                                 Traceback (most recent call last)",
      "Cell \u001b[1;32mIn[117], line 1\u001b[0m\n\u001b[1;32m----> 1\u001b[0m np\u001b[38;5;241m.\u001b[39mrandom\u001b[38;5;241m.\u001b[39mrandom(\u001b[38;5;241m3\u001b[39m,\u001b[38;5;241m5\u001b[39m)\n",
      "File \u001b[1;32mnumpy\\\\random\\\\mtrand.pyx:439\u001b[0m, in \u001b[0;36mnumpy.random.mtrand.RandomState.random\u001b[1;34m()\u001b[0m\n",
      "\u001b[1;31mTypeError\u001b[0m: random() takes at most 1 positional argument (2 given)"
     ]
    }
   ],
   "source": [
    "np.random.random(3,5)"
   ]
  },
  {
   "cell_type": "markdown",
   "id": "5fcde8ea-eec9-41f7-ae30-57c20c096c75",
   "metadata": {},
   "source": [
    "# rand fuction"
   ]
  },
  {
   "cell_type": "code",
   "execution_count": 120,
   "id": "53d246b1-ac28-46d1-87e5-36651a4f3070",
   "metadata": {},
   "outputs": [
    {
     "data": {
      "text/plain": [
       "0.4270819822157721"
      ]
     },
     "execution_count": 120,
     "metadata": {},
     "output_type": "execute_result"
    }
   ],
   "source": [
    "np.random.rand()"
   ]
  },
  {
   "cell_type": "code",
   "execution_count": 122,
   "id": "f094d58b-b4a2-4136-a0ae-8bf00ae0c7ce",
   "metadata": {},
   "outputs": [
    {
     "data": {
      "text/plain": [
       "array([0.55460563, 0.17610771, 0.74334662])"
      ]
     },
     "execution_count": 122,
     "metadata": {},
     "output_type": "execute_result"
    }
   ],
   "source": [
    "np.random.rand(3)"
   ]
  },
  {
   "cell_type": "code",
   "execution_count": 124,
   "id": "1ca98842-0014-43cb-9cfe-297cd792aba2",
   "metadata": {},
   "outputs": [
    {
     "data": {
      "text/plain": [
       "array([0.67794339, 0.36404049, 0.83775559])"
      ]
     },
     "execution_count": 124,
     "metadata": {},
     "output_type": "execute_result"
    }
   ],
   "source": [
    "np.random.rand(3)"
   ]
  },
  {
   "cell_type": "code",
   "execution_count": 126,
   "id": "fa412ba3-0c33-4aee-b5e7-c862a2087db7",
   "metadata": {},
   "outputs": [
    {
     "data": {
      "text/plain": [
       "array([0.41490745])"
      ]
     },
     "execution_count": 126,
     "metadata": {},
     "output_type": "execute_result"
    }
   ],
   "source": [
    "np.random.rand(1)"
   ]
  },
  {
   "cell_type": "code",
   "execution_count": 128,
   "id": "2082e66b-f9ed-4b77-9847-21cae29ebc3a",
   "metadata": {},
   "outputs": [
    {
     "data": {
      "text/plain": [
       "array([0.83656144, 0.08249211, 0.41566706, 0.81813899, 0.93061759,\n",
       "       0.42551557, 0.13552496, 0.08515244, 0.58729237, 0.10123999])"
      ]
     },
     "execution_count": 128,
     "metadata": {},
     "output_type": "execute_result"
    }
   ],
   "source": [
    "np.random.rand(10)"
   ]
  },
  {
   "cell_type": "code",
   "execution_count": 130,
   "id": "87913b1c-33b7-461a-aeae-1252207ad39c",
   "metadata": {},
   "outputs": [
    {
     "data": {
      "text/plain": [
       "array([[0.33191193, 0.95447136, 0.17552169, 0.4292918 , 0.71364752],\n",
       "       [0.49621212, 0.6196966 , 0.14569192, 0.18667107, 0.93480491],\n",
       "       [0.72200063, 0.77995602, 0.3718195 , 0.9783005 , 0.32037688]])"
      ]
     },
     "execution_count": 130,
     "metadata": {},
     "output_type": "execute_result"
    }
   ],
   "source": [
    "np.random.rand(3,5)"
   ]
  },
  {
   "cell_type": "code",
   "execution_count": 132,
   "id": "94f2adad-0366-4509-9ca1-5c5813bda0aa",
   "metadata": {},
   "outputs": [
    {
     "data": {
      "text/plain": [
       "array([[[0.33708565, 0.10067304],\n",
       "        [0.85538754, 0.34322648],\n",
       "        [0.22922823, 0.39385081],\n",
       "        [0.02684948, 0.07961938],\n",
       "        [0.13496391, 0.81868488],\n",
       "        [0.6822128 , 0.83742817],\n",
       "        [0.2518126 , 0.18130769],\n",
       "        [0.22509786, 0.95997423],\n",
       "        [0.08160632, 0.86769367],\n",
       "        [0.76611716, 0.40683447]]])"
      ]
     },
     "execution_count": 132,
     "metadata": {},
     "output_type": "execute_result"
    }
   ],
   "source": [
    "np.random.rand(1,10,2)"
   ]
  },
  {
   "cell_type": "markdown",
   "id": "dc9d8741-16e3-4f8b-90f7-44930e396702",
   "metadata": {},
   "source": [
    "# randint fuction\n"
   ]
  },
  {
   "cell_type": "code",
   "execution_count": 135,
   "id": "8f0af202-07a1-4d69-a6b4-378686cccf27",
   "metadata": {},
   "outputs": [
    {
     "ename": "TypeError",
     "evalue": "randint() takes at least 1 positional argument (0 given)",
     "output_type": "error",
     "traceback": [
      "\u001b[1;31m---------------------------------------------------------------------------\u001b[0m",
      "\u001b[1;31mTypeError\u001b[0m                                 Traceback (most recent call last)",
      "Cell \u001b[1;32mIn[135], line 1\u001b[0m\n\u001b[1;32m----> 1\u001b[0m np\u001b[38;5;241m.\u001b[39mrandom\u001b[38;5;241m.\u001b[39mrandint()\n",
      "File \u001b[1;32mnumpy\\\\random\\\\mtrand.pyx:679\u001b[0m, in \u001b[0;36mnumpy.random.mtrand.RandomState.randint\u001b[1;34m()\u001b[0m\n",
      "\u001b[1;31mTypeError\u001b[0m: randint() takes at least 1 positional argument (0 given)"
     ]
    }
   ],
   "source": [
    "np.random.randint()"
   ]
  },
  {
   "cell_type": "code",
   "execution_count": 137,
   "id": "1fd800a9-c87f-428b-8996-23636de974d7",
   "metadata": {},
   "outputs": [
    {
     "data": {
      "text/plain": [
       "array([0.70402099, 0.96985765, 0.13006924, 0.02868311, 0.05608449,\n",
       "       0.62089704, 0.90317129, 0.76576664, 0.74665505, 0.42929067,\n",
       "       0.49797696, 0.2137795 ])"
      ]
     },
     "execution_count": 137,
     "metadata": {},
     "output_type": "execute_result"
    }
   ],
   "source": [
    "np.random.random(12)"
   ]
  },
  {
   "cell_type": "code",
   "execution_count": 139,
   "id": "f7f4ef02-53db-42b4-a189-14c9076dfe9d",
   "metadata": {},
   "outputs": [
    {
     "data": {
      "text/plain": [
       "4"
      ]
     },
     "execution_count": 139,
     "metadata": {},
     "output_type": "execute_result"
    }
   ],
   "source": [
    "np.random.randint(4,5)"
   ]
  },
  {
   "cell_type": "code",
   "execution_count": 141,
   "id": "9cb5aedb-d1e9-46de-8dcc-f9e33c5979b7",
   "metadata": {},
   "outputs": [
    {
     "data": {
      "text/plain": [
       "6"
      ]
     },
     "execution_count": 141,
     "metadata": {},
     "output_type": "execute_result"
    }
   ],
   "source": [
    "np.random.randint(6,7)"
   ]
  },
  {
   "cell_type": "code",
   "execution_count": 143,
   "id": "5f857ca1-30d9-44da-b514-81190f5b2715",
   "metadata": {},
   "outputs": [
    {
     "data": {
      "text/plain": [
       "11"
      ]
     },
     "execution_count": 143,
     "metadata": {},
     "output_type": "execute_result"
    }
   ],
   "source": [
    "np.random.randint(11,12)"
   ]
  },
  {
   "cell_type": "code",
   "execution_count": 145,
   "id": "75be586c-4e64-474a-b3a5-0eceab12c8e1",
   "metadata": {},
   "outputs": [
    {
     "data": {
      "text/plain": [
       "2"
      ]
     },
     "execution_count": 145,
     "metadata": {},
     "output_type": "execute_result"
    }
   ],
   "source": [
    "np.random.randint(1,10)"
   ]
  },
  {
   "cell_type": "code",
   "execution_count": 147,
   "id": "a3ccdbcf-c98d-4b38-a1f9-492e81d288cb",
   "metadata": {},
   "outputs": [
    {
     "data": {
      "text/plain": [
       "array([8, 7, 4, 7])"
      ]
     },
     "execution_count": 147,
     "metadata": {},
     "output_type": "execute_result"
    }
   ],
   "source": [
    "np.random.randint(0,10,4)"
   ]
  },
  {
   "cell_type": "code",
   "execution_count": 149,
   "id": "e0e984dd-c9ff-420f-88c9-8dca81e462cb",
   "metadata": {},
   "outputs": [
    {
     "data": {
      "text/plain": [
       "9"
      ]
     },
     "execution_count": 149,
     "metadata": {},
     "output_type": "execute_result"
    }
   ],
   "source": [
    "np.random.randint(1,10)"
   ]
  },
  {
   "cell_type": "code",
   "execution_count": 151,
   "id": "a61696f7-b1de-454a-90c6-feead61ee7f4",
   "metadata": {},
   "outputs": [
    {
     "ename": "ValueError",
     "evalue": "low >= high",
     "output_type": "error",
     "traceback": [
      "\u001b[1;31m---------------------------------------------------------------------------\u001b[0m",
      "\u001b[1;31mValueError\u001b[0m                                Traceback (most recent call last)",
      "Cell \u001b[1;32mIn[151], line 1\u001b[0m\n\u001b[1;32m----> 1\u001b[0m np\u001b[38;5;241m.\u001b[39mrandom\u001b[38;5;241m.\u001b[39mrandint(\u001b[38;5;241m30\u001b[39m,\u001b[38;5;241m20\u001b[39m,\u001b[38;5;241m10\u001b[39m)\n",
      "File \u001b[1;32mnumpy\\\\random\\\\mtrand.pyx:780\u001b[0m, in \u001b[0;36mnumpy.random.mtrand.RandomState.randint\u001b[1;34m()\u001b[0m\n",
      "File \u001b[1;32mnumpy\\\\random\\\\_bounded_integers.pyx:1425\u001b[0m, in \u001b[0;36mnumpy.random._bounded_integers._rand_int32\u001b[1;34m()\u001b[0m\n",
      "\u001b[1;31mValueError\u001b[0m: low >= high"
     ]
    }
   ],
   "source": [
    "np.random.randint(30,20,10)"
   ]
  },
  {
   "cell_type": "code",
   "execution_count": 153,
   "id": "adaf172b-b5d9-451b-9bf5-e9ce5dc84a8e",
   "metadata": {},
   "outputs": [
    {
     "data": {
      "text/plain": [
       "array([-12, -16, -18, -13,  -1,   2,   3,  -8,  -8,   7])"
      ]
     },
     "execution_count": 153,
     "metadata": {},
     "output_type": "execute_result"
    }
   ],
   "source": [
    "np.random.randint(-30,20,10)"
   ]
  },
  {
   "cell_type": "code",
   "execution_count": 155,
   "id": "c17d0996-be9c-4600-8bd8-7f01a3adce57",
   "metadata": {},
   "outputs": [
    {
     "data": {
      "text/plain": [
       "array([[19, 29, 23, 27, 21, 14, 10, 11, 24, 39],\n",
       "       [29, 33, 29, 35, 29, 35, 32, 16, 37, 37],\n",
       "       [37, 21, 25, 21, 17, 34, 22, 10, 36, 26],\n",
       "       [39, 11, 31, 38, 27, 38, 18, 18, 18, 29],\n",
       "       [37, 10, 37, 32, 31, 25, 19, 39, 17, 26],\n",
       "       [23, 13, 20, 17, 19, 14, 12, 25, 31, 29],\n",
       "       [32, 28, 29, 39, 20, 39, 29, 12, 36, 19],\n",
       "       [34, 32, 35, 16, 26, 25, 34, 16, 34, 33],\n",
       "       [27, 20, 36, 18, 13, 38, 16, 20, 20, 15],\n",
       "       [22, 32, 14, 16, 21, 12, 34, 21, 29, 39]])"
      ]
     },
     "execution_count": 155,
     "metadata": {},
     "output_type": "execute_result"
    }
   ],
   "source": [
    "np.random.randint(10,40,(10,10))"
   ]
  },
  {
   "cell_type": "code",
   "execution_count": 157,
   "id": "82f62efc-5e26-4f1a-bc19-1794e671840b",
   "metadata": {},
   "outputs": [
    {
     "data": {
      "text/plain": [
       "array([[36, 81, 30, 39, 36, 42, 95, 35, 72, 97],\n",
       "       [83, 18,  2, 24, 89, 61, 74, 27,  7, 10],\n",
       "       [78, 47, 79,  1, 77, 30, 36, 27, 16, 44],\n",
       "       [45, 83,  7, 93, 54,  1, 64, 65, 28, 45],\n",
       "       [ 1, 72, 46,  9, 96, 55, 35, 81, 19, 65],\n",
       "       [64, 20, 95, 99, 85, 10, 33, 71, 45, 91],\n",
       "       [ 1, 48, 91, 70, 52, 10, 96, 36, 91, 34],\n",
       "       [28, 20, 30, 21, 54, 47,  9, 42, 71,  8],\n",
       "       [27, 96, 32, 54, 54, 24, 60, 90, 93, 52],\n",
       "       [10, 91, 21, 52, 46, 73, 26, 94, 37, 31]])"
      ]
     },
     "execution_count": 157,
     "metadata": {},
     "output_type": "execute_result"
    }
   ],
   "source": [
    "np.random.randint(1,100,(10,10))"
   ]
  },
  {
   "cell_type": "code",
   "execution_count": 159,
   "id": "6e1c53aa-1b29-4b3f-ab97-2ac32a86fe26",
   "metadata": {},
   "outputs": [
    {
     "data": {
      "text/plain": [
       "array([ 1,  2,  3,  4,  5,  6,  7,  8,  9, 10, 11, 12])"
      ]
     },
     "execution_count": 159,
     "metadata": {},
     "output_type": "execute_result"
    }
   ],
   "source": [
    "np.arange(1,13)"
   ]
  },
  {
   "cell_type": "markdown",
   "id": "240d84f9-21b4-4d1f-92bf-d2c9634c6957",
   "metadata": {},
   "source": [
    "# reshape fuction\n"
   ]
  },
  {
   "cell_type": "code",
   "execution_count": 162,
   "id": "e6d4c125-8081-48ce-ae11-2e5545e72059",
   "metadata": {},
   "outputs": [
    {
     "data": {
      "text/plain": [
       "array([[ 1,  2,  3,  4],\n",
       "       [ 5,  6,  7,  8],\n",
       "       [ 9, 10, 11, 12]])"
      ]
     },
     "execution_count": 162,
     "metadata": {},
     "output_type": "execute_result"
    }
   ],
   "source": [
    "np.arange(1,13).reshape(3,4) #3*4=12"
   ]
  },
  {
   "cell_type": "code",
   "execution_count": 164,
   "id": "07e58703-5965-4851-8f66-456a63146691",
   "metadata": {},
   "outputs": [
    {
     "ename": "ValueError",
     "evalue": "cannot reshape array of size 11 into shape (3,4)",
     "output_type": "error",
     "traceback": [
      "\u001b[1;31m---------------------------------------------------------------------------\u001b[0m",
      "\u001b[1;31mValueError\u001b[0m                                Traceback (most recent call last)",
      "Cell \u001b[1;32mIn[164], line 1\u001b[0m\n\u001b[1;32m----> 1\u001b[0m np\u001b[38;5;241m.\u001b[39marange(\u001b[38;5;241m1\u001b[39m,\u001b[38;5;241m12\u001b[39m)\u001b[38;5;241m.\u001b[39mreshape(\u001b[38;5;241m3\u001b[39m,\u001b[38;5;241m4\u001b[39m)\n",
      "\u001b[1;31mValueError\u001b[0m: cannot reshape array of size 11 into shape (3,4)"
     ]
    }
   ],
   "source": [
    "np.arange(1,12).reshape(3,4) #3*4=12"
   ]
  },
  {
   "cell_type": "code",
   "execution_count": 166,
   "id": "704dcc8a-251c-48da-bfee-c19c115f7d60",
   "metadata": {},
   "outputs": [
    {
     "data": {
      "text/plain": [
       "array([[ 1,  2,  3,  4,  5,  6],\n",
       "       [ 7,  8,  9, 10, 11, 12],\n",
       "       [13, 14, 15, 16, 17, 18],\n",
       "       [19, 20, 21, 22, 23, 24]])"
      ]
     },
     "execution_count": 166,
     "metadata": {},
     "output_type": "execute_result"
    }
   ],
   "source": [
    "np.arange(1,25).reshape(4,6) #4*6=24"
   ]
  },
  {
   "cell_type": "code",
   "execution_count": 168,
   "id": "46fdffd8-0b16-4687-b29b-b3e728d6817c",
   "metadata": {},
   "outputs": [
    {
     "data": {
      "text/plain": [
       "array([[ 1,  2,  3,  4],\n",
       "       [ 5,  6,  7,  8],\n",
       "       [ 9, 10, 11, 12],\n",
       "       [13, 14, 15, 16],\n",
       "       [17, 18, 19, 20],\n",
       "       [21, 22, 23, 24]])"
      ]
     },
     "execution_count": 168,
     "metadata": {},
     "output_type": "execute_result"
    }
   ],
   "source": [
    "np.arange(1,25).reshape(6,4) #4*6=24"
   ]
  },
  {
   "cell_type": "markdown",
   "id": "9b46aad1-2d7a-432f-a28e-ad433ebce0da",
   "metadata": {},
   "source": [
    "# indexing and slicing in matrix\n"
   ]
  },
  {
   "cell_type": "code",
   "execution_count": 171,
   "id": "6c8398c5-cd96-4438-a411-3bb641904584",
   "metadata": {},
   "outputs": [
    {
     "data": {
      "text/plain": [
       "array([[17, 16, 18, 14],\n",
       "       [16, 11, 17, 14],\n",
       "       [11, 19, 10, 12],\n",
       "       [12, 19, 11, 12],\n",
       "       [13, 17, 14, 14]])"
      ]
     },
     "execution_count": 171,
     "metadata": {},
     "output_type": "execute_result"
    }
   ],
   "source": [
    "a=np.random.randint(10,20,(5,4))\n",
    "a"
   ]
  },
  {
   "cell_type": "code",
   "execution_count": 173,
   "id": "9166c59e-b18c-492f-ae5e-21fe2369366f",
   "metadata": {},
   "outputs": [
    {
     "data": {
      "text/plain": [
       "numpy.ndarray"
      ]
     },
     "execution_count": 173,
     "metadata": {},
     "output_type": "execute_result"
    }
   ],
   "source": [
    "type(a)"
   ]
  },
  {
   "cell_type": "code",
   "execution_count": 175,
   "id": "df33c9af-91e0-45e9-91f6-df47aa8aa19e",
   "metadata": {},
   "outputs": [
    {
     "data": {
      "text/plain": [
       "array([[17, 16, 18, 14],\n",
       "       [16, 11, 17, 14],\n",
       "       [11, 19, 10, 12],\n",
       "       [12, 19, 11, 12],\n",
       "       [13, 17, 14, 14]])"
      ]
     },
     "execution_count": 175,
     "metadata": {},
     "output_type": "execute_result"
    }
   ],
   "source": [
    "a[:]"
   ]
  },
  {
   "cell_type": "code",
   "execution_count": 177,
   "id": "09f9bc7c-912f-4bac-a2e0-d182f426a58f",
   "metadata": {},
   "outputs": [
    {
     "data": {
      "text/plain": [
       "array([17, 16, 18, 14])"
      ]
     },
     "execution_count": 177,
     "metadata": {},
     "output_type": "execute_result"
    }
   ],
   "source": [
    "a[0]"
   ]
  },
  {
   "cell_type": "code",
   "execution_count": 179,
   "id": "7bb5b15e-9da1-4e1c-970e-55a4eb7070c8",
   "metadata": {},
   "outputs": [
    {
     "data": {
      "text/plain": [
       "array([[16, 11, 17, 14],\n",
       "       [11, 19, 10, 12]])"
      ]
     },
     "execution_count": 179,
     "metadata": {},
     "output_type": "execute_result"
    }
   ],
   "source": [
    "a[1:3]"
   ]
  },
  {
   "cell_type": "code",
   "execution_count": 181,
   "id": "a1fce504-fc0f-4a8f-9f7d-a0fbc4061ffb",
   "metadata": {},
   "outputs": [
    {
     "data": {
      "text/plain": [
       "14"
      ]
     },
     "execution_count": 181,
     "metadata": {},
     "output_type": "execute_result"
    }
   ],
   "source": [
    "a[1,3]"
   ]
  },
  {
   "cell_type": "code",
   "execution_count": 183,
   "id": "cffa8de2-5881-4d52-855a-0ac2cefeefd1",
   "metadata": {},
   "outputs": [
    {
     "data": {
      "text/plain": [
       "12"
      ]
     },
     "execution_count": 183,
     "metadata": {},
     "output_type": "execute_result"
    }
   ],
   "source": [
    "a[3,3]"
   ]
  },
  {
   "cell_type": "code",
   "execution_count": 185,
   "id": "84ed9bd8-5cd5-49ee-9a02-13c277ebb979",
   "metadata": {},
   "outputs": [
    {
     "data": {
      "text/plain": [
       "14"
      ]
     },
     "execution_count": 185,
     "metadata": {},
     "output_type": "execute_result"
    }
   ],
   "source": [
    "a[0,3]"
   ]
  },
  {
   "cell_type": "code",
   "execution_count": 187,
   "id": "374a40fb-d637-4c77-a7c9-3a4ce3fa8e90",
   "metadata": {},
   "outputs": [
    {
     "data": {
      "text/plain": [
       "14"
      ]
     },
     "execution_count": 187,
     "metadata": {},
     "output_type": "execute_result"
    }
   ],
   "source": [
    "a[0,-1]"
   ]
  },
  {
   "cell_type": "code",
   "execution_count": 189,
   "id": "243e6e43-2e2d-49fb-b6b0-30d242a10970",
   "metadata": {},
   "outputs": [
    {
     "name": "stdout",
     "output_type": "stream",
     "text": [
      "[[17 16 18 14]\n",
      " [16 11 17 14]\n",
      " [11 19 10 12]\n",
      " [12 19 11 12]\n",
      " [13 17 14 14]]\n"
     ]
    }
   ],
   "source": [
    "print(a)"
   ]
  },
  {
   "cell_type": "code",
   "execution_count": 191,
   "id": "2a235c4c-fadf-4fc4-bdc5-1d69c5ef8598",
   "metadata": {},
   "outputs": [
    {
     "data": {
      "text/plain": [
       "array([[17, 16, 18, 14],\n",
       "       [16, 11, 17, 14],\n",
       "       [11, 19, 10, 12]])"
      ]
     },
     "execution_count": 191,
     "metadata": {},
     "output_type": "execute_result"
    }
   ],
   "source": [
    "a[0:-2]"
   ]
  },
  {
   "cell_type": "code",
   "execution_count": 193,
   "id": "db527f6b-d0c4-4572-9d75-b7c5d528cba9",
   "metadata": {},
   "outputs": [
    {
     "data": {
      "text/plain": [
       "array([13, 17, 14, 14])"
      ]
     },
     "execution_count": 193,
     "metadata": {},
     "output_type": "execute_result"
    }
   ],
   "source": [
    "a[-1]"
   ]
  },
  {
   "cell_type": "code",
   "execution_count": 195,
   "id": "cb397c30-db99-44aa-9467-820bfe4efc16",
   "metadata": {},
   "outputs": [
    {
     "data": {
      "text/plain": [
       "array([17, 16, 18, 14])"
      ]
     },
     "execution_count": 195,
     "metadata": {},
     "output_type": "execute_result"
    }
   ],
   "source": [
    "a[-5]"
   ]
  },
  {
   "cell_type": "code",
   "execution_count": 197,
   "id": "9f81d493-4341-41f7-84e0-28029fe39604",
   "metadata": {},
   "outputs": [
    {
     "data": {
      "text/plain": [
       "array([16, 11, 17, 14])"
      ]
     },
     "execution_count": 197,
     "metadata": {},
     "output_type": "execute_result"
    }
   ],
   "source": [
    "a[-4]"
   ]
  },
  {
   "cell_type": "code",
   "execution_count": 199,
   "id": "e435f730-b6f6-4d17-8ecc-c550259138e7",
   "metadata": {},
   "outputs": [
    {
     "data": {
      "text/plain": [
       "array([[17, 16, 18, 14],\n",
       "       [16, 11, 17, 14],\n",
       "       [11, 19, 10, 12]])"
      ]
     },
     "execution_count": 199,
     "metadata": {},
     "output_type": "execute_result"
    }
   ],
   "source": [
    "a[0:3]"
   ]
  },
  {
   "cell_type": "code",
   "execution_count": 201,
   "id": "402813b8-bbdb-4fc6-81fa-5ecee06c889f",
   "metadata": {},
   "outputs": [
    {
     "data": {
      "text/plain": [
       "array([[17, 16, 18, 14],\n",
       "       [16, 11, 17, 14],\n",
       "       [11, 19, 10, 12],\n",
       "       [12, 19, 11, 12],\n",
       "       [13, 17, 14, 14]])"
      ]
     },
     "execution_count": 201,
     "metadata": {},
     "output_type": "execute_result"
    }
   ],
   "source": [
    "a[0:5]"
   ]
  },
  {
   "cell_type": "code",
   "execution_count": 203,
   "id": "d80d1f89-56ad-422a-9c64-591652ee45d1",
   "metadata": {},
   "outputs": [
    {
     "data": {
      "text/plain": [
       "array([[17, 16, 18, 14],\n",
       "       [11, 19, 10, 12],\n",
       "       [13, 17, 14, 14]])"
      ]
     },
     "execution_count": 203,
     "metadata": {},
     "output_type": "execute_result"
    }
   ],
   "source": [
    "a[0:5:2]"
   ]
  },
  {
   "cell_type": "code",
   "execution_count": 205,
   "id": "cdae70d7-148c-4e89-bea7-03ee7841855c",
   "metadata": {},
   "outputs": [
    {
     "data": {
      "text/plain": [
       "array([[17, 16, 18, 14],\n",
       "       [16, 11, 17, 14],\n",
       "       [11, 19, 10, 12],\n",
       "       [12, 19, 11, 12],\n",
       "       [13, 17, 14, 14]])"
      ]
     },
     "execution_count": 205,
     "metadata": {},
     "output_type": "execute_result"
    }
   ],
   "source": [
    "a[::]"
   ]
  },
  {
   "cell_type": "code",
   "execution_count": 207,
   "id": "0bdd0ce6-6151-46e3-813a-fe29f767f7ca",
   "metadata": {},
   "outputs": [
    {
     "data": {
      "text/plain": [
       "array([[13, 17, 14, 14],\n",
       "       [12, 19, 11, 12],\n",
       "       [11, 19, 10, 12],\n",
       "       [16, 11, 17, 14],\n",
       "       [17, 16, 18, 14]])"
      ]
     },
     "execution_count": 207,
     "metadata": {},
     "output_type": "execute_result"
    }
   ],
   "source": [
    "a[::-1]"
   ]
  },
  {
   "cell_type": "code",
   "execution_count": 209,
   "id": "57b7694e-17a0-434d-b48b-89589d1b3f8a",
   "metadata": {},
   "outputs": [
    {
     "data": {
      "text/plain": [
       "array([[13, 17, 14, 14],\n",
       "       [11, 19, 10, 12],\n",
       "       [17, 16, 18, 14]])"
      ]
     },
     "execution_count": 209,
     "metadata": {},
     "output_type": "execute_result"
    }
   ],
   "source": [
    "a[::-2]"
   ]
  },
  {
   "cell_type": "code",
   "execution_count": 211,
   "id": "a8ae6ce9-12c5-4bc9-a4e3-efb2248d63ac",
   "metadata": {},
   "outputs": [
    {
     "name": "stdout",
     "output_type": "stream",
     "text": [
      "[0 1 2 3 4 5]\n",
      "(6,)\n"
     ]
    }
   ],
   "source": [
    "\n",
    "a1=np.arange(6)\n",
    "print(a1)\n",
    "print(a1.shape)\n"
   ]
  },
  {
   "cell_type": "markdown",
   "id": "1ccb5024-93be-4a6f-a763-58a403515941",
   "metadata": {},
   "source": [
    "# converting 1d to 2d using the newaxis fuction\n"
   ]
  },
  {
   "cell_type": "code",
   "execution_count": 214,
   "id": "ce32f39c-7d23-4ac1-a6f8-5d295c4423fc",
   "metadata": {},
   "outputs": [
    {
     "name": "stdout",
     "output_type": "stream",
     "text": [
      "[[0 1 2 3 4 5]]\n",
      "(1, 6)\n"
     ]
    }
   ],
   "source": [
    "a2=a1[np.newaxis,:]\n",
    "print(a2)\n",
    "print(a2.shape)"
   ]
  },
  {
   "cell_type": "code",
   "execution_count": 216,
   "id": "08963f44-5430-42dc-b8ba-dcf02a9af56a",
   "metadata": {},
   "outputs": [
    {
     "name": "stdout",
     "output_type": "stream",
     "text": [
      "(4, 3)\n"
     ]
    }
   ],
   "source": [
    "x=np.arange(12).reshape(4,3)\n",
    "x\n",
    "print(x.shape)"
   ]
  },
  {
   "cell_type": "code",
   "execution_count": 218,
   "id": "d4ce3f85-84c8-4473-b5c1-e4ec6e88e415",
   "metadata": {},
   "outputs": [
    {
     "name": "stdout",
     "output_type": "stream",
     "text": [
      "[ 0  1  2  3  4  5  6  7  8  9 10 11 12 13 14 15 16 17 18 19]\n",
      "(20,)\n"
     ]
    }
   ],
   "source": [
    "y=np.arange(20)\n",
    "print(y)\n",
    "print(y.shape)"
   ]
  },
  {
   "cell_type": "code",
   "execution_count": 220,
   "id": "43543362-3d23-4f25-ba39-b89be2591a76",
   "metadata": {},
   "outputs": [
    {
     "name": "stdout",
     "output_type": "stream",
     "text": [
      "[[ 0  1  2  3  4  5  6  7  8  9 10 11 12 13 14 15 16 17 18 19]]\n"
     ]
    }
   ],
   "source": [
    "z=y[np.newaxis,:]\n",
    "print(z)"
   ]
  },
  {
   "cell_type": "code",
   "execution_count": 222,
   "id": "f56d0f99-3c07-4daa-9af4-6706d3e387b4",
   "metadata": {},
   "outputs": [
    {
     "name": "stdout",
     "output_type": "stream",
     "text": [
      "(1, 20)\n"
     ]
    }
   ],
   "source": [
    "print(z.shape)"
   ]
  },
  {
   "cell_type": "code",
   "execution_count": 224,
   "id": "68fc9e69-8ecc-4072-959b-9d45b547d70c",
   "metadata": {},
   "outputs": [
    {
     "data": {
      "text/plain": [
       "2"
      ]
     },
     "execution_count": 224,
     "metadata": {},
     "output_type": "execute_result"
    }
   ],
   "source": [
    "z.ndim"
   ]
  },
  {
   "cell_type": "code",
   "execution_count": 226,
   "id": "23c34919-9094-4c65-b7d4-218a009922c5",
   "metadata": {},
   "outputs": [
    {
     "data": {
      "text/plain": [
       "array([ 0,  1,  2,  3,  4,  5,  6,  7,  8,  9, 10, 11, 12, 13, 14, 15])"
      ]
     },
     "execution_count": 226,
     "metadata": {},
     "output_type": "execute_result"
    }
   ],
   "source": [
    "a=np.arange(16)\n",
    "a"
   ]
  },
  {
   "cell_type": "code",
   "execution_count": 228,
   "id": "b6ea2f6b-8f79-492b-8541-a73dd9193634",
   "metadata": {},
   "outputs": [
    {
     "data": {
      "text/plain": [
       "1"
      ]
     },
     "execution_count": 228,
     "metadata": {},
     "output_type": "execute_result"
    }
   ],
   "source": [
    "a.ndim"
   ]
  },
  {
   "cell_type": "code",
   "execution_count": 230,
   "id": "777fd610-b1b7-41d4-8e6f-57c4adb8fee1",
   "metadata": {},
   "outputs": [
    {
     "name": "stdout",
     "output_type": "stream",
     "text": [
      "[[0 1 2 3]]\n",
      "(1, 4)\n",
      "2\n"
     ]
    }
   ],
   "source": [
    "a3=np.arange(4)\n",
    "a4=a3[np.newaxis,:]\n",
    "print(a4)\n",
    "print(a4.shape)\n",
    "print(a4.ndim)"
   ]
  },
  {
   "cell_type": "code",
   "execution_count": 232,
   "id": "edc35cf9-c01d-475f-af82-444b7dee461a",
   "metadata": {},
   "outputs": [
    {
     "name": "stdout",
     "output_type": "stream",
     "text": [
      "[[0]\n",
      " [1]\n",
      " [2]\n",
      " [3]]\n",
      "(4, 1)\n",
      "2\n"
     ]
    }
   ],
   "source": [
    "a3=np.arange(4)\n",
    "a4=a3[:,np.newaxis]\n",
    "print(a4)\n",
    "print(a4.shape)\n",
    "print(a4.ndim)"
   ]
  },
  {
   "cell_type": "markdown",
   "id": "ec9606d2-c420-467b-ad07-a789afb9d294",
   "metadata": {},
   "source": [
    "# converting 1d to 2d using expand_dims\n"
   ]
  },
  {
   "cell_type": "code",
   "execution_count": 235,
   "id": "2403460a-3832-4d73-aac9-2cd79f80736f",
   "metadata": {},
   "outputs": [
    {
     "name": "stdout",
     "output_type": "stream",
     "text": [
      "[[0]\n",
      " [1]\n",
      " [2]\n",
      " [3]]\n",
      "(4, 1)\n",
      "2\n"
     ]
    }
   ],
   "source": [
    "\n",
    "a3=np.arange(4)\n",
    "a5=np.expand_dims(a3,1)\n",
    "print(a5)\n",
    "print(a5.shape)\n",
    "print(a5.ndim)"
   ]
  },
  {
   "cell_type": "code",
   "execution_count": 237,
   "id": "2cb8bc82-619d-47e9-831c-f6df9609a301",
   "metadata": {},
   "outputs": [
    {
     "name": "stdout",
     "output_type": "stream",
     "text": [
      "[[0 1 2 3]]\n",
      "(1, 4)\n",
      "2\n"
     ]
    }
   ],
   "source": [
    "a3=np.arange(4)\n",
    "a5=np.expand_dims(a3,0)\n",
    "print(a5)\n",
    "print(a5.shape)\n",
    "print(a5.ndim)"
   ]
  },
  {
   "cell_type": "markdown",
   "id": "425d4934-ce21-485a-abd7-b16a7136060f",
   "metadata": {},
   "source": [
    "# converting 1d to nd using reshape\n",
    " "
   ]
  },
  {
   "cell_type": "code",
   "execution_count": 240,
   "id": "61fa8fc4-06e4-4f52-92d2-f77ea55fea3f",
   "metadata": {},
   "outputs": [
    {
     "name": "stdout",
     "output_type": "stream",
     "text": [
      "[[0 1]\n",
      " [2 3]]\n",
      "(2, 2)\n",
      "2\n"
     ]
    }
   ],
   "source": [
    "#converting 1d to 2d\n",
    "a=np.arange(4).reshape(2,2)\n",
    "print(a)\n",
    "print(a.shape)\n",
    "print(a.ndim)"
   ]
  },
  {
   "cell_type": "code",
   "execution_count": 242,
   "id": "93301255-0353-4329-9706-43e9469e13e1",
   "metadata": {},
   "outputs": [
    {
     "name": "stdout",
     "output_type": "stream",
     "text": [
      "[[[0 1]\n",
      "  [2 3]]\n",
      "\n",
      " [[4 5]\n",
      "  [6 7]]]\n",
      "(2, 2, 2)\n",
      "3\n"
     ]
    }
   ],
   "source": [
    "#converting 1d to 3d\n",
    "a1=np.arange(8).reshape(2,2,2)\n",
    "print(a1)\n",
    "print(a1.shape)\n",
    "print(a1.ndim)"
   ]
  },
  {
   "cell_type": "code",
   "execution_count": 244,
   "id": "6d7003f6-c037-4c41-8760-18af1d966c08",
   "metadata": {},
   "outputs": [
    {
     "name": "stdout",
     "output_type": "stream",
     "text": [
      "[[[[ 0  1]\n",
      "   [ 2  3]]\n",
      "\n",
      "  [[ 4  5]\n",
      "   [ 6  7]]]\n",
      "\n",
      "\n",
      " [[[ 8  9]\n",
      "   [10 11]]\n",
      "\n",
      "  [[12 13]\n",
      "   [14 15]]]]\n",
      "(2, 2, 2, 2)\n",
      "4\n"
     ]
    }
   ],
   "source": [
    "#converting 1d to nd using reshape\n",
    "a2=np.arange(16).reshape(2,2,2,2)\n",
    "print(a2)\n",
    "print(a2.shape)\n",
    "print(a2.ndim)"
   ]
  },
  {
   "cell_type": "markdown",
   "id": "71df2d7c-5939-4552-9ff1-7c067b7e94b9",
   "metadata": {},
   "source": [
    "# converting nd to 1d using flatten and ravel \n"
   ]
  },
  {
   "cell_type": "code",
   "execution_count": 247,
   "id": "d404f72e-2ac4-4d75-8056-a141c0a20d16",
   "metadata": {},
   "outputs": [
    {
     "name": "stdout",
     "output_type": "stream",
     "text": [
      "[[[[ 0  1]\n",
      "   [ 2  3]]\n",
      "\n",
      "  [[ 4  5]\n",
      "   [ 6  7]]]\n",
      "\n",
      "\n",
      " [[[ 8  9]\n",
      "   [10 11]]\n",
      "\n",
      "  [[12 13]\n",
      "   [14 15]]]]\n",
      "(2, 2, 2, 2)\n",
      "4\n"
     ]
    }
   ],
   "source": [
    "x1=np.arange(16).reshape(2,2,2,2)\n",
    "print(x1)\n",
    "print(x1.shape)\n",
    "print(x1.ndim)"
   ]
  },
  {
   "cell_type": "code",
   "execution_count": 249,
   "id": "35c1eb3d-46ac-43c4-8830-7361921a3b43",
   "metadata": {},
   "outputs": [
    {
     "name": "stdout",
     "output_type": "stream",
     "text": [
      "[ 0  1  2  3  4  5  6  7  8  9 10 11 12 13 14 15]\n",
      "(16,)\n",
      "1\n"
     ]
    }
   ],
   "source": [
    "\n",
    "x2=x1.flatten()\n",
    "print(x2)\n",
    "print(x2.shape)\n",
    "print(x2.ndim)"
   ]
  },
  {
   "cell_type": "code",
   "execution_count": 251,
   "id": "d6afa3fb-5add-4a90-aaeb-3b14ab7c1ca7",
   "metadata": {},
   "outputs": [
    {
     "name": "stdout",
     "output_type": "stream",
     "text": [
      "[ 0  1  2  3  4  5  6  7  8  9 10 11 12 13 14 15]\n",
      "1\n"
     ]
    }
   ],
   "source": [
    "x3=x1.ravel()\n",
    "print(x3)\n",
    "print(x3.ndim)"
   ]
  },
  {
   "cell_type": "code",
   "execution_count": 253,
   "id": "f27acfd8-3cb5-43b8-9452-a729a3d47559",
   "metadata": {},
   "outputs": [
    {
     "name": "stdout",
     "output_type": "stream",
     "text": [
      "[ 0  1  2  3  4  5  6  7  8  9 10 11 12 13 14 15]\n",
      "1\n"
     ]
    }
   ],
   "source": [
    "#using reshape we can convert nd to 1d\n",
    "x4=x1.reshape(-1)\n",
    "print(x4)\n",
    "print(x4.ndim)"
   ]
  },
  {
   "cell_type": "markdown",
   "id": "23767680-73c9-4a8a-99ab-7c6bc7c9a1ec",
   "metadata": {},
   "source": [
    "# creating a basic array"
   ]
  },
  {
   "cell_type": "code",
   "execution_count": 256,
   "id": "2c1e4807-8e5c-4157-b486-5e648d54e4c8",
   "metadata": {},
   "outputs": [
    {
     "name": "stdout",
     "output_type": "stream",
     "text": [
      "[1 2 3 4 5 6 7 8 9]\n",
      "<class 'numpy.ndarray'>\n",
      "(9,)\n",
      "9\n"
     ]
    }
   ],
   "source": [
    "import numpy as np\n",
    "a=np.array([1,2,3,4,5,6,7,8,9])\n",
    "print(a)\n",
    "print(type(a))\n",
    "print(a.shape)\n",
    "print(a.size)"
   ]
  },
  {
   "cell_type": "markdown",
   "id": "27445894-d1b3-4620-97f3-b31bfe0245ed",
   "metadata": {},
   "source": [
    "# Empty fuction"
   ]
  },
  {
   "cell_type": "code",
   "execution_count": 259,
   "id": "4071af7d-3c82-439b-897f-892be285f943",
   "metadata": {},
   "outputs": [
    {
     "data": {
      "text/plain": [
       "array([2.12199579e-314, 6.36598737e-314])"
      ]
     },
     "execution_count": 259,
     "metadata": {},
     "output_type": "execute_result"
    }
   ],
   "source": [
    "np.empty(2)"
   ]
  },
  {
   "cell_type": "code",
   "execution_count": 261,
   "id": "45189d80-9d1a-4e1d-aaeb-3d60956d71d7",
   "metadata": {},
   "outputs": [
    {
     "data": {
      "text/plain": [
       "array([0.83656144, 0.08249211, 0.41566706, 0.81813899, 0.93061759,\n",
       "       0.42551557, 0.13552496, 0.08515244, 0.58729237, 0.10123999])"
      ]
     },
     "execution_count": 261,
     "metadata": {},
     "output_type": "execute_result"
    }
   ],
   "source": [
    "np.empty(10)"
   ]
  },
  {
   "cell_type": "code",
   "execution_count": 263,
   "id": "7a9d9113-4f6e-4ad7-b034-12e6f570b2c8",
   "metadata": {},
   "outputs": [
    {
     "data": {
      "text/plain": [
       "array([ 2.12199579e-314,  6.95293141e-310,  9.15009576e-321,\n",
       "        6.95293141e-310, -3.55262760e-231])"
      ]
     },
     "execution_count": 263,
     "metadata": {},
     "output_type": "execute_result"
    }
   ],
   "source": [
    "np.empty(5)"
   ]
  },
  {
   "cell_type": "code",
   "execution_count": 265,
   "id": "79dbed1f-8b8e-4bd1-b8e2-be15b8164068",
   "metadata": {},
   "outputs": [
    {
     "data": {
      "text/plain": [
       "array([2.12199579e-314, 6.36598737e-314, 1.06099790e-313])"
      ]
     },
     "execution_count": 265,
     "metadata": {},
     "output_type": "execute_result"
    }
   ],
   "source": [
    "np.empty(3)"
   ]
  },
  {
   "cell_type": "code",
   "execution_count": 267,
   "id": "9b0da133-59c3-4598-ad70-ba55e17d6562",
   "metadata": {},
   "outputs": [
    {
     "data": {
      "text/plain": [
       "array([ 0.00000000e+000,  0.00000000e+000,  0.00000000e+000,\n",
       "        0.00000000e+000,  0.00000000e+000,  0.00000000e+000,\n",
       "        1.69593623e-152, -1.11084700e-310,  0.00000000e+000,\n",
       "        0.00000000e+000,  0.00000000e+000,  0.00000000e+000,\n",
       "        0.00000000e+000,  0.00000000e+000,  0.00000000e+000,\n",
       "        0.00000000e+000,  0.00000000e+000,  0.00000000e+000,\n",
       "        0.00000000e+000,  0.00000000e+000,  0.00000000e+000,\n",
       "        0.00000000e+000,  5.98178818e-154, -1.14776975e-310,\n",
       "        0.00000000e+000,  0.00000000e+000,  0.00000000e+000,\n",
       "        0.00000000e+000,  0.00000000e+000,  0.00000000e+000,\n",
       "        0.00000000e+000,  0.00000000e+000,  0.00000000e+000,\n",
       "        0.00000000e+000,  0.00000000e+000,  0.00000000e+000,\n",
       "        0.00000000e+000,  0.00000000e+000,  3.44681553e-085,\n",
       "       -1.20209287e-310,  0.00000000e+000,  0.00000000e+000,\n",
       "        0.00000000e+000,  0.00000000e+000,  0.00000000e+000,\n",
       "        0.00000000e+000,  0.00000000e+000,  0.00000000e+000,\n",
       "        0.00000000e+000,  0.00000000e+000])"
      ]
     },
     "execution_count": 267,
     "metadata": {},
     "output_type": "execute_result"
    }
   ],
   "source": [
    "np.empty(50)"
   ]
  },
  {
   "cell_type": "markdown",
   "id": "8f9abc53-e29d-43b0-bff3-3faa535a9b7d",
   "metadata": {},
   "source": [
    "# linespace fuction "
   ]
  },
  {
   "cell_type": "code",
   "execution_count": 270,
   "id": "54fa93f0-5dc7-4d30-8255-b32a0d10f1fd",
   "metadata": {},
   "outputs": [
    {
     "data": {
      "text/plain": [
       "array([ 0. ,  2.5,  5. ,  7.5, 10. ])"
      ]
     },
     "execution_count": 270,
     "metadata": {},
     "output_type": "execute_result"
    }
   ],
   "source": [
    "np.linspace(0,10,5)"
   ]
  },
  {
   "cell_type": "code",
   "execution_count": 272,
   "id": "3877171f-b983-404e-bd75-ce3a30e59b46",
   "metadata": {},
   "outputs": [
    {
     "data": {
      "text/plain": [
       "array([ 1.  ,  3.25,  5.5 ,  7.75, 10.  ])"
      ]
     },
     "execution_count": 272,
     "metadata": {},
     "output_type": "execute_result"
    }
   ],
   "source": [
    "np.linspace(1,10,5)"
   ]
  },
  {
   "cell_type": "code",
   "execution_count": 274,
   "id": "41e4243b-ff09-463c-a7db-576cd79b76ea",
   "metadata": {},
   "outputs": [
    {
     "data": {
      "text/plain": [
       "array([  0.        ,  11.11111111,  22.22222222,  33.33333333,\n",
       "        44.44444444,  55.55555556,  66.66666667,  77.77777778,\n",
       "        88.88888889, 100.        ])"
      ]
     },
     "execution_count": 274,
     "metadata": {},
     "output_type": "execute_result"
    }
   ],
   "source": [
    "np.linspace(0,100,10)"
   ]
  },
  {
   "cell_type": "code",
   "execution_count": 276,
   "id": "75eb0e25-c2c3-45d1-980f-5fdce365c0a7",
   "metadata": {},
   "outputs": [
    {
     "data": {
      "text/plain": [
       "array([  1.,  12.,  23.,  34.,  45.,  56.,  67.,  78.,  89., 100.])"
      ]
     },
     "execution_count": 276,
     "metadata": {},
     "output_type": "execute_result"
    }
   ],
   "source": [
    "np.linspace(1,100,10)"
   ]
  },
  {
   "cell_type": "code",
   "execution_count": 278,
   "id": "705a3bdc-8115-4dd0-be2c-1fd452edefbe",
   "metadata": {},
   "outputs": [
    {
     "data": {
      "text/plain": [
       "array([  0.        ,   5.26315789,  10.52631579,  15.78947368,\n",
       "        21.05263158,  26.31578947,  31.57894737,  36.84210526,\n",
       "        42.10526316,  47.36842105,  52.63157895,  57.89473684,\n",
       "        63.15789474,  68.42105263,  73.68421053,  78.94736842,\n",
       "        84.21052632,  89.47368421,  94.73684211, 100.        ])"
      ]
     },
     "execution_count": 278,
     "metadata": {},
     "output_type": "execute_result"
    }
   ],
   "source": [
    "np.linspace(0,100,20)"
   ]
  },
  {
   "cell_type": "code",
   "execution_count": 280,
   "id": "67019f1a-0e39-42ea-abeb-8784348ff68a",
   "metadata": {},
   "outputs": [
    {
     "data": {
      "text/plain": [
       "array([  1,  12,  23,  34,  45,  56,  67,  78,  89, 100])"
      ]
     },
     "execution_count": 280,
     "metadata": {},
     "output_type": "execute_result"
    }
   ],
   "source": [
    "np.linspace(1,100,10,dtype=int)"
   ]
  },
  {
   "cell_type": "code",
   "execution_count": 282,
   "id": "7f43ef2a-27cd-4bd1-8ad0-caf527d4326f",
   "metadata": {},
   "outputs": [
    {
     "data": {
      "text/plain": [
       "array([  1,   6,  11,  16,  21,  27,  32,  37,  42,  47,  53,  58,  63,\n",
       "        68,  73,  79,  84,  89,  94, 100])"
      ]
     },
     "execution_count": 282,
     "metadata": {},
     "output_type": "execute_result"
    }
   ],
   "source": [
    "np.linspace(1,100,20,dtype=int)"
   ]
  },
  {
   "cell_type": "code",
   "execution_count": 284,
   "id": "db8df2b5-308e-47ea-8512-591ce75a399b",
   "metadata": {},
   "outputs": [
    {
     "name": "stdout",
     "output_type": "stream",
     "text": [
      "[  1.  12.  23.  34.  45.  56.  67.  78.  89. 100.]\n",
      "11.0\n"
     ]
    }
   ],
   "source": [
    "arr,step=np.linspace(1,100,10,retstep=True)\n",
    "print(arr)\n",
    "print(step)\n"
   ]
  },
  {
   "cell_type": "markdown",
   "id": "b5ac2285-b26a-4f03-bf77-859b849fdf36",
   "metadata": {},
   "source": [
    "# logspace fuction"
   ]
  },
  {
   "cell_type": "code",
   "execution_count": 287,
   "id": "121d731d-b644-480e-824c-b2622e796b2c",
   "metadata": {},
   "outputs": [
    {
     "data": {
      "text/plain": [
       "array([  10.,  100., 1000.])"
      ]
     },
     "execution_count": 287,
     "metadata": {},
     "output_type": "execute_result"
    }
   ],
   "source": [
    "np.logspace(1,3,num=3) #defaltly take base 10-->10**1=10,10**2=100,10**3=100"
   ]
  },
  {
   "cell_type": "code",
   "execution_count": 289,
   "id": "9a195816-850c-4def-8df1-3ee88c104a76",
   "metadata": {},
   "outputs": [
    {
     "data": {
      "text/plain": [
       "array([2., 4., 8.])"
      ]
     },
     "execution_count": 289,
     "metadata": {},
     "output_type": "execute_result"
    }
   ],
   "source": [
    "np.logspace(1,3,num=3,base=2) #base 2 so-->2**1=2,2**2=4,2**3=8"
   ]
  },
  {
   "cell_type": "code",
   "execution_count": 291,
   "id": "071e0fb4-2aa3-44a3-8878-bbd4b94d35d5",
   "metadata": {},
   "outputs": [
    {
     "data": {
      "text/plain": [
       "array([1.00000000e+00, 5.59016994e+01, 3.12500000e+03, 1.74692811e+05,\n",
       "       9.76562500e+06])"
      ]
     },
     "execution_count": 291,
     "metadata": {},
     "output_type": "execute_result"
    }
   ],
   "source": [
    "np.logspace(0,10,num=5,base=5)"
   ]
  },
  {
   "cell_type": "code",
   "execution_count": 293,
   "id": "460b8966-ae52-4367-b340-43d90ce425b1",
   "metadata": {},
   "outputs": [
    {
     "data": {
      "text/plain": [
       "array([1.00000000e+001, 5.62341325e+025, 3.16227766e+050, 1.77827941e+075,\n",
       "       1.00000000e+100])"
      ]
     },
     "execution_count": 293,
     "metadata": {},
     "output_type": "execute_result"
    }
   ],
   "source": [
    "np.logspace(1,100,num=5)"
   ]
  },
  {
   "cell_type": "code",
   "execution_count": 295,
   "id": "b28853c3-869c-40f2-a6cd-c3c1d4547028",
   "metadata": {},
   "outputs": [
    {
     "data": {
      "text/plain": [
       "array([5.00000000e+00, 9.96500708e+17, 1.98602732e+35, 3.95815527e+52,\n",
       "       7.88860905e+69])"
      ]
     },
     "execution_count": 295,
     "metadata": {},
     "output_type": "execute_result"
    }
   ],
   "source": [
    "np.logspace(1,100,num=5,base=5)"
   ]
  },
  {
   "cell_type": "code",
   "execution_count": 297,
   "id": "d2eb5f95-88b1-4f76-b237-95b490f68c3e",
   "metadata": {},
   "outputs": [
    {
     "data": {
      "text/plain": [
       "array([1.00000000e+001, 1.04811313e+003, 1.09854114e+005, 1.15139540e+007,\n",
       "       1.20679264e+009, 1.26485522e+011, 1.32571137e+013, 1.38949549e+015,\n",
       "       1.45634848e+017, 1.52641797e+019, 1.59985872e+021, 1.67683294e+023,\n",
       "       1.75751062e+025, 1.84206997e+027, 1.93069773e+029, 2.02358965e+031,\n",
       "       2.12095089e+033, 2.22299648e+035, 2.32995181e+037, 2.44205309e+039,\n",
       "       2.55954792e+041, 2.68269580e+043, 2.81176870e+045, 2.94705170e+047,\n",
       "       3.08884360e+049, 3.23745754e+051, 3.39322177e+053, 3.55648031e+055,\n",
       "       3.72759372e+057, 3.90693994e+059, 4.09491506e+061, 4.29193426e+063,\n",
       "       4.49843267e+065, 4.71486636e+067, 4.94171336e+069, 5.17947468e+071,\n",
       "       5.42867544e+073, 5.68986603e+075, 5.96362332e+077, 6.25055193e+079,\n",
       "       6.55128557e+081, 6.86648845e+083, 7.19685673e+085, 7.54312006e+087,\n",
       "       7.90604321e+089, 8.28642773e+091, 8.68511374e+093, 9.10298178e+095,\n",
       "       9.54095476e+097, 1.00000000e+100])"
      ]
     },
     "execution_count": 297,
     "metadata": {},
     "output_type": "execute_result"
    }
   ],
   "source": [
    "np.logspace(1,100)"
   ]
  },
  {
   "cell_type": "code",
   "execution_count": 299,
   "id": "fe767cce-7cbd-4cbb-a918-de9e7e6ed17e",
   "metadata": {},
   "outputs": [
    {
     "data": {
      "text/plain": [
       "array([1.e+001, 1.e+012, 1.e+023, 1.e+034, 1.e+045, 1.e+056, 1.e+067,\n",
       "       1.e+078, 1.e+089, 1.e+100])"
      ]
     },
     "execution_count": 299,
     "metadata": {},
     "output_type": "execute_result"
    }
   ],
   "source": [
    "np.logspace(1,100,10)"
   ]
  },
  {
   "cell_type": "code",
   "execution_count": 301,
   "id": "8be0e5d1-a3af-458e-86a6-6ff752719627",
   "metadata": {},
   "outputs": [
    {
     "data": {
      "text/plain": [
       "array([5.00000000e+00, 2.44140625e+08, 1.19209290e+16, 5.82076609e+23,\n",
       "       2.84217094e+31, 1.38777878e+39, 6.77626358e+46, 3.30872245e+54,\n",
       "       1.61558713e+62, 7.88860905e+69])"
      ]
     },
     "execution_count": 301,
     "metadata": {},
     "output_type": "execute_result"
    }
   ],
   "source": [
    "np.logspace(1,100,10,base=5)"
   ]
  },
  {
   "cell_type": "markdown",
   "id": "e4d7a8b9-bcd2-4201-bce1-c50cad4180c7",
   "metadata": {},
   "source": [
    "# sorting and concating arrays"
   ]
  },
  {
   "cell_type": "code",
   "execution_count": 304,
   "id": "67143e05-6dab-416f-8a36-63ed37c86d8b",
   "metadata": {},
   "outputs": [
    {
     "data": {
      "text/plain": [
       "array([ 34,  12,  76,  15,   2,   7,  98,  45,   6,   8,  23,   9,  40,\n",
       "        50, 100, 500, 763, 432])"
      ]
     },
     "execution_count": 304,
     "metadata": {},
     "output_type": "execute_result"
    }
   ],
   "source": [
    "#sorting\n",
    "arr=np.array([34,12,76,15,2,7,98,45,6,8,23,9,40,50,100,500,763,432])\n",
    "arr"
   ]
  },
  {
   "cell_type": "code",
   "execution_count": 306,
   "id": "34dbb2c8-36fd-49c1-ac21-b1285159e31c",
   "metadata": {},
   "outputs": [
    {
     "data": {
      "text/plain": [
       "array([  2,   6,   7,   8,   9,  12,  15,  23,  34,  40,  45,  50,  76,\n",
       "        98, 100, 432, 500, 763])"
      ]
     },
     "execution_count": 306,
     "metadata": {},
     "output_type": "execute_result"
    }
   ],
   "source": [
    "np.sort(arr)"
   ]
  },
  {
   "cell_type": "code",
   "execution_count": 308,
   "id": "710639f8-c927-41dd-88dd-3e4a04bc38fe",
   "metadata": {},
   "outputs": [
    {
     "data": {
      "text/plain": [
       "array([763, 500, 432, 100,  98,  76,  50,  45,  40,  34,  23,  15,  12,\n",
       "         9,   8,   7,   6,   2])"
      ]
     },
     "execution_count": 308,
     "metadata": {},
     "output_type": "execute_result"
    }
   ],
   "source": [
    "np.sort(arr)[::-1]"
   ]
  },
  {
   "cell_type": "code",
   "execution_count": 310,
   "id": "0a249424-94a6-4edf-826f-524173c3b849",
   "metadata": {},
   "outputs": [
    {
     "data": {
      "text/plain": [
       "array([1, 2, 3, 4, 5, 6, 7, 8])"
      ]
     },
     "execution_count": 310,
     "metadata": {},
     "output_type": "execute_result"
    }
   ],
   "source": [
    "arr1 = np.array([2, 1, 5, 3, 7, 4, 6, 8])\n",
    "np.sort(arr1)"
   ]
  },
  {
   "cell_type": "code",
   "execution_count": 312,
   "id": "d738579b-6a04-4d76-8943-901696cacd32",
   "metadata": {},
   "outputs": [
    {
     "data": {
      "text/plain": [
       "array([8, 7, 6, 5, 4, 3, 2, 1])"
      ]
     },
     "execution_count": 312,
     "metadata": {},
     "output_type": "execute_result"
    }
   ],
   "source": [
    "np.sort(arr1)[::-1]"
   ]
  },
  {
   "cell_type": "code",
   "execution_count": 314,
   "id": "56eef337-5297-489a-ae95-128f80999ad9",
   "metadata": {},
   "outputs": [
    {
     "data": {
      "text/plain": [
       "array([1, 2, 3, 4, 5, 6, 7, 8])"
      ]
     },
     "execution_count": 314,
     "metadata": {},
     "output_type": "execute_result"
    }
   ],
   "source": [
    "#concatinating \n",
    "a1=np.array([1,2,3,4])\n",
    "b1=np.array([5,6,7,8])\n",
    "np.concatenate((a1,b1))"
   ]
  },
  {
   "cell_type": "code",
   "execution_count": 316,
   "id": "78cea77e-514e-45ae-8a2f-7039b5687995",
   "metadata": {},
   "outputs": [
    {
     "name": "stdout",
     "output_type": "stream",
     "text": [
      "[[ 1  2  3  4]\n",
      " [ 5  6  7  8]\n",
      " [ 9 10 11 12]]\n",
      "[[ 1  2  3  4]\n",
      " [ 5  6  7  8]\n",
      " [ 9 10 11 12]]\n"
     ]
    }
   ],
   "source": [
    "a2=np.arange(1,13).reshape(3,4)\n",
    "print(a2)\n",
    "b2=np.array([[1,2,3,4],[5,6,7,8],[9,10,11,12]])\n",
    "print(b2)"
   ]
  },
  {
   "cell_type": "code",
   "execution_count": 318,
   "id": "830a4aec-2ff9-465c-a367-5955f32b9130",
   "metadata": {},
   "outputs": [
    {
     "data": {
      "text/plain": [
       "array([[ 1,  2,  3,  4],\n",
       "       [ 5,  6,  7,  8],\n",
       "       [ 9, 10, 11, 12],\n",
       "       [ 1,  2,  3,  4],\n",
       "       [ 5,  6,  7,  8],\n",
       "       [ 9, 10, 11, 12]])"
      ]
     },
     "execution_count": 318,
     "metadata": {},
     "output_type": "execute_result"
    }
   ],
   "source": [
    "np.concatenate((a2,b2))"
   ]
  },
  {
   "cell_type": "code",
   "execution_count": 320,
   "id": "98792ec5-4e9f-4391-8dac-f33fbfa50f41",
   "metadata": {},
   "outputs": [
    {
     "data": {
      "text/plain": [
       "array([[1, 2, 3],\n",
       "       [4, 5, 6],\n",
       "       [9, 4, 5],\n",
       "       [7, 5, 3]])"
      ]
     },
     "execution_count": 320,
     "metadata": {},
     "output_type": "execute_result"
    }
   ],
   "source": [
    "a3=np.array([[1,2,3],[4,5,6]])\n",
    "b3=np.array([[9,4,5],[7,5,3]])\n",
    "np.concatenate((a3,b3))"
   ]
  },
  {
   "cell_type": "code",
   "execution_count": 322,
   "id": "1f5e2b60-05e4-4db4-9cfa-c4e282b33480",
   "metadata": {},
   "outputs": [
    {
     "data": {
      "text/plain": [
       "array([[1, 2],\n",
       "       [3, 4],\n",
       "       [5, 6]])"
      ]
     },
     "execution_count": 322,
     "metadata": {},
     "output_type": "execute_result"
    }
   ],
   "source": [
    "a4=np.array([[1,2],[3,4]])\n",
    "b4=np.array([[5,6]])\n",
    "np.concatenate((a4,b4) ,axis=0)"
   ]
  },
  {
   "cell_type": "markdown",
   "id": "cfe85d44-ed15-43e7-af95-28052ab060e6",
   "metadata": {},
   "source": [
    "# dimentions,size,shape"
   ]
  },
  {
   "cell_type": "code",
   "execution_count": 325,
   "id": "65c8ba67-63f2-41eb-b6ab-05c4625a6c8c",
   "metadata": {},
   "outputs": [
    {
     "name": "stdout",
     "output_type": "stream",
     "text": [
      "[[[0 1 2 3]\n",
      "  [4 5 6 7]]\n",
      "\n",
      " [[0 1 2 3]\n",
      "  [4 5 6 7]]\n",
      "\n",
      " [[0 1 2 3]\n",
      "  [4 5 6 7]]]\n"
     ]
    }
   ],
   "source": [
    "x=np.array([[[0,1,2,3],[4,5,6,7]],[[0,1,2,3],[4,5,6,7]],[[0,1,2,3],[4,5,6,7]]])\n",
    "print(x)"
   ]
  },
  {
   "cell_type": "code",
   "execution_count": 327,
   "id": "f4b6b140-4414-4f4a-929b-46bfa131c7d4",
   "metadata": {},
   "outputs": [
    {
     "data": {
      "text/plain": [
       "3"
      ]
     },
     "execution_count": 327,
     "metadata": {},
     "output_type": "execute_result"
    }
   ],
   "source": [
    "#dimentions\n",
    "x.ndim"
   ]
  },
  {
   "cell_type": "code",
   "execution_count": 329,
   "id": "69ae69d0-1066-49d0-b666-89d54672565b",
   "metadata": {},
   "outputs": [
    {
     "data": {
      "text/plain": [
       "24"
      ]
     },
     "execution_count": 329,
     "metadata": {},
     "output_type": "execute_result"
    }
   ],
   "source": [
    "#size\n",
    "x.size"
   ]
  },
  {
   "cell_type": "code",
   "execution_count": 331,
   "id": "75d78eca-607f-4241-bbb3-db037d74df03",
   "metadata": {},
   "outputs": [
    {
     "data": {
      "text/plain": [
       "(3, 2, 4)"
      ]
     },
     "execution_count": 331,
     "metadata": {},
     "output_type": "execute_result"
    }
   ],
   "source": [
    "x.shape"
   ]
  },
  {
   "cell_type": "code",
   "execution_count": null,
   "id": "40c69875-3a35-4792-bfbf-0fcb05610a06",
   "metadata": {},
   "outputs": [],
   "source": []
  }
 ],
 "metadata": {
  "kernelspec": {
   "display_name": "Python 3 (ipykernel)",
   "language": "python",
   "name": "python3"
  },
  "language_info": {
   "codemirror_mode": {
    "name": "ipython",
    "version": 3
   },
   "file_extension": ".py",
   "mimetype": "text/x-python",
   "name": "python",
   "nbconvert_exporter": "python",
   "pygments_lexer": "ipython3",
   "version": "3.12.7"
  }
 },
 "nbformat": 4,
 "nbformat_minor": 5
}
