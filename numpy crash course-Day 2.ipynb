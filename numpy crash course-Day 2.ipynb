{
 "cells": [
  {
   "cell_type": "markdown",
   "id": "65e4a9a3-14af-41c4-9756-bce51eee075f",
   "metadata": {},
   "source": [
    "# 31/10/25\n",
    "# 1.Array creation fuctions"
   ]
  },
  {
   "cell_type": "code",
   "execution_count": 101,
   "id": "7a3005ea-ffef-4611-8a9d-feeb4990ad3d",
   "metadata": {},
   "outputs": [],
   "source": [
    "import numpy as np"
   ]
  },
  {
   "cell_type": "code",
   "execution_count": 103,
   "id": "2863d880-9f2c-4b0a-8cd9-07c39a61d32d",
   "metadata": {},
   "outputs": [
    {
     "name": "stdout",
     "output_type": "stream",
     "text": [
      "array a: [1 2 3]\n"
     ]
    }
   ],
   "source": [
    "#create an array from a list\n",
    "a=np.array([1,2,3])\n",
    "print(\"array a:\",a)"
   ]
  },
  {
   "cell_type": "code",
   "execution_count": 105,
   "id": "2dc7b41e-fafe-4b50-ae7b-3a11405ad61f",
   "metadata": {},
   "outputs": [
    {
     "name": "stdout",
     "output_type": "stream",
     "text": [
      "array b: [0 2 4 6 8]\n"
     ]
    }
   ],
   "source": [
    "#create an array with evenly spaced values\n",
    "b=np.arange(0,10,2)\n",
    "print(\"array b:\",b)"
   ]
  },
  {
   "cell_type": "code",
   "execution_count": 107,
   "id": "f409f78d-d9a4-4abe-ba26-79aea5d4e389",
   "metadata": {},
   "outputs": [
    {
     "name": "stdout",
     "output_type": "stream",
     "text": [
      "array b1: [0 3 6 9]\n"
     ]
    }
   ],
   "source": [
    "b1=np.arange(0,10,3)\n",
    "print(\"array b1:\",b1)"
   ]
  },
  {
   "cell_type": "code",
   "execution_count": 109,
   "id": "340dbc86-4310-4085-9322-3d617178b605",
   "metadata": {},
   "outputs": [
    {
     "name": "stdout",
     "output_type": "stream",
     "text": [
      "array c: [[0. 0. 0.]\n",
      " [0. 0. 0.]]\n"
     ]
    }
   ],
   "source": [
    "#create an array filled with zeros\n",
    "c=np.zeros((2,3))\n",
    "print(\"array c:\",c)"
   ]
  },
  {
   "cell_type": "code",
   "execution_count": 111,
   "id": "f4d8fd26-f01a-45c3-958b-db2e3ca87dda",
   "metadata": {},
   "outputs": [
    {
     "name": "stdout",
     "output_type": "stream",
     "text": [
      "array c: [[0 0 0]\n",
      " [0 0 0]]\n"
     ]
    }
   ],
   "source": [
    "c=np.zeros((2,3),dtype=int)\n",
    "print(\"array c:\",c)"
   ]
  },
  {
   "cell_type": "code",
   "execution_count": 113,
   "id": "bf8ce2e5-2a43-4113-b8e0-5963d144e4db",
   "metadata": {},
   "outputs": [
    {
     "name": "stdout",
     "output_type": "stream",
     "text": [
      "array d: [[1. 1.]\n",
      " [1. 1.]\n",
      " [1. 1.]]\n"
     ]
    }
   ],
   "source": [
    "#create an array filled with ones\n",
    "d=np.ones((3,2))\n",
    "print(\"array d:\",d)"
   ]
  },
  {
   "cell_type": "code",
   "execution_count": 115,
   "id": "a9dae22b-d0f9-4d13-910e-58cf79d524b5",
   "metadata": {},
   "outputs": [
    {
     "name": "stdout",
     "output_type": "stream",
     "text": [
      "array d: [[1 1]\n",
      " [1 1]\n",
      " [1 1]]\n"
     ]
    }
   ],
   "source": [
    "d=np.ones((3,2),dtype=int)\n",
    "print(\"array d:\",d)"
   ]
  },
  {
   "cell_type": "code",
   "execution_count": 117,
   "id": "210d2260-ca39-4d57-9326-df09f195d4b0",
   "metadata": {},
   "outputs": [
    {
     "name": "stdout",
     "output_type": "stream",
     "text": [
      "indentity matrix: [[1. 0. 0. 0.]\n",
      " [0. 1. 0. 0.]\n",
      " [0. 0. 1. 0.]\n",
      " [0. 0. 0. 1.]]\n"
     ]
    }
   ],
   "source": [
    "#create an identity matrix\n",
    "e=np.eye(4)\n",
    "print(\"indentity matrix:\",e)"
   ]
  },
  {
   "cell_type": "code",
   "execution_count": 119,
   "id": "82ee084d-6abf-4695-8938-6932e22173f1",
   "metadata": {},
   "outputs": [
    {
     "name": "stdout",
     "output_type": "stream",
     "text": [
      "Identity matrix: [[1. 0. 0. 0. 0. 0. 0. 0. 0. 0.]\n",
      " [0. 1. 0. 0. 0. 0. 0. 0. 0. 0.]\n",
      " [0. 0. 1. 0. 0. 0. 0. 0. 0. 0.]\n",
      " [0. 0. 0. 1. 0. 0. 0. 0. 0. 0.]\n",
      " [0. 0. 0. 0. 1. 0. 0. 0. 0. 0.]\n",
      " [0. 0. 0. 0. 0. 1. 0. 0. 0. 0.]\n",
      " [0. 0. 0. 0. 0. 0. 1. 0. 0. 0.]\n",
      " [0. 0. 0. 0. 0. 0. 0. 1. 0. 0.]\n",
      " [0. 0. 0. 0. 0. 0. 0. 0. 1. 0.]\n",
      " [0. 0. 0. 0. 0. 0. 0. 0. 0. 1.]]\n"
     ]
    }
   ],
   "source": [
    "i=np.eye(10)\n",
    "print(\"Identity matrix:\",i)"
   ]
  },
  {
   "cell_type": "markdown",
   "id": "40397308-6607-4211-a4c1-644b8ce7e5a8",
   "metadata": {},
   "source": [
    "# 2.Array manipulation fuctions"
   ]
  },
  {
   "cell_type": "code",
   "execution_count": 122,
   "id": "b6e90644-279a-460f-a0de-3fcfde59861c",
   "metadata": {},
   "outputs": [
    {
     "name": "stdout",
     "output_type": "stream",
     "text": [
      "Reshaped array: [[1 2 3]]\n"
     ]
    }
   ],
   "source": [
    "#reshape an array\n",
    "a1=np.array([1,2,3])\n",
    "reshaped=np.reshape(a1,(1,3)) # reshape to 1x3\n",
    "print(\"Reshaped array:\",reshaped)"
   ]
  },
  {
   "cell_type": "code",
   "execution_count": 124,
   "id": "aa6e50ed-af98-4e23-88c6-4727783099b3",
   "metadata": {},
   "outputs": [
    {
     "name": "stdout",
     "output_type": "stream",
     "text": [
      "Reshaped array: [[1]\n",
      " [2]\n",
      " [3]]\n"
     ]
    }
   ],
   "source": [
    "#reshape an array\n",
    "a1=np.array([1,2,3])\n",
    "reshaped=np.reshape(a1,(3,1)) # reshape to 1x3\n",
    "print(\"Reshaped array:\",reshaped)"
   ]
  },
  {
   "cell_type": "code",
   "execution_count": 126,
   "id": "e09a858e-9d28-4c3b-831c-cf68f187bc60",
   "metadata": {},
   "outputs": [
    {
     "name": "stdout",
     "output_type": "stream",
     "text": [
      "flattened array: [1 2 3 4]\n"
     ]
    }
   ],
   "source": [
    "#flatten an array\n",
    "f1=np.array([[1,2],[3,4]])\n",
    "flatten=f1.flatten()\n",
    "print(\"flattened array:\",flatten)"
   ]
  },
  {
   "cell_type": "code",
   "execution_count": 128,
   "id": "6e4058a9-c3e6-46df-8e24-4ee9e806560f",
   "metadata": {},
   "outputs": [
    {
     "name": "stdout",
     "output_type": "stream",
     "text": [
      "flattened array: [1 2 3 4]\n"
     ]
    }
   ],
   "source": [
    "#flatten an array\n",
    "f1=np.array([[1,2],[3,4]])\n",
    "ravel=f1.ravel()\n",
    "print(\"flattened array:\",ravel)"
   ]
  },
  {
   "cell_type": "code",
   "execution_count": 130,
   "id": "028abc54-9f54-48a1-ae6a-ef41de11666e",
   "metadata": {},
   "outputs": [
    {
     "name": "stdout",
     "output_type": "stream",
     "text": [
      "flattened array: [1 2 3 4 5 6 7 8]\n"
     ]
    }
   ],
   "source": [
    "#flatten an array\n",
    "f1=np.array([[1,2],[3,4],[5,6],[7,8]])\n",
    "ravel=np.ravel(f1)\n",
    "print(\"flattened array:\",ravel)"
   ]
  },
  {
   "cell_type": "code",
   "execution_count": 132,
   "id": "875fe8d8-6833-4514-974a-75553152c980",
   "metadata": {},
   "outputs": [
    {
     "name": "stdout",
     "output_type": "stream",
     "text": [
      "transposed array: [[1 3]\n",
      " [2 4]]\n"
     ]
    }
   ],
   "source": [
    "#transpose an array\n",
    "e1=np.array([[1,2],[3,4]])\n",
    "transposed=np.transpose(e1)\n",
    "print(\"transposed array:\",transposed)"
   ]
  },
  {
   "cell_type": "code",
   "execution_count": 134,
   "id": "648ca025-f969-4a14-bca0-438281b0eefe",
   "metadata": {},
   "outputs": [
    {
     "name": "stdout",
     "output_type": "stream",
     "text": [
      "stacked array: [[1 2]\n",
      " [3 4]]\n"
     ]
    }
   ],
   "source": [
    "#stack arrays vertically \n",
    "a2=np.array([1,2])\n",
    "b2=np.array([3,4])\n",
    "stacked=np.vstack([a2,b2]) #stack a2 and b2 vertically\n",
    "print(\"stacked array:\",stacked)"
   ]
  },
  {
   "cell_type": "code",
   "execution_count": 136,
   "id": "1beb437c-1de8-47fa-bf7b-e5ba368a5858",
   "metadata": {},
   "outputs": [
    {
     "name": "stdout",
     "output_type": "stream",
     "text": [
      "stacked array: [1 2 3 4]\n"
     ]
    }
   ],
   "source": [
    "#stack arrays horizontally \n",
    "a2=np.array([1,2])\n",
    "b2=np.array([3,4])\n",
    "stacked=np.hstack([a2,b2]) #stack a2 and b2 horizontally\n",
    "print(\"stacked array:\",stacked)"
   ]
  },
  {
   "cell_type": "markdown",
   "id": "8bb5c239-cfd1-4752-91d0-c6a4ab9a4ce9",
   "metadata": {},
   "source": [
    "# advanced indexing and slicing"
   ]
  },
  {
   "cell_type": "code",
   "execution_count": 139,
   "id": "d09ef60c-fd91-4eb8-9b32-f0f01682778d",
   "metadata": {},
   "outputs": [
    {
     "data": {
      "text/plain": [
       "array([[36, 59, 37, 83, 63, 44, 51, 82, 31, 71],\n",
       "       [84, 10, 51, 44, 27,  9, 87, 31, 29, 22],\n",
       "       [78, 88,  2, 21, 68,  7, 47, 86, 61, 26],\n",
       "       [60, 72, 52, 20, 64, 88, 67, 37, 65, 21],\n",
       "       [58, 40, 25,  4, 18, 47, 26, 83, 25, 13],\n",
       "       [58,  3, 71, 40, 38, 92, 27, 77, 33, 59],\n",
       "       [77, 50, 46, 56, 14, 52, 72, 60, 19, 37],\n",
       "       [54, 21, 75, 14, 87, 10, 18, 54, 23,  4],\n",
       "       [36, 84,  2, 39, 91,  1, 98,  9, 24, 52],\n",
       "       [76, 15, 36, 29, 24, 59, 39, 37, 66, 63]])"
      ]
     },
     "execution_count": 139,
     "metadata": {},
     "output_type": "execute_result"
    }
   ],
   "source": [
    "import numpy as np\n",
    "a=np.random.randint(0,100,(10,10))\n",
    "a"
   ]
  },
  {
   "cell_type": "code",
   "execution_count": 141,
   "id": "e4753f40-2060-4b3a-94aa-536d24c47b1e",
   "metadata": {},
   "outputs": [
    {
     "data": {
      "text/plain": [
       "array([[76, 15, 36, 29, 24, 59, 39, 37, 66, 63],\n",
       "       [36, 84,  2, 39, 91,  1, 98,  9, 24, 52],\n",
       "       [54, 21, 75, 14, 87, 10, 18, 54, 23,  4],\n",
       "       [77, 50, 46, 56, 14, 52, 72, 60, 19, 37],\n",
       "       [58,  3, 71, 40, 38, 92, 27, 77, 33, 59],\n",
       "       [58, 40, 25,  4, 18, 47, 26, 83, 25, 13],\n",
       "       [60, 72, 52, 20, 64, 88, 67, 37, 65, 21],\n",
       "       [78, 88,  2, 21, 68,  7, 47, 86, 61, 26],\n",
       "       [84, 10, 51, 44, 27,  9, 87, 31, 29, 22],\n",
       "       [36, 59, 37, 83, 63, 44, 51, 82, 31, 71]])"
      ]
     },
     "execution_count": 141,
     "metadata": {},
     "output_type": "execute_result"
    }
   ],
   "source": [
    "a[::-1]"
   ]
  },
  {
   "cell_type": "code",
   "execution_count": 143,
   "id": "6171ee33-6541-4859-8ef6-7358abba0980",
   "metadata": {},
   "outputs": [
    {
     "data": {
      "text/plain": [
       "array([[76, 15, 36, 29, 24, 59, 39, 37, 66, 63],\n",
       "       [54, 21, 75, 14, 87, 10, 18, 54, 23,  4],\n",
       "       [58,  3, 71, 40, 38, 92, 27, 77, 33, 59],\n",
       "       [60, 72, 52, 20, 64, 88, 67, 37, 65, 21],\n",
       "       [84, 10, 51, 44, 27,  9, 87, 31, 29, 22]])"
      ]
     },
     "execution_count": 143,
     "metadata": {},
     "output_type": "execute_result"
    }
   ],
   "source": [
    "a[::-2]"
   ]
  },
  {
   "cell_type": "code",
   "execution_count": 145,
   "id": "877eac33-0e29-4fb6-8ca1-2efc33dfebab",
   "metadata": {},
   "outputs": [
    {
     "data": {
      "text/plain": [
       "array([[76, 15, 36, 29, 24, 59, 39, 37, 66, 63],\n",
       "       [77, 50, 46, 56, 14, 52, 72, 60, 19, 37],\n",
       "       [60, 72, 52, 20, 64, 88, 67, 37, 65, 21],\n",
       "       [36, 59, 37, 83, 63, 44, 51, 82, 31, 71]])"
      ]
     },
     "execution_count": 145,
     "metadata": {},
     "output_type": "execute_result"
    }
   ],
   "source": [
    "a[::-3]"
   ]
  },
  {
   "cell_type": "code",
   "execution_count": 147,
   "id": "509c1e05-337f-49f8-8f9c-7deafa8f22ca",
   "metadata": {},
   "outputs": [],
   "source": [
    "row=4\n",
    "col=5"
   ]
  },
  {
   "cell_type": "code",
   "execution_count": 149,
   "id": "9708480f-e6fe-4849-8f40-292c34731b00",
   "metadata": {},
   "outputs": [
    {
     "data": {
      "text/plain": [
       "5"
      ]
     },
     "execution_count": 149,
     "metadata": {},
     "output_type": "execute_result"
    }
   ],
   "source": [
    "col"
   ]
  },
  {
   "cell_type": "code",
   "execution_count": 151,
   "id": "3173247c-c733-4ca3-90a1-d8d7cdef1e8a",
   "metadata": {},
   "outputs": [
    {
     "data": {
      "text/plain": [
       "4"
      ]
     },
     "execution_count": 151,
     "metadata": {},
     "output_type": "execute_result"
    }
   ],
   "source": [
    "row"
   ]
  },
  {
   "cell_type": "code",
   "execution_count": 153,
   "id": "99e7f2db-663d-4e7a-856c-53da778092f4",
   "metadata": {},
   "outputs": [
    {
     "data": {
      "text/plain": [
       "array([[36, 59, 37, 83, 63, 44, 51, 82, 31, 71],\n",
       "       [84, 10, 51, 44, 27,  9, 87, 31, 29, 22],\n",
       "       [78, 88,  2, 21, 68,  7, 47, 86, 61, 26],\n",
       "       [60, 72, 52, 20, 64, 88, 67, 37, 65, 21],\n",
       "       [58, 40, 25,  4, 18, 47, 26, 83, 25, 13],\n",
       "       [58,  3, 71, 40, 38, 92, 27, 77, 33, 59],\n",
       "       [77, 50, 46, 56, 14, 52, 72, 60, 19, 37],\n",
       "       [54, 21, 75, 14, 87, 10, 18, 54, 23,  4],\n",
       "       [36, 84,  2, 39, 91,  1, 98,  9, 24, 52],\n",
       "       [76, 15, 36, 29, 24, 59, 39, 37, 66, 63]])"
      ]
     },
     "execution_count": 153,
     "metadata": {},
     "output_type": "execute_result"
    }
   ],
   "source": [
    "a"
   ]
  },
  {
   "cell_type": "code",
   "execution_count": 155,
   "id": "29756009-369e-4dd8-9077-ecc14a821d91",
   "metadata": {},
   "outputs": [
    {
     "data": {
      "text/plain": [
       "47"
      ]
     },
     "execution_count": 155,
     "metadata": {},
     "output_type": "execute_result"
    }
   ],
   "source": [
    "a[row,col]"
   ]
  },
  {
   "cell_type": "code",
   "execution_count": 157,
   "id": "5b808418-8e21-4f23-8f10-8b215f39aafa",
   "metadata": {},
   "outputs": [],
   "source": [
    "col=6"
   ]
  },
  {
   "cell_type": "code",
   "execution_count": 159,
   "id": "12f3a4c1-79e4-457e-ae7e-f2ec8499660e",
   "metadata": {},
   "outputs": [
    {
     "data": {
      "text/plain": [
       "26"
      ]
     },
     "execution_count": 159,
     "metadata": {},
     "output_type": "execute_result"
    }
   ],
   "source": [
    "a[row,col]"
   ]
  },
  {
   "cell_type": "code",
   "execution_count": 161,
   "id": "0f6f6b37-c9af-4227-b8f9-8e1220383367",
   "metadata": {},
   "outputs": [
    {
     "data": {
      "text/plain": [
       "array([51, 87, 47, 67, 26, 27, 72, 18, 98, 39])"
      ]
     },
     "execution_count": 161,
     "metadata": {},
     "output_type": "execute_result"
    }
   ],
   "source": [
    "a[:,col]"
   ]
  },
  {
   "cell_type": "code",
   "execution_count": 163,
   "id": "128cc059-e297-48b3-990c-b61002253370",
   "metadata": {},
   "outputs": [
    {
     "data": {
      "text/plain": [
       "array([82, 31, 86, 37, 83, 77, 60, 54,  9, 37])"
      ]
     },
     "execution_count": 163,
     "metadata": {},
     "output_type": "execute_result"
    }
   ],
   "source": [
    "a[:,-3]"
   ]
  },
  {
   "cell_type": "code",
   "execution_count": 165,
   "id": "deda381a-d4d1-487f-8402-a022c5c42db6",
   "metadata": {},
   "outputs": [
    {
     "data": {
      "text/plain": [
       "array([31, 29, 61, 65, 25, 33, 19, 23, 24, 66])"
      ]
     },
     "execution_count": 165,
     "metadata": {},
     "output_type": "execute_result"
    }
   ],
   "source": [
    "a[:,8]"
   ]
  },
  {
   "cell_type": "code",
   "execution_count": 167,
   "id": "6f49ff8e-97cb-4d74-a7fa-299f70fa9e75",
   "metadata": {},
   "outputs": [
    {
     "data": {
      "text/plain": [
       "array([[58,  3, 71, 40, 38, 92, 27, 77, 33, 59],\n",
       "       [77, 50, 46, 56, 14, 52, 72, 60, 19, 37]])"
      ]
     },
     "execution_count": 167,
     "metadata": {},
     "output_type": "execute_result"
    }
   ],
   "source": [
    "a[5:7]"
   ]
  },
  {
   "cell_type": "code",
   "execution_count": 169,
   "id": "f2c1a2be-b0b3-4c9a-a1b4-d049ea9841a8",
   "metadata": {},
   "outputs": [
    {
     "data": {
      "text/plain": [
       "array([[36, 59, 37, 83, 63, 44, 51, 82, 31, 71],\n",
       "       [84, 10, 51, 44, 27,  9, 87, 31, 29, 22],\n",
       "       [78, 88,  2, 21, 68,  7, 47, 86, 61, 26],\n",
       "       [60, 72, 52, 20, 64, 88, 67, 37, 65, 21],\n",
       "       [58, 40, 25,  4, 18, 47, 26, 83, 25, 13],\n",
       "       [58,  3, 71, 40, 38, 92, 27, 77, 33, 59],\n",
       "       [77, 50, 46, 56, 14, 52, 72, 60, 19, 37],\n",
       "       [54, 21, 75, 14, 87, 10, 18, 54, 23,  4],\n",
       "       [36, 84,  2, 39, 91,  1, 98,  9, 24, 52],\n",
       "       [76, 15, 36, 29, 24, 59, 39, 37, 66, 63]])"
      ]
     },
     "execution_count": 169,
     "metadata": {},
     "output_type": "execute_result"
    }
   ],
   "source": [
    "a[0:10]"
   ]
  },
  {
   "cell_type": "code",
   "execution_count": 171,
   "id": "7b8156fe-4d6f-458c-b54b-dbdbc51d8e08",
   "metadata": {},
   "outputs": [
    {
     "data": {
      "text/plain": [
       "array([[ 2, 21],\n",
       "       [52, 20],\n",
       "       [25,  4],\n",
       "       [71, 40]])"
      ]
     },
     "execution_count": 171,
     "metadata": {},
     "output_type": "execute_result"
    }
   ],
   "source": [
    "a[2:6,2:4]"
   ]
  },
  {
   "cell_type": "code",
   "execution_count": 173,
   "id": "5ed59262-f8eb-49fa-8b31-b3e8fef0737c",
   "metadata": {},
   "outputs": [
    {
     "data": {
      "text/plain": [
       "array([[51, 44]])"
      ]
     },
     "execution_count": 173,
     "metadata": {},
     "output_type": "execute_result"
    }
   ],
   "source": [
    "a[1:2,2:4]"
   ]
  },
  {
   "cell_type": "code",
   "execution_count": 175,
   "id": "dd8e9977-0ee6-4508-b0c3-299834db6766",
   "metadata": {},
   "outputs": [
    {
     "data": {
      "text/plain": [
       "array([[2]])"
      ]
     },
     "execution_count": 175,
     "metadata": {},
     "output_type": "execute_result"
    }
   ],
   "source": [
    "a[2:3,2:3]"
   ]
  },
  {
   "cell_type": "code",
   "execution_count": 177,
   "id": "ccd869bc-81f2-4c7b-8c3c-067dbf3ef757",
   "metadata": {},
   "outputs": [
    {
     "data": {
      "text/plain": [
       "array([[21, 68],\n",
       "       [20, 64]])"
      ]
     },
     "execution_count": 177,
     "metadata": {},
     "output_type": "execute_result"
    }
   ],
   "source": [
    "a[2:4,3:5]"
   ]
  },
  {
   "cell_type": "code",
   "execution_count": 179,
   "id": "904a13ea-abbc-4dd1-acb8-31a030b8da05",
   "metadata": {},
   "outputs": [
    {
     "data": {
      "text/plain": [
       "array([[20],\n",
       "       [ 4]])"
      ]
     },
     "execution_count": 179,
     "metadata": {},
     "output_type": "execute_result"
    }
   ],
   "source": [
    "a[3:5,3:4]"
   ]
  },
  {
   "cell_type": "code",
   "execution_count": 181,
   "id": "0be12cc1-7e60-4b21-96b6-dc1d5153f9f2",
   "metadata": {},
   "outputs": [
    {
     "data": {
      "text/plain": [
       "array([[[ 0,  1,  2],\n",
       "        [ 3,  4,  5],\n",
       "        [ 6,  7,  8]],\n",
       "\n",
       "       [[ 9, 10, 11],\n",
       "        [12, 13, 14],\n",
       "        [15, 16, 17]],\n",
       "\n",
       "       [[18, 19, 20],\n",
       "        [21, 22, 23],\n",
       "        [24, 25, 26]]])"
      ]
     },
     "execution_count": 181,
     "metadata": {},
     "output_type": "execute_result"
    }
   ],
   "source": [
    "b=np.arange(27).reshape(3,3,3) \n",
    "b"
   ]
  },
  {
   "cell_type": "code",
   "execution_count": 183,
   "id": "2a60bd32-cf4f-4f3f-9ed5-1e4361d8a6c6",
   "metadata": {},
   "outputs": [
    {
     "data": {
      "text/plain": [
       "array([[0, 1, 2],\n",
       "       [3, 4, 5],\n",
       "       [6, 7, 8]])"
      ]
     },
     "execution_count": 183,
     "metadata": {},
     "output_type": "execute_result"
    }
   ],
   "source": [
    "b[0]"
   ]
  },
  {
   "cell_type": "code",
   "execution_count": 185,
   "id": "a245f39a-5ed6-4e25-a099-4425ac8f71f1",
   "metadata": {},
   "outputs": [
    {
     "data": {
      "text/plain": [
       "array([[ 9, 10, 11],\n",
       "       [12, 13, 14],\n",
       "       [15, 16, 17]])"
      ]
     },
     "execution_count": 185,
     "metadata": {},
     "output_type": "execute_result"
    }
   ],
   "source": [
    "b[1]"
   ]
  },
  {
   "cell_type": "code",
   "execution_count": 187,
   "id": "bf9ad69a-2b99-4c9c-b4b7-38fd2dba8966",
   "metadata": {},
   "outputs": [
    {
     "data": {
      "text/plain": [
       "array([[18, 19, 20],\n",
       "       [21, 22, 23],\n",
       "       [24, 25, 26]])"
      ]
     },
     "execution_count": 187,
     "metadata": {},
     "output_type": "execute_result"
    }
   ],
   "source": [
    "b[2]"
   ]
  },
  {
   "cell_type": "code",
   "execution_count": 189,
   "id": "4eeef5c5-1255-498c-bf8e-bc5952648a64",
   "metadata": {},
   "outputs": [
    {
     "data": {
      "text/plain": [
       "array([[[ 0,  1,  2],\n",
       "        [ 3,  4,  5],\n",
       "        [ 6,  7,  8]],\n",
       "\n",
       "       [[ 9, 10, 11],\n",
       "        [12, 13, 14],\n",
       "        [15, 16, 17]],\n",
       "\n",
       "       [[18, 19, 20],\n",
       "        [21, 22, 23],\n",
       "        [24, 25, 26]]])"
      ]
     },
     "execution_count": 189,
     "metadata": {},
     "output_type": "execute_result"
    }
   ],
   "source": [
    "b[:]"
   ]
  },
  {
   "cell_type": "code",
   "execution_count": 191,
   "id": "c48807ab-3e04-4c75-801d-338d372dbd63",
   "metadata": {},
   "outputs": [
    {
     "data": {
      "text/plain": [
       "array([[[ 0,  1,  2],\n",
       "        [ 3,  4,  5],\n",
       "        [ 6,  7,  8]],\n",
       "\n",
       "       [[18, 19, 20],\n",
       "        [21, 22, 23],\n",
       "        [24, 25, 26]]])"
      ]
     },
     "execution_count": 191,
     "metadata": {},
     "output_type": "execute_result"
    }
   ],
   "source": [
    "b[::2]"
   ]
  },
  {
   "cell_type": "code",
   "execution_count": 193,
   "id": "da2544f5-c573-45c9-940f-e3fc24316a50",
   "metadata": {},
   "outputs": [
    {
     "data": {
      "text/plain": [
       "array([[[18, 19, 20],\n",
       "        [21, 22, 23],\n",
       "        [24, 25, 26]],\n",
       "\n",
       "       [[ 9, 10, 11],\n",
       "        [12, 13, 14],\n",
       "        [15, 16, 17]],\n",
       "\n",
       "       [[ 0,  1,  2],\n",
       "        [ 3,  4,  5],\n",
       "        [ 6,  7,  8]]])"
      ]
     },
     "execution_count": 193,
     "metadata": {},
     "output_type": "execute_result"
    }
   ],
   "source": [
    "b[::-1]"
   ]
  },
  {
   "cell_type": "code",
   "execution_count": 195,
   "id": "b1499d11-50ef-4714-8df0-6483ddb422f2",
   "metadata": {},
   "outputs": [
    {
     "data": {
      "text/plain": [
       "array([[[18, 19, 20],\n",
       "        [21, 22, 23],\n",
       "        [24, 25, 26]],\n",
       "\n",
       "       [[ 0,  1,  2],\n",
       "        [ 3,  4,  5],\n",
       "        [ 6,  7,  8]]])"
      ]
     },
     "execution_count": 195,
     "metadata": {},
     "output_type": "execute_result"
    }
   ],
   "source": [
    "b[::-2]"
   ]
  },
  {
   "cell_type": "code",
   "execution_count": 197,
   "id": "0b11f5d2-d9f9-4d41-b884-354faefc631a",
   "metadata": {},
   "outputs": [
    {
     "data": {
      "text/plain": [
       "array([[[ 0,  1,  2],\n",
       "        [ 3,  4,  5],\n",
       "        [ 6,  7,  8]],\n",
       "\n",
       "       [[ 9, 10, 11],\n",
       "        [12, 13, 14],\n",
       "        [15, 16, 17]],\n",
       "\n",
       "       [[18, 19, 20],\n",
       "        [21, 22, 23],\n",
       "        [24, 25, 26]]])"
      ]
     },
     "execution_count": 197,
     "metadata": {},
     "output_type": "execute_result"
    }
   ],
   "source": [
    "b[:]"
   ]
  },
  {
   "cell_type": "code",
   "execution_count": 199,
   "id": "a8741078-026c-4cfd-a917-ac1e301edf75",
   "metadata": {},
   "outputs": [
    {
     "data": {
      "text/plain": [
       "array([3, 4, 5])"
      ]
     },
     "execution_count": 199,
     "metadata": {},
     "output_type": "execute_result"
    }
   ],
   "source": [
    "b[0,1]"
   ]
  },
  {
   "cell_type": "code",
   "execution_count": 201,
   "id": "664521c8-190b-486d-889c-8476a935b469",
   "metadata": {},
   "outputs": [
    {
     "data": {
      "text/plain": [
       "array([15, 16, 17])"
      ]
     },
     "execution_count": 201,
     "metadata": {},
     "output_type": "execute_result"
    }
   ],
   "source": [
    "b[1,2]"
   ]
  },
  {
   "cell_type": "code",
   "execution_count": 203,
   "id": "123c5339-994e-44aa-8677-446bf3ba0c9d",
   "metadata": {},
   "outputs": [
    {
     "data": {
      "text/plain": [
       "array([24, 25, 26])"
      ]
     },
     "execution_count": 203,
     "metadata": {},
     "output_type": "execute_result"
    }
   ],
   "source": [
    "b[2,2]"
   ]
  },
  {
   "cell_type": "code",
   "execution_count": 205,
   "id": "d1fc912b-9a2f-4c11-a045-d84ef4cdd2d0",
   "metadata": {},
   "outputs": [
    {
     "data": {
      "text/plain": [
       "array([3, 4, 5])"
      ]
     },
     "execution_count": 205,
     "metadata": {},
     "output_type": "execute_result"
    }
   ],
   "source": [
    "b[0,1,:]"
   ]
  },
  {
   "cell_type": "code",
   "execution_count": 207,
   "id": "e2ed8de4-9b01-49d7-ada0-fa7fc5546319",
   "metadata": {},
   "outputs": [
    {
     "data": {
      "text/plain": [
       "array([12, 13, 14])"
      ]
     },
     "execution_count": 207,
     "metadata": {},
     "output_type": "execute_result"
    }
   ],
   "source": [
    "b[1,1,:]"
   ]
  },
  {
   "cell_type": "code",
   "execution_count": 209,
   "id": "dc0121e5-6359-4d50-9592-8c38b35ffd8a",
   "metadata": {},
   "outputs": [
    {
     "data": {
      "text/plain": [
       "15"
      ]
     },
     "execution_count": 209,
     "metadata": {},
     "output_type": "execute_result"
    }
   ],
   "source": [
    "b[1,2,0]"
   ]
  },
  {
   "cell_type": "code",
   "execution_count": 211,
   "id": "1aff9fef-93dc-4fa0-9c6b-be60929a851b",
   "metadata": {},
   "outputs": [
    {
     "data": {
      "text/plain": [
       "4"
      ]
     },
     "execution_count": 211,
     "metadata": {},
     "output_type": "execute_result"
    }
   ],
   "source": [
    "b[0,1,1]"
   ]
  },
  {
   "cell_type": "code",
   "execution_count": 213,
   "id": "9d5589c0-5900-4ad2-8fd2-c7c161ccbba3",
   "metadata": {},
   "outputs": [
    {
     "data": {
      "text/plain": [
       "array([1, 4, 7])"
      ]
     },
     "execution_count": 213,
     "metadata": {},
     "output_type": "execute_result"
    }
   ],
   "source": [
    "b[0,:,1]"
   ]
  },
  {
   "cell_type": "code",
   "execution_count": 215,
   "id": "33adc925-32d6-4bb6-954f-980dc1005554",
   "metadata": {},
   "outputs": [
    {
     "data": {
      "text/plain": [
       "array([[[ 0,  1,  2],\n",
       "        [ 3,  4,  5],\n",
       "        [ 6,  7,  8]],\n",
       "\n",
       "       [[ 9, 10, 11],\n",
       "        [12, 13, 14],\n",
       "        [15, 16, 17]],\n",
       "\n",
       "       [[18, 19, 20],\n",
       "        [21, 22, 23],\n",
       "        [24, 25, 26]]])"
      ]
     },
     "execution_count": 215,
     "metadata": {},
     "output_type": "execute_result"
    }
   ],
   "source": [
    "b[:]"
   ]
  },
  {
   "cell_type": "code",
   "execution_count": 217,
   "id": "8bb3bd6d-3355-4c3d-aee3-323befbb18a5",
   "metadata": {},
   "outputs": [
    {
     "data": {
      "text/plain": [
       "array([ 7, 16, 25])"
      ]
     },
     "execution_count": 217,
     "metadata": {},
     "output_type": "execute_result"
    }
   ],
   "source": [
    "b[:,2,1]"
   ]
  },
  {
   "cell_type": "code",
   "execution_count": 219,
   "id": "c2fa4640-627e-4d3f-b2c4-286b87504313",
   "metadata": {},
   "outputs": [
    {
     "data": {
      "text/plain": [
       "array([10, 13, 16])"
      ]
     },
     "execution_count": 219,
     "metadata": {},
     "output_type": "execute_result"
    }
   ],
   "source": [
    "b[1,:,1]"
   ]
  },
  {
   "cell_type": "code",
   "execution_count": 221,
   "id": "69765ddb-53f4-416e-adcd-a4ee946f60b6",
   "metadata": {},
   "outputs": [
    {
     "data": {
      "text/plain": [
       "array([[21, 22, 23],\n",
       "       [24, 25, 26]])"
      ]
     },
     "execution_count": 221,
     "metadata": {},
     "output_type": "execute_result"
    }
   ],
   "source": [
    "b[2,1:]"
   ]
  },
  {
   "cell_type": "code",
   "execution_count": 223,
   "id": "c6b36001-c0ec-4f52-aee5-99ffef59cac6",
   "metadata": {},
   "outputs": [
    {
     "data": {
      "text/plain": [
       "array([[22, 23],\n",
       "       [25, 26]])"
      ]
     },
     "execution_count": 223,
     "metadata": {},
     "output_type": "execute_result"
    }
   ],
   "source": [
    "b[2,1:,1:]"
   ]
  },
  {
   "cell_type": "code",
   "execution_count": 225,
   "id": "e7ce464f-d3f8-4293-9b4f-bd4077b2c53c",
   "metadata": {},
   "outputs": [
    {
     "data": {
      "text/plain": [
       "array([[[ 0,  1,  2],\n",
       "        [ 3,  4,  5],\n",
       "        [ 6,  7,  8]],\n",
       "\n",
       "       [[18, 19, 20],\n",
       "        [21, 22, 23],\n",
       "        [24, 25, 26]]])"
      ]
     },
     "execution_count": 225,
     "metadata": {},
     "output_type": "execute_result"
    }
   ],
   "source": [
    "b[0::2]"
   ]
  },
  {
   "cell_type": "code",
   "execution_count": 227,
   "id": "53c78184-6a49-4748-a431-6dd0efcb60e7",
   "metadata": {},
   "outputs": [
    {
     "data": {
      "text/plain": [
       "array([[ 0,  1,  2],\n",
       "       [18, 19, 20]])"
      ]
     },
     "execution_count": 227,
     "metadata": {},
     "output_type": "execute_result"
    }
   ],
   "source": [
    "b[0::2,0]"
   ]
  },
  {
   "cell_type": "code",
   "execution_count": 229,
   "id": "ac7198e5-6498-4bbb-b319-8787bde1c55d",
   "metadata": {},
   "outputs": [
    {
     "data": {
      "text/plain": [
       "array([[ 0,  2],\n",
       "       [18, 20]])"
      ]
     },
     "execution_count": 229,
     "metadata": {},
     "output_type": "execute_result"
    }
   ],
   "source": [
    "b[0::2,0,::2]"
   ]
  },
  {
   "cell_type": "markdown",
   "id": "37011620-aba0-48cb-a0ef-a59599584b02",
   "metadata": {},
   "source": [
    "# numpy masking"
   ]
  },
  {
   "cell_type": "code",
   "execution_count": 232,
   "id": "75cafc83-71ed-47a0-8823-56dd6b4e53c6",
   "metadata": {},
   "outputs": [
    {
     "data": {
      "text/plain": [
       "array([ 0,  1,  2,  3,  4,  5,  6,  7,  8,  9, 10, 11, 12, 13, 14, 15, 16,\n",
       "       17, 18, 19, 20, 21, 22, 23, 24, 25, 26, 27, 28, 29, 30, 31, 32, 33,\n",
       "       34, 35, 36, 37, 38, 39, 40, 41, 42, 43, 44, 45, 46, 47, 48, 49, 50,\n",
       "       51, 52, 53, 54, 55, 56, 57, 58, 59, 60, 61, 62, 63, 64, 65, 66, 67,\n",
       "       68, 69, 70, 71, 72, 73, 74, 75, 76, 77, 78, 79, 80, 81, 82, 83, 84,\n",
       "       85, 86, 87, 88, 89, 90, 91, 92, 93, 94, 95, 96, 97, 98, 99])"
      ]
     },
     "execution_count": 232,
     "metadata": {},
     "output_type": "execute_result"
    }
   ],
   "source": [
    "mat=np.arange(0,100)\n",
    "mat"
   ]
  },
  {
   "cell_type": "code",
   "execution_count": 234,
   "id": "70fa5639-8fe2-465b-88d5-24a0c1f082ca",
   "metadata": {},
   "outputs": [
    {
     "data": {
      "text/plain": [
       "array([False, False, False, False, False, False, False, False, False,\n",
       "       False, False, False, False, False, False, False, False, False,\n",
       "       False, False, False, False, False, False, False, False, False,\n",
       "       False, False, False, False, False, False, False, False, False,\n",
       "       False, False, False, False, False, False, False, False, False,\n",
       "       False, False, False, False, False, False,  True,  True,  True,\n",
       "        True,  True,  True,  True,  True,  True,  True,  True,  True,\n",
       "        True,  True,  True,  True,  True,  True,  True,  True,  True,\n",
       "        True,  True,  True,  True,  True,  True,  True,  True,  True,\n",
       "        True,  True,  True,  True,  True,  True,  True,  True,  True,\n",
       "        True,  True,  True,  True,  True,  True,  True,  True,  True,\n",
       "        True])"
      ]
     },
     "execution_count": 234,
     "metadata": {},
     "output_type": "execute_result"
    }
   ],
   "source": [
    "mat>50"
   ]
  },
  {
   "cell_type": "code",
   "execution_count": 236,
   "id": "fcb247bc-dedd-437b-902c-6f0d397e58cd",
   "metadata": {},
   "outputs": [
    {
     "data": {
      "text/plain": [
       "array([51, 52, 53, 54, 55, 56, 57, 58, 59, 60, 61, 62, 63, 64, 65, 66, 67,\n",
       "       68, 69, 70, 71, 72, 73, 74, 75, 76, 77, 78, 79, 80, 81, 82, 83, 84,\n",
       "       85, 86, 87, 88, 89, 90, 91, 92, 93, 94, 95, 96, 97, 98, 99])"
      ]
     },
     "execution_count": 236,
     "metadata": {},
     "output_type": "execute_result"
    }
   ],
   "source": [
    "mat[mat>50]"
   ]
  },
  {
   "cell_type": "code",
   "execution_count": 238,
   "id": "38cb1eef-966b-4222-9f2a-024947308338",
   "metadata": {},
   "outputs": [
    {
     "data": {
      "text/plain": [
       "array([50, 51, 52, 53, 54, 55, 56, 57, 58, 59, 60, 61, 62, 63, 64, 65, 66,\n",
       "       67, 68, 69, 70, 71, 72, 73, 74, 75, 76, 77, 78, 79, 80, 81, 82, 83,\n",
       "       84, 85, 86, 87, 88, 89, 90, 91, 92, 93, 94, 95, 96, 97, 98, 99])"
      ]
     },
     "execution_count": 238,
     "metadata": {},
     "output_type": "execute_result"
    }
   ],
   "source": [
    "mat[mat>=50]"
   ]
  },
  {
   "cell_type": "code",
   "execution_count": 240,
   "id": "f42ba761-5b14-42c5-98d4-f217b96d9bb4",
   "metadata": {},
   "outputs": [
    {
     "data": {
      "text/plain": [
       "array([ 0,  1,  2,  3,  4,  5,  6,  7,  8,  9, 10, 11, 12, 13, 14, 15, 16,\n",
       "       17, 18, 19, 20, 21, 22, 23, 24, 25, 26, 27, 28, 29, 30, 31, 32, 33,\n",
       "       34, 35, 36, 37, 38, 39, 40, 41, 42, 43, 44, 45, 46, 47, 48, 49, 50])"
      ]
     },
     "execution_count": 240,
     "metadata": {},
     "output_type": "execute_result"
    }
   ],
   "source": [
    "mat[mat<=50]"
   ]
  },
  {
   "cell_type": "code",
   "execution_count": 242,
   "id": "d85f3662-0443-422d-8a1c-43c73fddbf3b",
   "metadata": {},
   "outputs": [
    {
     "data": {
      "text/plain": [
       "array([50])"
      ]
     },
     "execution_count": 242,
     "metadata": {},
     "output_type": "execute_result"
    }
   ],
   "source": [
    "mat[mat==50]"
   ]
  },
  {
   "cell_type": "code",
   "execution_count": 244,
   "id": "b4786ef8-1bd4-4d5a-98f7-b939f53a7ddc",
   "metadata": {},
   "outputs": [
    {
     "data": {
      "text/plain": [
       "array([ 0,  1,  2,  3,  4,  5,  6,  7,  8,  9, 10, 11, 12, 13, 14, 15, 16,\n",
       "       17, 18, 19, 20, 21, 22, 23, 24, 25, 26, 27, 28, 29, 30, 31, 32, 33,\n",
       "       34, 35, 36, 37, 38, 39, 40, 41, 42, 43, 44, 45, 46, 47, 48, 49, 51,\n",
       "       52, 53, 54, 55, 56, 57, 58, 59, 60, 61, 62, 63, 64, 65, 66, 67, 68,\n",
       "       69, 70, 71, 72, 73, 74, 75, 76, 77, 78, 79, 80, 81, 82, 83, 84, 85,\n",
       "       86, 87, 88, 89, 90, 91, 92, 93, 94, 95, 96, 97, 98, 99])"
      ]
     },
     "execution_count": 244,
     "metadata": {},
     "output_type": "execute_result"
    }
   ],
   "source": [
    "mat[mat!=50]"
   ]
  },
  {
   "cell_type": "code",
   "execution_count": 246,
   "id": "b10243e1-aaf8-4157-8039-7ba4bb2af83d",
   "metadata": {},
   "outputs": [
    {
     "data": {
      "text/plain": [
       "array([False,  True,  True,  True,  True,  True,  True,  True,  True,\n",
       "        True,  True,  True,  True,  True,  True,  True,  True,  True,\n",
       "        True,  True,  True,  True,  True,  True,  True,  True,  True,\n",
       "        True,  True,  True,  True,  True,  True,  True,  True,  True,\n",
       "        True,  True,  True,  True,  True,  True,  True,  True,  True,\n",
       "        True,  True,  True,  True,  True,  True,  True,  True,  True,\n",
       "        True,  True,  True,  True,  True,  True,  True,  True,  True,\n",
       "        True,  True,  True,  True,  True,  True,  True,  True,  True,\n",
       "        True,  True,  True,  True,  True,  True,  True,  True,  True,\n",
       "        True,  True,  True,  True,  True,  True,  True,  True,  True,\n",
       "        True,  True,  True,  True,  True,  True,  True,  True,  True,\n",
       "        True])"
      ]
     },
     "execution_count": 246,
     "metadata": {},
     "output_type": "execute_result"
    }
   ],
   "source": [
    "mat>0"
   ]
  },
  {
   "cell_type": "code",
   "execution_count": 248,
   "id": "ff00ac60-7f7c-4164-a384-871abade3be6",
   "metadata": {},
   "outputs": [
    {
     "data": {
      "text/plain": [
       "array([ 1,  2,  3,  4,  5,  6,  7,  8,  9, 10, 11, 12, 13, 14, 15, 16, 17,\n",
       "       18, 19, 20, 21, 22, 23, 24, 25, 26, 27, 28, 29, 30, 31, 32, 33, 34,\n",
       "       35, 36, 37, 38, 39, 40, 41, 42, 43, 44, 45, 46, 47, 48, 49, 50, 51,\n",
       "       52, 53, 54, 55, 56, 57, 58, 59, 60, 61, 62, 63, 64, 65, 66, 67, 68,\n",
       "       69, 70, 71, 72, 73, 74, 75, 76, 77, 78, 79, 80, 81, 82, 83, 84, 85,\n",
       "       86, 87, 88, 89, 90, 91, 92, 93, 94, 95, 96, 97, 98, 99])"
      ]
     },
     "execution_count": 248,
     "metadata": {},
     "output_type": "execute_result"
    }
   ],
   "source": [
    "mat[mat>0]"
   ]
  },
  {
   "cell_type": "code",
   "execution_count": 250,
   "id": "e6eaf683-f484-4206-bf58-8399d958e3b6",
   "metadata": {},
   "outputs": [
    {
     "data": {
      "text/plain": [
       "array([ True,  True,  True,  True,  True,  True,  True,  True,  True,\n",
       "        True,  True,  True,  True,  True,  True,  True,  True,  True,\n",
       "        True,  True,  True,  True,  True,  True,  True,  True,  True,\n",
       "        True,  True,  True,  True,  True,  True,  True,  True,  True,\n",
       "        True,  True,  True,  True,  True,  True,  True,  True,  True,\n",
       "        True,  True,  True,  True,  True,  True,  True,  True,  True,\n",
       "        True,  True,  True,  True,  True,  True,  True,  True,  True,\n",
       "        True,  True,  True,  True,  True,  True,  True,  True,  True,\n",
       "        True,  True,  True,  True,  True,  True,  True,  True,  True,\n",
       "        True,  True,  True,  True,  True,  True,  True,  True,  True,\n",
       "        True,  True,  True,  True,  True,  True,  True,  True,  True,\n",
       "        True])"
      ]
     },
     "execution_count": 250,
     "metadata": {},
     "output_type": "execute_result"
    }
   ],
   "source": [
    "mat>=0"
   ]
  },
  {
   "cell_type": "code",
   "execution_count": 252,
   "id": "1dfd81aa-156d-42a5-b0f5-0d474a483bce",
   "metadata": {},
   "outputs": [
    {
     "data": {
      "text/plain": [
       "array([False, False, False, False, False, False, False, False, False,\n",
       "       False, False, False, False, False, False, False, False, False,\n",
       "       False, False, False, False, False, False, False, False, False,\n",
       "       False, False, False, False, False, False, False, False, False,\n",
       "       False, False, False, False, False, False, False, False, False,\n",
       "       False, False, False, False, False, False, False, False, False,\n",
       "       False, False, False, False, False, False, False, False, False,\n",
       "       False, False, False, False, False, False, False, False, False,\n",
       "       False, False, False, False, False, False, False, False, False,\n",
       "       False, False, False, False, False, False, False, False, False,\n",
       "       False, False, False, False, False, False, False, False, False,\n",
       "       False])"
      ]
     },
     "execution_count": 252,
     "metadata": {},
     "output_type": "execute_result"
    }
   ],
   "source": [
    "mat<0"
   ]
  },
  {
   "cell_type": "code",
   "execution_count": 254,
   "id": "9e4a1715-6384-4ed3-85c6-0c9a7dd5e07a",
   "metadata": {},
   "outputs": [
    {
     "data": {
      "text/plain": [
       "array([ True, False, False, False, False, False, False, False, False,\n",
       "       False, False, False, False, False, False, False, False, False,\n",
       "       False, False, False, False, False, False, False, False, False,\n",
       "       False, False, False, False, False, False, False, False, False,\n",
       "       False, False, False, False, False, False, False, False, False,\n",
       "       False, False, False, False, False, False, False, False, False,\n",
       "       False, False, False, False, False, False, False, False, False,\n",
       "       False, False, False, False, False, False, False, False, False,\n",
       "       False, False, False, False, False, False, False, False, False,\n",
       "       False, False, False, False, False, False, False, False, False,\n",
       "       False, False, False, False, False, False, False, False, False,\n",
       "       False])"
      ]
     },
     "execution_count": 254,
     "metadata": {},
     "output_type": "execute_result"
    }
   ],
   "source": [
    "mat<=0"
   ]
  },
  {
   "cell_type": "code",
   "execution_count": 256,
   "id": "b371572a-b102-4ca0-8b7b-634ced9ea526",
   "metadata": {},
   "outputs": [
    {
     "data": {
      "text/plain": [
       "array([0])"
      ]
     },
     "execution_count": 256,
     "metadata": {},
     "output_type": "execute_result"
    }
   ],
   "source": [
    "mat[mat<=0]"
   ]
  },
  {
   "cell_type": "code",
   "execution_count": 258,
   "id": "84c3b1b4-b916-4584-b90f-cbc57573ccb6",
   "metadata": {},
   "outputs": [
    {
     "data": {
      "text/plain": [
       "array([ 0,  1,  2,  3,  4,  5,  6,  7,  8,  9, 10, 11, 12, 13, 14, 15, 16,\n",
       "       17, 18, 19, 20, 21, 22, 23, 24, 25, 26, 27, 28, 29, 30, 31, 32, 33,\n",
       "       34, 35, 36, 37, 38, 39, 40, 41, 42, 43, 44, 45, 46, 47, 48, 49, 50,\n",
       "       51, 52, 53, 54, 55, 56, 57, 58, 59, 60, 61, 62, 63, 64, 65, 66, 67,\n",
       "       68, 69, 70, 71, 72, 73, 74, 75, 76, 77, 78, 79, 80, 81, 82, 83, 84,\n",
       "       85, 86, 87, 88, 89, 90, 91, 92, 93, 94, 95, 96, 97, 98, 99])"
      ]
     },
     "execution_count": 258,
     "metadata": {},
     "output_type": "execute_result"
    }
   ],
   "source": [
    "mat[mat>=0]"
   ]
  },
  {
   "cell_type": "code",
   "execution_count": 260,
   "id": "9dffa388-e9c9-44be-b65f-d323e4930b5d",
   "metadata": {},
   "outputs": [
    {
     "data": {
      "text/plain": [
       "array([20])"
      ]
     },
     "execution_count": 260,
     "metadata": {},
     "output_type": "execute_result"
    }
   ],
   "source": [
    "mat[mat==20]"
   ]
  },
  {
   "cell_type": "markdown",
   "id": "a483e06c-6e65-414c-8c34-908e1cb83e64",
   "metadata": {},
   "source": [
    "# Numpy operations"
   ]
  },
  {
   "cell_type": "code",
   "execution_count": 263,
   "id": "5d82a786-212f-407f-b7f7-59fb79a38a8c",
   "metadata": {},
   "outputs": [
    {
     "data": {
      "text/plain": [
       "array([1, 2, 3, 4, 5])"
      ]
     },
     "execution_count": 263,
     "metadata": {},
     "output_type": "execute_result"
    }
   ],
   "source": [
    "arr1=np.array([1,2,3,4,5])\n",
    "arr1"
   ]
  },
  {
   "cell_type": "code",
   "execution_count": 265,
   "id": "436cdeab-cccc-4b0d-9586-383d46a113ed",
   "metadata": {},
   "outputs": [
    {
     "data": {
      "text/plain": [
       "array([1, 1, 1, 1, 1])"
      ]
     },
     "execution_count": 265,
     "metadata": {},
     "output_type": "execute_result"
    }
   ],
   "source": [
    "arr2=np.ones(5,dtype=int)\n",
    "arr2"
   ]
  },
  {
   "cell_type": "code",
   "execution_count": 267,
   "id": "e3e8ec9f-f410-4a0a-9cdd-3f985f68f8fb",
   "metadata": {},
   "outputs": [
    {
     "data": {
      "text/plain": [
       "array([2, 3, 4, 5, 6])"
      ]
     },
     "execution_count": 267,
     "metadata": {},
     "output_type": "execute_result"
    }
   ],
   "source": [
    "arr1+arr2"
   ]
  },
  {
   "cell_type": "code",
   "execution_count": 269,
   "id": "c8671d64-b071-4cd0-b73b-6150ea3d16df",
   "metadata": {},
   "outputs": [
    {
     "data": {
      "text/plain": [
       "array([0, 1, 2, 3, 4])"
      ]
     },
     "execution_count": 269,
     "metadata": {},
     "output_type": "execute_result"
    }
   ],
   "source": [
    "arr1-arr2"
   ]
  },
  {
   "cell_type": "code",
   "execution_count": 271,
   "id": "c862faa2-8c04-4de3-8794-ff0621f14292",
   "metadata": {},
   "outputs": [
    {
     "data": {
      "text/plain": [
       "array([1, 2, 3, 4, 5])"
      ]
     },
     "execution_count": 271,
     "metadata": {},
     "output_type": "execute_result"
    }
   ],
   "source": [
    "arr1*arr2"
   ]
  },
  {
   "cell_type": "code",
   "execution_count": 273,
   "id": "0bc0fcce-b594-4d0f-b957-0ea8e0b47bd3",
   "metadata": {},
   "outputs": [
    {
     "data": {
      "text/plain": [
       "array([1., 2., 3., 4., 5.])"
      ]
     },
     "execution_count": 273,
     "metadata": {},
     "output_type": "execute_result"
    }
   ],
   "source": [
    "arr1/arr2"
   ]
  },
  {
   "cell_type": "code",
   "execution_count": 275,
   "id": "07267bb6-af22-412e-a157-b24d49296fba",
   "metadata": {},
   "outputs": [
    {
     "data": {
      "text/plain": [
       "array([1, 2, 3, 4, 5])"
      ]
     },
     "execution_count": 275,
     "metadata": {},
     "output_type": "execute_result"
    }
   ],
   "source": [
    "arr1//arr2"
   ]
  },
  {
   "cell_type": "code",
   "execution_count": 277,
   "id": "fb4f8378-8bad-4fa3-bbe5-68a3bef4fe6f",
   "metadata": {},
   "outputs": [
    {
     "data": {
      "text/plain": [
       "array([0, 0, 0, 0, 0])"
      ]
     },
     "execution_count": 277,
     "metadata": {},
     "output_type": "execute_result"
    }
   ],
   "source": [
    "arr1%arr2"
   ]
  },
  {
   "cell_type": "code",
   "execution_count": 279,
   "id": "194e665b-f601-42ab-a6a4-340b00d14bd9",
   "metadata": {},
   "outputs": [
    {
     "data": {
      "text/plain": [
       "array([1, 2, 3, 4, 5])"
      ]
     },
     "execution_count": 279,
     "metadata": {},
     "output_type": "execute_result"
    }
   ],
   "source": [
    "arr1**arr2"
   ]
  },
  {
   "cell_type": "code",
   "execution_count": 281,
   "id": "d327e4c5-9e42-432c-8bcb-c24114540d14",
   "metadata": {},
   "outputs": [
    {
     "data": {
      "text/plain": [
       "array([   1,    4,   27,  256, 3125])"
      ]
     },
     "execution_count": 281,
     "metadata": {},
     "output_type": "execute_result"
    }
   ],
   "source": [
    "arr1**arr1"
   ]
  },
  {
   "cell_type": "code",
   "execution_count": 283,
   "id": "d1fb58ec-0766-40fb-9e5e-b70103b12ccb",
   "metadata": {},
   "outputs": [
    {
     "data": {
      "text/plain": [
       "15"
      ]
     },
     "execution_count": 283,
     "metadata": {},
     "output_type": "execute_result"
    }
   ],
   "source": [
    "#sum of the numbers\n",
    "arr1.sum()"
   ]
  },
  {
   "cell_type": "code",
   "execution_count": 285,
   "id": "975a46fa-a523-488a-a467-92d1d6181091",
   "metadata": {},
   "outputs": [
    {
     "data": {
      "text/plain": [
       "5"
      ]
     },
     "execution_count": 285,
     "metadata": {},
     "output_type": "execute_result"
    }
   ],
   "source": [
    "#max of numbers\n",
    "arr1.max()"
   ]
  },
  {
   "cell_type": "code",
   "execution_count": 287,
   "id": "5062c659-94c4-4ac8-b19b-ebcbd1e8fa4b",
   "metadata": {},
   "outputs": [
    {
     "data": {
      "text/plain": [
       "1"
      ]
     },
     "execution_count": 287,
     "metadata": {},
     "output_type": "execute_result"
    }
   ],
   "source": [
    "#min of numbers\n",
    "arr1.min()"
   ]
  },
  {
   "cell_type": "code",
   "execution_count": 289,
   "id": "ae3128e3-2f62-4b99-a23d-dcd032599871",
   "metadata": {},
   "outputs": [
    {
     "data": {
      "text/plain": [
       "3.0"
      ]
     },
     "execution_count": 289,
     "metadata": {},
     "output_type": "execute_result"
    }
   ],
   "source": [
    "#mean \n",
    "arr1.mean()"
   ]
  },
  {
   "cell_type": "code",
   "execution_count": 291,
   "id": "80fa5cdf-b6f0-437c-9519-0d80c5683fd2",
   "metadata": {},
   "outputs": [
    {
     "ename": "AttributeError",
     "evalue": "'numpy.ndarray' object has no attribute 'median'",
     "output_type": "error",
     "traceback": [
      "\u001b[1;31m---------------------------------------------------------------------------\u001b[0m",
      "\u001b[1;31mAttributeError\u001b[0m                            Traceback (most recent call last)",
      "Cell \u001b[1;32mIn[291], line 2\u001b[0m\n\u001b[0;32m      1\u001b[0m \u001b[38;5;66;03m#median\u001b[39;00m\n\u001b[1;32m----> 2\u001b[0m arr1\u001b[38;5;241m.\u001b[39mmedian()\n",
      "\u001b[1;31mAttributeError\u001b[0m: 'numpy.ndarray' object has no attribute 'median'"
     ]
    }
   ],
   "source": [
    "#median\n",
    "arr1.median()"
   ]
  },
  {
   "cell_type": "code",
   "execution_count": 293,
   "id": "802beb0b-02d5-4d1f-9349-10de6aa27d1b",
   "metadata": {},
   "outputs": [
    {
     "data": {
      "text/plain": [
       "3.0"
      ]
     },
     "execution_count": 293,
     "metadata": {},
     "output_type": "execute_result"
    }
   ],
   "source": [
    "from numpy import*\n",
    "#median\n",
    "median(arr1)"
   ]
  },
  {
   "cell_type": "code",
   "execution_count": 295,
   "id": "afaf0ea6-b3b6-4390-997f-3a0e2ed3760b",
   "metadata": {},
   "outputs": [
    {
     "data": {
      "text/plain": [
       "1.4142135623730951"
      ]
     },
     "execution_count": 295,
     "metadata": {},
     "output_type": "execute_result"
    }
   ],
   "source": [
    "#standard deviation\n",
    "arr1.std()"
   ]
  },
  {
   "cell_type": "code",
   "execution_count": 297,
   "id": "4c70ab0c-13fe-42c7-87ee-d8edf17a79ff",
   "metadata": {},
   "outputs": [
    {
     "data": {
      "text/plain": [
       "2.0"
      ]
     },
     "execution_count": 297,
     "metadata": {},
     "output_type": "execute_result"
    }
   ],
   "source": [
    "#variance\n",
    "arr1.var()"
   ]
  },
  {
   "cell_type": "code",
   "execution_count": 299,
   "id": "abeba700-127a-41ee-907f-905cce8970f8",
   "metadata": {},
   "outputs": [
    {
     "data": {
      "text/plain": [
       "array([ 0.84147098,  0.90929743,  0.14112001, -0.7568025 , -0.95892427])"
      ]
     },
     "execution_count": 299,
     "metadata": {},
     "output_type": "execute_result"
    }
   ],
   "source": [
    "#sin fuction\n",
    "np.sin(arr1)"
   ]
  },
  {
   "cell_type": "code",
   "execution_count": 301,
   "id": "47a805cd-79ac-47f9-a060-f06c2c714a43",
   "metadata": {},
   "outputs": [
    {
     "data": {
      "text/plain": [
       "array([ 0.54030231, -0.41614684, -0.9899925 , -0.65364362,  0.28366219])"
      ]
     },
     "execution_count": 301,
     "metadata": {},
     "output_type": "execute_result"
    }
   ],
   "source": [
    "#cos fuction\n",
    "np.cos(arr1)"
   ]
  },
  {
   "cell_type": "code",
   "execution_count": 303,
   "id": "55841b6d-181e-49d6-b712-e25bb850fbc4",
   "metadata": {},
   "outputs": [
    {
     "data": {
      "text/plain": [
       "array([ 1.55740772, -2.18503986, -0.14254654,  1.15782128, -3.38051501])"
      ]
     },
     "execution_count": 303,
     "metadata": {},
     "output_type": "execute_result"
    }
   ],
   "source": [
    "#tan fuction\n",
    "np.tan(arr1)"
   ]
  },
  {
   "cell_type": "markdown",
   "id": "822281a5-6086-4225-b10f-9f6b7116a61b",
   "metadata": {},
   "source": [
    "# vstack(),hstack(),vsplit(),hsplit(),view() and copy()"
   ]
  },
  {
   "cell_type": "code",
   "execution_count": 306,
   "id": "76c37a8f-db02-46ec-ae36-094de68606ac",
   "metadata": {},
   "outputs": [
    {
     "name": "stdout",
     "output_type": "stream",
     "text": [
      "[[1 2 3]\n",
      " [4 5 6]]\n",
      "[[7 8 9]\n",
      " [5 6 7]]\n"
     ]
    }
   ],
   "source": [
    "#creating 2 arrays\n",
    "a1=np.array([[1,2,3],[4,5,6]])\n",
    "print(a1)\n",
    "b1=np.array([[7,8,9],[5,6,7]])\n",
    "print(b1)"
   ]
  },
  {
   "cell_type": "code",
   "execution_count": 308,
   "id": "b0855961-ed3f-4437-8562-336b96a94778",
   "metadata": {},
   "outputs": [
    {
     "name": "stdout",
     "output_type": "stream",
     "text": [
      "[[1 2 3]\n",
      " [4 5 6]\n",
      " [7 8 9]\n",
      " [5 6 7]]\n"
     ]
    }
   ],
   "source": [
    "vertical_stack=np.vstack((a1,b1))\n",
    "print(vertical_stack)"
   ]
  },
  {
   "cell_type": "code",
   "execution_count": 310,
   "id": "7583cfaf-4a68-403d-bafc-4268ae0a1887",
   "metadata": {},
   "outputs": [
    {
     "name": "stdout",
     "output_type": "stream",
     "text": [
      "[[1 2 3 7 8 9]\n",
      " [4 5 6 5 6 7]]\n"
     ]
    }
   ],
   "source": [
    "#horizontally stacked\n",
    "horizontal_stack=np.hstack((a1,b1))\n",
    "print(horizontal_stack)"
   ]
  },
  {
   "cell_type": "code",
   "execution_count": 312,
   "id": "270060e4-f961-4978-b115-73816411f249",
   "metadata": {},
   "outputs": [
    {
     "name": "stdout",
     "output_type": "stream",
     "text": [
      "[[1 2 3]\n",
      " [4 5 6]]\n"
     ]
    }
   ],
   "source": [
    "print(a1)"
   ]
  },
  {
   "cell_type": "code",
   "execution_count": 314,
   "id": "3d202eec-4795-41d3-9704-b8d4ac772463",
   "metadata": {},
   "outputs": [
    {
     "name": "stdout",
     "output_type": "stream",
     "text": [
      "[array([[1, 2, 3]]), array([[4, 5, 6]])]\n"
     ]
    }
   ],
   "source": [
    "splitting=np.split(a1,2)\n",
    "print(splitting)"
   ]
  },
  {
   "cell_type": "code",
   "execution_count": 316,
   "id": "224dcd03-e90c-432c-b0c3-a849a331c863",
   "metadata": {},
   "outputs": [
    {
     "name": "stdout",
     "output_type": "stream",
     "text": [
      "[array([[1, 2, 3]]), array([[4, 5, 6]])]\n"
     ]
    }
   ],
   "source": [
    "splitting=np.vsplit(a1,2)\n",
    "print(splitting)"
   ]
  },
  {
   "cell_type": "code",
   "execution_count": 318,
   "id": "88ffd0a1-443d-4c54-a757-3b038a2208c5",
   "metadata": {},
   "outputs": [
    {
     "name": "stdout",
     "output_type": "stream",
     "text": [
      "[array([[1],\n",
      "       [4]]), array([[2],\n",
      "       [5]]), array([[3],\n",
      "       [6]])]\n"
     ]
    }
   ],
   "source": [
    "splitting=np.hsplit(a1,3)\n",
    "print(splitting)"
   ]
  },
  {
   "cell_type": "code",
   "execution_count": 320,
   "id": "ff1d51a1-961c-4272-8560-2980582738a6",
   "metadata": {},
   "outputs": [
    {
     "name": "stdout",
     "output_type": "stream",
     "text": [
      "[[5 4 4 7]\n",
      " [7 5 0 6]\n",
      " [4 3 7 6]]\n"
     ]
    }
   ],
   "source": [
    "arr=np.array([[5,4,4,7],[7,5,0,6],[4,3,7,6]])\n",
    "print(arr)"
   ]
  },
  {
   "cell_type": "code",
   "execution_count": 322,
   "id": "3bb32616-f548-40a0-9d54-fd193133cc94",
   "metadata": {},
   "outputs": [
    {
     "name": "stdout",
     "output_type": "stream",
     "text": [
      "[array([[5, 4, 4, 7]]), array([[7, 5, 0, 6]]), array([[4, 3, 7, 6]])]\n"
     ]
    }
   ],
   "source": [
    "#vertical splitting\n",
    "splitting=np.vsplit(arr,3)\n",
    "print(splitting)"
   ]
  },
  {
   "cell_type": "code",
   "execution_count": 324,
   "id": "d9ae6aee-3bf5-46c6-bab9-00fb8b34b9e8",
   "metadata": {},
   "outputs": [
    {
     "name": "stdout",
     "output_type": "stream",
     "text": [
      "[array([[5],\n",
      "       [7],\n",
      "       [4]]), array([[4],\n",
      "       [5],\n",
      "       [3]]), array([[4],\n",
      "       [0],\n",
      "       [7]]), array([[7],\n",
      "       [6],\n",
      "       [6]])]\n"
     ]
    }
   ],
   "source": [
    "#horizontal splitting\n",
    "splitting=np.hsplit(arr,4)\n",
    "print(splitting)"
   ]
  },
  {
   "cell_type": "code",
   "execution_count": 326,
   "id": "b2a4d5d2-387b-4074-bb0a-86de29686748",
   "metadata": {},
   "outputs": [
    {
     "name": "stdout",
     "output_type": "stream",
     "text": [
      "[[ 1  2  3  4]\n",
      " [ 5  6  7  8]\n",
      " [ 9 10 11 12]]\n"
     ]
    }
   ],
   "source": [
    "#view and copy fuctions\n",
    "a = np.array([[1, 2, 3, 4], [5, 6, 7, 8], [9, 10, 11, 12]])\n",
    "print(a)"
   ]
  },
  {
   "cell_type": "code",
   "execution_count": 328,
   "id": "d11022c4-be3f-4ec7-a8c6-9495811ca400",
   "metadata": {},
   "outputs": [
    {
     "name": "stdout",
     "output_type": "stream",
     "text": [
      "[1 2 3 4]\n"
     ]
    }
   ],
   "source": [
    "b=a[0,:]\n",
    "print(b)"
   ]
  },
  {
   "cell_type": "code",
   "execution_count": 330,
   "id": "68afe15d-74fd-43cd-99dd-79792f2f90ab",
   "metadata": {},
   "outputs": [
    {
     "name": "stdout",
     "output_type": "stream",
     "text": [
      "[90  2  3  4]\n"
     ]
    }
   ],
   "source": [
    "b[0]=90\n",
    "print(b)"
   ]
  },
  {
   "cell_type": "code",
   "execution_count": 332,
   "id": "1d0b3b62-11b4-4e26-83bc-fe208882a1f7",
   "metadata": {},
   "outputs": [
    {
     "name": "stdout",
     "output_type": "stream",
     "text": [
      "[[90  2  3  4]\n",
      " [ 5  6  7  8]\n",
      " [ 9 10 11 12]]\n"
     ]
    }
   ],
   "source": [
    "print(a)"
   ]
  },
  {
   "cell_type": "code",
   "execution_count": 334,
   "id": "1b0c4400-6a3a-4dbb-b8f0-479d0997a8f9",
   "metadata": {},
   "outputs": [
    {
     "name": "stdout",
     "output_type": "stream",
     "text": [
      "[[90  2  3  4]\n",
      " [ 5  6  7  8]\n",
      " [ 9 10 11 12]]\n"
     ]
    }
   ],
   "source": [
    "b1=a.copy()\n",
    "print(b1)"
   ]
  },
  {
   "cell_type": "code",
   "execution_count": 336,
   "id": "7bf54f23-0064-4c9a-87f1-c84ec1c40b01",
   "metadata": {},
   "outputs": [
    {
     "name": "stdout",
     "output_type": "stream",
     "text": [
      "[ 90 100   3   4]\n"
     ]
    }
   ],
   "source": [
    "b[1]=100\n",
    "print(b)"
   ]
  },
  {
   "cell_type": "code",
   "execution_count": 338,
   "id": "97a6fa6e-589a-4bf9-9ed2-dfb353d1bf1f",
   "metadata": {},
   "outputs": [
    {
     "name": "stdout",
     "output_type": "stream",
     "text": [
      "[[90  2  3  4]\n",
      " [ 5  6  7  8]\n",
      " [ 9 10 11 12]]\n"
     ]
    }
   ],
   "source": [
    "print(b1)"
   ]
  },
  {
   "cell_type": "code",
   "execution_count": 311,
   "id": "95de7d80-e361-4ae8-abd1-e49d2d76aa59",
   "metadata": {},
   "outputs": [
    {
     "name": "stdout",
     "output_type": "stream",
     "text": [
      "[[ 90 100   3   4]\n",
      " [  5   6   7   8]\n",
      " [  9  10  11  12]]\n"
     ]
    }
   ],
   "source": [
    "print(a)"
   ]
  },
  {
   "cell_type": "markdown",
   "id": "68c1dcff-c7c2-42c5-bd94-92a8f8e12aa6",
   "metadata": {},
   "source": [
    "# Unique fuction"
   ]
  },
  {
   "cell_type": "code",
   "execution_count": 209,
   "id": "c5dd7470-9e80-44dd-86b5-9f2e63460c87",
   "metadata": {},
   "outputs": [
    {
     "name": "stdout",
     "output_type": "stream",
     "text": [
      "[ 1  2  3  4  2  4  5  6  7  8  4  9 10 11 10 11  8  9 11  2  1 12 12 13]\n"
     ]
    }
   ],
   "source": [
    "u=np.array([1,2,3,4,2,4,5,6,7,8,4,9,10,11,10,11,8,9,11,2,1,12,12,13])\n",
    "print(u)"
   ]
  },
  {
   "cell_type": "code",
   "execution_count": 213,
   "id": "ed70d7f9-d417-46d7-a873-1bbdf70f4db7",
   "metadata": {},
   "outputs": [
    {
     "name": "stdout",
     "output_type": "stream",
     "text": [
      "[ 1  2  3  4  5  6  7  8  9 10 11 12 13]\n"
     ]
    }
   ],
   "source": [
    "unique_items=np.unique(u)\n",
    "print(unique_items)"
   ]
  },
  {
   "cell_type": "code",
   "execution_count": 223,
   "id": "90dff2e1-53e7-467b-8851-cf4186b579b2",
   "metadata": {},
   "outputs": [
    {
     "name": "stdout",
     "output_type": "stream",
     "text": [
      "(array([ 1,  2,  3,  4,  5,  6,  7,  8,  9, 10, 11, 12, 13]), array([ 0,  1,  2,  3,  6,  7,  8,  9, 11, 12, 13, 21, 23], dtype=int64))\n"
     ]
    }
   ],
   "source": [
    "#to get indexes of unique values\n",
    "index_values=np.unique(u,return_index=True)\n",
    "print(index_values)"
   ]
  },
  {
   "cell_type": "code",
   "execution_count": 225,
   "id": "f116cc1a-be23-4e30-b1ad-215d33f50215",
   "metadata": {},
   "outputs": [
    {
     "name": "stdout",
     "output_type": "stream",
     "text": [
      "(array([ 1,  2,  3,  4,  5,  6,  7,  8,  9, 10, 11, 12, 13]), array([2, 3, 1, 3, 1, 1, 1, 2, 2, 2, 3, 2, 1], dtype=int64))\n"
     ]
    }
   ],
   "source": [
    "#frequency count of unique values\n",
    "occurance_count=np.unique(u,return_counts=True)\n",
    "print(occurance_count)"
   ]
  },
  {
   "cell_type": "code",
   "execution_count": 229,
   "id": "8fcefe72-7059-474f-976f-2edc0265ec4a",
   "metadata": {},
   "outputs": [
    {
     "name": "stdout",
     "output_type": "stream",
     "text": [
      "(array([ 1,  2,  3,  4,  5,  6,  7,  8,  9, 10, 11, 12, 13]), array([ 0,  1,  2,  3,  6,  7,  8,  9, 11, 12, 13, 21, 23], dtype=int64), array([2, 3, 1, 3, 1, 1, 1, 2, 2, 2, 3, 2, 1], dtype=int64))\n"
     ]
    }
   ],
   "source": [
    "unique_items2=np.unique(u,return_index=True,return_counts=True)\n",
    "print(unique_items3)"
   ]
  },
  {
   "cell_type": "code",
   "execution_count": 233,
   "id": "0fc58be7-a20c-4c6f-b4eb-acff3bf5a6f9",
   "metadata": {},
   "outputs": [
    {
     "name": "stdout",
     "output_type": "stream",
     "text": [
      "[[ 1  2  3  4]\n",
      " [ 5  6  7  8]\n",
      " [ 9 10 11 12]\n",
      " [ 1  2  3  4]]\n"
     ]
    }
   ],
   "source": [
    "u2d=np.array([[1,2,3,4],[5,6,7,8],[9,10,11,12],[1,2,3,4]])\n",
    "print(u2d)"
   ]
  },
  {
   "cell_type": "code",
   "execution_count": 235,
   "id": "40a7e745-4073-4f17-b66f-5f346831ce89",
   "metadata": {},
   "outputs": [
    {
     "data": {
      "text/plain": [
       "array([ 1,  2,  3,  4,  5,  6,  7,  8,  9, 10, 11, 12])"
      ]
     },
     "execution_count": 235,
     "metadata": {},
     "output_type": "execute_result"
    }
   ],
   "source": [
    "uniq=np.unique(u2d)\n",
    "uniq"
   ]
  },
  {
   "cell_type": "code",
   "execution_count": 237,
   "id": "c9d6b82c-a653-4a2c-acc7-b09c119db392",
   "metadata": {},
   "outputs": [
    {
     "data": {
      "text/plain": [
       "(array([ 1,  2,  3,  4,  5,  6,  7,  8,  9, 10, 11, 12]),\n",
       " array([ 0,  1,  2,  3,  4,  5,  6,  7,  8,  9, 10, 11], dtype=int64),\n",
       " array([2, 2, 2, 2, 1, 1, 1, 1, 1, 1, 1, 1], dtype=int64))"
      ]
     },
     "execution_count": 237,
     "metadata": {},
     "output_type": "execute_result"
    }
   ],
   "source": [
    "uniq2=np.unique(u2d,return_index=True,return_counts=True)\n",
    "uniq2"
   ]
  },
  {
   "cell_type": "markdown",
   "id": "f0fe32ad-ec99-48cb-ad44-6884ae47824e",
   "metadata": {},
   "source": [
    "# flip fuction (reverse)"
   ]
  },
  {
   "cell_type": "code",
   "execution_count": 241,
   "id": "162aceb7-9dcb-48e4-9130-abdb3bc9c2fe",
   "metadata": {},
   "outputs": [
    {
     "name": "stdout",
     "output_type": "stream",
     "text": [
      "[6 5 4 3 2 1]\n"
     ]
    }
   ],
   "source": [
    "#1D array\n",
    "f1=np.array([1,2,3,4,5,6])\n",
    "flip1=np.flip(f1)\n",
    "print(flip1)"
   ]
  },
  {
   "cell_type": "code",
   "execution_count": 243,
   "id": "6500b7ed-a6db-42c4-a7c6-378d3e751efc",
   "metadata": {},
   "outputs": [
    {
     "name": "stdout",
     "output_type": "stream",
     "text": [
      "[[7 6 5]\n",
      " [5 4 3]\n",
      " [3 2 1]]\n"
     ]
    }
   ],
   "source": [
    "#2D array\n",
    "f2=np.array([[1,2,3],[3,4,5],[5,6,7]])\n",
    "flip2=np.flip(f2)\n",
    "print(flip2)"
   ]
  },
  {
   "cell_type": "code",
   "execution_count": 245,
   "id": "e5e69241-c5de-4f8e-9b49-341ff9caeee6",
   "metadata": {},
   "outputs": [
    {
     "name": "stdout",
     "output_type": "stream",
     "text": [
      "[[5 6 7]\n",
      " [3 4 5]\n",
      " [1 2 3]]\n"
     ]
    }
   ],
   "source": [
    "#reverse only rows\n",
    "flip3=np.flip(f2,axis=0)\n",
    "print(flip3)"
   ]
  },
  {
   "cell_type": "code",
   "execution_count": 249,
   "id": "adc9f437-5098-49ba-b10b-56764b9f3f8a",
   "metadata": {},
   "outputs": [
    {
     "name": "stdout",
     "output_type": "stream",
     "text": [
      "[[3 2 1]\n",
      " [5 4 3]\n",
      " [7 6 5]]\n"
     ]
    }
   ],
   "source": [
    "#reverse only columns\n",
    "flip4=np.flip(f2,axis=1)\n",
    "print(flip4)"
   ]
  },
  {
   "cell_type": "code",
   "execution_count": 251,
   "id": "318d5292-1769-4ed4-a791-761abc7faa6b",
   "metadata": {},
   "outputs": [
    {
     "name": "stdout",
     "output_type": "stream",
     "text": [
      "[1 2 3]\n"
     ]
    }
   ],
   "source": [
    "#reversing single row at index position\n",
    "flip5=f2[0]=np.flip(f2[0])\n",
    "print(flip5)"
   ]
  },
  {
   "cell_type": "code",
   "execution_count": 261,
   "id": "50acc71f-a8c1-4186-aef5-03f9683b6675",
   "metadata": {},
   "outputs": [
    {
     "name": "stdout",
     "output_type": "stream",
     "text": [
      "[5 6 7]\n"
     ]
    }
   ],
   "source": [
    "flip6=f2[2]=np.flip(f2[2])\n",
    "print(flip6)"
   ]
  },
  {
   "cell_type": "code",
   "execution_count": 271,
   "id": "83ae7675-f6d4-4bae-849f-22bd5cf68ca9",
   "metadata": {},
   "outputs": [
    {
     "name": "stdout",
     "output_type": "stream",
     "text": [
      "[6 4 2]\n"
     ]
    }
   ],
   "source": [
    "#reversing single column at index position\n",
    "flip7=f2[:,1]=np.flip(f2[:,1])\n",
    "print(flip7)"
   ]
  },
  {
   "cell_type": "code",
   "execution_count": null,
   "id": "21a1a688-e168-4092-89d6-76be1afb1a87",
   "metadata": {},
   "outputs": [],
   "source": []
  },
  {
   "cell_type": "code",
   "execution_count": null,
   "id": "43fc2c65-b2bd-4e2f-81c0-cbdb29fe7d63",
   "metadata": {},
   "outputs": [],
   "source": []
  }
 ],
 "metadata": {
  "kernelspec": {
   "display_name": "Python 3 (ipykernel)",
   "language": "python",
   "name": "python3"
  },
  "language_info": {
   "codemirror_mode": {
    "name": "ipython",
    "version": 3
   },
   "file_extension": ".py",
   "mimetype": "text/x-python",
   "name": "python",
   "nbconvert_exporter": "python",
   "pygments_lexer": "ipython3",
   "version": "3.12.7"
  }
 },
 "nbformat": 4,
 "nbformat_minor": 5
}
