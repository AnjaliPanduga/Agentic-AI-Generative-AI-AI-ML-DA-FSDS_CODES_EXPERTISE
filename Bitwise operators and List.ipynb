{
 "cells": [
  {
   "cell_type": "markdown",
   "id": "2f078acd-026c-4a39-99fc-912227beae47",
   "metadata": {},
   "source": [
    "21/10/25\n",
    "BITWISE OPERATOERS "
   ]
  },
  {
   "cell_type": "code",
   "execution_count": 2,
   "id": "a1b13e24-d371-40f0-88e7-aedb2df8da9e",
   "metadata": {},
   "outputs": [
    {
     "data": {
      "text/plain": [
       "-21"
      ]
     },
     "execution_count": 2,
     "metadata": {},
     "output_type": "execute_result"
    }
   ],
   "source": [
    "#complement operator \n",
    "~20"
   ]
  },
  {
   "cell_type": "code",
   "execution_count": 4,
   "id": "c9d3682f-37b6-4316-9a39-a9b7ba9b80a5",
   "metadata": {},
   "outputs": [
    {
     "name": "stdout",
     "output_type": "stream",
     "text": [
      "-101\n"
     ]
    }
   ],
   "source": [
    "print(~100)"
   ]
  },
  {
   "cell_type": "code",
   "execution_count": 6,
   "id": "0c74f562-33f7-4663-8d50-da465492286c",
   "metadata": {},
   "outputs": [
    {
     "name": "stdout",
     "output_type": "stream",
     "text": [
      "-1011\n"
     ]
    }
   ],
   "source": [
    "print(~1010)"
   ]
  },
  {
   "cell_type": "code",
   "execution_count": 8,
   "id": "bbb4d3f9-ba41-4ed8-abea-b93ce1dd0b65",
   "metadata": {},
   "outputs": [
    {
     "data": {
      "text/plain": [
       "-501"
      ]
     },
     "execution_count": 8,
     "metadata": {},
     "output_type": "execute_result"
    }
   ],
   "source": [
    "~500"
   ]
  },
  {
   "cell_type": "code",
   "execution_count": 10,
   "id": "7ce4568d-1c1a-42d0-8659-4f9853f2d285",
   "metadata": {},
   "outputs": [
    {
     "data": {
      "text/plain": [
       "-1"
      ]
     },
     "execution_count": 10,
     "metadata": {},
     "output_type": "execute_result"
    }
   ],
   "source": [
    "~0"
   ]
  },
  {
   "cell_type": "code",
   "execution_count": 32,
   "id": "cf3104bc-7616-4f27-a4a8-506d1c6a5197",
   "metadata": {},
   "outputs": [
    {
     "data": {
      "text/plain": [
       "'0b101'"
      ]
     },
     "execution_count": 32,
     "metadata": {},
     "output_type": "execute_result"
    }
   ],
   "source": [
    "#number systems\n",
    "#binary\n",
    "bin(5)"
   ]
  },
  {
   "cell_type": "code",
   "execution_count": 74,
   "id": "e8a14e72-5c80-4400-84bb-a2eca3947d66",
   "metadata": {},
   "outputs": [
    {
     "data": {
      "text/plain": [
       "'0b11111'"
      ]
     },
     "execution_count": 74,
     "metadata": {},
     "output_type": "execute_result"
    }
   ],
   "source": [
    "bin(31)"
   ]
  },
  {
   "cell_type": "code",
   "execution_count": 36,
   "id": "7efa5cea-8b9b-4602-b101-30af0888c2f4",
   "metadata": {},
   "outputs": [
    {
     "data": {
      "text/plain": [
       "'0b1111'"
      ]
     },
     "execution_count": 36,
     "metadata": {},
     "output_type": "execute_result"
    }
   ],
   "source": [
    "bin(15)"
   ]
  },
  {
   "cell_type": "code",
   "execution_count": 38,
   "id": "4691d1f8-1825-42e2-8da9-6b2df5c356da",
   "metadata": {},
   "outputs": [
    {
     "data": {
      "text/plain": [
       "'0b10100'"
      ]
     },
     "execution_count": 38,
     "metadata": {},
     "output_type": "execute_result"
    }
   ],
   "source": [
    "bin(20)"
   ]
  },
  {
   "cell_type": "code",
   "execution_count": 42,
   "id": "a4253470-9c73-4e8f-8e37-a648b8ed9cc6",
   "metadata": {},
   "outputs": [
    {
     "data": {
      "text/plain": [
       "'0b1100'"
      ]
     },
     "execution_count": 42,
     "metadata": {},
     "output_type": "execute_result"
    }
   ],
   "source": [
    "bin(12)"
   ]
  },
  {
   "cell_type": "code",
   "execution_count": 44,
   "id": "98359936-ba25-413d-a2db-8f22174a9c44",
   "metadata": {},
   "outputs": [
    {
     "data": {
      "text/plain": [
       "'0b10001'"
      ]
     },
     "execution_count": 44,
     "metadata": {},
     "output_type": "execute_result"
    }
   ],
   "source": [
    "bin(17)"
   ]
  },
  {
   "cell_type": "code",
   "execution_count": 46,
   "id": "da47d9e1-b7c1-44b3-b0ce-8980c0362f18",
   "metadata": {},
   "outputs": [
    {
     "data": {
      "text/plain": [
       "'0b10011'"
      ]
     },
     "execution_count": 46,
     "metadata": {},
     "output_type": "execute_result"
    }
   ],
   "source": [
    "bin(19)"
   ]
  },
  {
   "cell_type": "code",
   "execution_count": 72,
   "id": "50a5c618-d340-4e73-856a-6f718add6214",
   "metadata": {},
   "outputs": [
    {
     "data": {
      "text/plain": [
       "'0b1010'"
      ]
     },
     "execution_count": 72,
     "metadata": {},
     "output_type": "execute_result"
    }
   ],
   "source": [
    "bin(10)\n"
   ]
  },
  {
   "cell_type": "code",
   "execution_count": 70,
   "id": "9725b1e4-3df0-4da6-ba4f-c9ff1c43baf5",
   "metadata": {},
   "outputs": [
    {
     "data": {
      "text/plain": [
       "10"
      ]
     },
     "execution_count": 70,
     "metadata": {},
     "output_type": "execute_result"
    }
   ],
   "source": [
    "binary_num=\"1010\"\n",
    "int(binary_num,2)"
   ]
  },
  {
   "cell_type": "code",
   "execution_count": 40,
   "id": "a47d5540-3044-4507-9581-765b5127f4f7",
   "metadata": {},
   "outputs": [
    {
     "data": {
      "text/plain": [
       "'0o5'"
      ]
     },
     "execution_count": 40,
     "metadata": {},
     "output_type": "execute_result"
    }
   ],
   "source": [
    "#octal\n",
    "oct(5)"
   ]
  },
  {
   "cell_type": "code",
   "execution_count": 50,
   "id": "4b2b95dd-f55e-4545-937b-5e722e29d496",
   "metadata": {},
   "outputs": [
    {
     "data": {
      "text/plain": [
       "'0o12'"
      ]
     },
     "execution_count": 50,
     "metadata": {},
     "output_type": "execute_result"
    }
   ],
   "source": [
    "oct(10)"
   ]
  },
  {
   "cell_type": "code",
   "execution_count": 52,
   "id": "1bdeb4c6-4262-4bbd-a694-debd7a4ca963",
   "metadata": {},
   "outputs": [
    {
     "data": {
      "text/plain": [
       "'0o24'"
      ]
     },
     "execution_count": 52,
     "metadata": {},
     "output_type": "execute_result"
    }
   ],
   "source": [
    "oct(20)"
   ]
  },
  {
   "cell_type": "code",
   "execution_count": 54,
   "id": "87d72dfd-e079-4e77-845e-3436e023101d",
   "metadata": {},
   "outputs": [
    {
     "data": {
      "text/plain": [
       "'0o372'"
      ]
     },
     "execution_count": 54,
     "metadata": {},
     "output_type": "execute_result"
    }
   ],
   "source": [
    "oct(250)"
   ]
  },
  {
   "cell_type": "code",
   "execution_count": 68,
   "id": "fc424e3c-0a7a-4781-a26f-5a1fcbff1be9",
   "metadata": {},
   "outputs": [
    {
     "data": {
      "text/plain": [
       "'0o10'"
      ]
     },
     "execution_count": 68,
     "metadata": {},
     "output_type": "execute_result"
    }
   ],
   "source": [
    "oct(8)"
   ]
  },
  {
   "cell_type": "code",
   "execution_count": 80,
   "id": "d589fd58-4ebd-49ce-8426-c71871487e26",
   "metadata": {},
   "outputs": [
    {
     "data": {
      "text/plain": [
       "10"
      ]
     },
     "execution_count": 80,
     "metadata": {},
     "output_type": "execute_result"
    }
   ],
   "source": [
    "#decimal\n",
    "int(0b1010)"
   ]
  },
  {
   "cell_type": "code",
   "execution_count": 82,
   "id": "8535d2f9-0aef-4692-93c3-6f932058aef0",
   "metadata": {},
   "outputs": [
    {
     "data": {
      "text/plain": [
       "25"
      ]
     },
     "execution_count": 82,
     "metadata": {},
     "output_type": "execute_result"
    }
   ],
   "source": [
    "int(0o31)"
   ]
  },
  {
   "cell_type": "code",
   "execution_count": 84,
   "id": "3f485c52-8bf7-4db5-a8a2-6a9c6475d81a",
   "metadata": {},
   "outputs": [
    {
     "data": {
      "text/plain": [
       "'0b11001'"
      ]
     },
     "execution_count": 84,
     "metadata": {},
     "output_type": "execute_result"
    }
   ],
   "source": [
    "bin(25)"
   ]
  },
  {
   "cell_type": "code",
   "execution_count": 86,
   "id": "97fdffff-9753-486a-8d13-cd2d4f3a6a26",
   "metadata": {},
   "outputs": [
    {
     "data": {
      "text/plain": [
       "25"
      ]
     },
     "execution_count": 86,
     "metadata": {},
     "output_type": "execute_result"
    }
   ],
   "source": [
    "int(0b11001)"
   ]
  },
  {
   "cell_type": "code",
   "execution_count": 88,
   "id": "eca4e178-ac46-4d1b-8103-c2dc9d53991e",
   "metadata": {},
   "outputs": [
    {
     "data": {
      "text/plain": [
       "'0b101'"
      ]
     },
     "execution_count": 88,
     "metadata": {},
     "output_type": "execute_result"
    }
   ],
   "source": [
    "bin(5)"
   ]
  },
  {
   "cell_type": "code",
   "execution_count": 90,
   "id": "66ed8dbc-65c8-4d7a-98e6-8d714cdad195",
   "metadata": {},
   "outputs": [
    {
     "data": {
      "text/plain": [
       "5"
      ]
     },
     "execution_count": 90,
     "metadata": {},
     "output_type": "execute_result"
    }
   ],
   "source": [
    "int(0b101)"
   ]
  },
  {
   "cell_type": "code",
   "execution_count": 92,
   "id": "b6d00e9c-844c-469c-bc12-1944a9edd2a5",
   "metadata": {},
   "outputs": [
    {
     "data": {
      "text/plain": [
       "'0xa'"
      ]
     },
     "execution_count": 92,
     "metadata": {},
     "output_type": "execute_result"
    }
   ],
   "source": [
    "#hexadecimal \n",
    "hex(10)"
   ]
  },
  {
   "cell_type": "code",
   "execution_count": 94,
   "id": "f94c3b56-b1fe-4c5b-b762-5aaeac408a10",
   "metadata": {},
   "outputs": [
    {
     "data": {
      "text/plain": [
       "'0x5'"
      ]
     },
     "execution_count": 94,
     "metadata": {},
     "output_type": "execute_result"
    }
   ],
   "source": [
    "hex(5)"
   ]
  },
  {
   "cell_type": "code",
   "execution_count": 96,
   "id": "7c4db08e-b960-45ab-ab49-04ceb158983d",
   "metadata": {},
   "outputs": [
    {
     "data": {
      "text/plain": [
       "'0xf'"
      ]
     },
     "execution_count": 96,
     "metadata": {},
     "output_type": "execute_result"
    }
   ],
   "source": [
    "hex(15)"
   ]
  },
  {
   "cell_type": "code",
   "execution_count": 98,
   "id": "a66a3793-7855-4ae4-98e0-cd47469c3d82",
   "metadata": {},
   "outputs": [
    {
     "data": {
      "text/plain": [
       "'0x32'"
      ]
     },
     "execution_count": 98,
     "metadata": {},
     "output_type": "execute_result"
    }
   ],
   "source": [
    "hex(50)"
   ]
  },
  {
   "cell_type": "code",
   "execution_count": 100,
   "id": "6bd72bf8-dbae-43c3-a8c6-3939c2a5a918",
   "metadata": {},
   "outputs": [
    {
     "data": {
      "text/plain": [
       "'0x12'"
      ]
     },
     "execution_count": 100,
     "metadata": {},
     "output_type": "execute_result"
    }
   ],
   "source": [
    "hex(18)"
   ]
  },
  {
   "cell_type": "code",
   "execution_count": 102,
   "id": "f502af92-a2f0-4124-8a9f-c2922abc4bb8",
   "metadata": {},
   "outputs": [
    {
     "data": {
      "text/plain": [
       "'0x10'"
      ]
     },
     "execution_count": 102,
     "metadata": {},
     "output_type": "execute_result"
    }
   ],
   "source": [
    "hex(16)"
   ]
  },
  {
   "cell_type": "code",
   "execution_count": 104,
   "id": "613a3405-ad77-43ed-9075-87c8e78eeca7",
   "metadata": {},
   "outputs": [
    {
     "data": {
      "text/plain": [
       "'0xfa'"
      ]
     },
     "execution_count": 104,
     "metadata": {},
     "output_type": "execute_result"
    }
   ],
   "source": [
    "hex(250)"
   ]
  },
  {
   "cell_type": "code",
   "execution_count": 106,
   "id": "e3ba9c11-a04e-4bd3-a852-e08b1e41ab50",
   "metadata": {},
   "outputs": [
    {
     "data": {
      "text/plain": [
       "'0x78'"
      ]
     },
     "execution_count": 106,
     "metadata": {},
     "output_type": "execute_result"
    }
   ],
   "source": [
    "hex(120)"
   ]
  },
  {
   "cell_type": "code",
   "execution_count": 18,
   "id": "41b02445-456e-4873-824e-5201c03b4ab6",
   "metadata": {},
   "outputs": [
    {
     "name": "stdout",
     "output_type": "stream",
     "text": [
      "12\n"
     ]
    }
   ],
   "source": [
    "#and operator (&)\n",
    "print(12 & 13)"
   ]
  },
  {
   "cell_type": "code",
   "execution_count": 108,
   "id": "87379a2c-3829-4e5d-a783-73aa19733d27",
   "metadata": {},
   "outputs": [
    {
     "data": {
      "text/plain": [
       "'0b1100'"
      ]
     },
     "execution_count": 108,
     "metadata": {},
     "output_type": "execute_result"
    }
   ],
   "source": [
    "bin(12)"
   ]
  },
  {
   "cell_type": "code",
   "execution_count": 110,
   "id": "fc4792d2-3a7e-4507-a958-3670205768bf",
   "metadata": {},
   "outputs": [
    {
     "data": {
      "text/plain": [
       "'0b1101'"
      ]
     },
     "execution_count": 110,
     "metadata": {},
     "output_type": "execute_result"
    }
   ],
   "source": [
    "bin(13)"
   ]
  },
  {
   "cell_type": "code",
   "execution_count": 112,
   "id": "a50921e2-3fac-44dc-9e9d-6fb39d8f1e73",
   "metadata": {},
   "outputs": [
    {
     "data": {
      "text/plain": [
       "12"
      ]
     },
     "execution_count": 112,
     "metadata": {},
     "output_type": "execute_result"
    }
   ],
   "source": [
    "12 & 13"
   ]
  },
  {
   "cell_type": "code",
   "execution_count": 114,
   "id": "1547c270-6fe3-470e-a9ff-dc0913c1205a",
   "metadata": {},
   "outputs": [
    {
     "data": {
      "text/plain": [
       "'0b1010'"
      ]
     },
     "execution_count": 114,
     "metadata": {},
     "output_type": "execute_result"
    }
   ],
   "source": [
    "bin(10)"
   ]
  },
  {
   "cell_type": "code",
   "execution_count": 116,
   "id": "a0f3ef09-770c-43c7-adaa-8b42130e5f62",
   "metadata": {},
   "outputs": [
    {
     "data": {
      "text/plain": [
       "'0b10100'"
      ]
     },
     "execution_count": 116,
     "metadata": {},
     "output_type": "execute_result"
    }
   ],
   "source": [
    "bin(20)"
   ]
  },
  {
   "cell_type": "code",
   "execution_count": 118,
   "id": "bff07189-b49f-442a-8b75-bc30a3c09482",
   "metadata": {},
   "outputs": [
    {
     "data": {
      "text/plain": [
       "0"
      ]
     },
     "execution_count": 118,
     "metadata": {},
     "output_type": "execute_result"
    }
   ],
   "source": [
    "10 & 20"
   ]
  },
  {
   "cell_type": "code",
   "execution_count": 120,
   "id": "5dad88a9-ee20-4641-8213-cc0cb855929c",
   "metadata": {},
   "outputs": [
    {
     "data": {
      "text/plain": [
       "'0b1100100'"
      ]
     },
     "execution_count": 120,
     "metadata": {},
     "output_type": "execute_result"
    }
   ],
   "source": [
    "bin(100)"
   ]
  },
  {
   "cell_type": "code",
   "execution_count": 122,
   "id": "0cf59394-32df-46f7-b7bc-cc2f92d0b95c",
   "metadata": {},
   "outputs": [
    {
     "data": {
      "text/plain": [
       "'0b1111000'"
      ]
     },
     "execution_count": 122,
     "metadata": {},
     "output_type": "execute_result"
    }
   ],
   "source": [
    "bin(120)"
   ]
  },
  {
   "cell_type": "code",
   "execution_count": 124,
   "id": "fbff22bb-7f36-4cd6-8842-f501d3ba7d65",
   "metadata": {},
   "outputs": [
    {
     "data": {
      "text/plain": [
       "96"
      ]
     },
     "execution_count": 124,
     "metadata": {},
     "output_type": "execute_result"
    }
   ],
   "source": [
    "100 & 120"
   ]
  },
  {
   "cell_type": "code",
   "execution_count": 126,
   "id": "37955345-f23a-4752-8fa5-a189dc1688d8",
   "metadata": {},
   "outputs": [
    {
     "data": {
      "text/plain": [
       "17"
      ]
     },
     "execution_count": 126,
     "metadata": {},
     "output_type": "execute_result"
    }
   ],
   "source": [
    "17 & 19"
   ]
  },
  {
   "cell_type": "code",
   "execution_count": 128,
   "id": "f6300b36-385f-4aa5-8934-e0b8823cd463",
   "metadata": {},
   "outputs": [
    {
     "data": {
      "text/plain": [
       "30"
      ]
     },
     "execution_count": 128,
     "metadata": {},
     "output_type": "execute_result"
    }
   ],
   "source": [
    "30 & 31"
   ]
  },
  {
   "cell_type": "code",
   "execution_count": 130,
   "id": "e1cc9e71-292e-4b88-83b1-b98db0f8743a",
   "metadata": {},
   "outputs": [
    {
     "data": {
      "text/plain": [
       "16"
      ]
     },
     "execution_count": 130,
     "metadata": {},
     "output_type": "execute_result"
    }
   ],
   "source": [
    "20 & 80"
   ]
  },
  {
   "cell_type": "code",
   "execution_count": 132,
   "id": "c14de4b8-e0f4-4d7e-8174-bb4149ab30f5",
   "metadata": {},
   "outputs": [
    {
     "data": {
      "text/plain": [
       "40"
      ]
     },
     "execution_count": 132,
     "metadata": {},
     "output_type": "execute_result"
    }
   ],
   "source": [
    "41 & 42"
   ]
  },
  {
   "cell_type": "code",
   "execution_count": 136,
   "id": "504bfbb7-6567-4594-9f78-53bec4313761",
   "metadata": {},
   "outputs": [
    {
     "data": {
      "text/plain": [
       "13"
      ]
     },
     "execution_count": 136,
     "metadata": {},
     "output_type": "execute_result"
    }
   ],
   "source": [
    "#or operator (|)\n",
    "bin(12)\n",
    "bin(13)\n",
    "12 | 13"
   ]
  },
  {
   "cell_type": "code",
   "execution_count": 138,
   "id": "b1354d1a-a8f5-4276-89bb-fb573b2e87f1",
   "metadata": {},
   "outputs": [
    {
     "data": {
      "text/plain": [
       "19"
      ]
     },
     "execution_count": 138,
     "metadata": {},
     "output_type": "execute_result"
    }
   ],
   "source": [
    "17 | 19"
   ]
  },
  {
   "cell_type": "code",
   "execution_count": 140,
   "id": "dec56a68-f35d-4213-bcf6-833b4c4617ae",
   "metadata": {},
   "outputs": [
    {
     "name": "stdout",
     "output_type": "stream",
     "text": [
      "0b10001\n",
      "0b10011\n"
     ]
    },
    {
     "data": {
      "text/plain": [
       "19"
      ]
     },
     "execution_count": 140,
     "metadata": {},
     "output_type": "execute_result"
    }
   ],
   "source": [
    "print(bin(17))\n",
    "print(bin(19))\n",
    "17 | 19\n"
   ]
  },
  {
   "cell_type": "code",
   "execution_count": 142,
   "id": "a9cb1872-b240-4fe5-b864-73406746fe4e",
   "metadata": {},
   "outputs": [
    {
     "name": "stdout",
     "output_type": "stream",
     "text": [
      "0b11111\n",
      "0b100000\n"
     ]
    },
    {
     "data": {
      "text/plain": [
       "63"
      ]
     },
     "execution_count": 142,
     "metadata": {},
     "output_type": "execute_result"
    }
   ],
   "source": [
    "print(bin(31))\n",
    "print(bin(32))\n",
    "31 | 32"
   ]
  },
  {
   "cell_type": "code",
   "execution_count": 144,
   "id": "36ac3287-ca24-43cf-84ee-6a8a4b076610",
   "metadata": {},
   "outputs": [
    {
     "name": "stdout",
     "output_type": "stream",
     "text": [
      "0b10100\n",
      "0b11110\n"
     ]
    },
    {
     "data": {
      "text/plain": [
       "30"
      ]
     },
     "execution_count": 144,
     "metadata": {},
     "output_type": "execute_result"
    }
   ],
   "source": [
    "print(bin(20))\n",
    "print(bin(30))\n",
    "20 | 30 "
   ]
  },
  {
   "cell_type": "code",
   "execution_count": 146,
   "id": "01768666-aba3-4c13-8850-ebb85432db47",
   "metadata": {},
   "outputs": [
    {
     "name": "stdout",
     "output_type": "stream",
     "text": [
      "0b1100\n",
      "0b1101\n"
     ]
    },
    {
     "data": {
      "text/plain": [
       "1"
      ]
     },
     "execution_count": 146,
     "metadata": {},
     "output_type": "execute_result"
    }
   ],
   "source": [
    "#xor (exclusive or-(^))\n",
    "print(bin(12))\n",
    "print(bin(13))\n",
    "12 ^ 13"
   ]
  },
  {
   "cell_type": "code",
   "execution_count": 148,
   "id": "5ce66cf7-fcbd-4c88-b21f-9c7dec14763e",
   "metadata": {},
   "outputs": [
    {
     "name": "stdout",
     "output_type": "stream",
     "text": [
      "0b11001\n",
      "0b11110\n"
     ]
    },
    {
     "data": {
      "text/plain": [
       "7"
      ]
     },
     "execution_count": 148,
     "metadata": {},
     "output_type": "execute_result"
    }
   ],
   "source": [
    "print(bin(25))\n",
    "print(bin(30))\n",
    "25 ^ 30"
   ]
  },
  {
   "cell_type": "code",
   "execution_count": 150,
   "id": "7538ed31-0cbe-4b71-b561-08f63f137dc5",
   "metadata": {},
   "outputs": [
    {
     "name": "stdout",
     "output_type": "stream",
     "text": [
      "0b10010\n",
      "0b10101\n"
     ]
    },
    {
     "data": {
      "text/plain": [
       "7"
      ]
     },
     "execution_count": 150,
     "metadata": {},
     "output_type": "execute_result"
    }
   ],
   "source": [
    "print(bin(18))\n",
    "print(bin(21))\n",
    "18 ^ 21"
   ]
  },
  {
   "cell_type": "code",
   "execution_count": 152,
   "id": "4cfe4387-21c0-4ff1-95fc-92da32e57529",
   "metadata": {},
   "outputs": [
    {
     "name": "stdout",
     "output_type": "stream",
     "text": [
      "0b1000010\n",
      "0b100011\n"
     ]
    },
    {
     "data": {
      "text/plain": [
       "97"
      ]
     },
     "execution_count": 152,
     "metadata": {},
     "output_type": "execute_result"
    }
   ],
   "source": [
    "print(bin(66))\n",
    "print(bin(35))\n",
    "66 ^ 35"
   ]
  },
  {
   "cell_type": "code",
   "execution_count": 162,
   "id": "723a43b5-8275-4686-9455-9851f0796832",
   "metadata": {},
   "outputs": [
    {
     "data": {
      "text/plain": [
       "97"
      ]
     },
     "execution_count": 162,
     "metadata": {},
     "output_type": "execute_result"
    }
   ],
   "source": [
    "int(0b1100001)"
   ]
  },
  {
   "cell_type": "code",
   "execution_count": 166,
   "id": "448397ed-657e-473b-a38a-85da451ba6fc",
   "metadata": {},
   "outputs": [
    {
     "name": "stdout",
     "output_type": "stream",
     "text": [
      "0b1010\n",
      "0b10100\n"
     ]
    },
    {
     "data": {
      "text/plain": [
       "30"
      ]
     },
     "execution_count": 166,
     "metadata": {},
     "output_type": "execute_result"
    }
   ],
   "source": [
    "print(bin(10))\n",
    "print(bin(20))\n",
    "10 ^ 20"
   ]
  },
  {
   "cell_type": "code",
   "execution_count": 168,
   "id": "4caef951-d55f-437d-b0a9-46b05ec9c884",
   "metadata": {},
   "outputs": [
    {
     "data": {
      "text/plain": [
       "30"
      ]
     },
     "execution_count": 168,
     "metadata": {},
     "output_type": "execute_result"
    }
   ],
   "source": [
    "int(0b11110)"
   ]
  },
  {
   "cell_type": "code",
   "execution_count": 170,
   "id": "4cb43826-bce5-47ae-bde7-cea652bf72a6",
   "metadata": {},
   "outputs": [
    {
     "data": {
      "text/plain": [
       "20"
      ]
     },
     "execution_count": 170,
     "metadata": {},
     "output_type": "execute_result"
    }
   ],
   "source": [
    "#left shift\n",
    "10<<1"
   ]
  },
  {
   "cell_type": "code",
   "execution_count": 178,
   "id": "5f6b6d10-73d4-41b5-a743-5cc80c9be6f0",
   "metadata": {},
   "outputs": [
    {
     "data": {
      "text/plain": [
       "'0b1010'"
      ]
     },
     "execution_count": 178,
     "metadata": {},
     "output_type": "execute_result"
    }
   ],
   "source": [
    "bin(10)"
   ]
  },
  {
   "cell_type": "code",
   "execution_count": 180,
   "id": "33db6782-d2eb-42a5-acb3-336e4345bb8d",
   "metadata": {},
   "outputs": [
    {
     "data": {
      "text/plain": [
       "20"
      ]
     },
     "execution_count": 180,
     "metadata": {},
     "output_type": "execute_result"
    }
   ],
   "source": [
    "int(0b10100)"
   ]
  },
  {
   "cell_type": "code",
   "execution_count": 174,
   "id": "5a901283-4bb7-4ab2-960f-4bcc4455d1bb",
   "metadata": {},
   "outputs": [
    {
     "data": {
      "text/plain": [
       "40"
      ]
     },
     "execution_count": 174,
     "metadata": {},
     "output_type": "execute_result"
    }
   ],
   "source": [
    "10<<2"
   ]
  },
  {
   "cell_type": "code",
   "execution_count": 182,
   "id": "5d7da693-bcb0-4051-8944-058494fea596",
   "metadata": {},
   "outputs": [
    {
     "data": {
      "text/plain": [
       "'0b1010'"
      ]
     },
     "execution_count": 182,
     "metadata": {},
     "output_type": "execute_result"
    }
   ],
   "source": [
    "bin(10)"
   ]
  },
  {
   "cell_type": "code",
   "execution_count": 184,
   "id": "28704803-6f68-4c5e-a30e-0660a3c129ab",
   "metadata": {},
   "outputs": [
    {
     "data": {
      "text/plain": [
       "40"
      ]
     },
     "execution_count": 184,
     "metadata": {},
     "output_type": "execute_result"
    }
   ],
   "source": [
    "int(0b101000)"
   ]
  },
  {
   "cell_type": "code",
   "execution_count": 208,
   "id": "cc7ad364-07f6-4aae-8488-add91d12d501",
   "metadata": {},
   "outputs": [
    {
     "data": {
      "text/plain": [
       "43"
      ]
     },
     "execution_count": 208,
     "metadata": {},
     "output_type": "execute_result"
    }
   ],
   "source": [
    "int(0b101011)"
   ]
  },
  {
   "cell_type": "code",
   "execution_count": 176,
   "id": "0b4bc71f-e85d-49d3-a935-125449bf066b",
   "metadata": {},
   "outputs": [
    {
     "data": {
      "text/plain": [
       "32"
      ]
     },
     "execution_count": 176,
     "metadata": {},
     "output_type": "execute_result"
    }
   ],
   "source": [
    "1<<5"
   ]
  },
  {
   "cell_type": "code",
   "execution_count": 186,
   "id": "85c32840-f93b-4b6c-852d-b1777724e840",
   "metadata": {},
   "outputs": [
    {
     "data": {
      "text/plain": [
       "'0b1'"
      ]
     },
     "execution_count": 186,
     "metadata": {},
     "output_type": "execute_result"
    }
   ],
   "source": [
    "bin(1)"
   ]
  },
  {
   "cell_type": "code",
   "execution_count": 188,
   "id": "e5b49efa-67b6-4cd1-b3fb-054c59bf9ab8",
   "metadata": {},
   "outputs": [
    {
     "data": {
      "text/plain": [
       "32"
      ]
     },
     "execution_count": 188,
     "metadata": {},
     "output_type": "execute_result"
    }
   ],
   "source": [
    "int(0b100000)"
   ]
  },
  {
   "cell_type": "code",
   "execution_count": 202,
   "id": "fd4957c8-37a9-47f4-8979-d00271d5955b",
   "metadata": {},
   "outputs": [
    {
     "data": {
      "text/plain": [
       "224"
      ]
     },
     "execution_count": 202,
     "metadata": {},
     "output_type": "execute_result"
    }
   ],
   "source": [
    "7<<5"
   ]
  },
  {
   "cell_type": "code",
   "execution_count": 204,
   "id": "49bb2cae-3b56-4146-919c-18e5aae62784",
   "metadata": {},
   "outputs": [
    {
     "data": {
      "text/plain": [
       "'0b111'"
      ]
     },
     "execution_count": 204,
     "metadata": {},
     "output_type": "execute_result"
    }
   ],
   "source": [
    "bin(7)"
   ]
  },
  {
   "cell_type": "code",
   "execution_count": 206,
   "id": "d04127f7-c23a-42fa-a3a1-b90c568bee41",
   "metadata": {},
   "outputs": [
    {
     "data": {
      "text/plain": [
       "224"
      ]
     },
     "execution_count": 206,
     "metadata": {},
     "output_type": "execute_result"
    }
   ],
   "source": [
    "int(0b11100000)"
   ]
  },
  {
   "cell_type": "code",
   "execution_count": 190,
   "id": "416ecfd1-cc7b-41aa-8c3b-a08c3594ca43",
   "metadata": {},
   "outputs": [
    {
     "data": {
      "text/plain": [
       "5"
      ]
     },
     "execution_count": 190,
     "metadata": {},
     "output_type": "execute_result"
    }
   ],
   "source": [
    "#right shift\n",
    "10>>1"
   ]
  },
  {
   "cell_type": "code",
   "execution_count": 192,
   "id": "a195040c-bea9-414b-be60-1876b4c6b4d9",
   "metadata": {},
   "outputs": [
    {
     "data": {
      "text/plain": [
       "'0b1010'"
      ]
     },
     "execution_count": 192,
     "metadata": {},
     "output_type": "execute_result"
    }
   ],
   "source": [
    "bin(10)"
   ]
  },
  {
   "cell_type": "code",
   "execution_count": 194,
   "id": "9b32e925-c0d5-44b5-b352-33f80d4c2bec",
   "metadata": {},
   "outputs": [
    {
     "data": {
      "text/plain": [
       "5"
      ]
     },
     "execution_count": 194,
     "metadata": {},
     "output_type": "execute_result"
    }
   ],
   "source": [
    "int(0b101)"
   ]
  },
  {
   "cell_type": "code",
   "execution_count": 196,
   "id": "6c739535-97c2-4ebc-b376-fc2d79c03f99",
   "metadata": {},
   "outputs": [
    {
     "data": {
      "text/plain": [
       "2"
      ]
     },
     "execution_count": 196,
     "metadata": {},
     "output_type": "execute_result"
    }
   ],
   "source": [
    "10>>2"
   ]
  },
  {
   "cell_type": "code",
   "execution_count": 198,
   "id": "cb0d2605-ee36-4aba-89b0-f4b1a1ebebb4",
   "metadata": {},
   "outputs": [
    {
     "data": {
      "text/plain": [
       "'0b1010'"
      ]
     },
     "execution_count": 198,
     "metadata": {},
     "output_type": "execute_result"
    }
   ],
   "source": [
    "bin(10)"
   ]
  },
  {
   "cell_type": "code",
   "execution_count": 200,
   "id": "b1c69b6a-63d1-41d7-813c-cd07219cdf6e",
   "metadata": {},
   "outputs": [
    {
     "data": {
      "text/plain": [
       "2"
      ]
     },
     "execution_count": 200,
     "metadata": {},
     "output_type": "execute_result"
    }
   ],
   "source": [
    "int(0b10)"
   ]
  },
  {
   "cell_type": "code",
   "execution_count": 210,
   "id": "9f3c2f0e-b80b-452d-9a3d-93bc353c449a",
   "metadata": {},
   "outputs": [
    {
     "data": {
      "text/plain": [
       "1"
      ]
     },
     "execution_count": 210,
     "metadata": {},
     "output_type": "execute_result"
    }
   ],
   "source": [
    "23>>4"
   ]
  },
  {
   "cell_type": "code",
   "execution_count": 212,
   "id": "8cf3d03b-74a3-4a1d-af7d-42201d6c2856",
   "metadata": {},
   "outputs": [
    {
     "data": {
      "text/plain": [
       "'0b10111'"
      ]
     },
     "execution_count": 212,
     "metadata": {},
     "output_type": "execute_result"
    }
   ],
   "source": [
    "bin(23)"
   ]
  },
  {
   "cell_type": "code",
   "execution_count": 214,
   "id": "a39b60e7-e13d-43f6-9586-7f096add314d",
   "metadata": {},
   "outputs": [
    {
     "data": {
      "text/plain": [
       "1"
      ]
     },
     "execution_count": 214,
     "metadata": {},
     "output_type": "execute_result"
    }
   ],
   "source": [
    "int(0b1)"
   ]
  },
  {
   "cell_type": "code",
   "execution_count": 216,
   "id": "73fbb71a-30f1-4c85-894d-3e27d7677cca",
   "metadata": {},
   "outputs": [
    {
     "data": {
      "text/plain": [
       "6"
      ]
     },
     "execution_count": 216,
     "metadata": {},
     "output_type": "execute_result"
    }
   ],
   "source": [
    "27>>2"
   ]
  },
  {
   "cell_type": "code",
   "execution_count": 218,
   "id": "2488e82d-2399-471d-8721-8d080c5aaaf9",
   "metadata": {},
   "outputs": [
    {
     "data": {
      "text/plain": [
       "'0b11011'"
      ]
     },
     "execution_count": 218,
     "metadata": {},
     "output_type": "execute_result"
    }
   ],
   "source": [
    "bin(27)"
   ]
  },
  {
   "cell_type": "code",
   "execution_count": 220,
   "id": "a9a879d5-e5b8-4783-89bc-bd47c6f011be",
   "metadata": {},
   "outputs": [
    {
     "data": {
      "text/plain": [
       "6"
      ]
     },
     "execution_count": 220,
     "metadata": {},
     "output_type": "execute_result"
    }
   ],
   "source": [
    "int(0b110)"
   ]
  },
  {
   "cell_type": "code",
   "execution_count": 224,
   "id": "cb580cbc-3811-4504-b325-1c40bb24fe64",
   "metadata": {},
   "outputs": [
    {
     "data": {
      "text/plain": [
       "3"
      ]
     },
     "execution_count": 224,
     "metadata": {},
     "output_type": "execute_result"
    }
   ],
   "source": [
    "100>>5"
   ]
  },
  {
   "cell_type": "code",
   "execution_count": 226,
   "id": "8db11c1a-6a31-4385-8db7-27b7afca106a",
   "metadata": {},
   "outputs": [
    {
     "data": {
      "text/plain": [
       "'0b1100100'"
      ]
     },
     "execution_count": 226,
     "metadata": {},
     "output_type": "execute_result"
    }
   ],
   "source": [
    "bin(100)"
   ]
  },
  {
   "cell_type": "code",
   "execution_count": 228,
   "id": "1164c341-03b0-451f-b8ff-c4097aa55a6b",
   "metadata": {},
   "outputs": [
    {
     "data": {
      "text/plain": [
       "3"
      ]
     },
     "execution_count": 228,
     "metadata": {},
     "output_type": "execute_result"
    }
   ],
   "source": [
    "int(0b11)"
   ]
  },
  {
   "cell_type": "code",
   "execution_count": null,
   "id": "03ca77c0-99fe-4f79-aa2f-b60b1b7ae650",
   "metadata": {},
   "outputs": [],
   "source": []
  },
  {
   "cell_type": "markdown",
   "id": "cbab5b0b-b6e9-4952-9373-21c608586aa1",
   "metadata": {},
   "source": [
    "22/10/25\n",
    "DATA STRUCTURES"
   ]
  },
  {
   "cell_type": "markdown",
   "id": "1dd33fdb-9c91-4a11-9e79-961977b4116e",
   "metadata": {},
   "source": [
    "LIST"
   ]
  },
  {
   "cell_type": "code",
   "execution_count": 232,
   "id": "aa289f6b-ba34-41aa-9e8f-e726c8baa9c3",
   "metadata": {},
   "outputs": [
    {
     "data": {
      "text/plain": [
       "[10, 20, 30, 40, 50, 60, 70]"
      ]
     },
     "execution_count": 232,
     "metadata": {},
     "output_type": "execute_result"
    }
   ],
   "source": [
    "l=[10,20,30,40,50,60,70]\n",
    "l"
   ]
  },
  {
   "cell_type": "code",
   "execution_count": 262,
   "id": "9fac28ad-4d64-4d7e-95fb-61231b6d8fd9",
   "metadata": {},
   "outputs": [
    {
     "data": {
      "text/plain": [
       "9"
      ]
     },
     "execution_count": 262,
     "metadata": {},
     "output_type": "execute_result"
    }
   ],
   "source": [
    "len(l)"
   ]
  },
  {
   "cell_type": "code",
   "execution_count": 240,
   "id": "6e6f167e-c8fb-4654-892e-a726cd84abd7",
   "metadata": {},
   "outputs": [
    {
     "data": {
      "text/plain": [
       "['anjali', 21, 2003, 'chinni', 12, 9]"
      ]
     },
     "execution_count": 240,
     "metadata": {},
     "output_type": "execute_result"
    }
   ],
   "source": [
    "l1=[\"anjali\",21,2003,\"chinni\",12,9]\n",
    "l1"
   ]
  },
  {
   "cell_type": "code",
   "execution_count": 264,
   "id": "11973aba-cb9a-40fe-9fd0-38fd6ccf23c9",
   "metadata": {},
   "outputs": [
    {
     "data": {
      "text/plain": [
       "9"
      ]
     },
     "execution_count": 264,
     "metadata": {},
     "output_type": "execute_result"
    }
   ],
   "source": [
    "len(l1)"
   ]
  },
  {
   "cell_type": "code",
   "execution_count": 238,
   "id": "4c85ab1a-8702-4985-ba58-3260b4714d7c",
   "metadata": {},
   "outputs": [
    {
     "data": {
      "text/plain": [
       "[10, 20, 30, 40, 50, 60, 70, 80, 80]"
      ]
     },
     "execution_count": 238,
     "metadata": {},
     "output_type": "execute_result"
    }
   ],
   "source": [
    "l.append(80)\n",
    "l"
   ]
  },
  {
   "cell_type": "code",
   "execution_count": 244,
   "id": "f52a1d8d-8538-4136-a7fb-8c28190302d5",
   "metadata": {},
   "outputs": [
    {
     "data": {
      "text/plain": [
       "['anjali', 21, 2003, 'chinni', 12, 9, 'dec', 'dec']"
      ]
     },
     "execution_count": 244,
     "metadata": {},
     "output_type": "execute_result"
    }
   ],
   "source": [
    "l1.append(\"dec\")\n",
    "l1"
   ]
  },
  {
   "cell_type": "code",
   "execution_count": 248,
   "id": "751803a1-a9b7-4ea7-b09d-3397c693748d",
   "metadata": {},
   "outputs": [
    {
     "data": {
      "text/plain": [
       "['anjali', 21, 2003, 'chinni', 12, 9, 'dec', 'dec', 'june']"
      ]
     },
     "execution_count": 248,
     "metadata": {},
     "output_type": "execute_result"
    }
   ],
   "source": [
    "l1.append(\"june\")\n",
    "l1"
   ]
  },
  {
   "cell_type": "code",
   "execution_count": 266,
   "id": "1da41a4b-031f-4b71-b7bd-81e5fa8ca5ab",
   "metadata": {},
   "outputs": [
    {
     "data": {
      "text/plain": [
       "9"
      ]
     },
     "execution_count": 266,
     "metadata": {},
     "output_type": "execute_result"
    }
   ],
   "source": [
    "len(l1)"
   ]
  },
  {
   "cell_type": "code",
   "execution_count": 252,
   "id": "b405d730-4b49-4390-840a-0d96503f9244",
   "metadata": {},
   "outputs": [
    {
     "data": {
      "text/plain": [
       "['anjali', 21, 2003, 'chinni', 12, 9, 'dec', 'dec', 'june']"
      ]
     },
     "execution_count": 252,
     "metadata": {},
     "output_type": "execute_result"
    }
   ],
   "source": [
    "l2=l1.copy()\n",
    "l2"
   ]
  },
  {
   "cell_type": "code",
   "execution_count": 254,
   "id": "3067522e-cef9-44e7-97be-30ff3468c298",
   "metadata": {},
   "outputs": [
    {
     "data": {
      "text/plain": [
       "['anjali', 21, 2003, 'chinni', 12, 9, 'dec', 'dec', 'june']"
      ]
     },
     "execution_count": 254,
     "metadata": {},
     "output_type": "execute_result"
    }
   ],
   "source": [
    "l1"
   ]
  },
  {
   "cell_type": "code",
   "execution_count": 256,
   "id": "97cf7b1b-cf65-4ff8-b13a-e3cc78283eea",
   "metadata": {},
   "outputs": [
    {
     "data": {
      "text/plain": [
       "['anjali', 21, 2003, 'chinni', 12, 9, 'dec', 'dec', 'june']"
      ]
     },
     "execution_count": 256,
     "metadata": {},
     "output_type": "execute_result"
    }
   ],
   "source": [
    "l2"
   ]
  },
  {
   "cell_type": "code",
   "execution_count": 260,
   "id": "1a1e0b01-b3fd-44cb-a3d2-592bcea52c96",
   "metadata": {},
   "outputs": [
    {
     "data": {
      "text/plain": [
       "[]"
      ]
     },
     "execution_count": 260,
     "metadata": {},
     "output_type": "execute_result"
    }
   ],
   "source": [
    "l2.clear()\n",
    "l2"
   ]
  },
  {
   "cell_type": "code",
   "execution_count": 268,
   "id": "7d9332c1-c12a-40e6-8ce0-b0250befcc41",
   "metadata": {},
   "outputs": [
    {
     "data": {
      "text/plain": [
       "0"
      ]
     },
     "execution_count": 268,
     "metadata": {},
     "output_type": "execute_result"
    }
   ],
   "source": [
    "len(l2)"
   ]
  },
  {
   "cell_type": "code",
   "execution_count": 270,
   "id": "450b3bb2-a89a-4682-87c6-b8448b3185dc",
   "metadata": {},
   "outputs": [
    {
     "data": {
      "text/plain": [
       "[10, 20, 30, 40, 50, 60, 70, 80, 80, 20]"
      ]
     },
     "execution_count": 270,
     "metadata": {},
     "output_type": "execute_result"
    }
   ],
   "source": [
    "l.append(20)\n",
    "l"
   ]
  },
  {
   "cell_type": "code",
   "execution_count": 274,
   "id": "e98ec6b3-bc4b-4c29-a5b6-8c32bd64400c",
   "metadata": {},
   "outputs": [
    {
     "data": {
      "text/plain": [
       "1"
      ]
     },
     "execution_count": 274,
     "metadata": {},
     "output_type": "execute_result"
    }
   ],
   "source": [
    "l.count(10)\n"
   ]
  },
  {
   "cell_type": "code",
   "execution_count": 276,
   "id": "9655c937-2add-4625-b829-7c841966ea87",
   "metadata": {},
   "outputs": [
    {
     "data": {
      "text/plain": [
       "2"
      ]
     },
     "execution_count": 276,
     "metadata": {},
     "output_type": "execute_result"
    }
   ],
   "source": [
    "l.count(20)"
   ]
  },
  {
   "cell_type": "code",
   "execution_count": 278,
   "id": "73be81d6-2f74-4ea9-89e7-88bfcc04bfe4",
   "metadata": {},
   "outputs": [
    {
     "data": {
      "text/plain": [
       "0"
      ]
     },
     "execution_count": 278,
     "metadata": {},
     "output_type": "execute_result"
    }
   ],
   "source": [
    "l.count(100)"
   ]
  },
  {
   "cell_type": "code",
   "execution_count": 280,
   "id": "4fe50785-4340-4e38-8211-9eff456f8c26",
   "metadata": {},
   "outputs": [
    {
     "data": {
      "text/plain": [
       "['anjali',\n",
       " 21,\n",
       " 2003,\n",
       " 'chinni',\n",
       " 12,\n",
       " 9,\n",
       " 'dec',\n",
       " 'dec',\n",
       " 'june',\n",
       " 10,\n",
       " 20,\n",
       " 30,\n",
       " 40,\n",
       " 50,\n",
       " 60,\n",
       " 70,\n",
       " 80,\n",
       " 80,\n",
       " 20]"
      ]
     },
     "execution_count": 280,
     "metadata": {},
     "output_type": "execute_result"
    }
   ],
   "source": [
    "l1.extend(l)\n",
    "l1"
   ]
  },
  {
   "cell_type": "code",
   "execution_count": 283,
   "id": "41831958-9c17-4186-810c-841f80bc7ac0",
   "metadata": {},
   "outputs": [
    {
     "data": {
      "text/plain": [
       "['anjali',\n",
       " 21,\n",
       " 2003,\n",
       " 'chinni',\n",
       " 12,\n",
       " 9,\n",
       " 'dec',\n",
       " 'dec',\n",
       " 'june',\n",
       " 10,\n",
       " 20,\n",
       " 30,\n",
       " 40,\n",
       " 50,\n",
       " 60,\n",
       " 70,\n",
       " 80,\n",
       " 80,\n",
       " 20]"
      ]
     },
     "execution_count": 283,
     "metadata": {},
     "output_type": "execute_result"
    }
   ],
   "source": [
    "l1"
   ]
  },
  {
   "cell_type": "code",
   "execution_count": 285,
   "id": "7b1e4259-bd6c-4836-8acc-7423a1d27f47",
   "metadata": {},
   "outputs": [
    {
     "data": {
      "text/plain": [
       "[10, 20, 30, 40, 50, 60, 70, 80, 80, 20]"
      ]
     },
     "execution_count": 285,
     "metadata": {},
     "output_type": "execute_result"
    }
   ],
   "source": [
    "l"
   ]
  },
  {
   "cell_type": "code",
   "execution_count": 287,
   "id": "af1020e8-b23a-4648-a104-2e15e4bb810f",
   "metadata": {},
   "outputs": [
    {
     "data": {
      "text/plain": [
       "1"
      ]
     },
     "execution_count": 287,
     "metadata": {},
     "output_type": "execute_result"
    }
   ],
   "source": [
    "l.index(20)"
   ]
  },
  {
   "cell_type": "code",
   "execution_count": 289,
   "id": "7d9ba4a0-cf48-4b67-ac40-87a017058de9",
   "metadata": {},
   "outputs": [
    {
     "data": {
      "text/plain": [
       "5"
      ]
     },
     "execution_count": 289,
     "metadata": {},
     "output_type": "execute_result"
    }
   ],
   "source": [
    "l.index(60)"
   ]
  },
  {
   "cell_type": "code",
   "execution_count": 293,
   "id": "43fca928-f798-47be-8c34-845ce01dfeb1",
   "metadata": {},
   "outputs": [
    {
     "data": {
      "text/plain": [
       "[10, 30, 40, 50, 60, 70, 80, 80]"
      ]
     },
     "execution_count": 293,
     "metadata": {},
     "output_type": "execute_result"
    }
   ],
   "source": [
    "l.remove(20)\n",
    "l"
   ]
  },
  {
   "cell_type": "code",
   "execution_count": 295,
   "id": "db159ff1-5e16-4d33-a8b2-245eb11846fd",
   "metadata": {},
   "outputs": [
    {
     "data": {
      "text/plain": [
       "[10, 30, 40, 50, 60, 70, 80]"
      ]
     },
     "execution_count": 295,
     "metadata": {},
     "output_type": "execute_result"
    }
   ],
   "source": [
    "l.remove(80)\n",
    "l"
   ]
  }
 ],
 "metadata": {
  "kernelspec": {
   "display_name": "Python 3 (ipykernel)",
   "language": "python",
   "name": "python3"
  },
  "language_info": {
   "codemirror_mode": {
    "name": "ipython",
    "version": 3
   },
   "file_extension": ".py",
   "mimetype": "text/x-python",
   "name": "python",
   "nbconvert_exporter": "python",
   "pygments_lexer": "ipython3",
   "version": "3.12.7"
  }
 },
 "nbformat": 4,
 "nbformat_minor": 5
}
