{
 "cells": [
  {
   "cell_type": "markdown",
   "id": "5f77b569-6802-440f-8c09-26301140b29d",
   "metadata": {},
   "source": [
    "28/10/25"
   ]
  },
  {
   "cell_type": "markdown",
   "id": "6cf1d6ba-7457-4498-941e-a20d8a979c27",
   "metadata": {},
   "source": [
    "PACKAGE - Collection of modules \n",
    "\n",
    "MODULE - Collection of fuctions\n",
    "\n",
    "FUCTIONS - Collection of statements "
   ]
  },
  {
   "cell_type": "code",
   "execution_count": null,
   "id": "9c3b213c-09bb-449e-a414-25e7e4670212",
   "metadata": {},
   "outputs": [],
   "source": [
    "import math as m"
   ]
  },
  {
   "cell_type": "code",
   "execution_count": 7,
   "id": "ef832b41-3603-45e2-862a-f4500a3a2e0a",
   "metadata": {},
   "outputs": [
    {
     "name": "stdout",
     "output_type": "stream",
     "text": [
      "10.0\n"
     ]
    }
   ],
   "source": [
    "print(m.sqrt(100))"
   ]
  },
  {
   "cell_type": "code",
   "execution_count": 9,
   "id": "55dffc6b-74fe-40f0-96fc-670e285f4085",
   "metadata": {},
   "outputs": [
    {
     "name": "stdout",
     "output_type": "stream",
     "text": [
      "3.1622776601683795\n"
     ]
    }
   ],
   "source": [
    "print(m.sqrt(10))"
   ]
  },
  {
   "cell_type": "code",
   "execution_count": 15,
   "id": "7b17f907-80b2-42f2-8059-2a88a20f0775",
   "metadata": {},
   "outputs": [
    {
     "data": {
      "text/plain": [
       "12"
      ]
     },
     "execution_count": 15,
     "metadata": {},
     "output_type": "execute_result"
    }
   ],
   "source": [
    "round(12.4567890)"
   ]
  },
  {
   "cell_type": "code",
   "execution_count": 17,
   "id": "4aa86543-39fd-4515-81e9-f04fa99a482a",
   "metadata": {},
   "outputs": [
    {
     "data": {
      "text/plain": [
       "23.457"
      ]
     },
     "execution_count": 17,
     "metadata": {},
     "output_type": "execute_result"
    }
   ],
   "source": [
    "round(23.45678,3)"
   ]
  },
  {
   "cell_type": "code",
   "execution_count": 19,
   "id": "35630351-d2d9-4778-a0ff-890ce14b1e46",
   "metadata": {},
   "outputs": [
    {
     "name": "stdout",
     "output_type": "stream",
     "text": [
      "23\n"
     ]
    }
   ],
   "source": [
    "print(m.floor(23.45654))"
   ]
  },
  {
   "cell_type": "code",
   "execution_count": 21,
   "id": "87a3851e-1eca-44a2-9cab-b6ee149916cf",
   "metadata": {},
   "outputs": [
    {
     "name": "stdout",
     "output_type": "stream",
     "text": [
      "24\n"
     ]
    }
   ],
   "source": [
    "print(m.ceil(23.45654))"
   ]
  },
  {
   "cell_type": "code",
   "execution_count": 23,
   "id": "c1d4d2b7-059a-4fb8-9b54-2ea1373541dd",
   "metadata": {},
   "outputs": [
    {
     "name": "stdout",
     "output_type": "stream",
     "text": [
      "2\n"
     ]
    }
   ],
   "source": [
    "print(m.floor(2.0))"
   ]
  },
  {
   "cell_type": "code",
   "execution_count": 25,
   "id": "26308d29-0be4-4d54-bb16-0f294c9ef860",
   "metadata": {},
   "outputs": [
    {
     "name": "stdout",
     "output_type": "stream",
     "text": [
      "2\n"
     ]
    }
   ],
   "source": [
    "print(m.ceil(2.0))"
   ]
  },
  {
   "cell_type": "code",
   "execution_count": 27,
   "id": "35935431-1763-4376-9745-038176986827",
   "metadata": {},
   "outputs": [
    {
     "name": "stdout",
     "output_type": "stream",
     "text": [
      "3\n"
     ]
    }
   ],
   "source": [
    "print(m.ceil(2.1))"
   ]
  },
  {
   "cell_type": "code",
   "execution_count": 29,
   "id": "2789fc16-a098-480f-a17d-618d284f64d0",
   "metadata": {},
   "outputs": [
    {
     "data": {
      "text/plain": [
       "3"
      ]
     },
     "execution_count": 29,
     "metadata": {},
     "output_type": "execute_result"
    }
   ],
   "source": [
    "round(3)"
   ]
  },
  {
   "cell_type": "code",
   "execution_count": 31,
   "id": "33c24e3b-468b-4476-8cef-7e34eb4709c0",
   "metadata": {},
   "outputs": [
    {
     "data": {
      "text/plain": [
       "12"
      ]
     },
     "execution_count": 31,
     "metadata": {},
     "output_type": "execute_result"
    }
   ],
   "source": [
    "round(12.4573)"
   ]
  },
  {
   "cell_type": "code",
   "execution_count": 33,
   "id": "ca8f31ed-b4f0-4b05-9c32-0f3165ae8496",
   "metadata": {},
   "outputs": [
    {
     "data": {
      "text/plain": [
       "12.5"
      ]
     },
     "execution_count": 33,
     "metadata": {},
     "output_type": "execute_result"
    }
   ],
   "source": [
    "round(12.4573,1)"
   ]
  },
  {
   "cell_type": "code",
   "execution_count": 35,
   "id": "9811c927-221c-4978-afcc-74501bf3a6d3",
   "metadata": {},
   "outputs": [
    {
     "data": {
      "text/plain": [
       "12.46"
      ]
     },
     "execution_count": 35,
     "metadata": {},
     "output_type": "execute_result"
    }
   ],
   "source": [
    "round(12.4573,2)"
   ]
  },
  {
   "cell_type": "code",
   "execution_count": 37,
   "id": "21ee53c7-76e5-4ce0-b687-6196aa1286df",
   "metadata": {},
   "outputs": [
    {
     "data": {
      "text/plain": [
       "12.457"
      ]
     },
     "execution_count": 37,
     "metadata": {},
     "output_type": "execute_result"
    }
   ],
   "source": [
    "round(12.4573,3)"
   ]
  },
  {
   "cell_type": "code",
   "execution_count": 39,
   "id": "7db7e497-4e2d-45c6-8aff-73cac0bf0189",
   "metadata": {},
   "outputs": [
    {
     "data": {
      "text/plain": [
       "12.4573"
      ]
     },
     "execution_count": 39,
     "metadata": {},
     "output_type": "execute_result"
    }
   ],
   "source": [
    "round(12.4573,4)"
   ]
  },
  {
   "cell_type": "code",
   "execution_count": 41,
   "id": "5615b5e5-38d9-4348-99a0-eed6e95fcc12",
   "metadata": {},
   "outputs": [
    {
     "data": {
      "text/plain": [
       "12.4573"
      ]
     },
     "execution_count": 41,
     "metadata": {},
     "output_type": "execute_result"
    }
   ],
   "source": [
    "round(12.4573,5)"
   ]
  },
  {
   "cell_type": "code",
   "execution_count": 45,
   "id": "fc38d3d2-1614-43ca-9187-765d7d535d39",
   "metadata": {},
   "outputs": [
    {
     "name": "stdout",
     "output_type": "stream",
     "text": [
      "256.0\n"
     ]
    }
   ],
   "source": [
    "print(m.pow(2,8))"
   ]
  },
  {
   "cell_type": "code",
   "execution_count": 47,
   "id": "337ccb24-789f-4ac9-b096-a80ab4803c7e",
   "metadata": {},
   "outputs": [
    {
     "name": "stdout",
     "output_type": "stream",
     "text": [
      "1048576.0\n"
     ]
    }
   ],
   "source": [
    "print(m.pow(2,20))"
   ]
  },
  {
   "cell_type": "code",
   "execution_count": 49,
   "id": "38cb4b7f-750c-4773-b693-e4496f26d1ee",
   "metadata": {},
   "outputs": [
    {
     "name": "stdout",
     "output_type": "stream",
     "text": [
      "16777216.0\n"
     ]
    }
   ],
   "source": [
    "print(m.pow(8,8))"
   ]
  },
  {
   "cell_type": "code",
   "execution_count": 51,
   "id": "e4a1585e-4e8f-4969-a6f8-ad566796be0f",
   "metadata": {},
   "outputs": [
    {
     "name": "stdout",
     "output_type": "stream",
     "text": [
      "3.141592653589793\n"
     ]
    }
   ],
   "source": [
    "print(m.pi) #constant"
   ]
  },
  {
   "cell_type": "code",
   "execution_count": 53,
   "id": "c133392a-92bd-4e73-b325-8def23cd8582",
   "metadata": {},
   "outputs": [
    {
     "name": "stdout",
     "output_type": "stream",
     "text": [
      "2.718281828459045\n"
     ]
    }
   ],
   "source": [
    "print(m.e) #constant"
   ]
  },
  {
   "cell_type": "code",
   "execution_count": 55,
   "id": "fad23cd0-5e5b-48a5-845b-841841316a0c",
   "metadata": {},
   "outputs": [],
   "source": [
    "from math import sqrt,ceil,floor,pow"
   ]
  },
  {
   "cell_type": "code",
   "execution_count": 59,
   "id": "101155e1-c4bb-4fc2-8ad1-5bdb1df5012e",
   "metadata": {},
   "outputs": [
    {
     "data": {
      "text/plain": [
       "5.0"
      ]
     },
     "execution_count": 59,
     "metadata": {},
     "output_type": "execute_result"
    }
   ],
   "source": [
    "sqrt(25)"
   ]
  },
  {
   "cell_type": "code",
   "execution_count": 61,
   "id": "708679eb-5b6e-469d-8cb2-c7db9ab5053a",
   "metadata": {},
   "outputs": [
    {
     "data": {
      "text/plain": [
       "12"
      ]
     },
     "execution_count": 61,
     "metadata": {},
     "output_type": "execute_result"
    }
   ],
   "source": [
    "floor(12.09876)"
   ]
  },
  {
   "cell_type": "code",
   "execution_count": 63,
   "id": "6044a019-a819-4a77-b609-6e387606a2b4",
   "metadata": {},
   "outputs": [
    {
     "data": {
      "text/plain": [
       "13"
      ]
     },
     "execution_count": 63,
     "metadata": {},
     "output_type": "execute_result"
    }
   ],
   "source": [
    "ceil(12.09876)"
   ]
  },
  {
   "cell_type": "code",
   "execution_count": 65,
   "id": "b643b032-8a98-47d3-a645-0a35ba7a6e6b",
   "metadata": {},
   "outputs": [
    {
     "data": {
      "text/plain": [
       "20736.0"
      ]
     },
     "execution_count": 65,
     "metadata": {},
     "output_type": "execute_result"
    }
   ],
   "source": [
    "pow(12,4)"
   ]
  },
  {
   "cell_type": "code",
   "execution_count": 67,
   "id": "98cb82f7-0cdd-498b-b972-5376a4690bff",
   "metadata": {},
   "outputs": [
    {
     "name": "stdout",
     "output_type": "stream",
     "text": [
      "12.5625\n"
     ]
    }
   ],
   "source": [
    "tax=12.5/100\n",
    "price=100.50\n",
    "print(tax*price)"
   ]
  },
  {
   "cell_type": "code",
   "execution_count": 1,
   "id": "ae389a20-fe68-422f-ac66-b5ad5a0eabae",
   "metadata": {},
   "outputs": [
    {
     "name": "stdout",
     "output_type": "stream",
     "text": [
      "20\n",
      "10\n"
     ]
    }
   ],
   "source": [
    "a=10\n",
    "b=20\n",
    "a,b=b,a\n",
    "print(a)\n",
    "print(b)"
   ]
  },
  {
   "cell_type": "code",
   "execution_count": 3,
   "id": "9de857b8-ca30-4ea3-9cd4-bf9ba7e72cef",
   "metadata": {},
   "outputs": [
    {
     "name": "stdout",
     "output_type": "stream",
     "text": [
      "{'n': 1, 'a': 2, 'd': 5, 4: 't'}\n"
     ]
    }
   ],
   "source": [
    "dic={\"n\":1,\"a\":2,\"d\":5}\n",
    "dic[4]=\"t\"\n",
    "print(dic)"
   ]
  },
  {
   "cell_type": "code",
   "execution_count": 15,
   "id": "da74d8bb-3347-46c5-91d3-f306d8ea224c",
   "metadata": {},
   "outputs": [
    {
     "name": "stdout",
     "output_type": "stream",
     "text": [
      "True\n"
     ]
    }
   ],
   "source": [
    "var=2\n",
    "print(var==2.0)"
   ]
  },
  {
   "cell_type": "code",
   "execution_count": 17,
   "id": "15aefba1-deb4-42ba-acce-b0b9577255dd",
   "metadata": {},
   "outputs": [
    {
     "name": "stdout",
     "output_type": "stream",
     "text": [
      "<class 'complex'>\n"
     ]
    }
   ],
   "source": [
    "a=4+0j\n",
    "print(type(a))"
   ]
  },
  {
   "cell_type": "code",
   "execution_count": 19,
   "id": "6be25349-40f0-4bcd-a370-405ed1b8d7da",
   "metadata": {},
   "outputs": [
    {
     "name": "stdout",
     "output_type": "stream",
     "text": [
      "3\n"
     ]
    }
   ],
   "source": [
    "print(int(3.9))"
   ]
  },
  {
   "cell_type": "code",
   "execution_count": 21,
   "id": "1f15255e-7112-44d0-a299-0d072b5bc52c",
   "metadata": {},
   "outputs": [
    {
     "name": "stdout",
     "output_type": "stream",
     "text": [
      "python.py\n"
     ]
    }
   ],
   "source": [
    "print('python'+\".py\")"
   ]
  },
  {
   "cell_type": "code",
   "execution_count": 23,
   "id": "cda6ad08-d94d-45bc-bbe0-39fbc0dbde5e",
   "metadata": {},
   "outputs": [
    {
     "name": "stdout",
     "output_type": "stream",
     "text": [
      "25\n",
      "50\n"
     ]
    }
   ],
   "source": [
    "x = 50 \n",
    "def fun1(): \n",
    "    x = 25 \n",
    "    print(x) \n",
    "     \n",
    "fun1() \n",
    "print(x) "
   ]
  },
  {
   "cell_type": "code",
   "execution_count": 31,
   "id": "38f36f26-05b0-4faa-b7b4-804fa90869ed",
   "metadata": {},
   "outputs": [
    {
     "data": {
      "text/plain": [
       "\"Ault'Kelly\""
      ]
     },
     "execution_count": 31,
     "metadata": {},
     "output_type": "execute_result"
    }
   ],
   "source": [
    "str1 = \"\"\"Ault'Kelly\"\"\" \n",
    "str1"
   ]
  },
  {
   "cell_type": "code",
   "execution_count": 37,
   "id": "7bbc0c96-226a-4f9e-98af-9c34b9133d9e",
   "metadata": {},
   "outputs": [
    {
     "data": {
      "text/plain": [
       "\"Ault'Kelly\""
      ]
     },
     "execution_count": 37,
     "metadata": {},
     "output_type": "execute_result"
    }
   ],
   "source": [
    "str2 = 'Ault\\'Kelly'\n",
    "str2"
   ]
  },
  {
   "cell_type": "code",
   "execution_count": 39,
   "id": "e561b4bf-c985-4d0b-ad99-f9595bfb4e1b",
   "metadata": {},
   "outputs": [
    {
     "data": {
      "text/plain": [
       "True"
      ]
     },
     "execution_count": 39,
     "metadata": {},
     "output_type": "execute_result"
    }
   ],
   "source": [
    "bool(-2)"
   ]
  },
  {
   "cell_type": "code",
   "execution_count": 41,
   "id": "3d09099e-0439-46e4-a14e-6690d6ba5249",
   "metadata": {},
   "outputs": [
    {
     "name": "stdout",
     "output_type": "stream",
     "text": [
      "<class 'range'>\n"
     ]
    }
   ],
   "source": [
    "print(type(range(5)))"
   ]
  },
  {
   "cell_type": "markdown",
   "id": "0f955a1d-4e07-4937-b18f-5160c162ebca",
   "metadata": {},
   "source": [
    "29/10/25 INPUT FUCTIONS"
   ]
  },
  {
   "cell_type": "code",
   "execution_count": 2,
   "id": "64ec9e6e-f55f-49dd-b4f7-b5dc9ba83b92",
   "metadata": {},
   "outputs": [
    {
     "name": "stdin",
     "output_type": "stream",
     "text": [
      " 20\n"
     ]
    },
    {
     "data": {
      "text/plain": [
       "'20'"
      ]
     },
     "execution_count": 2,
     "metadata": {},
     "output_type": "execute_result"
    }
   ],
   "source": [
    "x=input()\n",
    "x"
   ]
  },
  {
   "cell_type": "code",
   "execution_count": 4,
   "id": "08ea5f4f-34fd-4fb5-bd5e-663e5bf6ab02",
   "metadata": {},
   "outputs": [
    {
     "name": "stdin",
     "output_type": "stream",
     "text": [
      " 10\n",
      " 20\n"
     ]
    },
    {
     "name": "stdout",
     "output_type": "stream",
     "text": [
      "1020\n"
     ]
    }
   ],
   "source": [
    "x=input()\n",
    "y=input()\n",
    "z=x+y\n",
    "print(z)"
   ]
  },
  {
   "cell_type": "code",
   "execution_count": 6,
   "id": "0a9ad8ee-b888-4711-a7ec-5e6dce66da86",
   "metadata": {},
   "outputs": [
    {
     "name": "stdout",
     "output_type": "stream",
     "text": [
      "<class 'str'>\n"
     ]
    }
   ],
   "source": [
    "print(type(x))"
   ]
  },
  {
   "cell_type": "code",
   "execution_count": 8,
   "id": "2c4abaae-d616-4ad8-9750-1332b1dd85fc",
   "metadata": {},
   "outputs": [
    {
     "name": "stdin",
     "output_type": "stream",
     "text": [
      " 10\n",
      " 20\n"
     ]
    },
    {
     "name": "stdout",
     "output_type": "stream",
     "text": [
      "30\n"
     ]
    }
   ],
   "source": [
    "a=int(input())\n",
    "b=int(input())\n",
    "c=a+b\n",
    "print(c)"
   ]
  },
  {
   "cell_type": "code",
   "execution_count": 10,
   "id": "13a20d67-52bb-4a56-8635-763ff6bb7a56",
   "metadata": {},
   "outputs": [
    {
     "name": "stdout",
     "output_type": "stream",
     "text": [
      "<class 'int'>\n"
     ]
    }
   ],
   "source": [
    "print(type(a))"
   ]
  },
  {
   "cell_type": "code",
   "execution_count": 38,
   "id": "e2455a9f-e378-4736-bcd7-36495546695a",
   "metadata": {},
   "outputs": [
    {
     "name": "stdin",
     "output_type": "stream",
     "text": [
      "enter the text1: anjali\n",
      "enter the text2: arun\n"
     ]
    },
    {
     "name": "stdout",
     "output_type": "stream",
     "text": [
      "anjaliarun\n"
     ]
    }
   ],
   "source": [
    "x1=input(\"enter the text1:\")\n",
    "y1=input(\"enter the text2:\")\n",
    "z1=x1+y1\n",
    "print(z1)"
   ]
  },
  {
   "cell_type": "code",
   "execution_count": 14,
   "id": "21301479-7afa-4056-bf18-facc6594ff42",
   "metadata": {},
   "outputs": [
    {
     "name": "stdin",
     "output_type": "stream",
     "text": [
      "enter the number1: 20\n",
      "enter the number2: 30\n"
     ]
    },
    {
     "name": "stdout",
     "output_type": "stream",
     "text": [
      "2030\n"
     ]
    }
   ],
   "source": [
    "x1=input(\"enter the number1:\")\n",
    "y1=input(\"enter the number2:\")\n",
    "z1=x1+y1\n",
    "print(z1)"
   ]
  },
  {
   "cell_type": "code",
   "execution_count": 16,
   "id": "ecaee215-2c6f-40f3-ab82-350e912863d4",
   "metadata": {},
   "outputs": [
    {
     "name": "stdin",
     "output_type": "stream",
     "text": [
      "enter the number1: 10\n",
      "enter the number2: 10\n"
     ]
    },
    {
     "name": "stdout",
     "output_type": "stream",
     "text": [
      "20\n"
     ]
    }
   ],
   "source": [
    "a1=int(input(\"enter the number1:\"))\n",
    "b1=int(input(\"enter the number2:\"))\n",
    "c1=a1+b1\n",
    "print(c1)"
   ]
  },
  {
   "cell_type": "code",
   "execution_count": 18,
   "id": "060cfa41-640b-49c7-afc5-26920fb51a2e",
   "metadata": {},
   "outputs": [
    {
     "name": "stdin",
     "output_type": "stream",
     "text": [
      "enter a string: anjali\n"
     ]
    },
    {
     "data": {
      "text/plain": [
       "'anjali'"
      ]
     },
     "execution_count": 18,
     "metadata": {},
     "output_type": "execute_result"
    }
   ],
   "source": [
    "s=input(\"enter a string:\")\n",
    "s"
   ]
  },
  {
   "cell_type": "code",
   "execution_count": 20,
   "id": "8708d8f4-aacf-4ec6-9b62-0286a29989d7",
   "metadata": {},
   "outputs": [
    {
     "data": {
      "text/plain": [
       "'a'"
      ]
     },
     "execution_count": 20,
     "metadata": {},
     "output_type": "execute_result"
    }
   ],
   "source": [
    "s[0]"
   ]
  },
  {
   "cell_type": "code",
   "execution_count": 22,
   "id": "fabb7399-7699-419d-a81d-199d75bf7349",
   "metadata": {},
   "outputs": [
    {
     "data": {
      "text/plain": [
       "'anjali'"
      ]
     },
     "execution_count": 22,
     "metadata": {},
     "output_type": "execute_result"
    }
   ],
   "source": [
    "s[:]"
   ]
  },
  {
   "cell_type": "code",
   "execution_count": 24,
   "id": "aa1f614c-031c-4baf-8e47-5396b2b5a0fb",
   "metadata": {},
   "outputs": [
    {
     "data": {
      "text/plain": [
       "'ilajna'"
      ]
     },
     "execution_count": 24,
     "metadata": {},
     "output_type": "execute_result"
    }
   ],
   "source": [
    "s[::-1]"
   ]
  },
  {
   "cell_type": "code",
   "execution_count": 26,
   "id": "02221b2e-11dd-420c-b172-cf0933c81137",
   "metadata": {},
   "outputs": [
    {
     "data": {
      "text/plain": [
       "'anj'"
      ]
     },
     "execution_count": 26,
     "metadata": {},
     "output_type": "execute_result"
    }
   ],
   "source": [
    "s[0:3]"
   ]
  },
  {
   "cell_type": "code",
   "execution_count": 28,
   "id": "7c55118b-4f50-4e8b-9911-e554674c8c35",
   "metadata": {},
   "outputs": [
    {
     "name": "stdin",
     "output_type": "stream",
     "text": [
      "enter a string: hello\n"
     ]
    },
    {
     "data": {
      "text/plain": [
       "'e'"
      ]
     },
     "execution_count": 28,
     "metadata": {},
     "output_type": "execute_result"
    }
   ],
   "source": [
    "s1=input(\"enter a string:\")[1] #forward indexing in input fuction \n",
    "s1"
   ]
  },
  {
   "cell_type": "code",
   "execution_count": 30,
   "id": "3a28f3e0-7fa3-4af0-9424-8d2bd3859021",
   "metadata": {},
   "outputs": [
    {
     "name": "stdin",
     "output_type": "stream",
     "text": [
      "enter a string: hello\n"
     ]
    },
    {
     "data": {
      "text/plain": [
       "'o'"
      ]
     },
     "execution_count": 30,
     "metadata": {},
     "output_type": "execute_result"
    }
   ],
   "source": [
    "s1=input(\"enter a string:\")[-1] #backword indexing in input fuction \n",
    "s1"
   ]
  },
  {
   "cell_type": "code",
   "execution_count": 32,
   "id": "df2d7ca6-f249-44b1-8274-a2a15e36420f",
   "metadata": {},
   "outputs": [
    {
     "name": "stdin",
     "output_type": "stream",
     "text": [
      "enter a string: hello\n"
     ]
    },
    {
     "data": {
      "text/plain": [
       "'ell'"
      ]
     },
     "execution_count": 32,
     "metadata": {},
     "output_type": "execute_result"
    }
   ],
   "source": [
    "s1=input(\"enter a string:\")[1:4] #slicing in input fuction \n",
    "s1"
   ]
  },
  {
   "cell_type": "code",
   "execution_count": 34,
   "id": "573d34f6-af3a-4e7e-a236-02cdff5223e1",
   "metadata": {},
   "outputs": [
    {
     "name": "stdin",
     "output_type": "stream",
     "text": [
      "enter an expr: 5+8-3\n"
     ]
    },
    {
     "ename": "ValueError",
     "evalue": "invalid literal for int() with base 10: '5+8-3'",
     "output_type": "error",
     "traceback": [
      "\u001b[1;31m---------------------------------------------------------------------------\u001b[0m",
      "\u001b[1;31mValueError\u001b[0m                                Traceback (most recent call last)",
      "Cell \u001b[1;32mIn[34], line 1\u001b[0m\n\u001b[1;32m----> 1\u001b[0m result\u001b[38;5;241m=\u001b[39m\u001b[38;5;28mint\u001b[39m(\u001b[38;5;28minput\u001b[39m(\u001b[38;5;124m\"\u001b[39m\u001b[38;5;124menter an expr:\u001b[39m\u001b[38;5;124m\"\u001b[39m))\n\u001b[0;32m      2\u001b[0m \u001b[38;5;28mprint\u001b[39m(result)\n",
      "\u001b[1;31mValueError\u001b[0m: invalid literal for int() with base 10: '5+8-3'"
     ]
    }
   ],
   "source": [
    "result=int(input(\"enter an expr:\"))\n",
    "print(result)"
   ]
  },
  {
   "cell_type": "code",
   "execution_count": 36,
   "id": "9b2138d6-7aac-4081-bbf3-9b2d5794faa7",
   "metadata": {},
   "outputs": [
    {
     "name": "stdin",
     "output_type": "stream",
     "text": [
      "enter an expr: 5+8-3\n"
     ]
    },
    {
     "name": "stdout",
     "output_type": "stream",
     "text": [
      "10\n"
     ]
    }
   ],
   "source": [
    "result=eval(input(\"enter an expr:\")) #eval is used for expressions\n",
    "print(result)"
   ]
  },
  {
   "cell_type": "code",
   "execution_count": null,
   "id": "3bf9e566-586d-4d8c-8d1a-6d182cb13b4d",
   "metadata": {},
   "outputs": [],
   "source": []
  }
 ],
 "metadata": {
  "kernelspec": {
   "display_name": "Python 3 (ipykernel)",
   "language": "python",
   "name": "python3"
  },
  "language_info": {
   "codemirror_mode": {
    "name": "ipython",
    "version": 3
   },
   "file_extension": ".py",
   "mimetype": "text/x-python",
   "name": "python",
   "nbconvert_exporter": "python",
   "pygments_lexer": "ipython3",
   "version": "3.12.7"
  }
 },
 "nbformat": 4,
 "nbformat_minor": 5
}
