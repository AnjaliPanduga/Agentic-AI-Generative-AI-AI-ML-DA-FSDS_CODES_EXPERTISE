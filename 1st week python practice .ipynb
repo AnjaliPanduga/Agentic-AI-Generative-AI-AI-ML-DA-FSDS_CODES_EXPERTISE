{
 "cells": [
  {
   "cell_type": "code",
   "execution_count": 9,
   "id": "b9f94276-6133-46a9-9f0b-369140479b5f",
   "metadata": {},
   "outputs": [
    {
     "data": {
      "text/plain": [
       "'3.12.7 | packaged by Anaconda, Inc. | (main, Oct  4 2024, 13:17:27) [MSC v.1929 64 bit (AMD64)]'"
      ]
     },
     "execution_count": 9,
     "metadata": {},
     "output_type": "execute_result"
    }
   ],
   "source": [
    "import sys\n",
    "sys.version\n"
   ]
  },
  {
   "cell_type": "markdown",
   "id": "216ca9e5-8201-4485-a4c1-90e653286cc7",
   "metadata": {},
   "source": [
    "python variables=identifier=object  "
   ]
  },
  {
   "cell_type": "code",
   "execution_count": 12,
   "id": "6767933a-ad2c-4ae9-ab7a-1155ea9500ea",
   "metadata": {},
   "outputs": [
    {
     "data": {
      "text/plain": [
       "8"
      ]
     },
     "execution_count": 12,
     "metadata": {},
     "output_type": "execute_result"
    }
   ],
   "source": [
    "a=8\n",
    "a"
   ]
  },
  {
   "cell_type": "code",
   "execution_count": 14,
   "id": "9768c7b7-ff36-4c2f-b6cb-a9a98727406f",
   "metadata": {},
   "outputs": [
    {
     "data": {
      "text/plain": [
       "['False',\n",
       " 'None',\n",
       " 'True',\n",
       " 'and',\n",
       " 'as',\n",
       " 'assert',\n",
       " 'async',\n",
       " 'await',\n",
       " 'break',\n",
       " 'class',\n",
       " 'continue',\n",
       " 'def',\n",
       " 'del',\n",
       " 'elif',\n",
       " 'else',\n",
       " 'except',\n",
       " 'finally',\n",
       " 'for',\n",
       " 'from',\n",
       " 'global',\n",
       " 'if',\n",
       " 'import',\n",
       " 'in',\n",
       " 'is',\n",
       " 'lambda',\n",
       " 'nonlocal',\n",
       " 'not',\n",
       " 'or',\n",
       " 'pass',\n",
       " 'raise',\n",
       " 'return',\n",
       " 'try',\n",
       " 'while',\n",
       " 'with',\n",
       " 'yield']"
      ]
     },
     "execution_count": 14,
     "metadata": {},
     "output_type": "execute_result"
    }
   ],
   "source": [
    "import keyword\n",
    "keyword.kwlist"
   ]
  },
  {
   "cell_type": "code",
   "execution_count": 16,
   "id": "1c032d67-df22-4c04-b836-addb1114e48a",
   "metadata": {},
   "outputs": [
    {
     "data": {
      "text/plain": [
       "35"
      ]
     },
     "execution_count": 16,
     "metadata": {},
     "output_type": "execute_result"
    }
   ],
   "source": [
    "len(keyword.kwlist)"
   ]
  },
  {
   "cell_type": "markdown",
   "id": "59a66357-53a7-41f5-abb6-890ece7a6cb3",
   "metadata": {},
   "source": [
    "14/10/25\n",
    "VARIABLE DECLARATION"
   ]
  },
  {
   "cell_type": "code",
   "execution_count": 5,
   "id": "c049f0a5-e4c3-4dd7-b9d5-365376db8d5c",
   "metadata": {},
   "outputs": [
    {
     "ename": "NameError",
     "evalue": "name 'VAR' is not defined",
     "output_type": "error",
     "traceback": [
      "\u001b[1;31m---------------------------------------------------------------------------\u001b[0m",
      "\u001b[1;31mNameError\u001b[0m                                 Traceback (most recent call last)",
      "Cell \u001b[1;32mIn[5], line 2\u001b[0m\n\u001b[0;32m      1\u001b[0m var\u001b[38;5;241m=\u001b[39m\u001b[38;5;124m\"\u001b[39m\u001b[38;5;124mhello\u001b[39m\u001b[38;5;124m\"\u001b[39m\n\u001b[1;32m----> 2\u001b[0m VAR\n",
      "\u001b[1;31mNameError\u001b[0m: name 'VAR' is not defined"
     ]
    }
   ],
   "source": [
    "var=\"hello\"\n",
    "VAR"
   ]
  },
  {
   "cell_type": "code",
   "execution_count": 3,
   "id": "6a638e8c-1805-4c0f-a0de-88612ad33180",
   "metadata": {},
   "outputs": [
    {
     "data": {
      "text/plain": [
       "'hello'"
      ]
     },
     "execution_count": 3,
     "metadata": {},
     "output_type": "execute_result"
    }
   ],
   "source": [
    "#case sensitive\n",
    "var1=\"hello\"\n",
    "var1"
   ]
  },
  {
   "cell_type": "code",
   "execution_count": 9,
   "id": "4de852aa-7398-4ea1-ac42-c00796b27e49",
   "metadata": {},
   "outputs": [
    {
     "ename": "NameError",
     "evalue": "name 'var2' is not defined",
     "output_type": "error",
     "traceback": [
      "\u001b[1;31m---------------------------------------------------------------------------\u001b[0m",
      "\u001b[1;31mNameError\u001b[0m                                 Traceback (most recent call last)",
      "Cell \u001b[1;32mIn[9], line 2\u001b[0m\n\u001b[0;32m      1\u001b[0m VAR2\u001b[38;5;241m=\u001b[39m\u001b[38;5;124m\"\u001b[39m\u001b[38;5;124manjali\u001b[39m\u001b[38;5;124m\"\u001b[39m\n\u001b[1;32m----> 2\u001b[0m var2\n",
      "\u001b[1;31mNameError\u001b[0m: name 'var2' is not defined"
     ]
    }
   ],
   "source": [
    "VAR2=\"anjali\"\n",
    "var2"
   ]
  },
  {
   "cell_type": "code",
   "execution_count": 11,
   "id": "0c510bee-9e0f-4972-baee-a8da539f8b98",
   "metadata": {},
   "outputs": [
    {
     "data": {
      "text/plain": [
       "'ANJALI'"
      ]
     },
     "execution_count": 11,
     "metadata": {},
     "output_type": "execute_result"
    }
   ],
   "source": [
    "VAR3=\"ANJALI\"\n",
    "VAR3"
   ]
  },
  {
   "cell_type": "code",
   "execution_count": 13,
   "id": "4f34a784-4285-4835-9021-a06051415740",
   "metadata": {},
   "outputs": [
    {
     "ename": "SyntaxError",
     "evalue": "cannot assign to expression here. Maybe you meant '==' instead of '='? (1899547778.py, line 2)",
     "output_type": "error",
     "traceback": [
      "\u001b[1;36m  Cell \u001b[1;32mIn[13], line 2\u001b[1;36m\u001b[0m\n\u001b[1;33m    v@r1=\"python\"\u001b[0m\n\u001b[1;37m    ^\u001b[0m\n\u001b[1;31mSyntaxError\u001b[0m\u001b[1;31m:\u001b[0m cannot assign to expression here. Maybe you meant '==' instead of '='?\n"
     ]
    }
   ],
   "source": [
    "#we should not use special characters while declaring a variable\n",
    "v@r1=\"python\"\n",
    "v@r1"
   ]
  },
  {
   "cell_type": "code",
   "execution_count": 17,
   "id": "f023edf9-987d-409f-a270-6e0ec703413e",
   "metadata": {},
   "outputs": [
    {
     "ename": "SyntaxError",
     "evalue": "invalid syntax (1599353489.py, line 1)",
     "output_type": "error",
     "traceback": [
      "\u001b[1;36m  Cell \u001b[1;32mIn[17], line 1\u001b[1;36m\u001b[0m\n\u001b[1;33m    a$1=\"hello\"\u001b[0m\n\u001b[1;37m     ^\u001b[0m\n\u001b[1;31mSyntaxError\u001b[0m\u001b[1;31m:\u001b[0m invalid syntax\n"
     ]
    }
   ],
   "source": [
    "a$1=\"hello\"\n",
    "a$1"
   ]
  },
  {
   "cell_type": "code",
   "execution_count": 19,
   "id": "014a43a6-4d75-451c-91de-6b01ce07df70",
   "metadata": {},
   "outputs": [
    {
     "ename": "SyntaxError",
     "evalue": "cannot assign to expression here. Maybe you meant '==' instead of '='? (2782713478.py, line 1)",
     "output_type": "error",
     "traceback": [
      "\u001b[1;36m  Cell \u001b[1;32mIn[19], line 1\u001b[1;36m\u001b[0m\n\u001b[1;33m    a&bc=\"world\"\u001b[0m\n\u001b[1;37m    ^\u001b[0m\n\u001b[1;31mSyntaxError\u001b[0m\u001b[1;31m:\u001b[0m cannot assign to expression here. Maybe you meant '==' instead of '='?\n"
     ]
    }
   ],
   "source": [
    "a&bc=\"world\"\n",
    "a&bc"
   ]
  },
  {
   "cell_type": "code",
   "execution_count": 21,
   "id": "de4b4ba6-097b-47da-a594-b298e306d00c",
   "metadata": {},
   "outputs": [
    {
     "ename": "SyntaxError",
     "evalue": "invalid syntax (889902601.py, line 1)",
     "output_type": "error",
     "traceback": [
      "\u001b[1;36m  Cell \u001b[1;32mIn[21], line 1\u001b[1;36m\u001b[0m\n\u001b[1;33m    a.=\"anjali\"\u001b[0m\n\u001b[1;37m      ^\u001b[0m\n\u001b[1;31mSyntaxError\u001b[0m\u001b[1;31m:\u001b[0m invalid syntax\n"
     ]
    }
   ],
   "source": [
    "a.=\"anjali\"\n",
    "a."
   ]
  },
  {
   "cell_type": "code",
   "execution_count": null,
   "id": "7eb0efab-839e-44c3-9eb8-c4c11f02e78e",
   "metadata": {},
   "outputs": [],
   "source": [
    "#we use underscore while declaring a variable "
   ]
  },
  {
   "cell_type": "code",
   "execution_count": 40,
   "id": "87081154-1b66-48ca-a779-b4155536c322",
   "metadata": {},
   "outputs": [
    {
     "data": {
      "text/plain": [
       "'apple'"
      ]
     },
     "execution_count": 40,
     "metadata": {},
     "output_type": "execute_result"
    }
   ],
   "source": [
    "variable_name=\"apple\"\n",
    "variable_name"
   ]
  },
  {
   "cell_type": "code",
   "execution_count": 42,
   "id": "2e3963b6-6d70-471f-9b44-9faa1e6453f4",
   "metadata": {},
   "outputs": [
    {
     "data": {
      "text/plain": [
       "1000"
      ]
     },
     "execution_count": 42,
     "metadata": {},
     "output_type": "execute_result"
    }
   ],
   "source": [
    "var_123=1000\n",
    "var_123"
   ]
  },
  {
   "cell_type": "code",
   "execution_count": 25,
   "id": "ffe0a2b4-6bec-4374-b0e4-28f636e7faa2",
   "metadata": {
    "scrolled": true
   },
   "outputs": [
    {
     "ename": "SyntaxError",
     "evalue": "invalid decimal literal (1922646168.py, line 2)",
     "output_type": "error",
     "traceback": [
      "\u001b[1;36m  Cell \u001b[1;32mIn[25], line 2\u001b[1;36m\u001b[0m\n\u001b[1;33m    123var=\"anjali\"\u001b[0m\n\u001b[1;37m      ^\u001b[0m\n\u001b[1;31mSyntaxError\u001b[0m\u001b[1;31m:\u001b[0m invalid decimal literal\n"
     ]
    }
   ],
   "source": [
    "#we should not start with numbers but end with numbers while declaring a variable \n",
    "123var=\"anjali\"\n",
    "123var"
   ]
  },
  {
   "cell_type": "code",
   "execution_count": 27,
   "id": "117ff1fc-9e20-46e2-a9cd-f3fea558c046",
   "metadata": {},
   "outputs": [
    {
     "ename": "SyntaxError",
     "evalue": "invalid decimal literal (1352563591.py, line 1)",
     "output_type": "error",
     "traceback": [
      "\u001b[1;36m  Cell \u001b[1;32mIn[27], line 1\u001b[1;36m\u001b[0m\n\u001b[1;33m    10var=\"python\"\u001b[0m\n\u001b[1;37m     ^\u001b[0m\n\u001b[1;31mSyntaxError\u001b[0m\u001b[1;31m:\u001b[0m invalid decimal literal\n"
     ]
    }
   ],
   "source": [
    "10var=\"python\"\n",
    "10var"
   ]
  },
  {
   "cell_type": "code",
   "execution_count": 29,
   "id": "92d364ef-72ca-47d5-88d5-2d2dc43ae6e1",
   "metadata": {},
   "outputs": [
    {
     "ename": "SyntaxError",
     "evalue": "invalid decimal literal (2258376442.py, line 1)",
     "output_type": "error",
     "traceback": [
      "\u001b[1;36m  Cell \u001b[1;32mIn[29], line 1\u001b[1;36m\u001b[0m\n\u001b[1;33m    0var=\"anjali\"\u001b[0m\n\u001b[1;37m    ^\u001b[0m\n\u001b[1;31mSyntaxError\u001b[0m\u001b[1;31m:\u001b[0m invalid decimal literal\n"
     ]
    }
   ],
   "source": [
    "0var=\"anjali\"\n",
    "0var"
   ]
  },
  {
   "cell_type": "code",
   "execution_count": 31,
   "id": "f6108ff9-1f25-4a28-af50-49cda96e7a78",
   "metadata": {},
   "outputs": [
    {
     "data": {
      "text/plain": [
       "'anjali'"
      ]
     },
     "execution_count": 31,
     "metadata": {},
     "output_type": "execute_result"
    }
   ],
   "source": [
    "var11=\"anjali\"\n",
    "var11"
   ]
  },
  {
   "cell_type": "code",
   "execution_count": 34,
   "id": "36592489-9a15-4ffe-87af-85aaa6d35f46",
   "metadata": {},
   "outputs": [
    {
     "data": {
      "text/plain": [
       "100"
      ]
     },
     "execution_count": 34,
     "metadata": {},
     "output_type": "execute_result"
    }
   ],
   "source": [
    "var22=100\n",
    "var22"
   ]
  },
  {
   "cell_type": "code",
   "execution_count": 36,
   "id": "21244385-4d60-49aa-9847-669a32676a28",
   "metadata": {},
   "outputs": [
    {
     "data": {
      "text/plain": [
       "100"
      ]
     },
     "execution_count": 36,
     "metadata": {},
     "output_type": "execute_result"
    }
   ],
   "source": [
    "var23iable=100\n",
    "var23iable"
   ]
  },
  {
   "cell_type": "code",
   "execution_count": 38,
   "id": "55209fb2-4057-4a18-bc60-2eb0bc038cc5",
   "metadata": {},
   "outputs": [
    {
     "data": {
      "text/plain": [
       "5000"
      ]
     },
     "execution_count": 38,
     "metadata": {},
     "output_type": "execute_result"
    }
   ],
   "source": [
    "v1r=5000\n",
    "v1r"
   ]
  },
  {
   "cell_type": "code",
   "execution_count": 44,
   "id": "3cb99333-3ed0-439d-9203-c17a902309d0",
   "metadata": {},
   "outputs": [
    {
     "ename": "SyntaxError",
     "evalue": "cannot assign to False (3820993086.py, line 2)",
     "output_type": "error",
     "traceback": [
      "\u001b[1;36m  Cell \u001b[1;32mIn[44], line 2\u001b[1;36m\u001b[0m\n\u001b[1;33m    False=0\u001b[0m\n\u001b[1;37m    ^\u001b[0m\n\u001b[1;31mSyntaxError\u001b[0m\u001b[1;31m:\u001b[0m cannot assign to False\n"
     ]
    }
   ],
   "source": [
    "#we should not use key word names as a variable name\n",
    "False=0\n",
    "False"
   ]
  },
  {
   "cell_type": "code",
   "execution_count": 46,
   "id": "f819ae68-a869-413f-8fb7-24cc29b9d783",
   "metadata": {},
   "outputs": [
    {
     "data": {
      "text/plain": [
       "0"
      ]
     },
     "execution_count": 46,
     "metadata": {},
     "output_type": "execute_result"
    }
   ],
   "source": [
    "false=0\n",
    "false"
   ]
  },
  {
   "cell_type": "code",
   "execution_count": 48,
   "id": "aada3e22-9f29-467b-bcf6-5b71ced7a32a",
   "metadata": {},
   "outputs": [
    {
     "ename": "SyntaxError",
     "evalue": "cannot assign to True (181974098.py, line 1)",
     "output_type": "error",
     "traceback": [
      "\u001b[1;36m  Cell \u001b[1;32mIn[48], line 1\u001b[1;36m\u001b[0m\n\u001b[1;33m    True=1\u001b[0m\n\u001b[1;37m    ^\u001b[0m\n\u001b[1;31mSyntaxError\u001b[0m\u001b[1;31m:\u001b[0m cannot assign to True\n"
     ]
    }
   ],
   "source": [
    "True=1\n",
    "True"
   ]
  },
  {
   "cell_type": "code",
   "execution_count": 50,
   "id": "fb8468e5-6e50-4808-8f66-bc08bf7fab77",
   "metadata": {},
   "outputs": [
    {
     "data": {
      "text/plain": [
       "1"
      ]
     },
     "execution_count": 50,
     "metadata": {},
     "output_type": "execute_result"
    }
   ],
   "source": [
    "true=1\n",
    "true"
   ]
  },
  {
   "cell_type": "code",
   "execution_count": 52,
   "id": "3139c940-8c64-4844-909c-97b03cd57ebe",
   "metadata": {},
   "outputs": [
    {
     "ename": "SyntaxError",
     "evalue": "cannot assign to None (3761356230.py, line 1)",
     "output_type": "error",
     "traceback": [
      "\u001b[1;36m  Cell \u001b[1;32mIn[52], line 1\u001b[1;36m\u001b[0m\n\u001b[1;33m    None=\"None\"\u001b[0m\n\u001b[1;37m    ^\u001b[0m\n\u001b[1;31mSyntaxError\u001b[0m\u001b[1;31m:\u001b[0m cannot assign to None\n"
     ]
    }
   ],
   "source": [
    "None=\"None\"\n",
    "None"
   ]
  },
  {
   "cell_type": "code",
   "execution_count": 54,
   "id": "8c968ab5-8a4b-4404-97c7-bb900e856342",
   "metadata": {},
   "outputs": [
    {
     "data": {
      "text/plain": [
       "'None'"
      ]
     },
     "execution_count": 54,
     "metadata": {},
     "output_type": "execute_result"
    }
   ],
   "source": [
    "none=\"None\"\n",
    "none"
   ]
  },
  {
   "cell_type": "code",
   "execution_count": 56,
   "id": "bfd50f1e-7d0d-4e24-9618-b8676f4b903b",
   "metadata": {},
   "outputs": [
    {
     "ename": "SyntaxError",
     "evalue": "invalid syntax (637711777.py, line 1)",
     "output_type": "error",
     "traceback": [
      "\u001b[1;36m  Cell \u001b[1;32mIn[56], line 1\u001b[1;36m\u001b[0m\n\u001b[1;33m    while=\"it is a loop\"\u001b[0m\n\u001b[1;37m         ^\u001b[0m\n\u001b[1;31mSyntaxError\u001b[0m\u001b[1;31m:\u001b[0m invalid syntax\n"
     ]
    }
   ],
   "source": [
    "while=\"it is a loop\"\n",
    "while"
   ]
  },
  {
   "cell_type": "code",
   "execution_count": 60,
   "id": "42ffec95-99f8-4d7b-8b95-8cb3c2a84be3",
   "metadata": {},
   "outputs": [
    {
     "ename": "SyntaxError",
     "evalue": "invalid syntax (1288970966.py, line 1)",
     "output_type": "error",
     "traceback": [
      "\u001b[1;36m  Cell \u001b[1;32mIn[60], line 1\u001b[1;36m\u001b[0m\n\u001b[1;33m    if=\"condition\"\u001b[0m\n\u001b[1;37m      ^\u001b[0m\n\u001b[1;31mSyntaxError\u001b[0m\u001b[1;31m:\u001b[0m invalid syntax\n"
     ]
    }
   ],
   "source": [
    "if=\"condition\"\n",
    "if"
   ]
  },
  {
   "cell_type": "code",
   "execution_count": 62,
   "id": "3616bb7c-ca6b-448d-9670-0575b6f1ec6d",
   "metadata": {},
   "outputs": [
    {
     "ename": "SyntaxError",
     "evalue": "invalid syntax (792280993.py, line 1)",
     "output_type": "error",
     "traceback": [
      "\u001b[1;36m  Cell \u001b[1;32mIn[62], line 1\u001b[1;36m\u001b[0m\n\u001b[1;33m    and=\"python\"\u001b[0m\n\u001b[1;37m    ^\u001b[0m\n\u001b[1;31mSyntaxError\u001b[0m\u001b[1;31m:\u001b[0m invalid syntax\n"
     ]
    }
   ],
   "source": [
    "and=\"python\"\n",
    "and"
   ]
  },
  {
   "cell_type": "code",
   "execution_count": 64,
   "id": "4c10473f-44ca-45fc-b89b-8a138d30bb2e",
   "metadata": {},
   "outputs": [
    {
     "ename": "SyntaxError",
     "evalue": "invalid syntax (2579944565.py, line 1)",
     "output_type": "error",
     "traceback": [
      "\u001b[1;36m  Cell \u001b[1;32mIn[64], line 1\u001b[1;36m\u001b[0m\n\u001b[1;33m    return=\"python\"\u001b[0m\n\u001b[1;37m          ^\u001b[0m\n\u001b[1;31mSyntaxError\u001b[0m\u001b[1;31m:\u001b[0m invalid syntax\n"
     ]
    }
   ],
   "source": [
    "return=\"python\"\n",
    "return"
   ]
  },
  {
   "cell_type": "code",
   "execution_count": 66,
   "id": "10c67eb2-3124-4c47-b266-970cac5d9af3",
   "metadata": {},
   "outputs": [
    {
     "ename": "SyntaxError",
     "evalue": "invalid syntax (2734427714.py, line 1)",
     "output_type": "error",
     "traceback": [
      "\u001b[1;36m  Cell \u001b[1;32mIn[66], line 1\u001b[1;36m\u001b[0m\n\u001b[1;33m    continue=100\u001b[0m\n\u001b[1;37m            ^\u001b[0m\n\u001b[1;31mSyntaxError\u001b[0m\u001b[1;31m:\u001b[0m invalid syntax\n"
     ]
    }
   ],
   "source": [
    "continue=100\n",
    "continue"
   ]
  },
  {
   "cell_type": "code",
   "execution_count": 68,
   "id": "05750f0e-94b2-4d20-84a2-fd2bf79e0413",
   "metadata": {},
   "outputs": [
    {
     "ename": "SyntaxError",
     "evalue": "invalid syntax (2441129154.py, line 1)",
     "output_type": "error",
     "traceback": [
      "\u001b[1;36m  Cell \u001b[1;32mIn[68], line 1\u001b[1;36m\u001b[0m\n\u001b[1;33m    variable name=\"anjali\"\u001b[0m\n\u001b[1;37m             ^\u001b[0m\n\u001b[1;31mSyntaxError\u001b[0m\u001b[1;31m:\u001b[0m invalid syntax\n"
     ]
    }
   ],
   "source": [
    "#we should not give space instead of space we use underscore\n",
    "variable name=\"anjali\"\n",
    "variable name"
   ]
  },
  {
   "cell_type": "code",
   "execution_count": 70,
   "id": "e0d3abbc-5e3d-4bb2-8e09-541bcb624b1b",
   "metadata": {},
   "outputs": [
    {
     "data": {
      "text/plain": [
       "'anjali'"
      ]
     },
     "execution_count": 70,
     "metadata": {},
     "output_type": "execute_result"
    }
   ],
   "source": [
    "variable_name=\"anjali\"\n",
    "variable_name"
   ]
  },
  {
   "cell_type": "markdown",
   "id": "b207a88f-5fb1-4b53-845d-faceb1b34030",
   "metadata": {},
   "source": [
    "15/10/25\n",
    "DATA TYPES"
   ]
  },
  {
   "cell_type": "code",
   "execution_count": 77,
   "id": "eaf5fa3b-9190-44c0-929a-695155d39bfe",
   "metadata": {},
   "outputs": [
    {
     "data": {
      "text/plain": [
       "100"
      ]
     },
     "execution_count": 77,
     "metadata": {},
     "output_type": "execute_result"
    }
   ],
   "source": [
    "#Integer datatype\n",
    "num=100\n",
    "num"
   ]
  },
  {
   "cell_type": "code",
   "execution_count": 79,
   "id": "09f80b30-e669-4750-b102-6eb1868985f6",
   "metadata": {},
   "outputs": [
    {
     "data": {
      "text/plain": [
       "int"
      ]
     },
     "execution_count": 79,
     "metadata": {},
     "output_type": "execute_result"
    }
   ],
   "source": [
    "type(num)"
   ]
  },
  {
   "cell_type": "code",
   "execution_count": 87,
   "id": "cf6d0f7b-cbd7-4d2b-9451-65d13a6e1044",
   "metadata": {},
   "outputs": [
    {
     "data": {
      "text/plain": [
       "23.65"
      ]
     },
     "execution_count": 87,
     "metadata": {},
     "output_type": "execute_result"
    }
   ],
   "source": [
    "#Float datatype\n",
    "num1=23.65\n",
    "num1"
   ]
  },
  {
   "cell_type": "code",
   "execution_count": 125,
   "id": "df7a0e77-64aa-4a13-bd0c-4f3df1c090cd",
   "metadata": {},
   "outputs": [
    {
     "data": {
      "text/plain": [
       "30.3"
      ]
     },
     "execution_count": 125,
     "metadata": {},
     "output_type": "execute_result"
    }
   ],
   "source": [
    "a=10\n",
    "b=20.3\n",
    "c=a+b\n",
    "c"
   ]
  },
  {
   "cell_type": "code",
   "execution_count": 127,
   "id": "ff237e50-71ca-4758-b559-f364e8b5d380",
   "metadata": {},
   "outputs": [
    {
     "data": {
      "text/plain": [
       "float"
      ]
     },
     "execution_count": 127,
     "metadata": {},
     "output_type": "execute_result"
    }
   ],
   "source": [
    "type(c)"
   ]
  },
  {
   "cell_type": "code",
   "execution_count": 89,
   "id": "5427756b-220a-4979-99ae-d6edf18e8261",
   "metadata": {},
   "outputs": [
    {
     "data": {
      "text/plain": [
       "float"
      ]
     },
     "execution_count": 89,
     "metadata": {},
     "output_type": "execute_result"
    }
   ],
   "source": [
    "type(num1)"
   ]
  },
  {
   "cell_type": "code",
   "execution_count": 101,
   "id": "ea69a9c3-5207-408f-8f11-7db62cc5d574",
   "metadata": {},
   "outputs": [
    {
     "data": {
      "text/plain": [
       "1.0"
      ]
     },
     "execution_count": 101,
     "metadata": {},
     "output_type": "execute_result"
    }
   ],
   "source": [
    "num3=1e0\n",
    "num3\n"
   ]
  },
  {
   "cell_type": "code",
   "execution_count": 103,
   "id": "69e8b413-ab42-4d6f-b7ff-41da51a5b771",
   "metadata": {},
   "outputs": [
    {
     "data": {
      "text/plain": [
       "float"
      ]
     },
     "execution_count": 103,
     "metadata": {},
     "output_type": "execute_result"
    }
   ],
   "source": [
    "type(num3)"
   ]
  },
  {
   "cell_type": "code",
   "execution_count": 105,
   "id": "1eb62566-512e-4418-a373-6839f95a95f8",
   "metadata": {},
   "outputs": [
    {
     "data": {
      "text/plain": [
       "2.0"
      ]
     },
     "execution_count": 105,
     "metadata": {},
     "output_type": "execute_result"
    }
   ],
   "source": [
    "num4=2e0\n",
    "num4"
   ]
  },
  {
   "cell_type": "code",
   "execution_count": 107,
   "id": "d1fdf8ab-5eca-4e86-8729-58cb86ad69fa",
   "metadata": {},
   "outputs": [
    {
     "data": {
      "text/plain": [
       "float"
      ]
     },
     "execution_count": 107,
     "metadata": {},
     "output_type": "execute_result"
    }
   ],
   "source": [
    "type(num4)"
   ]
  },
  {
   "cell_type": "code",
   "execution_count": 109,
   "id": "879a460f-4b60-4220-9c2c-64d21c8f1355",
   "metadata": {},
   "outputs": [
    {
     "data": {
      "text/plain": [
       "20000000000.0"
      ]
     },
     "execution_count": 109,
     "metadata": {},
     "output_type": "execute_result"
    }
   ],
   "source": [
    "num5=2e10\n",
    "num5"
   ]
  },
  {
   "cell_type": "code",
   "execution_count": 111,
   "id": "01e2e009-49b8-4491-99b7-12702de52705",
   "metadata": {},
   "outputs": [
    {
     "data": {
      "text/plain": [
       "True"
      ]
     },
     "execution_count": 111,
     "metadata": {},
     "output_type": "execute_result"
    }
   ],
   "source": [
    "#boolean datatype\n",
    "True"
   ]
  },
  {
   "cell_type": "code",
   "execution_count": 113,
   "id": "fb781624-95ae-4ab3-abf6-4544ad9f5546",
   "metadata": {},
   "outputs": [
    {
     "data": {
      "text/plain": [
       "False"
      ]
     },
     "execution_count": 113,
     "metadata": {},
     "output_type": "execute_result"
    }
   ],
   "source": [
    "False"
   ]
  },
  {
   "cell_type": "code",
   "execution_count": 115,
   "id": "3c4f4e69-6fc8-490b-8b3a-33bce12917ca",
   "metadata": {},
   "outputs": [
    {
     "data": {
      "text/plain": [
       "2"
      ]
     },
     "execution_count": 115,
     "metadata": {},
     "output_type": "execute_result"
    }
   ],
   "source": [
    "True+True"
   ]
  },
  {
   "cell_type": "code",
   "execution_count": 117,
   "id": "6be64b35-aebe-4e3a-bb78-491e160e5e08",
   "metadata": {},
   "outputs": [
    {
     "data": {
      "text/plain": [
       "1"
      ]
     },
     "execution_count": 117,
     "metadata": {},
     "output_type": "execute_result"
    }
   ],
   "source": [
    "True+False"
   ]
  },
  {
   "cell_type": "code",
   "execution_count": 119,
   "id": "3a9f345a-db17-4c6f-a7b3-feaa6f7a3e2d",
   "metadata": {},
   "outputs": [
    {
     "data": {
      "text/plain": [
       "0"
      ]
     },
     "execution_count": 119,
     "metadata": {},
     "output_type": "execute_result"
    }
   ],
   "source": [
    "False+False"
   ]
  },
  {
   "cell_type": "code",
   "execution_count": 121,
   "id": "7513840b-bdb5-46f8-aacb-e14b353be0ec",
   "metadata": {},
   "outputs": [
    {
     "data": {
      "text/plain": [
       "1"
      ]
     },
     "execution_count": 121,
     "metadata": {},
     "output_type": "execute_result"
    }
   ],
   "source": [
    "False+True"
   ]
  },
  {
   "cell_type": "code",
   "execution_count": 129,
   "id": "23d3c80c-2385-4f07-ac6e-ed1864d68302",
   "metadata": {},
   "outputs": [
    {
     "data": {
      "text/plain": [
       "0"
      ]
     },
     "execution_count": 129,
     "metadata": {},
     "output_type": "execute_result"
    }
   ],
   "source": [
    "True*False\n"
   ]
  },
  {
   "cell_type": "code",
   "execution_count": 131,
   "id": "b9ea651f-e171-40a8-884e-d561d8385215",
   "metadata": {},
   "outputs": [
    {
     "ename": "ZeroDivisionError",
     "evalue": "division by zero",
     "output_type": "error",
     "traceback": [
      "\u001b[1;31m---------------------------------------------------------------------------\u001b[0m",
      "\u001b[1;31mZeroDivisionError\u001b[0m                         Traceback (most recent call last)",
      "Cell \u001b[1;32mIn[131], line 1\u001b[0m\n\u001b[1;32m----> 1\u001b[0m \u001b[38;5;28;01mTrue\u001b[39;00m\u001b[38;5;241m/\u001b[39m\u001b[38;5;28;01mFalse\u001b[39;00m\n",
      "\u001b[1;31mZeroDivisionError\u001b[0m: division by zero"
     ]
    }
   ],
   "source": [
    "True/False"
   ]
  },
  {
   "cell_type": "code",
   "execution_count": 133,
   "id": "40b161f9-dd4c-44dc-9c02-86e258a6a9bd",
   "metadata": {},
   "outputs": [
    {
     "data": {
      "text/plain": [
       "0.0"
      ]
     },
     "execution_count": 133,
     "metadata": {},
     "output_type": "execute_result"
    }
   ],
   "source": [
    "False/True"
   ]
  },
  {
   "cell_type": "code",
   "execution_count": 139,
   "id": "d406f0b3-9b52-4129-adc5-6f4819d6a967",
   "metadata": {},
   "outputs": [
    {
     "data": {
      "text/plain": [
       "0"
      ]
     },
     "execution_count": 139,
     "metadata": {},
     "output_type": "execute_result"
    }
   ],
   "source": [
    "False//True"
   ]
  },
  {
   "cell_type": "code",
   "execution_count": 135,
   "id": "1673dceb-967d-42c5-b14e-0284120596f5",
   "metadata": {},
   "outputs": [
    {
     "ename": "ZeroDivisionError",
     "evalue": "integer modulo by zero",
     "output_type": "error",
     "traceback": [
      "\u001b[1;31m---------------------------------------------------------------------------\u001b[0m",
      "\u001b[1;31mZeroDivisionError\u001b[0m                         Traceback (most recent call last)",
      "Cell \u001b[1;32mIn[135], line 1\u001b[0m\n\u001b[1;32m----> 1\u001b[0m \u001b[38;5;28;01mTrue\u001b[39;00m\u001b[38;5;241m%\u001b[39m\u001b[38;5;28;01mFalse\u001b[39;00m\n",
      "\u001b[1;31mZeroDivisionError\u001b[0m: integer modulo by zero"
     ]
    }
   ],
   "source": [
    "True%False"
   ]
  },
  {
   "cell_type": "code",
   "execution_count": 137,
   "id": "5cfb4eb3-cb46-4249-b774-07635b58135e",
   "metadata": {},
   "outputs": [
    {
     "data": {
      "text/plain": [
       "0"
      ]
     },
     "execution_count": 137,
     "metadata": {},
     "output_type": "execute_result"
    }
   ],
   "source": [
    "False%True"
   ]
  },
  {
   "cell_type": "code",
   "execution_count": 141,
   "id": "33913e1c-b7d7-4467-a3d9-785970daf548",
   "metadata": {},
   "outputs": [
    {
     "ename": "NameError",
     "evalue": "name 'hello' is not defined",
     "output_type": "error",
     "traceback": [
      "\u001b[1;31m---------------------------------------------------------------------------\u001b[0m",
      "\u001b[1;31mNameError\u001b[0m                                 Traceback (most recent call last)",
      "Cell \u001b[1;32mIn[141], line 2\u001b[0m\n\u001b[0;32m      1\u001b[0m \u001b[38;5;66;03m#String \u001b[39;00m\n\u001b[1;32m----> 2\u001b[0m \u001b[38;5;28mstr\u001b[39m\u001b[38;5;241m=\u001b[39mhello\n\u001b[0;32m      3\u001b[0m \u001b[38;5;28mstr\u001b[39m\n",
      "\u001b[1;31mNameError\u001b[0m: name 'hello' is not defined"
     ]
    }
   ],
   "source": [
    "#String datatype\n",
    "str=hello\n",
    "str"
   ]
  },
  {
   "cell_type": "code",
   "execution_count": 143,
   "id": "034e0f00-5ea4-484c-b4c2-91fbd863b7e2",
   "metadata": {},
   "outputs": [
    {
     "data": {
      "text/plain": [
       "'hello'"
      ]
     },
     "execution_count": 143,
     "metadata": {},
     "output_type": "execute_result"
    }
   ],
   "source": [
    "str1='hello'\n",
    "str1"
   ]
  },
  {
   "cell_type": "code",
   "execution_count": 147,
   "id": "75bb910c-628d-4a16-94cb-be7afcdb4f90",
   "metadata": {},
   "outputs": [
    {
     "data": {
      "text/plain": [
       "'hello python'"
      ]
     },
     "execution_count": 147,
     "metadata": {},
     "output_type": "execute_result"
    }
   ],
   "source": [
    "str2=\"hello python\"\n",
    "str2"
   ]
  },
  {
   "cell_type": "code",
   "execution_count": 145,
   "id": "8025e151-3507-4ee0-89f1-1cd46e19b55e",
   "metadata": {},
   "outputs": [
    {
     "data": {
      "text/plain": [
       "'Python is a popular programming language. It was created by Guido van Rossum, and released in 1991.\\n\\nIt is used for:\\n\\nweb development (server-side),\\nsoftware development,\\nmathematics,\\nsystem scripting.'"
      ]
     },
     "execution_count": 145,
     "metadata": {},
     "output_type": "execute_result"
    }
   ],
   "source": [
    "str3='''Python is a popular programming language. It was created by Guido van Rossum, and released in 1991.\n",
    "\n",
    "It is used for:\n",
    "\n",
    "web development (server-side),\n",
    "software development,\n",
    "mathematics,\n",
    "system scripting.'''\n",
    "str3"
   ]
  },
  {
   "cell_type": "code",
   "execution_count": 149,
   "id": "bdb685e7-b9ee-4599-8484-b6d454fac32c",
   "metadata": {},
   "outputs": [
    {
     "data": {
      "text/plain": [
       "(1+2j)"
      ]
     },
     "execution_count": 149,
     "metadata": {},
     "output_type": "execute_result"
    }
   ],
   "source": [
    "#complex datatype\n",
    "a=1+2j\n",
    "a"
   ]
  },
  {
   "cell_type": "code",
   "execution_count": 165,
   "id": "6fb30c9d-711e-4046-b17a-a2344609e42c",
   "metadata": {},
   "outputs": [
    {
     "data": {
      "text/plain": [
       "complex"
      ]
     },
     "execution_count": 165,
     "metadata": {},
     "output_type": "execute_result"
    }
   ],
   "source": [
    "type(a)"
   ]
  },
  {
   "cell_type": "code",
   "execution_count": 153,
   "id": "a2daaab0-42ba-4b81-aacf-17fb7d521ea2",
   "metadata": {},
   "outputs": [
    {
     "data": {
      "text/plain": [
       "1.0"
      ]
     },
     "execution_count": 153,
     "metadata": {},
     "output_type": "execute_result"
    }
   ],
   "source": [
    "a.real"
   ]
  },
  {
   "cell_type": "code",
   "execution_count": 155,
   "id": "41822d1e-b199-4aab-9d08-c48814ac1e83",
   "metadata": {},
   "outputs": [
    {
     "data": {
      "text/plain": [
       "2.0"
      ]
     },
     "execution_count": 155,
     "metadata": {},
     "output_type": "execute_result"
    }
   ],
   "source": [
    "a.imag"
   ]
  },
  {
   "cell_type": "code",
   "execution_count": 159,
   "id": "00da974b-a8fe-4559-ae64-435ab02b7dee",
   "metadata": {},
   "outputs": [
    {
     "data": {
      "text/plain": [
       "(30+50j)"
      ]
     },
     "execution_count": 159,
     "metadata": {},
     "output_type": "execute_result"
    }
   ],
   "source": [
    "b=10+20j\n",
    "c=20+30j\n",
    "d=b+c\n",
    "d"
   ]
  },
  {
   "cell_type": "code",
   "execution_count": 167,
   "id": "f910c9b2-c419-487e-991a-7c7ae65605a1",
   "metadata": {},
   "outputs": [
    {
     "data": {
      "text/plain": [
       "complex"
      ]
     },
     "execution_count": 167,
     "metadata": {},
     "output_type": "execute_result"
    }
   ],
   "source": [
    "type(d)"
   ]
  },
  {
   "cell_type": "code",
   "execution_count": 161,
   "id": "6536cd65-f445-44df-92ac-eda68897e3e8",
   "metadata": {},
   "outputs": [
    {
     "data": {
      "text/plain": [
       "(-10-10j)"
      ]
     },
     "execution_count": 161,
     "metadata": {},
     "output_type": "execute_result"
    }
   ],
   "source": [
    "e=b-c\n",
    "e\n"
   ]
  },
  {
   "cell_type": "code",
   "execution_count": 169,
   "id": "773384b1-1fcc-4f7c-99e1-e0fd6da3272e",
   "metadata": {},
   "outputs": [
    {
     "data": {
      "text/plain": [
       "complex"
      ]
     },
     "execution_count": 169,
     "metadata": {},
     "output_type": "execute_result"
    }
   ],
   "source": [
    "type(e)"
   ]
  },
  {
   "cell_type": "code",
   "execution_count": 163,
   "id": "bbe7f585-fc0b-4517-97da-282f75f8ea76",
   "metadata": {},
   "outputs": [
    {
     "data": {
      "text/plain": [
       "(10+10j)"
      ]
     },
     "execution_count": 163,
     "metadata": {},
     "output_type": "execute_result"
    }
   ],
   "source": [
    "e1=c-b\n",
    "e1"
   ]
  },
  {
   "cell_type": "code",
   "execution_count": 171,
   "id": "d0be4623-c40d-44a2-ba98-b1e998990a6d",
   "metadata": {},
   "outputs": [
    {
     "data": {
      "text/plain": [
       "complex"
      ]
     },
     "execution_count": 171,
     "metadata": {},
     "output_type": "execute_result"
    }
   ],
   "source": [
    "type(e1)"
   ]
  },
  {
   "cell_type": "code",
   "execution_count": 173,
   "id": "10a003d9-3dca-4739-808c-9344d4aa7112",
   "metadata": {},
   "outputs": [
    {
     "data": {
      "text/plain": [
       "(-400+700j)"
      ]
     },
     "execution_count": 173,
     "metadata": {},
     "output_type": "execute_result"
    }
   ],
   "source": [
    "f=b*c\n",
    "f"
   ]
  },
  {
   "cell_type": "markdown",
   "id": "c1735c70-def8-4347-9de5-7867b854894a",
   "metadata": {},
   "source": [
    "  16/10/25  \n",
    "  TYPE CASTING"
   ]
  },
  {
   "cell_type": "markdown",
   "id": "11e08d59-b593-4142-8175-3b28579e7490",
   "metadata": {},
   "source": [
    "ALL OTHER DATATYPES TO INTEGER"
   ]
  },
  {
   "cell_type": "code",
   "execution_count": 4,
   "id": "4a08deee-2336-4efc-9867-27b412a152b9",
   "metadata": {},
   "outputs": [
    {
     "data": {
      "text/plain": [
       "2"
      ]
     },
     "execution_count": 4,
     "metadata": {},
     "output_type": "execute_result"
    }
   ],
   "source": [
    "#float to integer\n",
    "int(2.45)"
   ]
  },
  {
   "cell_type": "code",
   "execution_count": 8,
   "id": "7a513631-bb3f-48e7-8b0c-05db46a2e2e4",
   "metadata": {},
   "outputs": [
    {
     "data": {
      "text/plain": [
       "1"
      ]
     },
     "execution_count": 8,
     "metadata": {},
     "output_type": "execute_result"
    }
   ],
   "source": [
    "#boolean to integer\n",
    "int(True)"
   ]
  },
  {
   "cell_type": "code",
   "execution_count": 10,
   "id": "f3cd417c-78c0-4599-af90-d661c7b07f85",
   "metadata": {},
   "outputs": [
    {
     "data": {
      "text/plain": [
       "0"
      ]
     },
     "execution_count": 10,
     "metadata": {},
     "output_type": "execute_result"
    }
   ],
   "source": [
    "int(False)"
   ]
  },
  {
   "cell_type": "code",
   "execution_count": 12,
   "id": "b8b7e94b-2de5-441e-a5fb-cba34f4c95b7",
   "metadata": {},
   "outputs": [
    {
     "data": {
      "text/plain": [
       "0"
      ]
     },
     "execution_count": 12,
     "metadata": {},
     "output_type": "execute_result"
    }
   ],
   "source": [
    "int(0)\n"
   ]
  },
  {
   "cell_type": "code",
   "execution_count": 14,
   "id": "f3b1d341-42cf-4dbc-a311-747f489014a6",
   "metadata": {},
   "outputs": [
    {
     "data": {
      "text/plain": [
       "1"
      ]
     },
     "execution_count": 14,
     "metadata": {},
     "output_type": "execute_result"
    }
   ],
   "source": [
    "int(1)"
   ]
  },
  {
   "cell_type": "code",
   "execution_count": 16,
   "id": "61ccda2c-5f91-42a8-af35-116d3b16e198",
   "metadata": {},
   "outputs": [
    {
     "ename": "ValueError",
     "evalue": "invalid literal for int() with base 10: 'anjali'",
     "output_type": "error",
     "traceback": [
      "\u001b[1;31m---------------------------------------------------------------------------\u001b[0m",
      "\u001b[1;31mValueError\u001b[0m                                Traceback (most recent call last)",
      "Cell \u001b[1;32mIn[16], line 1\u001b[0m\n\u001b[1;32m----> 1\u001b[0m \u001b[38;5;28mint\u001b[39m(\u001b[38;5;124m\"\u001b[39m\u001b[38;5;124manjali\u001b[39m\u001b[38;5;124m\"\u001b[39m)\n",
      "\u001b[1;31mValueError\u001b[0m: invalid literal for int() with base 10: 'anjali'"
     ]
    }
   ],
   "source": [
    "#text string to integer(not possible)\n",
    "int(\"anjali\")"
   ]
  },
  {
   "cell_type": "code",
   "execution_count": 18,
   "id": "9be6c8f9-93c6-4d0d-b7a2-a388780eda5e",
   "metadata": {},
   "outputs": [
    {
     "data": {
      "text/plain": [
       "10"
      ]
     },
     "execution_count": 18,
     "metadata": {},
     "output_type": "execute_result"
    }
   ],
   "source": [
    "#number string to integer\n",
    "int(\"10\")"
   ]
  },
  {
   "cell_type": "code",
   "execution_count": 20,
   "id": "d6357858-2f6d-4393-8b3f-4cabe25681aa",
   "metadata": {},
   "outputs": [
    {
     "ename": "TypeError",
     "evalue": "int() argument must be a string, a bytes-like object or a real number, not 'complex'",
     "output_type": "error",
     "traceback": [
      "\u001b[1;31m---------------------------------------------------------------------------\u001b[0m",
      "\u001b[1;31mTypeError\u001b[0m                                 Traceback (most recent call last)",
      "Cell \u001b[1;32mIn[20], line 1\u001b[0m\n\u001b[1;32m----> 1\u001b[0m \u001b[38;5;28mint\u001b[39m(\u001b[38;5;241m10\u001b[39m\u001b[38;5;241m+\u001b[39m\u001b[38;5;241m20\u001b[39mj)\n",
      "\u001b[1;31mTypeError\u001b[0m: int() argument must be a string, a bytes-like object or a real number, not 'complex'"
     ]
    }
   ],
   "source": [
    "#complex to integer \n",
    "int(10+20j)"
   ]
  },
  {
   "cell_type": "code",
   "execution_count": 22,
   "id": "8878a405-0d82-4a36-ac10-55dc5387488e",
   "metadata": {},
   "outputs": [
    {
     "data": {
      "text/plain": [
       "30"
      ]
     },
     "execution_count": 22,
     "metadata": {},
     "output_type": "execute_result"
    }
   ],
   "source": [
    "int(10+20)"
   ]
  },
  {
   "cell_type": "markdown",
   "id": "faf1f1e3-2c9f-4335-b870-fe4afb9aed4a",
   "metadata": {},
   "source": [
    "ALL OTHER DATATYPES TO FLOAT"
   ]
  },
  {
   "cell_type": "code",
   "execution_count": 24,
   "id": "b84b96cd-a13a-4846-afd4-06d002984db4",
   "metadata": {},
   "outputs": [
    {
     "data": {
      "text/plain": [
       "10.0"
      ]
     },
     "execution_count": 24,
     "metadata": {},
     "output_type": "execute_result"
    }
   ],
   "source": [
    "#integer to float\n",
    "float(10)"
   ]
  },
  {
   "cell_type": "code",
   "execution_count": 26,
   "id": "88b8310a-7b1b-452f-9a28-3cc529b738eb",
   "metadata": {},
   "outputs": [
    {
     "data": {
      "text/plain": [
       "200.0"
      ]
     },
     "execution_count": 26,
     "metadata": {},
     "output_type": "execute_result"
    }
   ],
   "source": [
    "float(200.00)"
   ]
  },
  {
   "cell_type": "code",
   "execution_count": 28,
   "id": "9d082115-7969-41d3-a854-b9c47247a8eb",
   "metadata": {},
   "outputs": [
    {
     "data": {
      "text/plain": [
       "20.435"
      ]
     },
     "execution_count": 28,
     "metadata": {},
     "output_type": "execute_result"
    }
   ],
   "source": [
    "float(20.435)"
   ]
  },
  {
   "cell_type": "code",
   "execution_count": 30,
   "id": "3cd72650-ae50-424e-9ab8-a125e595ae82",
   "metadata": {},
   "outputs": [
    {
     "data": {
      "text/plain": [
       "1.0"
      ]
     },
     "execution_count": 30,
     "metadata": {},
     "output_type": "execute_result"
    }
   ],
   "source": [
    "#boolean to float\n",
    "float(True)"
   ]
  },
  {
   "cell_type": "code",
   "execution_count": 32,
   "id": "394ab05e-7874-493f-bff1-26c46065b324",
   "metadata": {},
   "outputs": [
    {
     "data": {
      "text/plain": [
       "0.0"
      ]
     },
     "execution_count": 32,
     "metadata": {},
     "output_type": "execute_result"
    }
   ],
   "source": [
    "float(False)"
   ]
  },
  {
   "cell_type": "code",
   "execution_count": 34,
   "id": "d80fa3b1-8e2a-4ef2-a17e-dfcd2aaeafcb",
   "metadata": {},
   "outputs": [
    {
     "ename": "ValueError",
     "evalue": "could not convert string to float: 'anjali'",
     "output_type": "error",
     "traceback": [
      "\u001b[1;31m---------------------------------------------------------------------------\u001b[0m",
      "\u001b[1;31mValueError\u001b[0m                                Traceback (most recent call last)",
      "Cell \u001b[1;32mIn[34], line 1\u001b[0m\n\u001b[1;32m----> 1\u001b[0m \u001b[38;5;28mfloat\u001b[39m(\u001b[38;5;124m\"\u001b[39m\u001b[38;5;124manjali\u001b[39m\u001b[38;5;124m\"\u001b[39m)\n",
      "\u001b[1;31mValueError\u001b[0m: could not convert string to float: 'anjali'"
     ]
    }
   ],
   "source": [
    "# text string to float(not possible)\n",
    "float(\"anjali\")"
   ]
  },
  {
   "cell_type": "code",
   "execution_count": 36,
   "id": "3e6e7d1f-75c0-432c-a49e-32159430811d",
   "metadata": {},
   "outputs": [
    {
     "data": {
      "text/plain": [
       "10.0"
      ]
     },
     "execution_count": 36,
     "metadata": {},
     "output_type": "execute_result"
    }
   ],
   "source": [
    "#number string to float\n",
    "float(\"10\")"
   ]
  },
  {
   "cell_type": "code",
   "execution_count": 38,
   "id": "7ffdae48-0c2a-4a2f-8417-97074e48744a",
   "metadata": {},
   "outputs": [
    {
     "ename": "TypeError",
     "evalue": "float() argument must be a string or a real number, not 'complex'",
     "output_type": "error",
     "traceback": [
      "\u001b[1;31m---------------------------------------------------------------------------\u001b[0m",
      "\u001b[1;31mTypeError\u001b[0m                                 Traceback (most recent call last)",
      "Cell \u001b[1;32mIn[38], line 1\u001b[0m\n\u001b[1;32m----> 1\u001b[0m \u001b[38;5;28mfloat\u001b[39m(\u001b[38;5;241m10\u001b[39m\u001b[38;5;241m+\u001b[39m\u001b[38;5;241m20\u001b[39mj)\n",
      "\u001b[1;31mTypeError\u001b[0m: float() argument must be a string or a real number, not 'complex'"
     ]
    }
   ],
   "source": [
    "#complex to float(not possible)\n",
    "float(10+20j)"
   ]
  },
  {
   "cell_type": "code",
   "execution_count": 40,
   "id": "1b2d6081-c563-4406-8dc7-2981b1500ff0",
   "metadata": {},
   "outputs": [
    {
     "data": {
      "text/plain": [
       "30.0"
      ]
     },
     "execution_count": 40,
     "metadata": {},
     "output_type": "execute_result"
    }
   ],
   "source": [
    "float(10+20)"
   ]
  },
  {
   "cell_type": "code",
   "execution_count": 42,
   "id": "0323ceff-ac37-4461-94b3-9f4a73f4cfba",
   "metadata": {},
   "outputs": [
    {
     "data": {
      "text/plain": [
       "100.0"
      ]
     },
     "execution_count": 42,
     "metadata": {},
     "output_type": "execute_result"
    }
   ],
   "source": [
    "float(10+20+30+40)"
   ]
  },
  {
   "cell_type": "markdown",
   "id": "8244370f-d23e-4a02-8328-1abccdd034c9",
   "metadata": {},
   "source": [
    "ALL OTHER DATATYPES TO BOOLEAN"
   ]
  },
  {
   "cell_type": "code",
   "execution_count": 44,
   "id": "f5b40a60-61ff-4a41-9f02-6739ea93ce74",
   "metadata": {},
   "outputs": [
    {
     "data": {
      "text/plain": [
       "True"
      ]
     },
     "execution_count": 44,
     "metadata": {},
     "output_type": "execute_result"
    }
   ],
   "source": [
    "#integer to bool\n",
    "bool(10)"
   ]
  },
  {
   "cell_type": "code",
   "execution_count": 46,
   "id": "4fd0b138-9508-43c1-9f43-56634e918a7d",
   "metadata": {},
   "outputs": [
    {
     "data": {
      "text/plain": [
       "False"
      ]
     },
     "execution_count": 46,
     "metadata": {},
     "output_type": "execute_result"
    }
   ],
   "source": [
    "bool()"
   ]
  },
  {
   "cell_type": "code",
   "execution_count": 48,
   "id": "5be85657-32a8-4a62-b519-0e43d287b3b6",
   "metadata": {},
   "outputs": [
    {
     "data": {
      "text/plain": [
       "False"
      ]
     },
     "execution_count": 48,
     "metadata": {},
     "output_type": "execute_result"
    }
   ],
   "source": [
    "bool(0)"
   ]
  },
  {
   "cell_type": "code",
   "execution_count": 50,
   "id": "f823a3f9-8752-4fe5-a152-fcbc95efb8e1",
   "metadata": {},
   "outputs": [
    {
     "data": {
      "text/plain": [
       "True"
      ]
     },
     "execution_count": 50,
     "metadata": {},
     "output_type": "execute_result"
    }
   ],
   "source": [
    "bool(12.87)"
   ]
  },
  {
   "cell_type": "code",
   "execution_count": 52,
   "id": "0c86e59d-eff9-48fe-8da5-96bb00421f05",
   "metadata": {},
   "outputs": [
    {
     "data": {
      "text/plain": [
       "True"
      ]
     },
     "execution_count": 52,
     "metadata": {},
     "output_type": "execute_result"
    }
   ],
   "source": [
    "#string to bool\n",
    "bool(\"anjali\")"
   ]
  },
  {
   "cell_type": "code",
   "execution_count": 54,
   "id": "4787b190-fa84-410f-a45b-225d17e659e7",
   "metadata": {},
   "outputs": [
    {
     "data": {
      "text/plain": [
       "True"
      ]
     },
     "execution_count": 54,
     "metadata": {},
     "output_type": "execute_result"
    }
   ],
   "source": [
    "bool(\"10\")"
   ]
  },
  {
   "cell_type": "code",
   "execution_count": 56,
   "id": "f1f85636-9cbe-467f-97e1-9a9e0e469c0d",
   "metadata": {},
   "outputs": [
    {
     "data": {
      "text/plain": [
       "True"
      ]
     },
     "execution_count": 56,
     "metadata": {},
     "output_type": "execute_result"
    }
   ],
   "source": [
    "#complex to bool\n",
    "bool(10+20j)"
   ]
  },
  {
   "cell_type": "code",
   "execution_count": 58,
   "id": "2d223978-27bf-491c-b8d4-0f87f2882d6e",
   "metadata": {},
   "outputs": [
    {
     "data": {
      "text/plain": [
       "True"
      ]
     },
     "execution_count": 58,
     "metadata": {},
     "output_type": "execute_result"
    }
   ],
   "source": [
    "bool(10+20)"
   ]
  },
  {
   "cell_type": "markdown",
   "id": "3f597d88-ef65-4442-956e-3b9002cdaf92",
   "metadata": {},
   "source": [
    "ALL OTHER DATATYPES TO STRING"
   ]
  },
  {
   "cell_type": "code",
   "execution_count": 60,
   "id": "f8a0a4e6-0df2-44c4-ad93-d787812bb4d7",
   "metadata": {},
   "outputs": [
    {
     "data": {
      "text/plain": [
       "'10'"
      ]
     },
     "execution_count": 60,
     "metadata": {},
     "output_type": "execute_result"
    }
   ],
   "source": [
    "#integer to string\n",
    "str(10)"
   ]
  },
  {
   "cell_type": "code",
   "execution_count": 62,
   "id": "40d74750-c7a1-47a7-8a9d-84ca64f3a59d",
   "metadata": {},
   "outputs": [
    {
     "data": {
      "text/plain": [
       "'200'"
      ]
     },
     "execution_count": 62,
     "metadata": {},
     "output_type": "execute_result"
    }
   ],
   "source": [
    "str(200)"
   ]
  },
  {
   "cell_type": "code",
   "execution_count": 64,
   "id": "aeb94a6a-3e62-40bc-ab03-566d38c1421e",
   "metadata": {},
   "outputs": [
    {
     "data": {
      "text/plain": [
       "'39.54'"
      ]
     },
     "execution_count": 64,
     "metadata": {},
     "output_type": "execute_result"
    }
   ],
   "source": [
    "#float to string \n",
    "str(39.54)"
   ]
  },
  {
   "cell_type": "code",
   "execution_count": 66,
   "id": "31776855-5595-4792-8921-a139dc0df788",
   "metadata": {},
   "outputs": [
    {
     "data": {
      "text/plain": [
       "'200.0'"
      ]
     },
     "execution_count": 66,
     "metadata": {},
     "output_type": "execute_result"
    }
   ],
   "source": [
    "str(200.000)"
   ]
  },
  {
   "cell_type": "code",
   "execution_count": 68,
   "id": "7be3b339-ed36-431f-829d-8fb82ad98cf7",
   "metadata": {},
   "outputs": [
    {
     "data": {
      "text/plain": [
       "'True'"
      ]
     },
     "execution_count": 68,
     "metadata": {},
     "output_type": "execute_result"
    }
   ],
   "source": [
    "#bool to string\n",
    "str(True)"
   ]
  },
  {
   "cell_type": "code",
   "execution_count": 70,
   "id": "559cedc4-052f-42e9-bece-1ac6e0adf767",
   "metadata": {},
   "outputs": [
    {
     "ename": "NameError",
     "evalue": "name 'STR' is not defined",
     "output_type": "error",
     "traceback": [
      "\u001b[1;31m---------------------------------------------------------------------------\u001b[0m",
      "\u001b[1;31mNameError\u001b[0m                                 Traceback (most recent call last)",
      "Cell \u001b[1;32mIn[70], line 1\u001b[0m\n\u001b[1;32m----> 1\u001b[0m STR(\u001b[38;5;241m10\u001b[39m)\n",
      "\u001b[1;31mNameError\u001b[0m: name 'STR' is not defined"
     ]
    }
   ],
   "source": [
    "STR(10)"
   ]
  },
  {
   "cell_type": "code",
   "execution_count": 72,
   "id": "49b02818-b7cb-4204-aed3-921dcdbf3e19",
   "metadata": {},
   "outputs": [
    {
     "data": {
      "text/plain": [
       "'10'"
      ]
     },
     "execution_count": 72,
     "metadata": {},
     "output_type": "execute_result"
    }
   ],
   "source": [
    "str(10)"
   ]
  },
  {
   "cell_type": "code",
   "execution_count": 74,
   "id": "f12ba3a6-93e1-4f02-80bd-c291c3c88cc6",
   "metadata": {},
   "outputs": [
    {
     "data": {
      "text/plain": [
       "'anjali'"
      ]
     },
     "execution_count": 74,
     "metadata": {},
     "output_type": "execute_result"
    }
   ],
   "source": [
    "str(\"anjali\")"
   ]
  },
  {
   "cell_type": "code",
   "execution_count": 76,
   "id": "1361d8d2-ecda-4821-9470-b47afa2baf25",
   "metadata": {},
   "outputs": [
    {
     "data": {
      "text/plain": [
       "'True'"
      ]
     },
     "execution_count": 76,
     "metadata": {},
     "output_type": "execute_result"
    }
   ],
   "source": [
    "str(True)"
   ]
  },
  {
   "cell_type": "code",
   "execution_count": 78,
   "id": "7782423e-6059-4c98-ad5a-22bdff43dd9a",
   "metadata": {},
   "outputs": [
    {
     "data": {
      "text/plain": [
       "'False'"
      ]
     },
     "execution_count": 78,
     "metadata": {},
     "output_type": "execute_result"
    }
   ],
   "source": [
    "str(False)"
   ]
  },
  {
   "cell_type": "code",
   "execution_count": 80,
   "id": "164e1010-93ee-44e9-9fe9-58cca748aa59",
   "metadata": {},
   "outputs": [
    {
     "data": {
      "text/plain": [
       "'(10+20j)'"
      ]
     },
     "execution_count": 80,
     "metadata": {},
     "output_type": "execute_result"
    }
   ],
   "source": [
    "#complex to string \n",
    "str(10+20j)"
   ]
  },
  {
   "cell_type": "code",
   "execution_count": 82,
   "id": "f03d3f23-7346-47af-b803-100c4a7f7ebf",
   "metadata": {},
   "outputs": [
    {
     "data": {
      "text/plain": [
       "'30'"
      ]
     },
     "execution_count": 82,
     "metadata": {},
     "output_type": "execute_result"
    }
   ],
   "source": [
    "str(10+20)"
   ]
  },
  {
   "cell_type": "markdown",
   "id": "d800a96e-d569-451f-ae8f-770478abe848",
   "metadata": {},
   "source": [
    "ALL OTHER DATATYPES TO COMPLEX"
   ]
  },
  {
   "cell_type": "code",
   "execution_count": 95,
   "id": "bc382773-c9c7-4e63-a460-a2e2d26171fc",
   "metadata": {},
   "outputs": [
    {
     "data": {
      "text/plain": [
       "(10+0j)"
      ]
     },
     "execution_count": 95,
     "metadata": {},
     "output_type": "execute_result"
    }
   ],
   "source": [
    "#integer to complex\n",
    "complex(10)"
   ]
  },
  {
   "cell_type": "code",
   "execution_count": 97,
   "id": "d803acac-e052-49d3-be23-c2cff8e00af9",
   "metadata": {},
   "outputs": [
    {
     "data": {
      "text/plain": [
       "(30+0j)"
      ]
     },
     "execution_count": 97,
     "metadata": {},
     "output_type": "execute_result"
    }
   ],
   "source": [
    "complex(10+20)"
   ]
  },
  {
   "cell_type": "code",
   "execution_count": 99,
   "id": "979ad271-d2a3-4701-9550-d70058ae27c9",
   "metadata": {},
   "outputs": [
    {
     "data": {
      "text/plain": [
       "(10+20j)"
      ]
     },
     "execution_count": 99,
     "metadata": {},
     "output_type": "execute_result"
    }
   ],
   "source": [
    "complex(10,20)"
   ]
  },
  {
   "cell_type": "code",
   "execution_count": 101,
   "id": "39679b28-c4be-4078-b84a-c5acc1eba0aa",
   "metadata": {},
   "outputs": [
    {
     "data": {
      "text/plain": [
       "(49.43+0j)"
      ]
     },
     "execution_count": 101,
     "metadata": {},
     "output_type": "execute_result"
    }
   ],
   "source": [
    "#float to complex\n",
    "complex(49.43)"
   ]
  },
  {
   "cell_type": "code",
   "execution_count": 103,
   "id": "fc5e131c-864c-40e1-ae94-dadcd9af169c",
   "metadata": {},
   "outputs": [
    {
     "data": {
      "text/plain": [
       "(23.64+87.87j)"
      ]
     },
     "execution_count": 103,
     "metadata": {},
     "output_type": "execute_result"
    }
   ],
   "source": [
    "complex(23.64,87.87)"
   ]
  },
  {
   "cell_type": "code",
   "execution_count": 105,
   "id": "17b6aba6-e04c-4ecc-a06c-42aa3fa5130c",
   "metadata": {},
   "outputs": [
    {
     "data": {
      "text/plain": [
       "(1+0j)"
      ]
     },
     "execution_count": 105,
     "metadata": {},
     "output_type": "execute_result"
    }
   ],
   "source": [
    "#bool to complex\n",
    "complex(True)"
   ]
  },
  {
   "cell_type": "code",
   "execution_count": 107,
   "id": "8da30ea1-d36d-4b25-ba5f-417ef1e1ff47",
   "metadata": {},
   "outputs": [
    {
     "data": {
      "text/plain": [
       "0j"
      ]
     },
     "execution_count": 107,
     "metadata": {},
     "output_type": "execute_result"
    }
   ],
   "source": [
    "complex(False)"
   ]
  },
  {
   "cell_type": "code",
   "execution_count": 109,
   "id": "80cf554c-f69d-4e97-8130-d9feed634a6c",
   "metadata": {},
   "outputs": [
    {
     "ename": "ValueError",
     "evalue": "complex() arg is a malformed string",
     "output_type": "error",
     "traceback": [
      "\u001b[1;31m---------------------------------------------------------------------------\u001b[0m",
      "\u001b[1;31mValueError\u001b[0m                                Traceback (most recent call last)",
      "Cell \u001b[1;32mIn[109], line 1\u001b[0m\n\u001b[1;32m----> 1\u001b[0m \u001b[38;5;28mcomplex\u001b[39m(\u001b[38;5;124m\"\u001b[39m\u001b[38;5;124manjali\u001b[39m\u001b[38;5;124m\"\u001b[39m)\n",
      "\u001b[1;31mValueError\u001b[0m: complex() arg is a malformed string"
     ]
    }
   ],
   "source": [
    "#text string to complex(not possible)\n",
    "complex(\"anjali\")"
   ]
  },
  {
   "cell_type": "code",
   "execution_count": 111,
   "id": "49f2ff27-a6b7-4e4b-b250-374a8cbc3a9a",
   "metadata": {},
   "outputs": [
    {
     "data": {
      "text/plain": [
       "(10+0j)"
      ]
     },
     "execution_count": 111,
     "metadata": {},
     "output_type": "execute_result"
    }
   ],
   "source": [
    "#number string to complex\n",
    "complex(\"10\")"
   ]
  },
  {
   "cell_type": "code",
   "execution_count": 113,
   "id": "b7ac934c-fd1c-4980-b270-36b9097b4d17",
   "metadata": {},
   "outputs": [
    {
     "ename": "TypeError",
     "evalue": "complex() can't take second arg if first is a string",
     "output_type": "error",
     "traceback": [
      "\u001b[1;31m---------------------------------------------------------------------------\u001b[0m",
      "\u001b[1;31mTypeError\u001b[0m                                 Traceback (most recent call last)",
      "Cell \u001b[1;32mIn[113], line 1\u001b[0m\n\u001b[1;32m----> 1\u001b[0m \u001b[38;5;28mcomplex\u001b[39m(\u001b[38;5;124m\"\u001b[39m\u001b[38;5;124m10\u001b[39m\u001b[38;5;124m\"\u001b[39m,\u001b[38;5;124m\"\u001b[39m\u001b[38;5;124m20\u001b[39m\u001b[38;5;124m\"\u001b[39m)\n",
      "\u001b[1;31mTypeError\u001b[0m: complex() can't take second arg if first is a string"
     ]
    }
   ],
   "source": [
    "#should not take 2 string arguments\n",
    "complex(\"10\",\"20\")"
   ]
  },
  {
   "cell_type": "markdown",
   "id": "d0e96255-8cb2-47ec-b12d-9c4a3ce9ac41",
   "metadata": {},
   "source": [
    "17/10/25\n",
    "INDEXING"
   ]
  },
  {
   "cell_type": "code",
   "execution_count": 2,
   "id": "63553d0a-d2b6-4db1-a23f-2fe48cab123a",
   "metadata": {},
   "outputs": [
    {
     "data": {
      "text/plain": [
       "'a'"
      ]
     },
     "execution_count": 2,
     "metadata": {},
     "output_type": "execute_result"
    }
   ],
   "source": [
    "str=\"anjali\"\n",
    "str[0]"
   ]
  },
  {
   "cell_type": "code",
   "execution_count": 4,
   "id": "fe625fe3-73b2-4cd2-8069-c05545f20ce7",
   "metadata": {},
   "outputs": [
    {
     "data": {
      "text/plain": [
       "'n'"
      ]
     },
     "execution_count": 4,
     "metadata": {},
     "output_type": "execute_result"
    }
   ],
   "source": [
    "str[1]"
   ]
  },
  {
   "cell_type": "code",
   "execution_count": 6,
   "id": "f4a01613-ae1c-4714-9185-40752fc1e5d6",
   "metadata": {},
   "outputs": [
    {
     "data": {
      "text/plain": [
       "'a'"
      ]
     },
     "execution_count": 6,
     "metadata": {},
     "output_type": "execute_result"
    }
   ],
   "source": [
    "str[3]"
   ]
  },
  {
   "cell_type": "code",
   "execution_count": 8,
   "id": "cc66bb84-d73a-4aea-b161-410e0e979891",
   "metadata": {},
   "outputs": [
    {
     "data": {
      "text/plain": [
       "'i'"
      ]
     },
     "execution_count": 8,
     "metadata": {},
     "output_type": "execute_result"
    }
   ],
   "source": [
    "str[-1]"
   ]
  },
  {
   "cell_type": "code",
   "execution_count": 10,
   "id": "fb3adbb7-ddb9-457b-ac2c-ef14bdd8dac2",
   "metadata": {},
   "outputs": [
    {
     "data": {
      "text/plain": [
       "'n'"
      ]
     },
     "execution_count": 10,
     "metadata": {},
     "output_type": "execute_result"
    }
   ],
   "source": [
    "str[-5]"
   ]
  },
  {
   "cell_type": "code",
   "execution_count": 14,
   "id": "684fa9f3-708c-4168-91a0-281fccdf3939",
   "metadata": {},
   "outputs": [
    {
     "name": "stdout",
     "output_type": "stream",
     "text": [
      "i\n",
      "l\n",
      "a\n",
      "j\n",
      "n\n",
      "a\n"
     ]
    }
   ],
   "source": [
    "print(str[-1])\n",
    "print(str[-2])\n",
    "print(str[-3])\n",
    "print(str[-4])\n",
    "print(str[-5])\n",
    "print(str[-6])"
   ]
  },
  {
   "cell_type": "code",
   "execution_count": 16,
   "id": "e3a152d5-44c1-4c01-b0e0-3680bd9ca635",
   "metadata": {},
   "outputs": [
    {
     "name": "stdout",
     "output_type": "stream",
     "text": [
      "a\n",
      "n\n",
      "j\n",
      "a\n",
      "l\n",
      "i\n"
     ]
    }
   ],
   "source": [
    "print(str[0])\n",
    "print(str[1])\n",
    "print(str[2])\n",
    "print(str[3])\n",
    "print(str[4])\n",
    "print(str[5])"
   ]
  },
  {
   "cell_type": "code",
   "execution_count": 18,
   "id": "25fd0865-0287-46b4-846e-b2b13f17a95d",
   "metadata": {},
   "outputs": [
    {
     "data": {
      "text/plain": [
       "'anjali'"
      ]
     },
     "execution_count": 18,
     "metadata": {},
     "output_type": "execute_result"
    }
   ],
   "source": [
    "str"
   ]
  },
  {
   "cell_type": "code",
   "execution_count": 20,
   "id": "932aaee9-487b-440a-ab12-365bd2b5e0f7",
   "metadata": {},
   "outputs": [
    {
     "data": {
      "text/plain": [
       "6"
      ]
     },
     "execution_count": 20,
     "metadata": {},
     "output_type": "execute_result"
    }
   ],
   "source": [
    "len(str)"
   ]
  },
  {
   "cell_type": "code",
   "execution_count": 22,
   "id": "1639bee8-f427-4710-afa7-6f33a48176f2",
   "metadata": {},
   "outputs": [
    {
     "data": {
      "text/plain": [
       "2953141096912"
      ]
     },
     "execution_count": 22,
     "metadata": {},
     "output_type": "execute_result"
    }
   ],
   "source": [
    "id(str)"
   ]
  },
  {
   "cell_type": "markdown",
   "id": "b62f008a-49ec-4a97-a644-7d23bbadb116",
   "metadata": {},
   "source": [
    "SLICING"
   ]
  },
  {
   "cell_type": "code",
   "execution_count": 26,
   "id": "bcee1f2c-ff0e-4621-9528-d2297e67d494",
   "metadata": {},
   "outputs": [
    {
     "data": {
      "text/plain": [
       "'anjali'"
      ]
     },
     "execution_count": 26,
     "metadata": {},
     "output_type": "execute_result"
    }
   ],
   "source": [
    "str=\"anjali\"\n",
    "str[:]"
   ]
  },
  {
   "cell_type": "code",
   "execution_count": 28,
   "id": "f787eb2f-21c9-4952-8e9f-4067a6f2b11c",
   "metadata": {},
   "outputs": [
    {
     "data": {
      "text/plain": [
       "'anjali'"
      ]
     },
     "execution_count": 28,
     "metadata": {},
     "output_type": "execute_result"
    }
   ],
   "source": [
    "str[::]"
   ]
  },
  {
   "cell_type": "code",
   "execution_count": 32,
   "id": "db5def32-629d-4c5a-a8b4-b05cfa5da370",
   "metadata": {},
   "outputs": [
    {
     "data": {
      "text/plain": [
       "'anjali'"
      ]
     },
     "execution_count": 32,
     "metadata": {},
     "output_type": "execute_result"
    }
   ],
   "source": [
    "str[0:]\n"
   ]
  },
  {
   "cell_type": "code",
   "execution_count": 34,
   "id": "3b9e1b78-6c2b-4a74-bcef-ddea9323b050",
   "metadata": {},
   "outputs": [
    {
     "data": {
      "text/plain": [
       "'anj'"
      ]
     },
     "execution_count": 34,
     "metadata": {},
     "output_type": "execute_result"
    }
   ],
   "source": [
    "str[:3]"
   ]
  },
  {
   "cell_type": "code",
   "execution_count": 36,
   "id": "d50d8e72-8849-434c-bfa8-92f4e1693629",
   "metadata": {},
   "outputs": [
    {
     "data": {
      "text/plain": [
       "'li'"
      ]
     },
     "execution_count": 36,
     "metadata": {},
     "output_type": "execute_result"
    }
   ],
   "source": [
    "str[4:]"
   ]
  },
  {
   "cell_type": "code",
   "execution_count": 38,
   "id": "002597be-8f84-4fbf-a565-1f84b4a4695b",
   "metadata": {},
   "outputs": [
    {
     "data": {
      "text/plain": [
       "'ajl'"
      ]
     },
     "execution_count": 38,
     "metadata": {},
     "output_type": "execute_result"
    }
   ],
   "source": [
    "str[::2]"
   ]
  },
  {
   "cell_type": "code",
   "execution_count": 40,
   "id": "f8d1448b-69ec-493d-8a97-3109487392b8",
   "metadata": {},
   "outputs": [
    {
     "data": {
      "text/plain": [
       "'ian'"
      ]
     },
     "execution_count": 40,
     "metadata": {},
     "output_type": "execute_result"
    }
   ],
   "source": [
    "str[::-2]"
   ]
  },
  {
   "cell_type": "code",
   "execution_count": 44,
   "id": "9e45eee8-4083-4b68-b7e1-6229e7b8bb7d",
   "metadata": {},
   "outputs": [
    {
     "data": {
      "text/plain": [
       "'anjali'"
      ]
     },
     "execution_count": 44,
     "metadata": {},
     "output_type": "execute_result"
    }
   ],
   "source": [
    "str"
   ]
  },
  {
   "cell_type": "code",
   "execution_count": 48,
   "id": "07666213-6dc2-41e1-8657-5f4676e4c706",
   "metadata": {},
   "outputs": [
    {
     "data": {
      "text/plain": [
       "'a'"
      ]
     },
     "execution_count": 48,
     "metadata": {},
     "output_type": "execute_result"
    }
   ],
   "source": [
    "str[0:2:2]"
   ]
  },
  {
   "cell_type": "code",
   "execution_count": 50,
   "id": "be144417-5645-4189-8b5d-8ba30e7b9003",
   "metadata": {},
   "outputs": [
    {
     "data": {
      "text/plain": [
       "''"
      ]
     },
     "execution_count": 50,
     "metadata": {},
     "output_type": "execute_result"
    }
   ],
   "source": [
    "str[3:6:-1]"
   ]
  },
  {
   "cell_type": "code",
   "execution_count": 54,
   "id": "6c6c8ee7-6211-4f5b-b58b-adfa94669ccb",
   "metadata": {},
   "outputs": [
    {
     "data": {
      "text/plain": [
       "'jl'"
      ]
     },
     "execution_count": 54,
     "metadata": {},
     "output_type": "execute_result"
    }
   ],
   "source": [
    "str[2::2]"
   ]
  },
  {
   "cell_type": "code",
   "execution_count": 58,
   "id": "f815def5-cf14-41f4-9f95-59754f4e89dc",
   "metadata": {},
   "outputs": [
    {
     "data": {
      "text/plain": [
       "'ilajna'"
      ]
     },
     "execution_count": 58,
     "metadata": {},
     "output_type": "execute_result"
    }
   ],
   "source": [
    "str[::-1]"
   ]
  },
  {
   "cell_type": "code",
   "execution_count": 60,
   "id": "e25521a4-8396-44d2-95de-7cf348a0f1db",
   "metadata": {},
   "outputs": [
    {
     "data": {
      "text/plain": [
       "'anjali'"
      ]
     },
     "execution_count": 60,
     "metadata": {},
     "output_type": "execute_result"
    }
   ],
   "source": [
    "str[::1]"
   ]
  },
  {
   "cell_type": "markdown",
   "id": "010f6428-9b77-422b-b15d-1408cc3968ca",
   "metadata": {},
   "source": [
    "18/10/25\n",
    "OPERATORS"
   ]
  },
  {
   "cell_type": "markdown",
   "id": "82927944-5795-48e6-bd31-78c06e6231d0",
   "metadata": {},
   "source": [
    "ARITHMATIC OPERATORS"
   ]
  },
  {
   "cell_type": "code",
   "execution_count": 64,
   "id": "6b741913-a33f-40c7-a7a3-861897d7a00c",
   "metadata": {},
   "outputs": [
    {
     "data": {
      "text/plain": [
       "30"
      ]
     },
     "execution_count": 64,
     "metadata": {},
     "output_type": "execute_result"
    }
   ],
   "source": [
    "a=10\n",
    "b=20\n",
    "a+b"
   ]
  },
  {
   "cell_type": "code",
   "execution_count": 66,
   "id": "8b3ef756-f563-44e0-a7a7-adc3623a5e71",
   "metadata": {},
   "outputs": [
    {
     "data": {
      "text/plain": [
       "-10"
      ]
     },
     "execution_count": 66,
     "metadata": {},
     "output_type": "execute_result"
    }
   ],
   "source": [
    "a-b"
   ]
  },
  {
   "cell_type": "code",
   "execution_count": 68,
   "id": "fdde6e3b-1d36-47ef-90a6-c3af6e47689b",
   "metadata": {},
   "outputs": [
    {
     "data": {
      "text/plain": [
       "200"
      ]
     },
     "execution_count": 68,
     "metadata": {},
     "output_type": "execute_result"
    }
   ],
   "source": [
    "a*b"
   ]
  },
  {
   "cell_type": "code",
   "execution_count": 70,
   "id": "5963c6ad-b8ae-4354-948c-64f36971f4c7",
   "metadata": {},
   "outputs": [
    {
     "data": {
      "text/plain": [
       "0.5"
      ]
     },
     "execution_count": 70,
     "metadata": {},
     "output_type": "execute_result"
    }
   ],
   "source": [
    "a/b"
   ]
  },
  {
   "cell_type": "code",
   "execution_count": 72,
   "id": "cbe71304-392d-4352-bd1d-a5a8be1e6e25",
   "metadata": {},
   "outputs": [
    {
     "data": {
      "text/plain": [
       "0"
      ]
     },
     "execution_count": 72,
     "metadata": {},
     "output_type": "execute_result"
    }
   ],
   "source": [
    "a//b"
   ]
  },
  {
   "cell_type": "code",
   "execution_count": 78,
   "id": "3fc80cf0-17d1-4669-9db4-a77ed511761b",
   "metadata": {},
   "outputs": [
    {
     "data": {
      "text/plain": [
       "10"
      ]
     },
     "execution_count": 78,
     "metadata": {},
     "output_type": "execute_result"
    }
   ],
   "source": [
    "a%b"
   ]
  },
  {
   "cell_type": "code",
   "execution_count": 80,
   "id": "74e401a2-967d-41e2-8bb8-df8def727921",
   "metadata": {},
   "outputs": [
    {
     "data": {
      "text/plain": [
       "100000000000000000000"
      ]
     },
     "execution_count": 80,
     "metadata": {},
     "output_type": "execute_result"
    }
   ],
   "source": [
    "a**b"
   ]
  },
  {
   "cell_type": "markdown",
   "id": "42364676-c127-4e99-9f13-717d1ad9732f",
   "metadata": {},
   "source": [
    "ASSIGNMENT OPERATORS"
   ]
  },
  {
   "cell_type": "code",
   "execution_count": 102,
   "id": "74964f6e-bb59-47e4-a64e-7addbd139885",
   "metadata": {},
   "outputs": [
    {
     "data": {
      "text/plain": [
       "20"
      ]
     },
     "execution_count": 102,
     "metadata": {},
     "output_type": "execute_result"
    }
   ],
   "source": [
    "x=10\n",
    "x+=10\n",
    "x"
   ]
  },
  {
   "cell_type": "code",
   "execution_count": 104,
   "id": "43e23c73-1d30-4974-a492-30cf4d3610e2",
   "metadata": {},
   "outputs": [
    {
     "data": {
      "text/plain": [
       "10"
      ]
     },
     "execution_count": 104,
     "metadata": {},
     "output_type": "execute_result"
    }
   ],
   "source": [
    "x-=10\n",
    "x"
   ]
  },
  {
   "cell_type": "code",
   "execution_count": 106,
   "id": "c88dbf54-2976-4302-85ed-2dcaed9b7713",
   "metadata": {},
   "outputs": [
    {
     "data": {
      "text/plain": [
       "100"
      ]
     },
     "execution_count": 106,
     "metadata": {},
     "output_type": "execute_result"
    }
   ],
   "source": [
    "x*=10\n",
    "x"
   ]
  },
  {
   "cell_type": "code",
   "execution_count": 114,
   "id": "bab18d2d-00a9-411e-a8a8-4358b39802e6",
   "metadata": {},
   "outputs": [
    {
     "data": {
      "text/plain": [
       "2.0"
      ]
     },
     "execution_count": 114,
     "metadata": {},
     "output_type": "execute_result"
    }
   ],
   "source": [
    "y=20\n",
    "y/=10\n",
    "y"
   ]
  },
  {
   "cell_type": "code",
   "execution_count": 118,
   "id": "5d023a27-4884-4025-b76c-2f7279067cc2",
   "metadata": {},
   "outputs": [
    {
     "data": {
      "text/plain": [
       "2"
      ]
     },
     "execution_count": 118,
     "metadata": {},
     "output_type": "execute_result"
    }
   ],
   "source": [
    "z=20\n",
    "z//=10\n",
    "z"
   ]
  },
  {
   "cell_type": "code",
   "execution_count": 122,
   "id": "d7343009-538f-436f-9d63-f7448c400958",
   "metadata": {},
   "outputs": [
    {
     "data": {
      "text/plain": [
       "0"
      ]
     },
     "execution_count": 122,
     "metadata": {},
     "output_type": "execute_result"
    }
   ],
   "source": [
    "a=100\n",
    "a%=10\n",
    "a"
   ]
  },
  {
   "cell_type": "code",
   "execution_count": 124,
   "id": "a58e7a99-1625-4c99-aa51-26d82d5bbdef",
   "metadata": {},
   "outputs": [
    {
     "data": {
      "text/plain": [
       "1024"
      ]
     },
     "execution_count": 124,
     "metadata": {},
     "output_type": "execute_result"
    }
   ],
   "source": [
    "z**=10\n",
    "z"
   ]
  },
  {
   "cell_type": "markdown",
   "id": "040346ca-22ea-4fcf-98b8-aa184df92646",
   "metadata": {},
   "source": [
    "RELATIONAL OPERATORS"
   ]
  },
  {
   "cell_type": "code",
   "execution_count": 127,
   "id": "18346bd8-4d55-477d-8031-293ea3d2e598",
   "metadata": {},
   "outputs": [
    {
     "data": {
      "text/plain": [
       "False"
      ]
     },
     "execution_count": 127,
     "metadata": {},
     "output_type": "execute_result"
    }
   ],
   "source": [
    "num1=200\n",
    "num2=300\n",
    "num1>num2\n"
   ]
  },
  {
   "cell_type": "code",
   "execution_count": 129,
   "id": "fd12dbbc-2409-4cfa-976f-09aae376a91a",
   "metadata": {},
   "outputs": [
    {
     "data": {
      "text/plain": [
       "True"
      ]
     },
     "execution_count": 129,
     "metadata": {},
     "output_type": "execute_result"
    }
   ],
   "source": [
    "num1<num2"
   ]
  },
  {
   "cell_type": "code",
   "execution_count": 131,
   "id": "571865ff-5481-47b0-abb4-f141ceda50b1",
   "metadata": {},
   "outputs": [
    {
     "data": {
      "text/plain": [
       "False"
      ]
     },
     "execution_count": 131,
     "metadata": {},
     "output_type": "execute_result"
    }
   ],
   "source": [
    "num1>=num2"
   ]
  },
  {
   "cell_type": "code",
   "execution_count": 133,
   "id": "1215bddd-b382-4683-b03d-8e42a3fa08c5",
   "metadata": {},
   "outputs": [
    {
     "data": {
      "text/plain": [
       "True"
      ]
     },
     "execution_count": 133,
     "metadata": {},
     "output_type": "execute_result"
    }
   ],
   "source": [
    "num1<=num2"
   ]
  },
  {
   "cell_type": "code",
   "execution_count": 135,
   "id": "4982aa6d-bf04-428e-bc5f-7021aa1141e3",
   "metadata": {},
   "outputs": [
    {
     "data": {
      "text/plain": [
       "False"
      ]
     },
     "execution_count": 135,
     "metadata": {},
     "output_type": "execute_result"
    }
   ],
   "source": [
    "num1==num2"
   ]
  },
  {
   "cell_type": "code",
   "execution_count": 137,
   "id": "ba1e43fe-4fcc-4d73-9d3e-89a28d438b0c",
   "metadata": {},
   "outputs": [
    {
     "data": {
      "text/plain": [
       "True"
      ]
     },
     "execution_count": 137,
     "metadata": {},
     "output_type": "execute_result"
    }
   ],
   "source": [
    "num1!=num2"
   ]
  },
  {
   "cell_type": "code",
   "execution_count": 139,
   "id": "163bff64-6c5b-4327-b74b-de8f65408741",
   "metadata": {},
   "outputs": [],
   "source": [
    "num1=300"
   ]
  },
  {
   "cell_type": "code",
   "execution_count": 141,
   "id": "c262cb1b-3331-46f8-b8e4-828bbf7b1c43",
   "metadata": {},
   "outputs": [
    {
     "data": {
      "text/plain": [
       "True"
      ]
     },
     "execution_count": 141,
     "metadata": {},
     "output_type": "execute_result"
    }
   ],
   "source": [
    "num1==num2"
   ]
  },
  {
   "cell_type": "code",
   "execution_count": 143,
   "id": "33906cb2-25f1-4da1-ab20-fc4e0de90c4f",
   "metadata": {},
   "outputs": [
    {
     "data": {
      "text/plain": [
       "False"
      ]
     },
     "execution_count": 143,
     "metadata": {},
     "output_type": "execute_result"
    }
   ],
   "source": [
    "num1!=num2"
   ]
  },
  {
   "cell_type": "code",
   "execution_count": 145,
   "id": "d66d281c-09b3-4193-8b55-41f38b2e0ca0",
   "metadata": {},
   "outputs": [
    {
     "data": {
      "text/plain": [
       "True"
      ]
     },
     "execution_count": 145,
     "metadata": {},
     "output_type": "execute_result"
    }
   ],
   "source": [
    "num1>=num2"
   ]
  },
  {
   "cell_type": "code",
   "execution_count": 147,
   "id": "695ad9a9-905b-4d15-92bd-3da8829a9787",
   "metadata": {},
   "outputs": [
    {
     "data": {
      "text/plain": [
       "True"
      ]
     },
     "execution_count": 147,
     "metadata": {},
     "output_type": "execute_result"
    }
   ],
   "source": [
    "num1<=num2"
   ]
  },
  {
   "cell_type": "markdown",
   "id": "4653a48d-4e27-4d0c-8eec-917017bbbdd6",
   "metadata": {},
   "source": [
    "LOGICAL OPERATORS"
   ]
  },
  {
   "cell_type": "code",
   "execution_count": 154,
   "id": "056122cc-6675-46f5-9e27-607a18b09968",
   "metadata": {},
   "outputs": [
    {
     "name": "stdout",
     "output_type": "stream",
     "text": [
      "False\n"
     ]
    }
   ],
   "source": [
    "x=10\n",
    "print(x>20 and x<30)"
   ]
  },
  {
   "cell_type": "code",
   "execution_count": 156,
   "id": "6079432f-83d6-46d0-81ff-7bb72baa71e3",
   "metadata": {},
   "outputs": [
    {
     "name": "stdout",
     "output_type": "stream",
     "text": [
      "True\n"
     ]
    }
   ],
   "source": [
    "print(x>5 and x<20)"
   ]
  },
  {
   "cell_type": "code",
   "execution_count": 158,
   "id": "a866f1be-18a9-496c-8763-ff426f478dc4",
   "metadata": {},
   "outputs": [
    {
     "name": "stdout",
     "output_type": "stream",
     "text": [
      "True\n"
     ]
    }
   ],
   "source": [
    "print(x>20 or x<30)"
   ]
  },
  {
   "cell_type": "code",
   "execution_count": 168,
   "id": "5de316b2-1270-453a-9715-fd5e59c00003",
   "metadata": {},
   "outputs": [
    {
     "name": "stdout",
     "output_type": "stream",
     "text": [
      "True\n"
     ]
    }
   ],
   "source": [
    "print(x>5 or x<20)"
   ]
  },
  {
   "cell_type": "code",
   "execution_count": 162,
   "id": "917e800e-cdf2-4821-b473-d73e55f238e5",
   "metadata": {},
   "outputs": [
    {
     "name": "stdout",
     "output_type": "stream",
     "text": [
      "False\n"
     ]
    }
   ],
   "source": [
    "print(x>20 or x<5)"
   ]
  },
  {
   "cell_type": "code",
   "execution_count": 172,
   "id": "3625b19b-0c41-4f3b-b99a-068a4e30f34b",
   "metadata": {},
   "outputs": [
    {
     "name": "stdout",
     "output_type": "stream",
     "text": [
      "False\n"
     ]
    }
   ],
   "source": [
    "print(not(x>5 and x<20))"
   ]
  },
  {
   "cell_type": "code",
   "execution_count": 174,
   "id": "420534c1-157b-4421-8fd6-112ffe543adc",
   "metadata": {},
   "outputs": [
    {
     "name": "stdout",
     "output_type": "stream",
     "text": [
      "False\n"
     ]
    }
   ],
   "source": [
    "print(not(x>20 or x<30))"
   ]
  },
  {
   "cell_type": "code",
   "execution_count": 178,
   "id": "1e7684d5-022c-4ae0-b24b-c9cf6a70d9b8",
   "metadata": {},
   "outputs": [
    {
     "name": "stdout",
     "output_type": "stream",
     "text": [
      "True\n"
     ]
    }
   ],
   "source": [
    "print(not(x>20 and x<30))"
   ]
  },
  {
   "cell_type": "markdown",
   "id": "d572079d-6e1c-411e-8b0a-4c02dfcf8cf4",
   "metadata": {},
   "source": [
    "UNARY OPERATOR "
   ]
  },
  {
   "cell_type": "code",
   "execution_count": 181,
   "id": "7c50df59-3e5a-41ba-96f7-f20b7e0fc536",
   "metadata": {},
   "outputs": [
    {
     "name": "stdout",
     "output_type": "stream",
     "text": [
      "-10\n"
     ]
    }
   ],
   "source": [
    "x=10\n",
    "print(-(x))"
   ]
  },
  {
   "cell_type": "code",
   "execution_count": 183,
   "id": "3de28154-aee5-4b21-857c-796a142cd885",
   "metadata": {},
   "outputs": [
    {
     "name": "stdout",
     "output_type": "stream",
     "text": [
      "-10\n"
     ]
    }
   ],
   "source": [
    "print(-x)"
   ]
  },
  {
   "cell_type": "code",
   "execution_count": 185,
   "id": "29be52c8-6d01-4ab1-a19b-b7e1955ce006",
   "metadata": {},
   "outputs": [
    {
     "data": {
      "text/plain": [
       "-100"
      ]
     },
     "execution_count": 185,
     "metadata": {},
     "output_type": "execute_result"
    }
   ],
   "source": [
    "y=100\n",
    "-y"
   ]
  },
  {
   "cell_type": "code",
   "execution_count": null,
   "id": "674dcd8f-371c-4ccb-bb57-02a37e6f74f5",
   "metadata": {},
   "outputs": [],
   "source": []
  }
 ],
 "metadata": {
  "kernelspec": {
   "display_name": "Python 3 (ipykernel)",
   "language": "python",
   "name": "python3"
  },
  "language_info": {
   "codemirror_mode": {
    "name": "ipython",
    "version": 3
   },
   "file_extension": ".py",
   "mimetype": "text/x-python",
   "name": "python",
   "nbconvert_exporter": "python",
   "pygments_lexer": "ipython3",
   "version": "3.12.7"
  }
 },
 "nbformat": 4,
 "nbformat_minor": 5
}
